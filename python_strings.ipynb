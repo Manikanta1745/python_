{
  "nbformat": 4,
  "nbformat_minor": 0,
  "metadata": {
    "colab": {
      "provenance": []
    },
    "kernelspec": {
      "name": "python3",
      "display_name": "Python 3"
    },
    "language_info": {
      "name": "python"
    }
  },
  "cells": [
    {
      "cell_type": "code",
      "execution_count": null,
      "metadata": {
        "id": "iyBksQ5moyiD"
      },
      "outputs": [],
      "source": [
        "# 1)define about strings\n",
        "# 2)create 10 examples with using ' ' and \" \"\n",
        "# 3)create a sting with 50 characters and access using index and apply slicing any 2 examples\n",
        "# 4)explain about string format\n",
        "# 5)apply operations\n",
        "# 6)apply methods"
      ]
    },
    {
      "cell_type": "markdown",
      "source": [
        "# 1)define about strings\n",
        "\n",
        " - it is a sequence of characters\n",
        " - it is used to represent text data\n",
        " - we can create strings by using single,double and triple quotation('',\"\",\"\"\" \"\"\")\n",
        " - we can perform various operations and use methods to manipulate and work with string\n"
      ],
      "metadata": {
        "id": "RvjyRoVrY3E0"
      }
    },
    {
      "cell_type": "markdown",
      "source": [
        "# 2)create 10 examples with using ' ' and \" \""
      ],
      "metadata": {
        "id": "Uqsz_zZWZqf9"
      }
    },
    {
      "cell_type": "code",
      "source": [
        "str1 = 'python'\n",
        "str2 = \"python 1\"\n",
        "str3 = \"\"\"python new line\"\"\"\n",
        "print(str1)\n",
        "print(str2)\n",
        "print(str3)"
      ],
      "metadata": {
        "colab": {
          "base_uri": "https://localhost:8080/"
        },
        "id": "25pctrvaZtwF",
        "outputId": "a173314f-78de-4321-9d86-039549896840"
      },
      "execution_count": null,
      "outputs": [
        {
          "output_type": "stream",
          "name": "stdout",
          "text": [
            "python\n",
            "python 1\n",
            "python new line\n"
          ]
        }
      ]
    },
    {
      "cell_type": "code",
      "source": [
        "string_variable = 'Hello, world!'\n",
        "print(string_variable)\n",
        "print(type(string_variable))"
      ],
      "metadata": {
        "colab": {
          "base_uri": "https://localhost:8080/"
        },
        "id": "yqfgYOEnaC0S",
        "outputId": "5e592694-0384-4a14-ec44-2bc220d95ac9"
      },
      "execution_count": null,
      "outputs": [
        {
          "output_type": "stream",
          "name": "stdout",
          "text": [
            "Hello, world!\n",
            "<class 'str'>\n"
          ]
        }
      ]
    },
    {
      "cell_type": "code",
      "source": [
        "name = 'manikanta'\n",
        "print(name)\n",
        "print(type(name))"
      ],
      "metadata": {
        "colab": {
          "base_uri": "https://localhost:8080/"
        },
        "id": "bVy_4HzRaDJa",
        "outputId": "24fcbaa3-6168-4b1c-e588-d070fb13d8d7"
      },
      "execution_count": null,
      "outputs": [
        {
          "output_type": "stream",
          "name": "stdout",
          "text": [
            "manikanta\n",
            "<class 'str'>\n"
          ]
        }
      ]
    },
    {
      "cell_type": "code",
      "source": [
        "com_name = 'texes'\n",
        "print(com_name)\n",
        "print(type(com_name))"
      ],
      "metadata": {
        "colab": {
          "base_uri": "https://localhost:8080/"
        },
        "id": "Nl7TLtDhaDVX",
        "outputId": "e4626d7f-558a-457d-c8a7-3ee1de67068b"
      },
      "execution_count": null,
      "outputs": [
        {
          "output_type": "stream",
          "name": "stdout",
          "text": [
            "texes\n",
            "<class 'str'>\n"
          ]
        }
      ]
    },
    {
      "cell_type": "code",
      "source": [
        "string = \"computer science portal for cse students\"\n",
        "print(string)\n",
        "print(type(string))"
      ],
      "metadata": {
        "colab": {
          "base_uri": "https://localhost:8080/"
        },
        "id": "Y_cI4ey5aDgo",
        "outputId": "ba903b84-190c-4926-f80c-fb420dcfc656"
      },
      "execution_count": null,
      "outputs": [
        {
          "output_type": "stream",
          "name": "stdout",
          "text": [
            "computer science portal for cse students\n",
            "<class 'str'>\n"
          ]
        }
      ]
    },
    {
      "cell_type": "code",
      "source": [
        "dob = \"17-06-2000\"\n",
        "print(dob)\n",
        "print(type(dob))"
      ],
      "metadata": {
        "colab": {
          "base_uri": "https://localhost:8080/"
        },
        "id": "hJ-wBsx_aDre",
        "outputId": "5d47cb89-429e-4c57-b9cf-3a60041f9526"
      },
      "execution_count": null,
      "outputs": [
        {
          "output_type": "stream",
          "name": "stdout",
          "text": [
            "17-06-2000\n",
            "<class 'str'>\n"
          ]
        }
      ]
    },
    {
      "cell_type": "code",
      "source": [
        "joining_dt = \"11 october 2024\"\n",
        "print(joining_dt)\n",
        "print(type(joining_dt))"
      ],
      "metadata": {
        "colab": {
          "base_uri": "https://localhost:8080/"
        },
        "id": "Zl-LhRydaD2Z",
        "outputId": "c8f25040-89a0-423e-e074-2d634dee9fc6"
      },
      "execution_count": null,
      "outputs": [
        {
          "output_type": "stream",
          "name": "stdout",
          "text": [
            "11 october 2024\n",
            "<class 'str'>\n"
          ]
        }
      ]
    },
    {
      "cell_type": "code",
      "source": [
        "string1 = \"\"\" I live in a world \\n and my name is maxmus meridius\"\"\"\n",
        "print(string1)\n",
        "print(type(string1))\n"
      ],
      "metadata": {
        "colab": {
          "base_uri": "https://localhost:8080/"
        },
        "id": "rMwxfEvnaEBE",
        "outputId": "516a35f2-9602-48e9-d8ce-de3d74a1ff37"
      },
      "execution_count": null,
      "outputs": [
        {
          "output_type": "stream",
          "name": "stdout",
          "text": [
            " I live in a world \n",
            " and my name is maxmus meridius\n",
            "<class 'str'>\n"
          ]
        }
      ]
    },
    {
      "cell_type": "code",
      "source": [
        "nexa = '''parents \\n\n",
        "are \\n\n",
        "my \\n\n",
        "world'''\n",
        "print(nexa)\n",
        "print(type(nexa))"
      ],
      "metadata": {
        "colab": {
          "base_uri": "https://localhost:8080/"
        },
        "id": "79g8N5jbaEMI",
        "outputId": "e0c5a6d6-e9b8-4039-c68a-50c58091fa39"
      },
      "execution_count": 31,
      "outputs": [
        {
          "output_type": "stream",
          "name": "stdout",
          "text": [
            "parents \n",
            "\n",
            "are \n",
            "\n",
            "my \n",
            "\n",
            "world\n",
            "<class 'str'>\n"
          ]
        }
      ]
    },
    {
      "cell_type": "code",
      "source": [
        "fee = \"\"\"college fee is 90000 per year \\n\n",
        "bus fee is 30000 per year\"\"\"\n",
        "print(fee)\n",
        "print(type(fee))"
      ],
      "metadata": {
        "colab": {
          "base_uri": "https://localhost:8080/"
        },
        "id": "LXbQWDdVaEWm",
        "outputId": "d535d86a-2655-4992-b7cd-c711f774a157"
      },
      "execution_count": null,
      "outputs": [
        {
          "output_type": "stream",
          "name": "stdout",
          "text": [
            "college fee is 90000 per year \n",
            "\n",
            "bus fee is 30000 per year\n",
            "<class 'str'>\n"
          ]
        }
      ]
    },
    {
      "cell_type": "markdown",
      "source": [
        "# 3)create a sting with 50 characters and access using index and apply slicing any 2 examples"
      ],
      "metadata": {
        "id": "_veGf3Z1cula"
      }
    },
    {
      "cell_type": "code",
      "source": [
        "#positive index\n",
        "new_string = \"50 characters is between 7 words and 13 words with spaces\"\n",
        "print(new_string[0])\n",
        "print(new_string[1])\n",
        "print(new_string[2])\n",
        "print(new_string[3])\n",
        "print(new_string[4])\n",
        "print(new_string[5])\n",
        "print(new_string[6])\n",
        "print(new_string[7])\n",
        "print(new_string[8])\n",
        "print(new_string[9])\n",
        "print(new_string[10])\n",
        "print(new_string[11])\n",
        "print(new_string[12])\n",
        "print(new_string[13])\n",
        "print(new_string[14])\n",
        "print(new_string[15])\n",
        "print(new_string[16])\n",
        "print(new_string[17])\n",
        "print(new_string[18])\n",
        "print(new_string[19])\n",
        "print(new_string[20])\n",
        "print(new_string[21])\n",
        "print(new_string[22])\n",
        "print(new_string[23])\n",
        "print(new_string[24])\n",
        "print(new_string[25])\n",
        "print(new_string[26])\n",
        "print(new_string[27])\n",
        "print(new_string[28])\n",
        "print(new_string[29])\n",
        "print(new_string[30])\n",
        "print(new_string[31])\n",
        "print(new_string[32])\n",
        "print(new_string[33])\n",
        "print(new_string[34])\n",
        "print(new_string[35])\n",
        "print(new_string[36])\n",
        "print(new_string[37])\n",
        "print(new_string[38])\n",
        "print(new_string[39])\n",
        "print(new_string[40])\n",
        "print(new_string[41])\n",
        "print(new_string[42])\n",
        "print(new_string[43])\n",
        "print(new_string[44])\n",
        "print(new_string[45])\n",
        "print(new_string[46])\n",
        "print(new_string[47])\n",
        "print(new_string[48])\n",
        "print(new_string[49])\n",
        "print(new_string[50])\n",
        "print(new_string[51])\n",
        "print(new_string[52])\n",
        "print(new_string[53])\n",
        "print(new_string[54])\n",
        "print(new_string[55])\n",
        "print(new_string[56])"
      ],
      "metadata": {
        "colab": {
          "base_uri": "https://localhost:8080/"
        },
        "id": "91sEkEMbcvjK",
        "outputId": "55e05c57-31ac-4c46-9927-90f7a21819c9"
      },
      "execution_count": null,
      "outputs": [
        {
          "output_type": "stream",
          "name": "stdout",
          "text": [
            "5\n",
            "0\n",
            " \n",
            "c\n",
            "h\n",
            "a\n",
            "r\n",
            "a\n",
            "c\n",
            "t\n",
            "e\n",
            "r\n",
            "s\n",
            " \n",
            "i\n",
            "s\n",
            " \n",
            "b\n",
            "e\n",
            "t\n",
            "w\n",
            "e\n",
            "e\n",
            "n\n",
            " \n",
            "7\n",
            " \n",
            "w\n",
            "o\n",
            "r\n",
            "d\n",
            "s\n",
            " \n",
            "a\n",
            "n\n",
            "d\n",
            " \n",
            "1\n",
            "3\n",
            " \n",
            "w\n",
            "o\n",
            "r\n",
            "d\n",
            "s\n",
            " \n",
            "w\n",
            "i\n",
            "t\n",
            "h\n",
            " \n",
            "s\n",
            "p\n",
            "a\n",
            "c\n",
            "e\n",
            "s\n"
          ]
        }
      ]
    },
    {
      "cell_type": "code",
      "source": [
        "#negative index\n",
        "new_string = \"50 characters is between 7 words and 13 words with spaces\"\n",
        "print(new_string[-1])\n",
        "print(new_string[-2])\n",
        "print(new_string[-3])\n",
        "print(new_string[-4])\n",
        "print(new_string[-5])\n",
        "print(new_string[-6])\n",
        "print(new_string[-7])\n",
        "print(new_string[-8])\n",
        "print(new_string[-9])\n",
        "print(new_string[-10])\n",
        "print(new_string[-11])\n",
        "print(new_string[-12])\n",
        "print(new_string[-13])\n",
        "print(new_string[-14])\n",
        "print(new_string[-15])\n",
        "print(new_string[-16])\n",
        "print(new_string[-17])\n",
        "print(new_string[-18])\n",
        "print(new_string[-19])\n",
        "print(new_string[-20])\n",
        "print(new_string[-21])\n",
        "print(new_string[-22])\n",
        "print(new_string[-23])\n",
        "print(new_string[-24])\n",
        "print(new_string[-25])\n",
        "print(new_string[-26])\n",
        "print(new_string[-27])\n",
        "print(new_string[-28])\n",
        "print(new_string[-29])\n",
        "print(new_string[-30])\n",
        "print(new_string[-31])\n",
        "print(new_string[-32])\n",
        "print(new_string[-33])\n",
        "print(new_string[-34])\n",
        "print(new_string[-35])\n",
        "print(new_string[-36])\n",
        "print(new_string[-37])\n",
        "print(new_string[-38])\n",
        "print(new_string[-39])\n",
        "print(new_string[-40])\n",
        "print(new_string[-41])\n",
        "print(new_string[-42])\n",
        "print(new_string[-43])\n",
        "print(new_string[-44])\n",
        "print(new_string[-45])\n",
        "print(new_string[-46])\n",
        "print(new_string[-47])\n",
        "print(new_string[-48])\n",
        "print(new_string[-49])\n",
        "print(new_string[-50])\n",
        "print(new_string[-51])\n",
        "print(new_string[-52])\n",
        "print(new_string[-53])\n",
        "print(new_string[-54])\n",
        "print(new_string[-55])\n",
        "print(new_string[-56])\n",
        "print(new_string[-57])"
      ],
      "metadata": {
        "colab": {
          "base_uri": "https://localhost:8080/"
        },
        "id": "lK7ZgYEghaF7",
        "outputId": "554ee6e5-38f3-4d62-a554-5f0ada250968"
      },
      "execution_count": null,
      "outputs": [
        {
          "output_type": "stream",
          "name": "stdout",
          "text": [
            "s\n",
            "e\n",
            "c\n",
            "a\n",
            "p\n",
            "s\n",
            " \n",
            "h\n",
            "t\n",
            "i\n",
            "w\n",
            " \n",
            "s\n",
            "d\n",
            "r\n",
            "o\n",
            "w\n",
            " \n",
            "3\n",
            "1\n",
            " \n",
            "d\n",
            "n\n",
            "a\n",
            " \n",
            "s\n",
            "d\n",
            "r\n",
            "o\n",
            "w\n",
            " \n",
            "7\n",
            " \n",
            "n\n",
            "e\n",
            "e\n",
            "w\n",
            "t\n",
            "e\n",
            "b\n",
            " \n",
            "s\n",
            "i\n",
            " \n",
            "s\n",
            "r\n",
            "e\n",
            "t\n",
            "c\n",
            "a\n",
            "r\n",
            "a\n",
            "h\n",
            "c\n",
            " \n",
            "0\n",
            "5\n"
          ]
        }
      ]
    },
    {
      "cell_type": "code",
      "source": [
        "# by using slicing method\n",
        "new_string = \"50 characters is between 7 words and 13 words with spaces\"\n",
        "\n",
        "#using positive slicing\n",
        "\n",
        "print(new_string[4:54])\n",
        "print(new_string[26:])\n",
        "print(new_string[:42])\n",
        "print(new_string[:])\n",
        "\n",
        "#using negative slicing\n",
        "\n",
        "print(new_string[-46:-9])\n",
        "print(new_string[-52:])\n",
        "print(new_string[:-20])\n",
        "print(new_string[:])"
      ],
      "metadata": {
        "colab": {
          "base_uri": "https://localhost:8080/"
        },
        "id": "CgPNRWy7kQs-",
        "outputId": "cf2506bb-10a6-4059-bdf1-70cea0fa8f9b"
      },
      "execution_count": null,
      "outputs": [
        {
          "output_type": "stream",
          "name": "stdout",
          "text": [
            "haracters is between 7 words and 13 words with spa\n",
            " words and 13 words with spaces\n",
            "50 characters is between 7 words and 13 wo\n",
            "50 characters is between 7 words and 13 words with spaces\n",
            "rs is between 7 words and 13 words wi\n",
            "aracters is between 7 words and 13 words with spaces\n",
            "50 characters is between 7 words and \n",
            "50 characters is between 7 words and 13 words with spaces\n"
          ]
        }
      ]
    },
    {
      "cell_type": "code",
      "source": [
        "new_string1 = 'If spaces are not included in the character count, then 50 characters'\n",
        "\n",
        "#using positive slicing\n",
        "\n",
        "print(new_string1[13:61])\n",
        "print(new_string1[24:])\n",
        "print(new_string1[:54])\n",
        "print(new_string[:])\n",
        "\n",
        "#using negative slicing\n",
        "\n",
        "print(new_string1[-54:-13])\n",
        "print(new_string1[-63:])\n",
        "print(new_string1[:-21])\n",
        "print(new_string1[:])\n"
      ],
      "metadata": {
        "colab": {
          "base_uri": "https://localhost:8080/"
        },
        "id": "rjeIG2grla7x",
        "outputId": "6a0a8c5f-416e-47fc-a632-5781e2a62f01"
      },
      "execution_count": null,
      "outputs": [
        {
          "output_type": "stream",
          "name": "stdout",
          "text": [
            " not included in the character count, then 50 ch\n",
            "ed in the character count, then 50 characters\n",
            "If spaces are not included in the character count, the\n",
            "50 characters is between 7 words and 13 words with spaces\n",
            "ot included in the character count, then \n",
            "ces are not included in the character count, then 50 characters\n",
            "If spaces are not included in the character coun\n",
            "If spaces are not included in the character count, then 50 characters\n"
          ]
        }
      ]
    },
    {
      "cell_type": "markdown",
      "source": [
        "# 4)explain about string format\n",
        "\n",
        " - there are 3 types of formats\n",
        " - 1) old style format(% operator)\n",
        "   - uses the % operators and placeholders\n",
        " - 2) format method\n",
        "   - uses the format method() with placeholders\n",
        " - 3) string interpolation(f-string-python 3.6 and later\n",
        "   - present we are using this format only\n",
        "   - using f-string where expressions inside curly braces{} are evaluated and replaced\n",
        " - examples are given below\n",
        "  "
      ],
      "metadata": {
        "id": "_WvBQ_zMs046"
      }
    },
    {
      "cell_type": "code",
      "source": [
        "#using old style format\n",
        "\n",
        "name = \"mani kanta\"\n",
        "age = 24\n",
        "formatted_string = \"my name is %d and i am %s years old.\" %(name,age)\n",
        "print(formatted_string)"
      ],
      "metadata": {
        "colab": {
          "base_uri": "https://localhost:8080/",
          "height": 203
        },
        "id": "_KqMLdXQyNIg",
        "outputId": "957f7be4-b590-4520-96d5-796e73993c02"
      },
      "execution_count": 2,
      "outputs": [
        {
          "output_type": "error",
          "ename": "TypeError",
          "evalue": "%d format: a real number is required, not str",
          "traceback": [
            "\u001b[0;31m---------------------------------------------------------------------------\u001b[0m",
            "\u001b[0;31mTypeError\u001b[0m                                 Traceback (most recent call last)",
            "\u001b[0;32m<ipython-input-2-1ad493e44f35>\u001b[0m in \u001b[0;36m<cell line: 5>\u001b[0;34m()\u001b[0m\n\u001b[1;32m      3\u001b[0m \u001b[0mname\u001b[0m \u001b[0;34m=\u001b[0m \u001b[0;34m\"mani kanta\"\u001b[0m\u001b[0;34m\u001b[0m\u001b[0;34m\u001b[0m\u001b[0m\n\u001b[1;32m      4\u001b[0m \u001b[0mage\u001b[0m \u001b[0;34m=\u001b[0m \u001b[0;36m24\u001b[0m\u001b[0;34m\u001b[0m\u001b[0;34m\u001b[0m\u001b[0m\n\u001b[0;32m----> 5\u001b[0;31m \u001b[0mformatted_string\u001b[0m \u001b[0;34m=\u001b[0m \u001b[0;34m\"my name is %d and i am %s years old.\"\u001b[0m \u001b[0;34m%\u001b[0m\u001b[0;34m(\u001b[0m\u001b[0mname\u001b[0m\u001b[0;34m,\u001b[0m\u001b[0mage\u001b[0m\u001b[0;34m)\u001b[0m\u001b[0;34m\u001b[0m\u001b[0;34m\u001b[0m\u001b[0m\n\u001b[0m\u001b[1;32m      6\u001b[0m \u001b[0mprint\u001b[0m\u001b[0;34m(\u001b[0m\u001b[0mformatted_string\u001b[0m\u001b[0;34m)\u001b[0m\u001b[0;34m\u001b[0m\u001b[0;34m\u001b[0m\u001b[0m\n",
            "\u001b[0;31mTypeError\u001b[0m: %d format: a real number is required, not str"
          ]
        }
      ]
    },
    {
      "cell_type": "code",
      "source": [
        "#format method\n",
        "\n",
        "name = \"manikanta\"\n",
        "age = 24\n",
        "formatted_string = \"my name is {} and i am {} years old\".format(name,age)\n",
        "print(formatted_string)"
      ],
      "metadata": {
        "id": "OPIOWNo00LBp",
        "colab": {
          "base_uri": "https://localhost:8080/"
        },
        "outputId": "f0b51737-06bb-4122-df7b-fb01ad6ce096"
      },
      "execution_count": 4,
      "outputs": [
        {
          "output_type": "stream",
          "name": "stdout",
          "text": [
            "my name is manikanta and i am 24 years old\n"
          ]
        }
      ]
    },
    {
      "cell_type": "code",
      "source": [
        "#using f-string format\n",
        "\n",
        "name = \"manikanta\"\n",
        "age = 24\n",
        "formatted_string = f\"my name is {name} and i am {age} years old.\"\n",
        "print(formatted_string)"
      ],
      "metadata": {
        "colab": {
          "base_uri": "https://localhost:8080/"
        },
        "id": "9yGj9r0T0LC7",
        "outputId": "36d984bd-26b6-4fcb-e8a7-04b3720d9cd5"
      },
      "execution_count": null,
      "outputs": [
        {
          "output_type": "stream",
          "name": "stdout",
          "text": [
            "my name is manikanta and i am 24 years old.\n"
          ]
        }
      ]
    },
    {
      "cell_type": "markdown",
      "source": [
        "string operations:\n",
        "\n",
        "- they are two operations\n",
        "- 1)conatination - combining of two strings\n",
        "- 2)repetation - repeat the strings in multiple times"
      ],
      "metadata": {
        "id": "e0OvkOWhbUrH"
      }
    },
    {
      "cell_type": "code",
      "source": [
        "#concatination\n",
        "\n",
        "str1 = (\"hello\")\n",
        "str2 = \"python\"\n",
        "print(str1+\" \"+str2)"
      ],
      "metadata": {
        "colab": {
          "base_uri": "https://localhost:8080/"
        },
        "id": "PUeeMyWGbvot",
        "outputId": "ac1b65cc-b5a2-4005-f49d-deeba0a2e628"
      },
      "execution_count": 25,
      "outputs": [
        {
          "output_type": "stream",
          "name": "stdout",
          "text": [
            "hello python\n"
          ]
        }
      ]
    },
    {
      "cell_type": "code",
      "source": [
        "#repetation\n",
        "\n",
        "str = 1,2,3,4\n",
        "print(str*4)"
      ],
      "metadata": {
        "colab": {
          "base_uri": "https://localhost:8080/"
        },
        "id": "NbCuhV3wcDTP",
        "outputId": "0efa60b7-0801-4e5f-e52a-821fd4ae0734"
      },
      "execution_count": 28,
      "outputs": [
        {
          "output_type": "stream",
          "name": "stdout",
          "text": [
            "(1, 2, 3, 4, 1, 2, 3, 4, 1, 2, 3, 4, 1, 2, 3, 4)\n"
          ]
        }
      ]
    },
    {
      "cell_type": "markdown",
      "source": [
        "string methods():"
      ],
      "metadata": {
        "id": "KWiJtnRZWU3y"
      }
    },
    {
      "cell_type": "markdown",
      "source": [
        "1)len():\n",
        "\n",
        "- it returns the length of the string"
      ],
      "metadata": {
        "id": "SbZmE9svWjBK"
      }
    },
    {
      "cell_type": "code",
      "source": [
        "str = \"jrkopeelfd\"\n",
        "len(str)"
      ],
      "metadata": {
        "colab": {
          "base_uri": "https://localhost:8080/"
        },
        "id": "hItomd23WbQf",
        "outputId": "18c206d7-9b06-41c2-d15e-d0836afa698b"
      },
      "execution_count": 1,
      "outputs": [
        {
          "output_type": "execute_result",
          "data": {
            "text/plain": [
              "10"
            ]
          },
          "metadata": {},
          "execution_count": 1
        }
      ]
    },
    {
      "cell_type": "markdown",
      "source": [
        "2)lower() & upper():\n",
        "\n",
        "- convert the string into lower to upper and upper to lower case"
      ],
      "metadata": {
        "id": "So0kXC7YW3j1"
      }
    },
    {
      "cell_type": "code",
      "source": [
        "str = \"I Am One Of The Most Unluciest Person In The World\"\n",
        "print(str.lower())\n",
        "print(str.upper())"
      ],
      "metadata": {
        "colab": {
          "base_uri": "https://localhost:8080/"
        },
        "id": "Zj-SkHJIW21_",
        "outputId": "dd957b9e-8d7d-4ba2-f70b-3a7c4c6599ca"
      },
      "execution_count": 4,
      "outputs": [
        {
          "output_type": "stream",
          "name": "stdout",
          "text": [
            "i am one of the most unluciest person in the world\n",
            "I AM ONE OF THE MOST UNLUCIEST PERSON IN THE WORLD\n"
          ]
        }
      ]
    },
    {
      "cell_type": "markdown",
      "source": [
        "3)strip():\n",
        "\n",
        "- removes starting and ending spaces in the string"
      ],
      "metadata": {
        "id": "998ZxlcNXxxA"
      }
    },
    {
      "cell_type": "code",
      "source": [
        "str = \"      mani   kanta    \"\n",
        "str.strip()"
      ],
      "metadata": {
        "colab": {
          "base_uri": "https://localhost:8080/",
          "height": 36
        },
        "id": "RzPQzXHqX5rk",
        "outputId": "e1c3ec13-384d-4197-e2ec-39549bb373f9"
      },
      "execution_count": 5,
      "outputs": [
        {
          "output_type": "execute_result",
          "data": {
            "text/plain": [
              "'mani   kanta'"
            ],
            "application/vnd.google.colaboratory.intrinsic+json": {
              "type": "string"
            }
          },
          "metadata": {},
          "execution_count": 5
        }
      ]
    },
    {
      "cell_type": "markdown",
      "source": [
        "4)replace():\n",
        "\n",
        "- repalce a character or word with another character or word"
      ],
      "metadata": {
        "id": "mwfYcKZ2YAyu"
      }
    },
    {
      "cell_type": "code",
      "source": [
        "str = \"I Am One Of The Most Unluciest Person In The World\"\n",
        "print(str.replace(\"n\",\"@\"))\n",
        "print(str.replace(\"The\",\"@@\"))"
      ],
      "metadata": {
        "colab": {
          "base_uri": "https://localhost:8080/"
        },
        "id": "oMV6SuJmYOyr",
        "outputId": "879ebdea-1f4b-49ab-cd03-31a7a7872df2"
      },
      "execution_count": 9,
      "outputs": [
        {
          "output_type": "stream",
          "name": "stdout",
          "text": [
            "I Am O@e Of The Most U@luciest Perso@ I@ The World\n",
            "I Am One Of @@ Most Unluciest Person In @@ World\n"
          ]
        }
      ]
    },
    {
      "cell_type": "markdown",
      "source": [
        "5)split():\n",
        "\n",
        "- split the string into list of substring\n",
        ""
      ],
      "metadata": {
        "id": "npBJu9DlYv4C"
      }
    },
    {
      "cell_type": "code",
      "source": [
        "str = \"I Am One Of The Most Unluciest Person In The World\"\n",
        "print(str.split())"
      ],
      "metadata": {
        "colab": {
          "base_uri": "https://localhost:8080/"
        },
        "id": "DfTYyBfkZB6j",
        "outputId": "4a1a5f3e-6e55-4558-ea67-03faad793001"
      },
      "execution_count": 13,
      "outputs": [
        {
          "output_type": "stream",
          "name": "stdout",
          "text": [
            "['I', 'Am', 'One', 'Of', 'The', 'Most', 'Unluciest', 'Person', 'In', 'The', 'World']\n"
          ]
        }
      ]
    },
    {
      "cell_type": "markdown",
      "source": [
        "6)join():\n",
        "\n",
        "- it joins the list of string into one string\n",
        ""
      ],
      "metadata": {
        "id": "um7QwYOkZVvh"
      }
    },
    {
      "cell_type": "code",
      "source": [
        "str = ['I', 'Am', 'One', 'Of', 'The', 'Most', 'Unluciest', 'Person', 'In', 'The', 'World']\n",
        "print(\" \".join(str))"
      ],
      "metadata": {
        "colab": {
          "base_uri": "https://localhost:8080/"
        },
        "id": "jaknYPeDZgS2",
        "outputId": "72db397c-99bd-41f9-c8fc-de02161135a2"
      },
      "execution_count": 22,
      "outputs": [
        {
          "output_type": "stream",
          "name": "stdout",
          "text": [
            "I Am One Of The Most Unluciest Person In The World\n"
          ]
        }
      ]
    },
    {
      "cell_type": "markdown",
      "source": [
        "7)capitalize():\n",
        "\n",
        "- it converts first character into capital"
      ],
      "metadata": {
        "id": "Oz_qh8qi_xWM"
      }
    },
    {
      "cell_type": "code",
      "source": [
        "str = \"manikanta\"\n",
        "print(str.capitalize())"
      ],
      "metadata": {
        "colab": {
          "base_uri": "https://localhost:8080/"
        },
        "id": "1hr8inO5_8j5",
        "outputId": "de8f9bc9-4556-4e1c-8a7b-99bb8bef5db5"
      },
      "execution_count": 32,
      "outputs": [
        {
          "output_type": "stream",
          "name": "stdout",
          "text": [
            "Manikanta\n"
          ]
        }
      ]
    },
    {
      "cell_type": "markdown",
      "source": [
        "8)casefold():\n",
        "\n",
        "- it returns the string into lowercase"
      ],
      "metadata": {
        "id": "U8ZNKq25ALed"
      }
    },
    {
      "cell_type": "code",
      "source": [
        "str = \"MANIkanta\"\n",
        "print(str.casefold())"
      ],
      "metadata": {
        "colab": {
          "base_uri": "https://localhost:8080/"
        },
        "id": "bh2ywQy-AScU",
        "outputId": "b3945e54-f9b9-4bc2-f966-13c1d7fbbef0"
      },
      "execution_count": 33,
      "outputs": [
        {
          "output_type": "stream",
          "name": "stdout",
          "text": [
            "manikanta\n"
          ]
        }
      ]
    },
    {
      "cell_type": "markdown",
      "source": [
        "9)center():\n",
        "\n",
        "- it returns the string in center from mentioned number of spaces"
      ],
      "metadata": {
        "id": "faMrnphbAc5O"
      }
    },
    {
      "cell_type": "code",
      "source": [
        "str = \"manikanta\"\n",
        "print(str.center(50))"
      ],
      "metadata": {
        "colab": {
          "base_uri": "https://localhost:8080/"
        },
        "id": "bY1420BqA3cW",
        "outputId": "812e5e97-c76e-4a01-d900-36de71236a22"
      },
      "execution_count": 39,
      "outputs": [
        {
          "output_type": "stream",
          "name": "stdout",
          "text": [
            "                    manikanta                     \n"
          ]
        }
      ]
    },
    {
      "cell_type": "markdown",
      "source": [
        "10)count():\n",
        "\n",
        "- it returns the number of occurance in a string"
      ],
      "metadata": {
        "id": "mGBrOXIqBNqX"
      }
    },
    {
      "cell_type": "code",
      "source": [
        "str = \"manikanta\"\n",
        "print(str.count(\"a\"))"
      ],
      "metadata": {
        "colab": {
          "base_uri": "https://localhost:8080/"
        },
        "id": "w3d8OToABWQp",
        "outputId": "4dcfa804-bef7-45d4-a345-f411dc738287"
      },
      "execution_count": 42,
      "outputs": [
        {
          "output_type": "stream",
          "name": "stdout",
          "text": [
            "3\n"
          ]
        }
      ]
    },
    {
      "cell_type": "markdown",
      "source": [
        "11)find():\n",
        "\n",
        "- it finds the strings place and identifies it"
      ],
      "metadata": {
        "id": "gdUi3dONBgXV"
      }
    },
    {
      "cell_type": "code",
      "source": [
        "str = \"manikanta\"\n",
        "print(str.find(\"i\"))"
      ],
      "metadata": {
        "colab": {
          "base_uri": "https://localhost:8080/"
        },
        "id": "Qp9gwAqeBo3Z",
        "outputId": "1777fff2-ce8b-4115-ee5d-2f0b975a5f46"
      },
      "execution_count": 43,
      "outputs": [
        {
          "output_type": "stream",
          "name": "stdout",
          "text": [
            "3\n"
          ]
        }
      ]
    },
    {
      "cell_type": "markdown",
      "source": [
        "12)encode():\n",
        "\n",
        "- it returns the encoded of the string"
      ],
      "metadata": {
        "id": "frxOyFjtBwxy"
      }
    },
    {
      "cell_type": "code",
      "source": [
        "str = \"manikanta\"\n",
        "print(str.encode())"
      ],
      "metadata": {
        "colab": {
          "base_uri": "https://localhost:8080/"
        },
        "id": "1ICOjXq0B0KR",
        "outputId": "c1774b05-1af3-4d79-c271-ff33d78e9345"
      },
      "execution_count": 44,
      "outputs": [
        {
          "output_type": "stream",
          "name": "stdout",
          "text": [
            "b'manikanta'\n"
          ]
        }
      ]
    },
    {
      "cell_type": "markdown",
      "source": [
        "13)endswith():\n",
        "\n",
        "- it prints true if the string ends with specified values"
      ],
      "metadata": {
        "id": "kWsIhWj2CA8G"
      }
    },
    {
      "cell_type": "code",
      "source": [
        "str = \"manikanta\"\n",
        "print(str.endswith(\"t\"))"
      ],
      "metadata": {
        "colab": {
          "base_uri": "https://localhost:8080/"
        },
        "id": "ci13ImmiCKIF",
        "outputId": "4b29ffc2-8dee-4041-d649-f5ee67995101"
      },
      "execution_count": 45,
      "outputs": [
        {
          "output_type": "stream",
          "name": "stdout",
          "text": [
            "False\n"
          ]
        }
      ]
    },
    {
      "cell_type": "markdown",
      "source": [
        "14)expandtabs():\n",
        "\n",
        "- it sets the string tab size"
      ],
      "metadata": {
        "id": "jBor2kEBCRZX"
      }
    },
    {
      "cell_type": "code",
      "source": [
        "str = \"my\\tname\\tis\\tmanikanta\\t\"\n",
        "print(str.expandtabs())"
      ],
      "metadata": {
        "colab": {
          "base_uri": "https://localhost:8080/"
        },
        "id": "1kULW3vkCfF_",
        "outputId": "a42f61e8-1e2e-4d1c-953f-2c2d5ac41aed"
      },
      "execution_count": 46,
      "outputs": [
        {
          "output_type": "stream",
          "name": "stdout",
          "text": [
            "my      name    is      manikanta       \n"
          ]
        }
      ]
    },
    {
      "cell_type": "markdown",
      "source": [
        "15)index():\n",
        "\n",
        "- it returns the position of a string and gives index number"
      ],
      "metadata": {
        "id": "dks6b64zC7vm"
      }
    },
    {
      "cell_type": "code",
      "source": [
        "str = \"manikanta\"\n",
        "print(str.index(\"n\"))"
      ],
      "metadata": {
        "colab": {
          "base_uri": "https://localhost:8080/"
        },
        "id": "45XT2q55DFFU",
        "outputId": "053eef54-f2a4-48a2-84dd-0329f4136b90"
      },
      "execution_count": 47,
      "outputs": [
        {
          "output_type": "stream",
          "name": "stdout",
          "text": [
            "2\n"
          ]
        }
      ]
    },
    {
      "cell_type": "markdown",
      "source": [
        "16)isalnum():\n",
        "\n",
        "- it returns true if the string is alpha numeric"
      ],
      "metadata": {
        "id": "xnmdzNjsDMSz"
      }
    },
    {
      "cell_type": "code",
      "source": [
        "str = \"manikanta45@\"\n",
        "print(str.isalnum())"
      ],
      "metadata": {
        "colab": {
          "base_uri": "https://localhost:8080/"
        },
        "id": "Gw4V4LLyDVpM",
        "outputId": "82c67b15-2e2f-42ba-d0dc-11ee037c1b7b"
      },
      "execution_count": 49,
      "outputs": [
        {
          "output_type": "stream",
          "name": "stdout",
          "text": [
            "False\n"
          ]
        }
      ]
    },
    {
      "cell_type": "markdown",
      "source": [
        "17)isalpha():\n",
        "\n",
        "- it returns true if the string is alphabet"
      ],
      "metadata": {
        "id": "U_bkpnemDfFq"
      }
    },
    {
      "cell_type": "code",
      "source": [
        "str = \"mani45\"\n",
        "print(str.isalpha())"
      ],
      "metadata": {
        "colab": {
          "base_uri": "https://localhost:8080/"
        },
        "id": "aFuNqoJsDosq",
        "outputId": "2931371a-944f-4ee0-d47c-249a4ebbef05"
      },
      "execution_count": 53,
      "outputs": [
        {
          "output_type": "stream",
          "name": "stdout",
          "text": [
            "False\n"
          ]
        }
      ]
    },
    {
      "cell_type": "markdown",
      "source": [
        "18)isascii():\n",
        "\n",
        "- it returns true if all characters in lower case or uppercase"
      ],
      "metadata": {
        "id": "VWevP5nlDx09"
      }
    },
    {
      "cell_type": "code",
      "source": [
        "str = \"manikanta_?./,.lpoijkhrjdxcnmmnmkp2lwe;'rlf\"\n",
        "print(str.isascii())"
      ],
      "metadata": {
        "colab": {
          "base_uri": "https://localhost:8080/"
        },
        "id": "oIlvuggsD9FA",
        "outputId": "80161d1d-5947-4b72-cc08-d17bc4328ac7"
      },
      "execution_count": 59,
      "outputs": [
        {
          "output_type": "stream",
          "name": "stdout",
          "text": [
            "True\n"
          ]
        }
      ]
    },
    {
      "cell_type": "markdown",
      "source": [
        "19)isdecimal():\n",
        "\n",
        "- it returns true if all characters in string are in single line numbers"
      ],
      "metadata": {
        "id": "X0sanksxEbAL"
      }
    },
    {
      "cell_type": "code",
      "source": [
        "str = \"633\"\n",
        "print(str.isdecimal())"
      ],
      "metadata": {
        "colab": {
          "base_uri": "https://localhost:8080/"
        },
        "id": "U4RGMRy0D1GM",
        "outputId": "782ae96d-a006-4c9a-991e-5b240f12eb9c"
      },
      "execution_count": 74,
      "outputs": [
        {
          "output_type": "stream",
          "name": "stdout",
          "text": [
            "True\n"
          ]
        }
      ]
    },
    {
      "cell_type": "markdown",
      "source": [
        "20)isdigit():\n",
        "\n",
        "- it returns true if all characters in string is digit"
      ],
      "metadata": {
        "id": "AF9Yi948GOyt"
      }
    },
    {
      "cell_type": "code",
      "source": [
        "str = \"11234567\"\n",
        "print(str.isdigit())"
      ],
      "metadata": {
        "colab": {
          "base_uri": "https://localhost:8080/"
        },
        "id": "OKHY_YAeG47l",
        "outputId": "5573e449-efd2-4792-d55e-4f640fd639de"
      },
      "execution_count": 78,
      "outputs": [
        {
          "output_type": "stream",
          "name": "stdout",
          "text": [
            "True\n"
          ]
        }
      ]
    },
    {
      "cell_type": "markdown",
      "source": [
        "21)isidentifier():\n",
        "\n",
        "- it returns true if the string if the string is an identifier and it cannot come true if they are any special characters"
      ],
      "metadata": {
        "id": "rfutzm09HbKU"
      }
    },
    {
      "cell_type": "code",
      "source": [
        "str = \"manikanta@\"\n",
        "print(str.isidentifier())"
      ],
      "metadata": {
        "colab": {
          "base_uri": "https://localhost:8080/"
        },
        "id": "la1fftjMHudI",
        "outputId": "a6cb2bd3-80c8-4566-e01b-83ff06a406b4"
      },
      "execution_count": 81,
      "outputs": [
        {
          "output_type": "stream",
          "name": "stdout",
          "text": [
            "False\n"
          ]
        }
      ]
    },
    {
      "cell_type": "markdown",
      "source": [
        "22)islower():\n",
        "\n",
        "- it returns true if the string is in lowercase  "
      ],
      "metadata": {
        "id": "5NG2Lgp1H1ef"
      }
    },
    {
      "cell_type": "code",
      "source": [
        "str = \"Mani\"\n",
        "print(str.islower())"
      ],
      "metadata": {
        "colab": {
          "base_uri": "https://localhost:8080/"
        },
        "id": "FV1cGhTiIPd6",
        "outputId": "3920bafd-6c7e-444c-8c52-bc10aa44dbd9"
      },
      "execution_count": 82,
      "outputs": [
        {
          "output_type": "stream",
          "name": "stdout",
          "text": [
            "False\n"
          ]
        }
      ]
    },
    {
      "cell_type": "markdown",
      "source": [
        "23)isupper():\n",
        "\n",
        "- it returns true if the string is in uppercase"
      ],
      "metadata": {
        "id": "AbU2c8CjIUCa"
      }
    },
    {
      "cell_type": "code",
      "source": [
        "str = \"manikanta\"\n",
        "print(str.isupper())"
      ],
      "metadata": {
        "colab": {
          "base_uri": "https://localhost:8080/"
        },
        "id": "i1ehtBREIdB_",
        "outputId": "a36d26f1-4631-4db1-b5ec-e0eb34d719a0"
      },
      "execution_count": 83,
      "outputs": [
        {
          "output_type": "stream",
          "name": "stdout",
          "text": [
            "False\n"
          ]
        }
      ]
    },
    {
      "cell_type": "markdown",
      "source": [
        "24)isnumeric():\n",
        "\n",
        "- it returns true if string is in numeric and it allows only any one number"
      ],
      "metadata": {
        "id": "i1K0TkfvIoOH"
      }
    },
    {
      "cell_type": "code",
      "source": [
        "str = \"12\"\n",
        "print(str.isnumeric())"
      ],
      "metadata": {
        "colab": {
          "base_uri": "https://localhost:8080/"
        },
        "id": "YntcA7kIJLG0",
        "outputId": "b6572323-d69c-4e31-b590-20f09169f037"
      },
      "execution_count": 85,
      "outputs": [
        {
          "output_type": "stream",
          "name": "stdout",
          "text": [
            "True\n"
          ]
        }
      ]
    },
    {
      "cell_type": "markdown",
      "source": [
        "25)istitle():\n",
        "\n",
        "- it returns true if the string is title cased"
      ],
      "metadata": {
        "id": "XT0af-SLJai4"
      }
    },
    {
      "cell_type": "code",
      "source": [
        "str = \"manikanta\"\n",
        "print(str.istitle())"
      ],
      "metadata": {
        "colab": {
          "base_uri": "https://localhost:8080/"
        },
        "id": "LkeIRVsKJlhH",
        "outputId": "d328b1b7-627d-4745-b79b-47f995e9a0ab"
      },
      "execution_count": 88,
      "outputs": [
        {
          "output_type": "stream",
          "name": "stdout",
          "text": [
            "False\n"
          ]
        }
      ]
    },
    {
      "cell_type": "markdown",
      "source": [
        "26)isspace():\n",
        "\n",
        "- it returns true if the string is in white spaces"
      ],
      "metadata": {
        "id": "z-p9YL6QJzGC"
      }
    },
    {
      "cell_type": "code",
      "source": [
        "str = \" yuioiugf \"\n",
        "str1 = \"  \"\n",
        "print(str.isspace())\n",
        "print(str1.isspace())"
      ],
      "metadata": {
        "colab": {
          "base_uri": "https://localhost:8080/"
        },
        "id": "1izl7OrEJ8f2",
        "outputId": "18056cdf-0450-4a67-f0d8-1bcc8dff8377"
      },
      "execution_count": 91,
      "outputs": [
        {
          "output_type": "stream",
          "name": "stdout",
          "text": [
            "False\n",
            "True\n"
          ]
        }
      ]
    },
    {
      "cell_type": "markdown",
      "source": [
        "27)isprintable():\n",
        "\n",
        "- it returns true if the string are printable"
      ],
      "metadata": {
        "id": "_ba4y6eVKNMO"
      }
    },
    {
      "cell_type": "code",
      "source": [
        "str = \"manikanta\"\n",
        "print(str.isprintable())"
      ],
      "metadata": {
        "colab": {
          "base_uri": "https://localhost:8080/"
        },
        "id": "jo8YuQ01KWEP",
        "outputId": "89946a4d-f069-417f-8245-b9bfb0da2510"
      },
      "execution_count": 96,
      "outputs": [
        {
          "output_type": "stream",
          "name": "stdout",
          "text": [
            "True\n"
          ]
        }
      ]
    },
    {
      "cell_type": "markdown",
      "source": [
        "28)lstrip():\n",
        "\n",
        "- it removes the whitespaces of left side in the string"
      ],
      "metadata": {
        "id": "n4xqz0hmKlWh"
      }
    },
    {
      "cell_type": "code",
      "source": [
        "str = \"             manikanta       \"\n",
        "str.lstrip()"
      ],
      "metadata": {
        "colab": {
          "base_uri": "https://localhost:8080/",
          "height": 36
        },
        "id": "3Pe6ZOjXKw1b",
        "outputId": "59e2ed02-4fff-4c8b-cf54-90d3d901f998"
      },
      "execution_count": 97,
      "outputs": [
        {
          "output_type": "execute_result",
          "data": {
            "text/plain": [
              "'manikanta       '"
            ],
            "application/vnd.google.colaboratory.intrinsic+json": {
              "type": "string"
            }
          },
          "metadata": {},
          "execution_count": 97
        }
      ]
    },
    {
      "cell_type": "markdown",
      "source": [
        "29)rstrip():\n",
        "\n",
        "- it removes the white spaces of right side of the string"
      ],
      "metadata": {
        "id": "qmIAfsqbK2_O"
      }
    },
    {
      "cell_type": "code",
      "source": [
        "str = \"      manikanta        \"\n",
        "str.rstrip()"
      ],
      "metadata": {
        "colab": {
          "base_uri": "https://localhost:8080/",
          "height": 36
        },
        "id": "YMgTPL2ZLBHH",
        "outputId": "8b149755-2529-4df1-972e-d081df2c4fa6"
      },
      "execution_count": 98,
      "outputs": [
        {
          "output_type": "execute_result",
          "data": {
            "text/plain": [
              "'      manikanta'"
            ],
            "application/vnd.google.colaboratory.intrinsic+json": {
              "type": "string"
            }
          },
          "metadata": {},
          "execution_count": 98
        }
      ]
    },
    {
      "cell_type": "markdown",
      "source": [
        "30)splitlines():\n",
        "\n",
        "- it will split the string and return list type"
      ],
      "metadata": {
        "id": "Ckz5lTPCLG7j"
      }
    },
    {
      "cell_type": "code",
      "source": [
        "str = \"my \\n name \\n is \\n manikanta\"\n",
        "print(str.splitlines())"
      ],
      "metadata": {
        "colab": {
          "base_uri": "https://localhost:8080/"
        },
        "id": "uVph0MO5LPBV",
        "outputId": "4964ce18-1c0b-4a23-c7c6-df3622cd82f8"
      },
      "execution_count": 101,
      "outputs": [
        {
          "output_type": "stream",
          "name": "stdout",
          "text": [
            "['my ', ' name ', ' is ', ' manikanta']\n"
          ]
        }
      ]
    },
    {
      "cell_type": "markdown",
      "source": [
        "31)ljust():\n",
        "\n",
        "- the string method returns a new string of the given length after substituting a given value it can add spaces on right side of give length"
      ],
      "metadata": {
        "id": "Jeyp-LhkLkkI"
      }
    },
    {
      "cell_type": "markdown",
      "source": [
        "32)rjust():\n",
        "\n",
        "- the string method returns a new string of the given length after substituting a given value it can add spaces on left side of give length"
      ],
      "metadata": {
        "id": "uQ3EdgmFPbvF"
      }
    },
    {
      "cell_type": "code",
      "source": [
        "str = \"manikanta\"\n",
        "length = 23\n",
        "str.rjust(length)"
      ],
      "metadata": {
        "colab": {
          "base_uri": "https://localhost:8080/",
          "height": 36
        },
        "id": "epKEGZF2O9su",
        "outputId": "25cd3012-c007-4a04-facc-ca86c4672437"
      },
      "execution_count": 105,
      "outputs": [
        {
          "output_type": "execute_result",
          "data": {
            "text/plain": [
              "'              manikanta'"
            ],
            "application/vnd.google.colaboratory.intrinsic+json": {
              "type": "string"
            }
          },
          "metadata": {},
          "execution_count": 105
        }
      ]
    },
    {
      "cell_type": "markdown",
      "source": [
        "33)zfill():\n",
        "\n",
        "- it returns the what we mentioned position in a string and adds the zero in starting"
      ],
      "metadata": {
        "id": "oW88LjCNPld0"
      }
    },
    {
      "cell_type": "code",
      "source": [
        "str = \"manikanta\"\n",
        "print(str.zfill(45))"
      ],
      "metadata": {
        "colab": {
          "base_uri": "https://localhost:8080/"
        },
        "id": "_n9ODL2iP0Ki",
        "outputId": "e01892a5-ad67-4d0b-b94b-cb869a03f301"
      },
      "execution_count": 106,
      "outputs": [
        {
          "output_type": "stream",
          "name": "stdout",
          "text": [
            "000000000000000000000000000000000000manikanta\n"
          ]
        }
      ]
    },
    {
      "cell_type": "markdown",
      "source": [
        "34)swapcase():\n",
        "\n",
        "- convert all uppercase into lowercase and lowercase into uppercase"
      ],
      "metadata": {
        "id": "tgPvXFfBP56i"
      }
    },
    {
      "cell_type": "code",
      "source": [
        "str = \"MAnikanta\"\n",
        "print(str.swapcase())"
      ],
      "metadata": {
        "colab": {
          "base_uri": "https://localhost:8080/"
        },
        "id": "m-q31y9EP_hT",
        "outputId": "03a53f0e-1f54-4cd4-e8ce-0c4ee07af06a"
      },
      "execution_count": 110,
      "outputs": [
        {
          "output_type": "stream",
          "name": "stdout",
          "text": [
            "maNIKANTA\n"
          ]
        }
      ]
    },
    {
      "cell_type": "markdown",
      "source": [
        "35)startswith():\n",
        "\n",
        "- returns true if the string starts with the given character"
      ],
      "metadata": {
        "id": "9ueJgeMJQRws"
      }
    },
    {
      "cell_type": "code",
      "source": [
        "str = \"manikanta\"\n",
        "print(str.startswith(\"m\"))"
      ],
      "metadata": {
        "colab": {
          "base_uri": "https://localhost:8080/"
        },
        "id": "l526FR59QlEM",
        "outputId": "43219eea-1657-4781-eb72-de08547f3a6a"
      },
      "execution_count": 111,
      "outputs": [
        {
          "output_type": "stream",
          "name": "stdout",
          "text": [
            "True\n"
          ]
        }
      ]
    },
    {
      "cell_type": "markdown",
      "source": [
        "36)rindex():\n",
        "\n",
        "- returns the highest index of the substring inside the string"
      ],
      "metadata": {
        "id": "HhTInJPhQrmS"
      }
    },
    {
      "cell_type": "code",
      "source": [
        "str = \" hi manikanta\"\n",
        "name = str.rindex(\"kanta\")\n",
        "print(\"substring'mani':\",name)"
      ],
      "metadata": {
        "colab": {
          "base_uri": "https://localhost:8080/"
        },
        "id": "25fCenWoQ4cl",
        "outputId": "cf3813f8-d253-4750-a974-0d3d94860f19"
      },
      "execution_count": 112,
      "outputs": [
        {
          "output_type": "stream",
          "name": "stdout",
          "text": [
            "substring'mani': 8\n"
          ]
        }
      ]
    },
    {
      "cell_type": "markdown",
      "source": [
        "37)rfind():\n",
        "\n",
        "- returns the highest index of substring"
      ],
      "metadata": {
        "id": "h_6p9TNGROWu"
      }
    },
    {
      "cell_type": "code",
      "source": [
        "str = \"manikanta\"\n",
        "print(str.rfind(\"k\"))"
      ],
      "metadata": {
        "colab": {
          "base_uri": "https://localhost:8080/"
        },
        "id": "OUw_6c9lRZxq",
        "outputId": "40b9d370-dd3b-40f4-818a-c463401fb2f0"
      },
      "execution_count": 114,
      "outputs": [
        {
          "output_type": "stream",
          "name": "stdout",
          "text": [
            "4\n"
          ]
        }
      ]
    },
    {
      "cell_type": "markdown",
      "source": [
        "38)format_map():\n",
        "\n",
        "- format the specified values in a string using a dictionary"
      ],
      "metadata": {
        "id": "LAfkNPRrRieb"
      }
    },
    {
      "cell_type": "code",
      "source": [
        "str = {\"name\":\"mani\",\"age\":24}\n",
        "print(\"{name} last name is {age}\".format_map(str))"
      ],
      "metadata": {
        "colab": {
          "base_uri": "https://localhost:8080/"
        },
        "id": "UktTq7hkRrqo",
        "outputId": "d88fd8a3-ddc7-4447-e8ff-7c945c8dc982"
      },
      "execution_count": 118,
      "outputs": [
        {
          "output_type": "stream",
          "name": "stdout",
          "text": [
            "mani last name is 24\n"
          ]
        }
      ]
    }
  ]
}