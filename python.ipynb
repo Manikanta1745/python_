{
  "nbformat": 4,
  "nbformat_minor": 0,
  "metadata": {
    "colab": {
      "provenance": []
    },
    "kernelspec": {
      "name": "python3",
      "display_name": "Python 3"
    },
    "language_info": {
      "name": "python"
    }
  },
  "cells": [
    {
      "cell_type": "code",
      "source": [
        "# task\n",
        "# 1) what is python\n",
        "# 2) history of python\n",
        "# 3) why we need to use python\n",
        "# 4) python application\n",
        "# 5) expalin about keywords and implement\n",
        "# 6) explain about comments and example\n",
        "# 7) explain indetail about variables with examples and rules"
      ],
      "metadata": {
        "id": "vfTiFuQ7UI1_"
      },
      "execution_count": null,
      "outputs": []
    },
    {
      "cell_type": "markdown",
      "source": [
        "# 1) what is python\n",
        " - Python is purely object oriented programming language\n",
        " - it is easy to use and write the code while compared to other programming languages\n",
        " - python is a dynamically typed it means we don't need to delare the variable\n",
        " - it is used for various domains such as data science, web development, machine\n",
        " learning and more..\n",
        " - python is a case sensitive it means uppercase and lower case letters are traeted differently\n",
        "   for example 'name' and 'Name'"
      ],
      "metadata": {
        "id": "ii33_qvb-ayP"
      }
    },
    {
      "cell_type": "markdown",
      "source": [
        "#2) history of python\n",
        " - python was created by guido van rossum in 1980 during his research at the national reseach for mathematics and computer science in netherlands\n",
        " - the language was named after the british comedy series \"monty python's flying circus\"\n",
        " - the first ever python vesion 0.9.0 released in 1991\n",
        " - later when it gain popularity version 1.0 released in 1994\n",
        " - python version 1.5 released in 1997\n",
        " - python version 2.0 realeased in 2000\n",
        " - python version 3.0 released in 2008\n",
        " - the latest python version 3.11 realesed in 2022"
      ],
      "metadata": {
        "id": "Uy2CtgHmGQ-i"
      }
    },
    {
      "cell_type": "markdown",
      "source": [
        "# 3) why we need to use python\n",
        "\n",
        " - python is most prefferd language for data scientists\n",
        " - python is easy language to learn\n",
        " - it has simple and readable syntax\n",
        " - while its extensive libraries make it powerful for advanced applications\n",
        " - learning python can be open doors to career opportunities\n",
        " - using of python we can work on wide range of projects"
      ],
      "metadata": {
        "id": "o2U4FLw4LGw4"
      }
    },
    {
      "cell_type": "markdown",
      "source": [
        "# 4) python application\n",
        "\n",
        " - python is used in many application domains such as\n",
        " -1) web development\n",
        " -2) machine learning and artificial intelligence\n",
        " -3) data science\n",
        " -4) game development\n",
        " -5) cad applications\n",
        " -6) bussiness applications\n",
        " -7) facebook\n",
        " -8) spotify\n",
        " -9) netflix\n",
        " -10) instagram ....\n",
        " so on..."
      ],
      "metadata": {
        "id": "2I0v5SscRt3C"
      }
    },
    {
      "cell_type": "markdown",
      "source": [
        "# 5) expalin about keywords and implement\n",
        "\n",
        " - keywords are reserved words and it defines the syntax of the code\n",
        " - keywords can't be used as variables,function or identifiers\n",
        " - all keywords are case sensitive except True,Falseand None which are written in uppercase\n",
        " - present they are 35 keywords async and await are recently added\n",
        " - we can find list of keywords using python shell and the code will be implemented below...."
      ],
      "metadata": {
        "id": "IBp6v63UUQV4"
      }
    },
    {
      "cell_type": "code",
      "execution_count": null,
      "metadata": {
        "colab": {
          "base_uri": "https://localhost:8080/"
        },
        "id": "Y18yOAVuSyhL",
        "outputId": "b0eedb3c-f1e1-4480-b9dd-074ac610a7a4"
      },
      "outputs": [
        {
          "output_type": "stream",
          "name": "stdout",
          "text": [
            "['False', 'None', 'True', 'and', 'as', 'assert', 'async', 'await', 'break', 'class', 'continue', 'def', 'del', 'elif', 'else', 'except', 'finally', 'for', 'from', 'global', 'if', 'import', 'in', 'is', 'lambda', 'nonlocal', 'not', 'or', 'pass', 'raise', 'return', 'try', 'while', 'with', 'yield']\n"
          ]
        },
        {
          "output_type": "execute_result",
          "data": {
            "text/plain": [
              "35"
            ]
          },
          "metadata": {},
          "execution_count": 1
        }
      ],
      "source": [
        "import keyword\n",
        "\n",
        "#Get the list of python keywords\n",
        "python_keywords = keyword.kwlist\n",
        "\n",
        "#Display the list of keywords\n",
        "print(python_keywords)\n",
        "\n",
        "len(python_keywords)"
      ]
    },
    {
      "cell_type": "markdown",
      "source": [
        "# 6) explain about comments and example\n",
        " - comments are lines of text that are not executed while the code is running\n",
        " - they are used to make easier to understand the code\n",
        " - it expalins the code and suggestion for future changes\n",
        " - comment starts with #\n",
        " - comments are 3 types\n",
        " -1)single line comment\n",
        "  - a single line comment has hashtag # at beginnig of the code and continues untli finish of the line\n",
        " -2)multiline comment\n",
        "  - python does not provide the facility for multiple comments\n",
        "  - we can use hashtag # multiple times to construct multiple lines of comments\n",
        " -3)python docstring\n",
        "\n",
        " - examples for comments executed below"
      ],
      "metadata": {
        "id": "xJVR11heUley"
      }
    },
    {
      "cell_type": "code",
      "source": [
        "#single line comment"
      ],
      "metadata": {
        "id": "j7RMUedZTqGJ"
      },
      "execution_count": 4,
      "outputs": []
    },
    {
      "cell_type": "code",
      "source": [
        "#dsffjsddjfdoikdsosj\n",
        "print(\"hello world\")"
      ],
      "metadata": {
        "id": "6plPDm6jT4HO",
        "colab": {
          "base_uri": "https://localhost:8080/"
        },
        "outputId": "1d1eb148-02dd-45be-9b55-072519b13110"
      },
      "execution_count": 5,
      "outputs": [
        {
          "output_type": "stream",
          "name": "stdout",
          "text": [
            "hello world\n"
          ]
        }
      ]
    },
    {
      "cell_type": "code",
      "source": [
        "hjffhiahffaffh"
      ],
      "metadata": {
        "id": "XvTslimzUI3b",
        "colab": {
          "base_uri": "https://localhost:8080/",
          "height": 141
        },
        "outputId": "5208abdb-9712-407f-af14-e8dcdac19e54"
      },
      "execution_count": 6,
      "outputs": [
        {
          "output_type": "error",
          "ename": "NameError",
          "evalue": "name 'hjffhiahffaffh' is not defined",
          "traceback": [
            "\u001b[0;31m---------------------------------------------------------------------------\u001b[0m",
            "\u001b[0;31mNameError\u001b[0m                                 Traceback (most recent call last)",
            "\u001b[0;32m<ipython-input-6-c2cf2ff60277>\u001b[0m in \u001b[0;36m<cell line: 1>\u001b[0;34m()\u001b[0m\n\u001b[0;32m----> 1\u001b[0;31m \u001b[0mhjffhiahffaffh\u001b[0m\u001b[0;34m\u001b[0m\u001b[0;34m\u001b[0m\u001b[0m\n\u001b[0m",
            "\u001b[0;31mNameError\u001b[0m: name 'hjffhiahffaffh' is not defined"
          ]
        }
      ]
    },
    {
      "cell_type": "code",
      "source": [
        "#india won the t20 world cup in 2024\n",
        "#uhffha\n",
        "#pyhttaffkfk\n",
        "print(\"comments are not executed\")"
      ],
      "metadata": {
        "id": "tEzdxmA_T9lN",
        "colab": {
          "base_uri": "https://localhost:8080/"
        },
        "outputId": "6bd5736a-dcdb-482a-c8ac-35816a620fd2"
      },
      "execution_count": 7,
      "outputs": [
        {
          "output_type": "stream",
          "name": "stdout",
          "text": [
            "comments are not executed\n"
          ]
        }
      ]
    },
    {
      "cell_type": "markdown",
      "source": [
        "# 7) explain indetail about variables with examples and rules\n",
        "\n",
        "  - variable is a name given to memory loaction to store a value\n",
        "  - this means when you create a variable you reserve some space in memory\n",
        "  - the equal(=) operator used to assign to a variable\n",
        "  \n",
        "# rules\n",
        "  \n",
        "  - variable can contain only alphabet, numeric and underscore (A-z,0-9,_)\n",
        "  - variable cannot start with numbers and special characters(!,@,#,$,%,^,&,*) except underscore(-)\n",
        "  - reserved keywords cannot be used naming the variable\n",
        "  - vaiable names are case sensitive which means Name and NAME are two different types of variables in python\n",
        "  - examples of valid identifiers: a123, _n, n_9, etc...\n",
        "  - examples of invalid identifiers: 1a, n%4, n 9, etc...\n",
        "\n",
        "  - examples are executed below...."
      ],
      "metadata": {
        "id": "tHsf4UgsfVQk"
      }
    },
    {
      "cell_type": "code",
      "source": [
        "_num = 27\n",
        "name_2 = \"datatype\"\n",
        "a1 = 35\n",
        "b1 = a1\n",
        "Name = \"mani\"\n",
        "NAME = \"mani\"\n",
        "print(_num, name_2, a1, b1, Name, NAME)"
      ],
      "metadata": {
        "id": "lDrcM2KoUBv2",
        "colab": {
          "base_uri": "https://localhost:8080/"
        },
        "outputId": "c22cd863-7cd9-45d9-e07b-f4ce608e8249"
      },
      "execution_count": 8,
      "outputs": [
        {
          "output_type": "stream",
          "name": "stdout",
          "text": [
            "27 datatype 35 35 mani mani\n"
          ]
        }
      ]
    },
    {
      "cell_type": "code",
      "source": [
        "1a = 21\n"
      ],
      "metadata": {
        "id": "ShE0xB8RUHkL",
        "colab": {
          "base_uri": "https://localhost:8080/",
          "height": 106
        },
        "outputId": "8e8c5eaa-8eb7-4b64-a329-7da216c43768"
      },
      "execution_count": 10,
      "outputs": [
        {
          "output_type": "error",
          "ename": "SyntaxError",
          "evalue": "invalid decimal literal (<ipython-input-10-0666412e974b>, line 1)",
          "traceback": [
            "\u001b[0;36m  File \u001b[0;32m\"<ipython-input-10-0666412e974b>\"\u001b[0;36m, line \u001b[0;32m1\u001b[0m\n\u001b[0;31m    1a = 21\u001b[0m\n\u001b[0m    ^\u001b[0m\n\u001b[0;31mSyntaxError\u001b[0m\u001b[0;31m:\u001b[0m invalid decimal literal\n"
          ]
        }
      ]
    },
    {
      "cell_type": "code",
      "source": [
        "n 9= 32"
      ],
      "metadata": {
        "id": "slsKfnMCUI6r",
        "colab": {
          "base_uri": "https://localhost:8080/",
          "height": 106
        },
        "outputId": "db8bd160-be74-409f-e92b-22c5c5765325"
      },
      "execution_count": 13,
      "outputs": [
        {
          "output_type": "error",
          "ename": "SyntaxError",
          "evalue": "invalid syntax (<ipython-input-13-d456f5a4d578>, line 1)",
          "traceback": [
            "\u001b[0;36m  File \u001b[0;32m\"<ipython-input-13-d456f5a4d578>\"\u001b[0;36m, line \u001b[0;32m1\u001b[0m\n\u001b[0;31m    n 9= 32\u001b[0m\n\u001b[0m      ^\u001b[0m\n\u001b[0;31mSyntaxError\u001b[0m\u001b[0;31m:\u001b[0m invalid syntax\n"
          ]
        }
      ]
    }
  ]
}