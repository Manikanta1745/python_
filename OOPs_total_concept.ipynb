{
  "nbformat": 4,
  "nbformat_minor": 0,
  "metadata": {
    "colab": {
      "provenance": []
    },
    "kernelspec": {
      "name": "python3",
      "display_name": "Python 3"
    },
    "language_info": {
      "name": "python"
    }
  },
  "cells": [
    {
      "cell_type": "markdown",
      "source": [
        "1) python object oriented programming(OOPs)\n",
        "\n",
        "- python is a versitile programming language that supports various programming styles,including OOPs through the use of class and object\n",
        "- they are 6 principles of OOPs\n",
        "  - 1)class\n",
        "  - 2)object\n",
        "  - pillars of OOPs are 4\n",
        "  - 3)inheritance\n",
        "  - 4)polymorphism\n",
        "  - 5)encapsulation\n",
        "  - 6)data abstraction"
      ],
      "metadata": {
        "id": "RAkPMTit244C"
      }
    },
    {
      "cell_type": "markdown",
      "source": [
        "2) object and class\n",
        "\n",
        " - python is a object oriented programming language\n",
        " - almost everything in python is an object with its properties and methods\n",
        " - class is like a blueprint for creating objects\n",
        " - object is nothing but instance of a class"
      ],
      "metadata": {
        "id": "fm2cBc3yCs2O"
      }
    },
    {
      "cell_type": "code",
      "source": [
        "#creating class\n",
        "\n",
        "class myclass():\n",
        "  x = 5\n",
        "  y = \"hello\""
      ],
      "metadata": {
        "id": "M27xOgBDDMrs"
      },
      "execution_count": 6,
      "outputs": []
    },
    {
      "cell_type": "code",
      "source": [
        "#create class with object\n",
        "\n",
        "class myclass():\n",
        "  x = 10\n",
        "  y = \"python\"\n",
        "\n",
        "object = myclass()\n",
        "print(object.x)\n",
        "print(object.y)"
      ],
      "metadata": {
        "colab": {
          "base_uri": "https://localhost:8080/"
        },
        "id": "JVnmbgLADXVD",
        "outputId": "12783e7a-1d75-48a7-b646-ebb499f79835"
      },
      "execution_count": 7,
      "outputs": [
        {
          "output_type": "stream",
          "name": "stdout",
          "text": [
            "10\n",
            "python\n"
          ]
        }
      ]
    },
    {
      "cell_type": "code",
      "source": [
        "#3) initializer(__init__)\n",
        "\n",
        "# it is used to initialize the values in class\n",
        "# slf is used for reference\n",
        "\n",
        "class dog():\n",
        "  def __init__(self,name,age,breed):\n",
        "    self.name = name\n",
        "    self.age = age\n",
        "    self.breed = breed\n",
        "\n",
        "  def bark(self):\n",
        "    print(\"boww\")\n",
        "\n",
        "object1 = dog(\"max\",4,\"pomerian\")\n",
        "object2 = dog(\"rocky\",6,\"husky\")\n",
        "print(f\"dog name is {object1.name} and {object1.age} years old and {object1.breed} breed\")\n",
        "print(f\"dog name is {object2.name} and {object2.age} years old and {object2.breed} breed\")\n",
        "object1.bark()"
      ],
      "metadata": {
        "colab": {
          "base_uri": "https://localhost:8080/"
        },
        "id": "d2I92KTmEgBM",
        "outputId": "39631aa5-150f-4e14-c42e-95551980c3a6"
      },
      "execution_count": 19,
      "outputs": [
        {
          "output_type": "stream",
          "name": "stdout",
          "text": [
            "dog name is max and 4 years old and pomerian breed\n",
            "dog name is rocky and 6 years old and husky breed\n",
            "boww\n"
          ]
        }
      ]
    },
    {
      "cell_type": "code",
      "source": [
        "#4) using string method(__str__)\n",
        "\n",
        "name = input(\"enter dog name \")\n",
        "age = int(input(\"enter dog age \"))\n",
        "breed = input(\"enter breed name \")\n",
        "\n",
        "class dog():\n",
        "  def __init__(self,name,age,breed):\n",
        "    self.name = name\n",
        "    self.age = age\n",
        "    self.breed = breed\n",
        "  def __str__(self):\n",
        "    return f\"dog name is {name} he is {age} years old and {breed} breed\"\n",
        "  def bark(self):\n",
        "    print(\"bowww\")\n",
        "\n",
        "object = dog(name,age,breed)\n",
        "print(object)\n",
        "object.bark()"
      ],
      "metadata": {
        "colab": {
          "base_uri": "https://localhost:8080/"
        },
        "id": "bxtzHUfDINaf",
        "outputId": "43632903-6291-4e38-dacb-9332828e9be9"
      },
      "execution_count": 33,
      "outputs": [
        {
          "output_type": "stream",
          "name": "stdout",
          "text": [
            "enter dog name rocky\n",
            "enter dog age 5\n",
            "enter breed name pomerian\n",
            "dog name is rocky he is 5 years old and pomerian breed\n",
            "bowww\n"
          ]
        }
      ]
    },
    {
      "cell_type": "code",
      "source": [
        "#5)using two __init__ functions\n",
        "\n",
        "class score:\n",
        "  def __init__(self,team,score):\n",
        "    self.team = team\n",
        "    self.score = score\n",
        "    print(\"team autralia\")\n",
        "  def __init__(self,team,score):\n",
        "    self.team = team\n",
        "    self.score = score\n",
        "    print(\"team india\")\n",
        "  def __init__(self,team,score):\n",
        "    self.team = team\n",
        "    self.score = score\n",
        "    print(\"venue is hyd\")\n",
        "target1 = score(\"ind\",500)\n",
        "\n",
        "#by using n times of initializers it takes only last initializer as output"
      ],
      "metadata": {
        "colab": {
          "base_uri": "https://localhost:8080/"
        },
        "id": "vBL5PmmzL8qf",
        "outputId": "bfdf4eec-abf2-4d6f-e9fa-60843939a5af"
      },
      "execution_count": 39,
      "outputs": [
        {
          "output_type": "stream",
          "name": "stdout",
          "text": [
            "venue is hyd\n"
          ]
        }
      ]
    },
    {
      "cell_type": "markdown",
      "source": [
        "pillars of oops\n",
        "\n",
        " - 1)inheritance\n",
        "  -  it is the way of creating a new class for using details of an existing class without modifying it\n",
        "  - the existing class is base class(parent class)\n",
        "  - the new class is derived class(child class)\n",
        "  - they are involve two ways of classes\n",
        "   - 1)one parent and one child classes\n",
        "   - 2)one parent and many child classes\n",
        "     "
      ],
      "metadata": {
        "id": "tjDoMMmAOIMm"
      }
    },
    {
      "cell_type": "code",
      "source": [
        "#example of inheritance\n",
        "\n",
        "#base class\n",
        "class animal:\n",
        "  def eat(self):\n",
        "    print(\"i can eat\")\n",
        "  def sleep(self):\n",
        "    print(\"i can sleep\")\n",
        "  def walk(self):\n",
        "    print(\"i can walk\")\n",
        "\n",
        "#derived class\n",
        "class dog(animal):\n",
        "  def bark(self):\n",
        "    print(\"i can bark like bowww\")\n",
        "\n",
        "#creating object for dog class\n",
        "\n",
        "object = dog()\n",
        "object.eat()\n",
        "object.sleep()\n",
        "object.walk()\n",
        "object.bark()"
      ],
      "metadata": {
        "colab": {
          "base_uri": "https://localhost:8080/"
        },
        "id": "vapEBaUzO--v",
        "outputId": "0ab57ccb-eb21-4b08-d8c9-70d25f0265b9"
      },
      "execution_count": 42,
      "outputs": [
        {
          "output_type": "stream",
          "name": "stdout",
          "text": [
            "i can eat\n",
            "i can sleep\n",
            "i can walk\n",
            "i can bark like bowww\n"
          ]
        }
      ]
    },
    {
      "cell_type": "code",
      "source": [
        "class bike:\n",
        "  def color(self):\n",
        "    print(\"color is black\")\n",
        "  def model(self):\n",
        "    print(\"model is 2022\")\n",
        "\n",
        "class duke(bike):\n",
        "  def brand(self):\n",
        "    print(\"brand name is duke\")\n",
        "\n",
        "class yamaha(duke):\n",
        "  def brand(self):\n",
        "    print(\"brand name is yamaha\")\n",
        "\n",
        "object = duke()\n",
        "object.color()\n",
        "object.model()\n",
        "object.brand()"
      ],
      "metadata": {
        "colab": {
          "base_uri": "https://localhost:8080/"
        },
        "id": "ecbrio8uQbMK",
        "outputId": "4bb2c51c-0428-471e-a44a-de859f4fcc91"
      },
      "execution_count": 54,
      "outputs": [
        {
          "output_type": "stream",
          "name": "stdout",
          "text": [
            "color is black\n",
            "model is 2022\n",
            "brand name is duke\n"
          ]
        }
      ]
    },
    {
      "cell_type": "code",
      "execution_count": 57,
      "metadata": {
        "colab": {
          "base_uri": "https://localhost:8080/"
        },
        "id": "z9eDSA9PM9YS",
        "outputId": "e9603797-b44e-434c-fdf2-1bbf31495571"
      },
      "outputs": [
        {
          "output_type": "stream",
          "name": "stdout",
          "text": [
            "enter name manikanta\n",
            "enter age24\n",
            "my name is manikanta and i am 24 years old\n",
            "this is all my details\n",
            "i am datascience student\n"
          ]
        }
      ],
      "source": [
        "name = input(\"enter name \")\n",
        "age = int(input(\"enter age\"))\n",
        "\n",
        "class student():\n",
        "  def __init__(self,name,age):\n",
        "    self.name = name\n",
        "    self.age = age\n",
        "  def __str__(self):\n",
        "    return f\"my name is {name} and i am {age} years old\"\n",
        "class course(student):\n",
        "  def course(self):\n",
        "    print(\"i am datascience student\")\n",
        "class final(course):\n",
        "  def details(self):\n",
        "    print(\"this is all my details\")\n",
        "\n",
        "object = final(name,age)\n",
        "print(object)\n",
        "object.details()\n",
        "object.course()"
      ]
    },
    {
      "cell_type": "code",
      "source": [
        "name = input(\"enter name \")\n",
        "age = int(input(\"enter age\"))\n",
        "namee = input(\"enter name \")\n",
        "agee = int(input(\"enter age\"))\n",
        "\n",
        "class student():\n",
        "  def __init__(self,name,age):\n",
        "    self.name = name\n",
        "    self.age = age\n",
        "  def __str__(self):\n",
        "    return f\"my name is {name} and i am {age} years old\"\n",
        "class st(student):\n",
        "  def __init__(self,namee,agee):\n",
        "    self.namee = namee\n",
        "    self.agee = agee\n",
        "  def __str__(self):\n",
        "    return f\"my name is {namee} and i am {agee} years old\"\n",
        "class course(st):\n",
        "  def course(self):\n",
        "    print(\"i am datascience student\")\n",
        "class final(course):\n",
        "  def details(self):\n",
        "    print(\"this is all my details\")\n",
        "\n",
        "object = final(name,age)\n",
        "print(object)\n",
        "object.details()\n",
        "object.course()\n",
        "object2 = final(namee,agee)\n",
        "print(object2)\n",
        "object2.details()\n",
        "object2.course()"
      ],
      "metadata": {
        "id": "zUvCB2dsQqVd",
        "colab": {
          "base_uri": "https://localhost:8080/"
        },
        "outputId": "4fce43e4-92f0-4e89-c4dc-68ffd6f8908b"
      },
      "execution_count": 60,
      "outputs": [
        {
          "output_type": "stream",
          "name": "stdout",
          "text": [
            "enter name manikanta\n",
            "enter age24\n",
            "enter name ganesh\n",
            "enter age23\n",
            "my name is ganesh and i am 23 years old\n",
            "this is all my details\n",
            "i am datascience student\n",
            "my name is ganesh and i am 23 years old\n",
            "this is all my details\n",
            "i am datascience student\n"
          ]
        }
      ]
    },
    {
      "cell_type": "markdown",
      "source": [
        "2)encapsulation\n",
        "\n",
        " - it is a wrapping the data and methods in a single unit\n",
        " - it is used for security purpose\n",
        " - it helps to use hiding the data\n",
        " - we denote attributes using underscore(_)\n",
        " - we have 3 types\n",
        "  - 1)public/private\n",
        "  - 2)protect\n",
        " - for protect we use single underscore(_)\n",
        " - for private  we use double underscore(__)\n",
        "  "
      ],
      "metadata": {
        "id": "yq0sy-jCUmFd"
      }
    },
    {
      "cell_type": "code",
      "source": [
        "class Demo:\n",
        "    def __init__(self, a, b):\n",
        "        self.__a = a  #private\n",
        "        self._b = b   #protect\n",
        "    def output(self):\n",
        "        print(self._b)\n",
        "        print(self.__a)\n",
        "\n",
        "class Demo1(Demo):\n",
        "    def input(self):\n",
        "        print(self._b)\n",
        "    def private(self):\n",
        "        print(self.__a) #error because value is in private mode we can only access the value in a particular class while using inheritance it cannot be applicable\n",
        "\n",
        "object = Demo1(10,20)\n",
        "object.output()\n",
        "object.input()\n",
        "object.private()"
      ],
      "metadata": {
        "colab": {
          "base_uri": "https://localhost:8080/",
          "height": 369
        },
        "id": "43DEnrIbVR8V",
        "outputId": "f77c0175-8134-4daf-a14a-22117de2a4ec"
      },
      "execution_count": 65,
      "outputs": [
        {
          "output_type": "stream",
          "name": "stdout",
          "text": [
            "20\n",
            "10\n",
            "20\n"
          ]
        },
        {
          "output_type": "error",
          "ename": "AttributeError",
          "evalue": "'Demo1' object has no attribute '_Demo1__a'",
          "traceback": [
            "\u001b[0;31m---------------------------------------------------------------------------\u001b[0m",
            "\u001b[0;31mAttributeError\u001b[0m                            Traceback (most recent call last)",
            "\u001b[0;32m<ipython-input-65-3c5048a28ad6>\u001b[0m in \u001b[0;36m<cell line: 18>\u001b[0;34m()\u001b[0m\n\u001b[1;32m     16\u001b[0m \u001b[0mobject\u001b[0m\u001b[0;34m.\u001b[0m\u001b[0moutput\u001b[0m\u001b[0;34m(\u001b[0m\u001b[0;34m)\u001b[0m\u001b[0;34m\u001b[0m\u001b[0;34m\u001b[0m\u001b[0m\n\u001b[1;32m     17\u001b[0m \u001b[0mobject\u001b[0m\u001b[0;34m.\u001b[0m\u001b[0minput\u001b[0m\u001b[0;34m(\u001b[0m\u001b[0;34m)\u001b[0m\u001b[0;34m\u001b[0m\u001b[0;34m\u001b[0m\u001b[0m\n\u001b[0;32m---> 18\u001b[0;31m \u001b[0mobject\u001b[0m\u001b[0;34m.\u001b[0m\u001b[0mprivate\u001b[0m\u001b[0;34m(\u001b[0m\u001b[0;34m)\u001b[0m\u001b[0;34m\u001b[0m\u001b[0;34m\u001b[0m\u001b[0m\n\u001b[0m",
            "\u001b[0;32m<ipython-input-65-3c5048a28ad6>\u001b[0m in \u001b[0;36mprivate\u001b[0;34m(self)\u001b[0m\n\u001b[1;32m     11\u001b[0m         \u001b[0mprint\u001b[0m\u001b[0;34m(\u001b[0m\u001b[0mself\u001b[0m\u001b[0;34m.\u001b[0m\u001b[0m_b\u001b[0m\u001b[0;34m)\u001b[0m\u001b[0;34m\u001b[0m\u001b[0;34m\u001b[0m\u001b[0m\n\u001b[1;32m     12\u001b[0m     \u001b[0;32mdef\u001b[0m \u001b[0mprivate\u001b[0m\u001b[0;34m(\u001b[0m\u001b[0mself\u001b[0m\u001b[0;34m)\u001b[0m\u001b[0;34m:\u001b[0m\u001b[0;34m\u001b[0m\u001b[0;34m\u001b[0m\u001b[0m\n\u001b[0;32m---> 13\u001b[0;31m         \u001b[0mprint\u001b[0m\u001b[0;34m(\u001b[0m\u001b[0mself\u001b[0m\u001b[0;34m.\u001b[0m\u001b[0m__a\u001b[0m\u001b[0;34m)\u001b[0m\u001b[0;34m\u001b[0m\u001b[0;34m\u001b[0m\u001b[0m\n\u001b[0m\u001b[1;32m     14\u001b[0m \u001b[0;34m\u001b[0m\u001b[0m\n\u001b[1;32m     15\u001b[0m \u001b[0mobject\u001b[0m \u001b[0;34m=\u001b[0m \u001b[0mDemo1\u001b[0m\u001b[0;34m(\u001b[0m\u001b[0;36m10\u001b[0m\u001b[0;34m,\u001b[0m\u001b[0;36m20\u001b[0m\u001b[0;34m)\u001b[0m\u001b[0;34m\u001b[0m\u001b[0;34m\u001b[0m\u001b[0m\n",
            "\u001b[0;31mAttributeError\u001b[0m: 'Demo1' object has no attribute '_Demo1__a'"
          ]
        }
      ]
    },
    {
      "cell_type": "code",
      "source": [
        "class dog:\n",
        "  def __init__(self,name,age):\n",
        "    self._name = name #private\n",
        "    self.__age = age #private\n",
        "  def name(self,name):\n",
        "    return self._name\n",
        "  def age(self,age):\n",
        "    return self.__age\n",
        "\n",
        "class cat(dog):\n",
        "  def name(self,name):\n",
        "    return self._name\n",
        "\n",
        "object = dog(\"max\",5)\n",
        "object2 = cat(\"cuty\",4)\n",
        "print(object2.name(name))\n",
        "object.age(age)\n",
        ""
      ],
      "metadata": {
        "colab": {
          "base_uri": "https://localhost:8080/"
        },
        "id": "dYjeJFHYa32R",
        "outputId": "f717d967-b7d7-4093-9959-28c4fd731da7"
      },
      "execution_count": 78,
      "outputs": [
        {
          "output_type": "stream",
          "name": "stdout",
          "text": [
            "cuty\n"
          ]
        },
        {
          "output_type": "execute_result",
          "data": {
            "text/plain": [
              "5"
            ]
          },
          "metadata": {},
          "execution_count": 78
        }
      ]
    },
    {
      "cell_type": "markdown",
      "source": [
        "3)polymorphism\n",
        "\n",
        " - poly means many forms like more than one form\n",
        " - same entity can perform different operations in different scenarious"
      ],
      "metadata": {
        "id": "qmbNaTttY9Y1"
      }
    },
    {
      "cell_type": "code",
      "source": [
        "class sum:\n",
        "  def add(self,a,b):\n",
        "    return a+b\n",
        "\n",
        "object = sum()\n",
        "print(object.add(10,20))    #int\n",
        "print(object.add('a','b'))  #str\n",
        "object.add(10.3,11.3)       #float\n",
        "object.add(3+2j,4+4j)   #complex"
      ],
      "metadata": {
        "colab": {
          "base_uri": "https://localhost:8080/"
        },
        "id": "GGXjy0VFeo1Z",
        "outputId": "b8240d7f-f619-445f-b0cb-b33de4534ccc"
      },
      "execution_count": 87,
      "outputs": [
        {
          "output_type": "stream",
          "name": "stdout",
          "text": [
            "30\n",
            "ab\n"
          ]
        },
        {
          "output_type": "execute_result",
          "data": {
            "text/plain": [
              "(7+6j)"
            ]
          },
          "metadata": {},
          "execution_count": 87
        }
      ]
    },
    {
      "cell_type": "markdown",
      "source": [
        "4)data abstraction\n",
        "\n",
        " - hiding unneccesary details or implementation details\n",
        " - Abstarction allows us to focus on the what an object does rather than how it achieve its functionality"
      ],
      "metadata": {
        "id": "tMLReVsLg6lr"
      }
    },
    {
      "cell_type": "code",
      "source": [
        "class car:\n",
        "    def start_engine(self):\n",
        "        pass\n",
        "    def start_drive(self):\n",
        "        pass\n",
        "    def stop_engine(self):\n",
        "        pass"
      ],
      "metadata": {
        "id": "pJnbkfjviH0W"
      },
      "execution_count": 88,
      "outputs": []
    },
    {
      "cell_type": "code",
      "source": [
        "from abc import ABC, abstractmethod\n",
        "\n",
        "class Animal(ABC):\n",
        "    @abstractmethod\n",
        "    def make_sound(self):\n",
        "        pass\n",
        "\n",
        "class Dog(Animal):\n",
        "    def make_sound(self):\n",
        "        return \"Woof!\"\n",
        "\n",
        "class Cat(Animal):\n",
        "    def make_sound(self):\n",
        "        return \"Meow!\"\n",
        "\n",
        "# Using the abstract class\n",
        "animals = [Dog(), Cat()]\n",
        "for animal in animals:\n",
        "    print(animal.make_sound())  # Output: Woof! Meow!"
      ],
      "metadata": {
        "colab": {
          "base_uri": "https://localhost:8080/"
        },
        "id": "OKa2Im77iMoW",
        "outputId": "f2ad6dcc-a31b-4478-faa3-f4cb9868b69e"
      },
      "execution_count": 89,
      "outputs": [
        {
          "output_type": "stream",
          "name": "stdout",
          "text": [
            "Woof!\n",
            "Meow!\n"
          ]
        }
      ]
    }
  ]
}