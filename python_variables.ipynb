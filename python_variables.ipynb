{
  "nbformat": 4,
  "nbformat_minor": 0,
  "metadata": {
    "colab": {
      "provenance": [],
      "authorship_tag": "ABX9TyN3U+9FAIraDg86BZVY2h/j",
      "include_colab_link": true
    },
    "kernelspec": {
      "name": "python3",
      "display_name": "Python 3"
    },
    "language_info": {
      "name": "python"
    }
  },
  "cells": [
    {
      "cell_type": "markdown",
      "metadata": {
        "id": "view-in-github",
        "colab_type": "text"
      },
      "source": [
        "<a href=\"https://colab.research.google.com/github/Manikanta1745/python_/blob/main/python_variables.ipynb\" target=\"_parent\"><img src=\"https://colab.research.google.com/assets/colab-badge.svg\" alt=\"Open In Colab\"/></a>"
      ]
    },
    {
      "cell_type": "code",
      "execution_count": null,
      "metadata": {
        "id": "daPOycs4Y8Kx"
      },
      "outputs": [],
      "source": [
        "# task2\n",
        "\n",
        "# 1)explain about variables\n",
        "# 2)rules of variables\n",
        "# 3)types of variables, 10 examples of each and every type and print the output and identify the type\n"
      ]
    },
    {
      "cell_type": "markdown",
      "source": [
        " # 1)explain about variables\n",
        "  \n",
        "  - variable is a name given to memory loaction to store a value\n",
        "  - this means when you create a variable you reserve some space in memory\n",
        "  - the equal(=) operator used to assign to a variable"
      ],
      "metadata": {
        "id": "HJwW7r6obpQL"
      }
    },
    {
      "cell_type": "markdown",
      "source": [
        "# 2)rules of variables\n",
        "  \n",
        "  - variable can contain only alphabet, numeric and underscore (A-z,0-9,_)\n",
        "  - variable cannot start with numbers and special characters(!,@,#,$,%,^,&,*) except underscore(-)\n",
        "  - reserved keywords cannot be used naming the variable\n",
        "  - vaiable names are case sensitive which means Name and NAME are two different types of variables in python\n",
        "  - examples of valid identifiers: a123, _n, n_9, etc...\n",
        "  - examples of invalid identifiers: 1a, n%4, n 9, etc...\n",
        "\n",
        "  - examples are executed below...."
      ],
      "metadata": {
        "id": "wlnTrWnFb5F7"
      }
    },
    {
      "cell_type": "markdown",
      "source": [
        "# 3)types of variables, 10 examples of each and every type and print the output and identify the type\n",
        "\n",
        " - they are two types of variables\n",
        " - 1)single variable\n",
        " - 2)multi variable - they are divided into two types\n",
        "     - 1)multi to multi variable\n",
        "     - 2)multi to one variable"
      ],
      "metadata": {
        "id": "UBXjIKE-cPMf"
      }
    },
    {
      "cell_type": "code",
      "source": [
        "#examples of single variables\n",
        "\n",
        "name = \"python\"\n",
        "print(name)\n",
        "print(type(name))"
      ],
      "metadata": {
        "colab": {
          "base_uri": "https://localhost:8080/"
        },
        "id": "MK2iZT4XeAz_",
        "outputId": "e777f98c-c549-4e7b-9431-9c3c769f6d0b"
      },
      "execution_count": 1,
      "outputs": [
        {
          "output_type": "stream",
          "name": "stdout",
          "text": [
            "python\n",
            "<class 'str'>\n"
          ]
        }
      ]
    },
    {
      "cell_type": "code",
      "source": [
        "_num = 10\n",
        "print(_num)\n",
        "print(type(_num))"
      ],
      "metadata": {
        "colab": {
          "base_uri": "https://localhost:8080/"
        },
        "id": "db1vSYJEe3_z",
        "outputId": "09a3e77a-0b80-4479-e847-e87308de5f27"
      },
      "execution_count": 2,
      "outputs": [
        {
          "output_type": "stream",
          "name": "stdout",
          "text": [
            "10\n",
            "<class 'int'>\n"
          ]
        }
      ]
    },
    {
      "cell_type": "code",
      "source": [
        "cibil_score = 789\n",
        "print(cibil_score)\n",
        "print(type(cibil_score))"
      ],
      "metadata": {
        "colab": {
          "base_uri": "https://localhost:8080/"
        },
        "id": "3q1cdqs0fIgH",
        "outputId": "b8bb3112-0dae-4bfa-d170-d91a91bd1fcb"
      },
      "execution_count": 3,
      "outputs": [
        {
          "output_type": "stream",
          "name": "stdout",
          "text": [
            "789\n",
            "<class 'int'>\n"
          ]
        }
      ]
    },
    {
      "cell_type": "code",
      "source": [
        "cgpa_avg = 7.76\n",
        "print(cgpa_avg)\n",
        "print(type(cgpa_avg))"
      ],
      "metadata": {
        "colab": {
          "base_uri": "https://localhost:8080/"
        },
        "id": "TTYo0xMofZ4c",
        "outputId": "4a9750ae-26d7-4f3a-ff9b-5e9dece05dad"
      },
      "execution_count": 4,
      "outputs": [
        {
          "output_type": "stream",
          "name": "stdout",
          "text": [
            "7.76\n",
            "<class 'float'>\n"
          ]
        }
      ]
    },
    {
      "cell_type": "code",
      "source": [
        "com = 4+16j\n",
        "print(com)\n",
        "print(type(com))"
      ],
      "metadata": {
        "colab": {
          "base_uri": "https://localhost:8080/"
        },
        "id": "CdbX7GT4fuPo",
        "outputId": "3d5ab74d-5fd9-41da-e932-48d9a26adc0a"
      },
      "execution_count": 6,
      "outputs": [
        {
          "output_type": "stream",
          "name": "stdout",
          "text": [
            "(4+16j)\n",
            "<class 'complex'>\n"
          ]
        }
      ]
    },
    {
      "cell_type": "code",
      "source": [
        "_totalmarks = 567\n",
        "print(_totalmarks)\n",
        "print(type(_totalmarks))"
      ],
      "metadata": {
        "colab": {
          "base_uri": "https://localhost:8080/"
        },
        "id": "UhTS3jNFf1O7",
        "outputId": "accc62be-ab08-4662-cbbe-ef2171da5b8f"
      },
      "execution_count": 8,
      "outputs": [
        {
          "output_type": "stream",
          "name": "stdout",
          "text": [
            "567\n",
            "<class 'int'>\n"
          ]
        }
      ]
    },
    {
      "cell_type": "code",
      "source": [
        "country = \"India\"\n",
        "print(country)\n",
        "print(type(country))"
      ],
      "metadata": {
        "colab": {
          "base_uri": "https://localhost:8080/"
        },
        "id": "eq7ISSPyf1Ve",
        "outputId": "9c684510-969a-4b1a-a18d-cf2dbca560f9"
      },
      "execution_count": 9,
      "outputs": [
        {
          "output_type": "stream",
          "name": "stdout",
          "text": [
            "India\n",
            "<class 'str'>\n"
          ]
        }
      ]
    },
    {
      "cell_type": "code",
      "source": [
        "result = \"pass\"\n",
        "print(result)\n",
        "print(type(result))"
      ],
      "metadata": {
        "colab": {
          "base_uri": "https://localhost:8080/"
        },
        "id": "Lo07G8lkf1es",
        "outputId": "19e7dd9f-99e6-4954-f903-f9c9aef6aefc"
      },
      "execution_count": 10,
      "outputs": [
        {
          "output_type": "stream",
          "name": "stdout",
          "text": [
            "pass\n",
            "<class 'str'>\n"
          ]
        }
      ]
    },
    {
      "cell_type": "code",
      "source": [
        "Result_ = \"fail\"\n",
        "print(Result_)\n",
        "print(type(Result_))"
      ],
      "metadata": {
        "colab": {
          "base_uri": "https://localhost:8080/"
        },
        "id": "PMQTt3-7f14X",
        "outputId": "34d27449-add9-408c-a669-948ed6d91163"
      },
      "execution_count": 11,
      "outputs": [
        {
          "output_type": "stream",
          "name": "stdout",
          "text": [
            "fail\n",
            "<class 'str'>\n"
          ]
        }
      ]
    },
    {
      "cell_type": "code",
      "source": [
        "RESULT = \"A+\"\n",
        "print(RESULT)\n",
        "print(type(RESULT))"
      ],
      "metadata": {
        "colab": {
          "base_uri": "https://localhost:8080/"
        },
        "id": "BmjgKh9Efzg6",
        "outputId": "44c9e93f-7aa4-45f2-d85f-09fc69ce5f27"
      },
      "execution_count": 12,
      "outputs": [
        {
          "output_type": "stream",
          "name": "stdout",
          "text": [
            "A+\n",
            "<class 'str'>\n"
          ]
        }
      ]
    },
    {
      "cell_type": "code",
      "source": [],
      "metadata": {
        "id": "S8JshbCehngx"
      },
      "execution_count": null,
      "outputs": []
    },
    {
      "cell_type": "code",
      "source": [
        "#examples of multi variables\n",
        "#1)multi to multi variables\n",
        "\n",
        "a,b,c = 1,2,3\n",
        "print(a,b,c)\n",
        "print(type(a))"
      ],
      "metadata": {
        "colab": {
          "base_uri": "https://localhost:8080/"
        },
        "id": "4U3qoabyhpO8",
        "outputId": "8e57fff2-94e8-4055-b099-dc92d4fba69e"
      },
      "execution_count": 17,
      "outputs": [
        {
          "output_type": "stream",
          "name": "stdout",
          "text": [
            "1 2 3\n",
            "<class 'int'>\n"
          ]
        }
      ]
    },
    {
      "cell_type": "code",
      "source": [
        "num1,name,num2 = 21,\"word\",28.32\n",
        "print(num1,name,num2)\n",
        "print((type(num1)),(type(name)),(type(num2)))"
      ],
      "metadata": {
        "colab": {
          "base_uri": "https://localhost:8080/"
        },
        "id": "vK2QJvKPoKhK",
        "outputId": "669ee563-6622-4930-f9d8-c6b7112f32c8"
      },
      "execution_count": 23,
      "outputs": [
        {
          "output_type": "stream",
          "name": "stdout",
          "text": [
            "21 word 28.32\n",
            "<class 'int'> <class 'str'> <class 'float'>\n"
          ]
        }
      ]
    },
    {
      "cell_type": "code",
      "source": [
        "N_ame,_salary,_tax = \"manikanta\",36000,3.5\n",
        "print(\"Dear\",N_ame, \"your salary\",_salary, \"has been credited and deducted percentage of tax is\",_tax,\"%\")\n",
        "print((type(N_ame)),(type(_salary)),(type(_tax)))"
      ],
      "metadata": {
        "colab": {
          "base_uri": "https://localhost:8080/"
        },
        "id": "5VIF4RkAoKuQ",
        "outputId": "99fcfa64-6c98-4eca-d0c3-fb7934ec1ad2"
      },
      "execution_count": 28,
      "outputs": [
        {
          "output_type": "stream",
          "name": "stdout",
          "text": [
            "Dear manikanta your salary 36000 has been credited and deducted percentage of tax is 3.5 %\n",
            "<class 'str'> <class 'int'> <class 'float'>\n"
          ]
        }
      ]
    },
    {
      "cell_type": "code",
      "source": [
        "jersey_num,game,highest_score = 45,\"cricket\",264\n",
        "print(jersey_num,game,highest_score)\n",
        "print(type(jersey_num))\n",
        "print(type(game))"
      ],
      "metadata": {
        "colab": {
          "base_uri": "https://localhost:8080/"
        },
        "id": "PHhptFV4oK4x",
        "outputId": "ac5fe781-d20a-4a99-857b-17fa8c48293a"
      },
      "execution_count": 31,
      "outputs": [
        {
          "output_type": "stream",
          "name": "stdout",
          "text": [
            "45 cricket 264\n",
            "<class 'int'>\n",
            "<class 'str'>\n"
          ]
        }
      ]
    },
    {
      "cell_type": "code",
      "source": [
        "sport,name,position = \"cricket\",\"rohit sharma\",\"captain\"\n",
        "print(sport,name,position)\n",
        "print(type(name))"
      ],
      "metadata": {
        "colab": {
          "base_uri": "https://localhost:8080/"
        },
        "id": "LlusMcp4oLD0",
        "outputId": "c1512507-b141-4193-ba7f-ee56eae05b88"
      },
      "execution_count": 32,
      "outputs": [
        {
          "output_type": "stream",
          "name": "stdout",
          "text": [
            "cricket rohit sharma captain\n",
            "<class 'str'>\n"
          ]
        }
      ]
    },
    {
      "cell_type": "code",
      "source": [
        "N_um1,N_ame,F_avactor = 45,\"mani\",\"arjun\"\n",
        "print(N_um1,N_ame,F_avactor)\n",
        "print(type(N_um1))\n",
        "print(type(N_ame))"
      ],
      "metadata": {
        "colab": {
          "base_uri": "https://localhost:8080/"
        },
        "id": "EhKjnjoaoLPP",
        "outputId": "7ba0c284-6da3-4961-892c-18ba5c20e900"
      },
      "execution_count": 33,
      "outputs": [
        {
          "output_type": "stream",
          "name": "stdout",
          "text": [
            "45 mani arjun\n",
            "<class 'int'>\n",
            "<class 'str'>\n"
          ]
        }
      ]
    },
    {
      "cell_type": "code",
      "source": [
        "_num1,_num2,_num3 = 113,232,42.23\n",
        "print(_num1,_num2,_num3)\n",
        "print(type(_num1))\n",
        "print(type(_num3))"
      ],
      "metadata": {
        "colab": {
          "base_uri": "https://localhost:8080/"
        },
        "id": "V_FjrHMZoLaI",
        "outputId": "6ce13268-c067-4a31-8bf7-cdb9902c648e"
      },
      "execution_count": 36,
      "outputs": [
        {
          "output_type": "stream",
          "name": "stdout",
          "text": [
            "113 232 42.23\n",
            "<class 'int'>\n",
            "<class 'float'>\n"
          ]
        }
      ]
    },
    {
      "cell_type": "code",
      "source": [
        "_Name1,_Name2,_Name3 = \"mani\",\"kiran\",\"hari\"\n",
        "print(_Name1,_Name2,_Name3)\n",
        "print(type(_Name1))"
      ],
      "metadata": {
        "colab": {
          "base_uri": "https://localhost:8080/"
        },
        "id": "HXhZH80foLk_",
        "outputId": "8e4a853e-0144-4963-e511-58e39de4afe4"
      },
      "execution_count": 37,
      "outputs": [
        {
          "output_type": "stream",
          "name": "stdout",
          "text": [
            "mani kiran hari\n",
            "<class 'str'>\n"
          ]
        }
      ]
    },
    {
      "cell_type": "code",
      "source": [
        "NAME,REGD_NUM,RESULT = \"Mani\",23,\"pass\"\n",
        "print(NAME,REGD_NUM,RESULT)\n",
        "print(type(NAME))\n",
        "print(type(REGD_NUM))"
      ],
      "metadata": {
        "colab": {
          "base_uri": "https://localhost:8080/"
        },
        "id": "pW5Q53qIoLwd",
        "outputId": "64ee6447-e57a-427d-e397-1e56175cd487"
      },
      "execution_count": 38,
      "outputs": [
        {
          "output_type": "stream",
          "name": "stdout",
          "text": [
            "Mani 23 pass\n",
            "<class 'str'>\n",
            "<class 'int'>\n"
          ]
        }
      ]
    },
    {
      "cell_type": "code",
      "source": [
        "_N_aM_e,C_l_asS,_S_eC_ = \"mani\",10,\"A\"\n",
        "print(_N_aM_e,C_l_asS,_S_eC_)\n",
        "print(type(_N_aM_e))\n",
        "print(type(C_l_asS))"
      ],
      "metadata": {
        "colab": {
          "base_uri": "https://localhost:8080/"
        },
        "id": "BexhOYw-oL8n",
        "outputId": "76e71804-9796-4d46-a313-351ed4ba1df9"
      },
      "execution_count": 39,
      "outputs": [
        {
          "output_type": "stream",
          "name": "stdout",
          "text": [
            "mani 10 A\n",
            "<class 'str'>\n",
            "<class 'int'>\n"
          ]
        }
      ]
    },
    {
      "cell_type": "code",
      "source": [],
      "metadata": {
        "id": "ILv7sDdLwQqF"
      },
      "execution_count": null,
      "outputs": []
    },
    {
      "cell_type": "code",
      "source": [
        "#2)multi to one variables\n",
        "\n",
        "a=b=c=17\n",
        "print(a,b,c)\n",
        "print(type(a))"
      ],
      "metadata": {
        "colab": {
          "base_uri": "https://localhost:8080/"
        },
        "id": "EGKAmLGYwUmu",
        "outputId": "7a512520-2174-4706-ede1-0b8830f8189a"
      },
      "execution_count": 40,
      "outputs": [
        {
          "output_type": "stream",
          "name": "stdout",
          "text": [
            "17 17 17\n",
            "<class 'int'>\n"
          ]
        }
      ]
    },
    {
      "cell_type": "code",
      "source": [
        "name1=name2=name3 = \"mani\"\n",
        "print(name1,name3)\n",
        "print(type(name2))"
      ],
      "metadata": {
        "colab": {
          "base_uri": "https://localhost:8080/"
        },
        "id": "X-RROVHfwVpK",
        "outputId": "351505ec-13e9-455c-d290-4aa35b9d1e87"
      },
      "execution_count": 41,
      "outputs": [
        {
          "output_type": "stream",
          "name": "stdout",
          "text": [
            "mani mani\n",
            "<class 'str'>\n"
          ]
        }
      ]
    },
    {
      "cell_type": "code",
      "source": [
        "captain=player=opener = \"rohit sharma\"\n",
        "print(captain)\n",
        "print(player)\n",
        "print(opener)\n",
        "print(type(player))"
      ],
      "metadata": {
        "colab": {
          "base_uri": "https://localhost:8080/"
        },
        "id": "DogeM51iwV0O",
        "outputId": "be0dc81e-fcaf-4460-b7b9-025fa4397ce1"
      },
      "execution_count": 42,
      "outputs": [
        {
          "output_type": "stream",
          "name": "stdout",
          "text": [
            "rohit sharma\n",
            "rohit sharma\n",
            "rohit sharma\n",
            "<class 'str'>\n"
          ]
        }
      ]
    },
    {
      "cell_type": "code",
      "source": [
        "_Car1=_car2=car3 = \"Tata\"\n",
        "print(_Car1)\n",
        "print(car3)\n",
        "print(type(car3))"
      ],
      "metadata": {
        "colab": {
          "base_uri": "https://localhost:8080/"
        },
        "id": "FM2HbKkPwV-6",
        "outputId": "8d3637cc-6237-4b50-c507-64d41dd8f152"
      },
      "execution_count": 43,
      "outputs": [
        {
          "output_type": "stream",
          "name": "stdout",
          "text": [
            "Tata\n",
            "Tata\n",
            "<class 'str'>\n"
          ]
        }
      ]
    },
    {
      "cell_type": "code",
      "source": [
        "PRINCIPAL=CLASS_TEACHER=_MATHSTEACHER = \"MAHESH SIR\"\n",
        "print(PRINCIPAL)\n",
        "print(type(CLASS_TEACHER))"
      ],
      "metadata": {
        "colab": {
          "base_uri": "https://localhost:8080/"
        },
        "id": "k4jI61qnwWJO",
        "outputId": "3dbf44b7-8282-40ce-d2bb-0cd7261591aa"
      },
      "execution_count": 45,
      "outputs": [
        {
          "output_type": "stream",
          "name": "stdout",
          "text": [
            "MAHESH SIR\n",
            "<class 'str'>\n"
          ]
        }
      ]
    },
    {
      "cell_type": "code",
      "source": [
        "groceries_=medicine=CLOTHES=10378.78\n",
        "print(groceries_)\n",
        "print(type(CLOTHES))"
      ],
      "metadata": {
        "colab": {
          "base_uri": "https://localhost:8080/"
        },
        "id": "JLOl8RYLwWTJ",
        "outputId": "f9de1ffe-ff8a-4057-dce9-5b8c29e7cd22"
      },
      "execution_count": 46,
      "outputs": [
        {
          "output_type": "stream",
          "name": "stdout",
          "text": [
            "10378.78\n",
            "<class 'float'>\n"
          ]
        }
      ]
    },
    {
      "cell_type": "code",
      "source": [
        "school=inter=engineer = \"certified\"\n",
        "print(engineer)\n",
        "print(type(inter))"
      ],
      "metadata": {
        "colab": {
          "base_uri": "https://localhost:8080/"
        },
        "id": "ujI1TJKiwWde",
        "outputId": "bb970980-d1c7-4dd0-9b67-481d6ed19d5b"
      },
      "execution_count": 48,
      "outputs": [
        {
          "output_type": "stream",
          "name": "stdout",
          "text": [
            "certified\n",
            "<class 'str'>\n"
          ]
        }
      ]
    },
    {
      "cell_type": "code",
      "source": [
        "name1=_Name2=NAME3 = \"harsha\"\n",
        "print(NAME3)\n",
        "print(type(_Name2))"
      ],
      "metadata": {
        "colab": {
          "base_uri": "https://localhost:8080/"
        },
        "id": "atWkVytZwWnl",
        "outputId": "1a294e86-d78c-4d28-9fe7-2af56f528188"
      },
      "execution_count": 49,
      "outputs": [
        {
          "output_type": "stream",
          "name": "stdout",
          "text": [
            "harsha\n",
            "<class 'str'>\n"
          ]
        }
      ]
    },
    {
      "cell_type": "code",
      "source": [
        "num1=_Num2=NUM3 = 978.4\n",
        "print(num1)\n",
        "print(_Num2)\n",
        "print(NUM3)\n",
        "print(type(NUM3))"
      ],
      "metadata": {
        "colab": {
          "base_uri": "https://localhost:8080/"
        },
        "id": "tC0CjA84wWx4",
        "outputId": "287ed12b-9799-4d30-ba42-bfa3acc4f363"
      },
      "execution_count": 50,
      "outputs": [
        {
          "output_type": "stream",
          "name": "stdout",
          "text": [
            "978.4\n",
            "978.4\n",
            "978.4\n",
            "<class 'float'>\n"
          ]
        }
      ]
    }
  ]
}