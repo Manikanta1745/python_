{
  "nbformat": 4,
  "nbformat_minor": 0,
  "metadata": {
    "colab": {
      "provenance": [],
      "authorship_tag": "ABX9TyNI7Oz7CsMjXp4qxBDXX6gU",
      "include_colab_link": true
    },
    "kernelspec": {
      "name": "python3",
      "display_name": "Python 3"
    },
    "language_info": {
      "name": "python"
    }
  },
  "cells": [
    {
      "cell_type": "markdown",
      "metadata": {
        "id": "view-in-github",
        "colab_type": "text"
      },
      "source": [
        "<a href=\"https://colab.research.google.com/github/Manikanta1745/python_/blob/main/Datatypes.ipynb\" target=\"_parent\"><img src=\"https://colab.research.google.com/assets/colab-badge.svg\" alt=\"Open In Colab\"/></a>"
      ]
    },
    {
      "cell_type": "code",
      "execution_count": null,
      "metadata": {
        "id": "1mFH0lPUAnBV"
      },
      "outputs": [],
      "source": [
        "# 1)explain about datatypes\n",
        "# 2)expain about integers with 10 examples and type of data type\n",
        "# 3)expain about float with 10 examples and type of data type\n",
        "# 4)expain about complex with 10 examples and type of data type"
      ]
    },
    {
      "cell_type": "markdown",
      "source": [
        "# 1)explain about datatypes\n",
        "\n",
        "  - every value has a data type and that data type can hold the values\n",
        "  - \"type()\" it is used identify the type of value stored in variable       \n",
        "  - the are two types of datatypes\n",
        "   - 1)primitive(basic)\n",
        "     - they have 4 types of data types\n",
        "     - 1)int\n",
        "     - 2)float\n",
        "     - 3)complex -> it is a both combination of real and imaginary.... for ex 4+6j\n",
        "     - 4)boolean ->\n",
        "   - 2)non-primitive(advance)\n",
        "     - they have 5 types\n",
        "     - 1)string\n",
        "     - 2)list\n",
        "     - 3)set\n",
        "     - 4)tuple\n",
        "     - 5)dictionary\n",
        "\n",
        "   "
      ],
      "metadata": {
        "id": "1drEjh4mCNT9"
      }
    },
    {
      "cell_type": "markdown",
      "source": [
        "#2)expain about integers with 10 examples and type of data type\n",
        "\n",
        "  - values can be in whole numbers with any length(0,23,33,....)\n",
        "  - int is a datatype of integer"
      ],
      "metadata": {
        "id": "7QYIgTDzKRV9"
      }
    },
    {
      "cell_type": "code",
      "source": [
        "#examples of interger\n",
        "\n",
        "jersey_num = 45\n",
        "print(jersey_num)\n",
        "print(type(jersey_num))"
      ],
      "metadata": {
        "colab": {
          "base_uri": "https://localhost:8080/"
        },
        "id": "ZArc3otqLK16",
        "outputId": "bc9511bb-2efb-4911-869c-4c9eebbcaa7b"
      },
      "execution_count": 1,
      "outputs": [
        {
          "output_type": "stream",
          "name": "stdout",
          "text": [
            "45\n",
            "<class 'int'>\n"
          ]
        }
      ]
    },
    {
      "cell_type": "code",
      "source": [
        "annualExam_marks = 578\n",
        "print(annualExam_marks)\n",
        "print(type(annualExam_marks))"
      ],
      "metadata": {
        "colab": {
          "base_uri": "https://localhost:8080/"
        },
        "id": "F8Vd_lZILd1J",
        "outputId": "62635910-4e6c-440e-fd55-2cd76c3f837f"
      },
      "execution_count": 2,
      "outputs": [
        {
          "output_type": "stream",
          "name": "stdout",
          "text": [
            "578\n",
            "<class 'int'>\n"
          ]
        }
      ]
    },
    {
      "cell_type": "code",
      "source": [
        "_total_runs = 436\n",
        "print(_total_runs)\n",
        "print(type(_total_runs))"
      ],
      "metadata": {
        "colab": {
          "base_uri": "https://localhost:8080/"
        },
        "id": "PM79mGAULeAM",
        "outputId": "489b8d4f-7888-4910-f728-01b429235885"
      },
      "execution_count": 4,
      "outputs": [
        {
          "output_type": "stream",
          "name": "stdout",
          "text": [
            "436\n",
            "<class 'int'>\n"
          ]
        }
      ]
    },
    {
      "cell_type": "code",
      "source": [
        "exam_fee = 1000\n",
        "print(exam_fee)\n",
        "print(type(exam_fee))"
      ],
      "metadata": {
        "colab": {
          "base_uri": "https://localhost:8080/"
        },
        "id": "WkaLh189LeKJ",
        "outputId": "1d5d844b-4b00-45fd-80ac-fc42d9270f0b"
      },
      "execution_count": 5,
      "outputs": [
        {
          "output_type": "stream",
          "name": "stdout",
          "text": [
            "1000\n",
            "<class 'int'>\n"
          ]
        }
      ]
    },
    {
      "cell_type": "code",
      "source": [
        "college_fee = 90000\n",
        "print(college_fee)\n",
        "print(type(college_fee))"
      ],
      "metadata": {
        "colab": {
          "base_uri": "https://localhost:8080/"
        },
        "id": "U_cx63H4LeT3",
        "outputId": "198421a7-4971-4a41-f99f-0c6cc03d61d3"
      },
      "execution_count": 6,
      "outputs": [
        {
          "output_type": "stream",
          "name": "stdout",
          "text": [
            "90000\n",
            "<class 'int'>\n"
          ]
        }
      ]
    },
    {
      "cell_type": "code",
      "source": [
        "bus_fee = 36000\n",
        "print(bus_fee)\n",
        "print(type(bus_fee))"
      ],
      "metadata": {
        "colab": {
          "base_uri": "https://localhost:8080/"
        },
        "id": "qq4p7cOLLedE",
        "outputId": "ed2e6626-0fb9-4f13-8a80-9e561e5c59fa"
      },
      "execution_count": 7,
      "outputs": [
        {
          "output_type": "stream",
          "name": "stdout",
          "text": [
            "36000\n",
            "<class 'int'>\n"
          ]
        }
      ]
    },
    {
      "cell_type": "code",
      "source": [
        "car_price = 1200000\n",
        "print(car_price)\n",
        "print(type(car_price))"
      ],
      "metadata": {
        "colab": {
          "base_uri": "https://localhost:8080/"
        },
        "id": "9tqpjVlALenX",
        "outputId": "c076f85a-2841-4fb1-f785-5dc6a24260af"
      },
      "execution_count": 8,
      "outputs": [
        {
          "output_type": "stream",
          "name": "stdout",
          "text": [
            "1200000\n",
            "<class 'int'>\n"
          ]
        }
      ]
    },
    {
      "cell_type": "code",
      "source": [
        "flat_cost = 9000000\n",
        "print(flat_cost)\n",
        "print(type(flat_cost))"
      ],
      "metadata": {
        "colab": {
          "base_uri": "https://localhost:8080/"
        },
        "id": "HndHJ85VLeyP",
        "outputId": "22374120-73d4-4aae-bc97-f5b37da5faee"
      },
      "execution_count": 9,
      "outputs": [
        {
          "output_type": "stream",
          "name": "stdout",
          "text": [
            "9000000\n",
            "<class 'int'>\n"
          ]
        }
      ]
    },
    {
      "cell_type": "code",
      "source": [
        "laptop_price = 56499\n",
        "print(laptop_price)\n",
        "print(type(laptop_price))\n"
      ],
      "metadata": {
        "colab": {
          "base_uri": "https://localhost:8080/"
        },
        "id": "fwJBExyrLe8v",
        "outputId": "7818057e-6b14-4cbc-bbf0-8dce372ff0ff"
      },
      "execution_count": 10,
      "outputs": [
        {
          "output_type": "stream",
          "name": "stdout",
          "text": [
            "56499\n",
            "<class 'int'>\n"
          ]
        }
      ]
    },
    {
      "cell_type": "code",
      "source": [
        "groceries_bill = 594\n",
        "print(groceries_bill)\n",
        "print(type(groceries_bill))"
      ],
      "metadata": {
        "colab": {
          "base_uri": "https://localhost:8080/"
        },
        "id": "JCJjcdBnLfIA",
        "outputId": "2ed940e7-deb6-4f8f-b6da-425cad6611cf"
      },
      "execution_count": 11,
      "outputs": [
        {
          "output_type": "stream",
          "name": "stdout",
          "text": [
            "594\n",
            "<class 'int'>\n"
          ]
        }
      ]
    },
    {
      "cell_type": "markdown",
      "source": [
        "# 3)expain about float with 10 examples and type of data type\n",
        "\n",
        "  - float values can be in decimals\n",
        "  - it is like -1.33,0.56,34234.55"
      ],
      "metadata": {
        "id": "ZyDyf8e6Nknv"
      }
    },
    {
      "cell_type": "code",
      "source": [
        "#examples of float\n",
        "\n",
        "petrol_1ltr = 109.78\n",
        "print(petrol_1ltr)\n",
        "print(type(petrol_1ltr))"
      ],
      "metadata": {
        "colab": {
          "base_uri": "https://localhost:8080/"
        },
        "id": "KKVeXgLzOA1K",
        "outputId": "3054c38b-feed-4b6a-dc13-a9acee43ea52"
      },
      "execution_count": 12,
      "outputs": [
        {
          "output_type": "stream",
          "name": "stdout",
          "text": [
            "109.78\n",
            "<class 'float'>\n"
          ]
        }
      ]
    },
    {
      "cell_type": "code",
      "source": [
        "shirt_cost = 499.5\n",
        "print(shirt_cost)\n",
        "print(type(shirt_cost))"
      ],
      "metadata": {
        "colab": {
          "base_uri": "https://localhost:8080/"
        },
        "id": "eLb9JhwEOcf5",
        "outputId": "05891706-ae80-4d0c-e353-1d53a8c9b2af"
      },
      "execution_count": 13,
      "outputs": [
        {
          "output_type": "stream",
          "name": "stdout",
          "text": [
            "499.5\n",
            "<class 'float'>\n"
          ]
        }
      ]
    },
    {
      "cell_type": "code",
      "source": [
        "egg_cost = 6.5\n",
        "print(egg_cost)\n",
        "print(type(egg_cost))"
      ],
      "metadata": {
        "colab": {
          "base_uri": "https://localhost:8080/"
        },
        "id": "fzTikCtgOcpd",
        "outputId": "36de8b68-ae7e-478d-e1a6-f612cad71d2d"
      },
      "execution_count": 14,
      "outputs": [
        {
          "output_type": "stream",
          "name": "stdout",
          "text": [
            "6.5\n",
            "<class 'float'>\n"
          ]
        }
      ]
    },
    {
      "cell_type": "code",
      "source": [
        "mobile_cost = 19500.5\n",
        "print(mobile_cost)\n",
        "print(type(mobile_cost))"
      ],
      "metadata": {
        "colab": {
          "base_uri": "https://localhost:8080/"
        },
        "id": "5vWmz1UdOczO",
        "outputId": "87dd8b97-e166-44e0-d087-01b86e877ad8"
      },
      "execution_count": 15,
      "outputs": [
        {
          "output_type": "stream",
          "name": "stdout",
          "text": [
            "19500.5\n",
            "<class 'float'>\n"
          ]
        }
      ]
    },
    {
      "cell_type": "code",
      "source": [
        "medical_bill = 4989.67\n",
        "print(medical_bill)\n",
        "print(type(medical_bill))"
      ],
      "metadata": {
        "colab": {
          "base_uri": "https://localhost:8080/"
        },
        "id": "2xbyNX1QOdgD",
        "outputId": "ca4060b3-5403-4890-acc5-8eedf44b2a44"
      },
      "execution_count": 16,
      "outputs": [
        {
          "output_type": "stream",
          "name": "stdout",
          "text": [
            "4989.67\n",
            "<class 'float'>\n"
          ]
        }
      ]
    },
    {
      "cell_type": "code",
      "source": [
        "month_income = 89394.59\n",
        "print(month_income)\n",
        "print(type(month_income))"
      ],
      "metadata": {
        "colab": {
          "base_uri": "https://localhost:8080/"
        },
        "id": "6p_6FaO_Odn5",
        "outputId": "b30c8704-1955-42b2-ce25-4ec7d8eaf6de"
      },
      "execution_count": 19,
      "outputs": [
        {
          "output_type": "stream",
          "name": "stdout",
          "text": [
            "89394.59\n",
            "<class 'float'>\n"
          ]
        }
      ]
    },
    {
      "cell_type": "code",
      "source": [
        "uberride_price = 109.74\n",
        "print(uberride_price)\n",
        "print(type(uberride_price))"
      ],
      "metadata": {
        "colab": {
          "base_uri": "https://localhost:8080/"
        },
        "id": "2FOZ4L5cOd31",
        "outputId": "dab48df0-7a5d-40cf-8db4-7ba920a62d39"
      },
      "execution_count": 20,
      "outputs": [
        {
          "output_type": "stream",
          "name": "stdout",
          "text": [
            "109.74\n",
            "<class 'float'>\n"
          ]
        }
      ]
    },
    {
      "cell_type": "code",
      "source": [
        "rarerabbit_cost = 37000.99\n",
        "print(rarerabbit_cost)\n",
        "print(type(rarerabbit_cost))"
      ],
      "metadata": {
        "colab": {
          "base_uri": "https://localhost:8080/"
        },
        "id": "inDRZQz2OenT",
        "outputId": "44ec3b8b-8a71-4ec1-a08a-05026728aa04"
      },
      "execution_count": 21,
      "outputs": [
        {
          "output_type": "stream",
          "name": "stdout",
          "text": [
            "37000.99\n",
            "<class 'float'>\n"
          ]
        }
      ]
    },
    {
      "cell_type": "code",
      "source": [
        "celvinklien_cost = 7500.99\n",
        "print(celvinklien_cost)\n",
        "print(type(celvinklien_cost))"
      ],
      "metadata": {
        "colab": {
          "base_uri": "https://localhost:8080/"
        },
        "id": "P4ZzKi2HOe0B",
        "outputId": "72af24db-cbef-4c12-9066-5f95f14ea913"
      },
      "execution_count": 22,
      "outputs": [
        {
          "output_type": "stream",
          "name": "stdout",
          "text": [
            "7500.99\n",
            "<class 'float'>\n"
          ]
        }
      ]
    },
    {
      "cell_type": "code",
      "source": [
        "tshirt_cost = 999.99\n",
        "print(tshirt_cost)\n",
        "print(type(tshirt_cost))"
      ],
      "metadata": {
        "colab": {
          "base_uri": "https://localhost:8080/"
        },
        "id": "y8gpYK9IOe_H",
        "outputId": "7b9fe86b-76cd-420c-810a-df96bf0b5dae"
      },
      "execution_count": 23,
      "outputs": [
        {
          "output_type": "stream",
          "name": "stdout",
          "text": [
            "999.99\n",
            "<class 'float'>\n"
          ]
        }
      ]
    },
    {
      "cell_type": "markdown",
      "source": [
        "# 4)expain about complex with 10 examples and type of data type\n",
        "\n",
        " -"
      ],
      "metadata": {
        "id": "cNiE58AZX6nU"
      }
    },
    {
      "cell_type": "code",
      "source": [
        "#examples of complex\n",
        "a = 5\n",
        "b = 5\n",
        "complex = complex(a,b)\n",
        "print(complex)\n",
        "print(type(complex))"
      ],
      "metadata": {
        "colab": {
          "base_uri": "https://localhost:8080/"
        },
        "id": "BZm2HT4LiAvd",
        "outputId": "1979f372-0a8b-48ee-fbe3-4563a454ecd7"
      },
      "execution_count": 1,
      "outputs": [
        {
          "output_type": "stream",
          "name": "stdout",
          "text": [
            "(5+5j)\n",
            "<class 'complex'>\n"
          ]
        }
      ]
    },
    {
      "cell_type": "code",
      "source": [
        "a= 2+3j\n",
        "print(a)\n",
        "print(type(a))"
      ],
      "metadata": {
        "colab": {
          "base_uri": "https://localhost:8080/"
        },
        "id": "HhbLuVlikhHf",
        "outputId": "4ec0ce30-d46b-4f70-ff21-3819bb2bd5d5"
      },
      "execution_count": 37,
      "outputs": [
        {
          "output_type": "stream",
          "name": "stdout",
          "text": [
            "(2+3j)\n",
            "<class 'complex'>\n"
          ]
        }
      ]
    },
    {
      "cell_type": "code",
      "source": [
        "sub = 0B11+53j\n",
        "print(sub)\n",
        "print(type(sub))"
      ],
      "metadata": {
        "colab": {
          "base_uri": "https://localhost:8080/"
        },
        "id": "snJ0CTzRPFmB",
        "outputId": "e759ed78-2e9c-4c3d-ac0c-d454f502c81d"
      },
      "execution_count": 15,
      "outputs": [
        {
          "output_type": "stream",
          "name": "stdout",
          "text": [
            "(3+53j)\n",
            "<class 'complex'>\n"
          ]
        }
      ]
    },
    {
      "cell_type": "code",
      "source": [
        "hail = 0B00+233j\n",
        "print(hail)\n",
        "print(type(hail))"
      ],
      "metadata": {
        "colab": {
          "base_uri": "https://localhost:8080/"
        },
        "id": "MlR7cqtSPUVG",
        "outputId": "0c106302-5306-40ef-9051-8c8ce4725e4a"
      },
      "execution_count": 17,
      "outputs": [
        {
          "output_type": "stream",
          "name": "stdout",
          "text": [
            "233j\n",
            "<class 'complex'>\n"
          ]
        }
      ]
    },
    {
      "cell_type": "code",
      "source": [
        "gravity = 34.67+0j\n",
        "print(gravity)\n",
        "print(type(gravity))"
      ],
      "metadata": {
        "colab": {
          "base_uri": "https://localhost:8080/"
        },
        "id": "3mJirjfPPUeG",
        "outputId": "35c7a2ad-f2b8-4843-b858-05bc14f0870c"
      },
      "execution_count": 19,
      "outputs": [
        {
          "output_type": "stream",
          "name": "stdout",
          "text": [
            "(34.67+0j)\n",
            "<class 'complex'>\n"
          ]
        }
      ]
    },
    {
      "cell_type": "code",
      "source": [
        "gap = 0+23.56j\n",
        "print(gap)\n",
        "print(type(gap))"
      ],
      "metadata": {
        "colab": {
          "base_uri": "https://localhost:8080/"
        },
        "id": "j-_AzrXpPUnG",
        "outputId": "4420c47b-9190-494b-d5ba-fcaa004c44e0"
      },
      "execution_count": 20,
      "outputs": [
        {
          "output_type": "stream",
          "name": "stdout",
          "text": [
            "23.56j\n",
            "<class 'complex'>\n"
          ]
        }
      ]
    },
    {
      "cell_type": "code",
      "source": [
        "cupid = 3872.4+24.89j\n",
        "print(cupid)\n",
        "print(type(cupid))"
      ],
      "metadata": {
        "colab": {
          "base_uri": "https://localhost:8080/"
        },
        "id": "l71f7zsVPUxZ",
        "outputId": "50a0bf79-f8d8-41ca-8dbc-c338fee96906"
      },
      "execution_count": 21,
      "outputs": [
        {
          "output_type": "stream",
          "name": "stdout",
          "text": [
            "(3872.4+24.89j)\n",
            "<class 'complex'>\n"
          ]
        }
      ]
    },
    {
      "cell_type": "code",
      "source": [
        "valid = 66.87+3j\n",
        "print(valid)\n",
        "print(type(valid))"
      ],
      "metadata": {
        "colab": {
          "base_uri": "https://localhost:8080/"
        },
        "id": "Bd3SbJMpPVT3",
        "outputId": "b2d3affa-05ed-4f50-f130-922e7582dcbd"
      },
      "execution_count": 29,
      "outputs": [
        {
          "output_type": "stream",
          "name": "stdout",
          "text": [
            "(66.87+3j)\n",
            "<class 'complex'>\n"
          ]
        }
      ]
    },
    {
      "cell_type": "code",
      "source": [
        "rabbit = 337+678.4j\n",
        "print(rabbit)\n",
        "print(type(rabbit))"
      ],
      "metadata": {
        "colab": {
          "base_uri": "https://localhost:8080/"
        },
        "id": "TGnKPxQjR1yT",
        "outputId": "ef586a5d-8b16-431c-fd83-6eee6bd55c83"
      },
      "execution_count": 30,
      "outputs": [
        {
          "output_type": "stream",
          "name": "stdout",
          "text": [
            "(337+678.4j)\n",
            "<class 'complex'>\n"
          ]
        }
      ]
    },
    {
      "cell_type": "code",
      "source": [
        "lamda = 2378+67.33j\n",
        "print(lamda)\n",
        "print(type(lamda))"
      ],
      "metadata": {
        "colab": {
          "base_uri": "https://localhost:8080/"
        },
        "id": "KzEb4XcaR15Y",
        "outputId": "28f329b2-a7af-4867-c6ba-63b04597e1c2"
      },
      "execution_count": 31,
      "outputs": [
        {
          "output_type": "stream",
          "name": "stdout",
          "text": [
            "(2378+67.33j)\n",
            "<class 'complex'>\n"
          ]
        }
      ]
    }
  ]
}