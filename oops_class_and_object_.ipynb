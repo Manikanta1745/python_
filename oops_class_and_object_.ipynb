{
  "nbformat": 4,
  "nbformat_minor": 0,
  "metadata": {
    "colab": {
      "provenance": []
    },
    "kernelspec": {
      "name": "python3",
      "display_name": "Python 3"
    },
    "language_info": {
      "name": "python"
    }
  },
  "cells": [
    {
      "cell_type": "code",
      "execution_count": 1,
      "metadata": {
        "colab": {
          "base_uri": "https://localhost:8080/"
        },
        "id": "5NcdTWAqslab",
        "outputId": "484c4c3c-f281-4a60-d05e-013954dc62a5"
      },
      "outputs": [
        {
          "output_type": "stream",
          "name": "stdout",
          "text": [
            "5\n",
            "class\n"
          ]
        }
      ],
      "source": [
        "#examples with class and object\n",
        "\n",
        "class myclass:\n",
        "  x = 5\n",
        "  y = \"class\"\n",
        "#create object\n",
        "\n",
        "obj = myclass()\n",
        "print(obj.x)\n",
        "print(obj.y)"
      ]
    },
    {
      "cell_type": "code",
      "source": [
        "#examples using initializer\n",
        "class dog:\n",
        "     def __init__(self,name,age,breed):\n",
        "      self.name = name\n",
        "      self.age = age\n",
        "      self.breed = breed\n",
        "     def bark(self):\n",
        "      print(\"bowww\")\n",
        "\n",
        "dog1 = dog(\"rocky\",6,\"pomerian\")\n",
        "dog2 = dog(\"max\",4,\"husky\")\n",
        "print(f\"dog name is {dog1.name} and {dog1.age} years old and {dog1.breed} breed\")\n",
        "print(f\"dog name is {dog2.name} and {dog2.age} years old and {dog2.breed} breed\")\n",
        "dog1.bark()"
      ],
      "metadata": {
        "colab": {
          "base_uri": "https://localhost:8080/"
        },
        "id": "pnTZnNBbxL9u",
        "outputId": "c41a2d54-8d5c-4369-ff68-2b13aed427c2"
      },
      "execution_count": 29,
      "outputs": [
        {
          "output_type": "stream",
          "name": "stdout",
          "text": [
            "dog name is rocky and 6 years old and pomerian breed\n",
            "dog name is max and 4 years old and husky breed\n",
            "bowww\n"
          ]
        }
      ]
    },
    {
      "cell_type": "code",
      "source": [
        "class bikes:\n",
        "  def __init__(self,name,model):\n",
        "    self.name = name\n",
        "    self.model = model\n",
        "  def end(self):\n",
        "    print(\"thank you visit again\")\n",
        "\n",
        "#calling object\n",
        "bikes1 = bikes(\"duke\",2024)\n",
        "bikes2 = bikes(\"pulsar\",2022)\n",
        "print(f\"bike name is {bikes1.name} and {bikes1.model} model\")\n",
        "print(f\"bike name is {bikes2.name} and {bikes2.model} model\")\n",
        "\n",
        "bikes1.end()\n"
      ],
      "metadata": {
        "colab": {
          "base_uri": "https://localhost:8080/"
        },
        "id": "upngCvCO8Vlo",
        "outputId": "ae8cc417-fa42-4dcc-802e-2728b937e78a"
      },
      "execution_count": 38,
      "outputs": [
        {
          "output_type": "stream",
          "name": "stdout",
          "text": [
            "bike name is duke and 2024 model\n",
            "bike name is pulsar and 2022 model\n",
            "thank you visit again\n"
          ]
        }
      ]
    },
    {
      "cell_type": "code",
      "source": [
        "class student:\n",
        "  def __init__(self,name,age,qualification,section,passedoutyear):\n",
        "    self.name = name\n",
        "    self.age = age\n",
        "    self.qualification = qualification\n",
        "    self.section = section\n",
        "    self.passedoutyear = passedoutyear\n",
        "  def dep(self):\n",
        "    print(\"all students are from mechanical branch\")\n",
        "\n",
        "student1 = student(\"manikanta\",24,\"btech\",\"A\",2022)\n",
        "student2 = student(\"ganesh\",22,\"btech\",\"C\",2024)\n",
        "student3 = student(\"suresh\",23,\"btech\",\"D\",2023)\n",
        "\n",
        "print(f\"my name is {student1.name} i am {student1.age} years old and my qualification is {student1.qualification} from {student1.section} section and {student1.passedoutyear} batch\")\n",
        "print(f\"my name is {student2.name} i am {student2.age} years old and my qualification is {student2.qualification} from {student2.section} section and {student2.passedoutyear} batch\")\n",
        "print(f\"my name is {student3.name} i am {student3.age} years old and my qualification is {student3.qualification} from {student3.section} section and {student3.passedoutyear} batch\")\n",
        "\n",
        "student1.dep()"
      ],
      "metadata": {
        "colab": {
          "base_uri": "https://localhost:8080/"
        },
        "id": "11omUeZe_Kks",
        "outputId": "9a418e28-9e83-46ae-93d6-abb383f57d1e"
      },
      "execution_count": 40,
      "outputs": [
        {
          "output_type": "stream",
          "name": "stdout",
          "text": [
            "my name is manikanta i am 24 years old and my qualification is btech from A section and 2022 batch\n",
            "my name is ganesh i am 22 years old and my qualification is btech from C section and 2024 batch\n",
            "my name is suresh i am 23 years old and my qualification is btech from D section and 2023 batch\n",
            "all students are from mechanical branch\n"
          ]
        }
      ]
    },
    {
      "cell_type": "code",
      "source": [
        "# using towo initializers\n",
        "\n",
        "class score:\n",
        "  def __init__(self,team,score):\n",
        "    self.team = team\n",
        "    self.score = score\n",
        "    print(\"team autralia\")\n",
        "  def __init__(self,team,score):\n",
        "    self.team = team\n",
        "    self.score = score\n",
        "    print(\"team india\")\n",
        "  def __init__(self,venue):\n",
        "    self.venue = venue\n",
        "    print(\"venue is hyd\")\n",
        "target1 = score(\"aus\")\n",
        "\n",
        "#by using n times of initializers it takes only last initializer as output\n"
      ],
      "metadata": {
        "colab": {
          "base_uri": "https://localhost:8080/"
        },
        "id": "dSt0vqCULKDW",
        "outputId": "92df6634-98da-416d-ecc6-bf542e823ca2"
      },
      "execution_count": 65,
      "outputs": [
        {
          "output_type": "stream",
          "name": "stdout",
          "text": [
            "venue is hyd\n"
          ]
        }
      ]
    },
    {
      "cell_type": "code",
      "source": [
        "# using string method\n",
        "\n",
        "class bus:\n",
        "  def __init__(self,name,routestart,routeend):\n",
        "    self.name = name\n",
        "    self.routestart = routestart\n",
        "    self.routeend = routeend\n",
        "  def __str__(self):\n",
        "    return (f\"bus name is {self.name} and route starts from {self.routestart} to {self.routeend}\")\n",
        "    return (f\"bus name is {self.name} and route starts from {self.routestart} to {self.routeend}\")\n",
        "  def final(self):\n",
        "    print(\"all route buses are available\")\n",
        "\n",
        "bus1 = bus(\"red bus\",\"hyderabad\",\"vizag\")\n",
        "bus2 = bus(\"abhi bus\",\"guntur\",\"srisailam\")\n",
        "print(bus1)\n",
        "print(bus2)\n",
        "bus1.final()"
      ],
      "metadata": {
        "colab": {
          "base_uri": "https://localhost:8080/"
        },
        "id": "cmfmhEtWCdOu",
        "outputId": "b7b13971-a3a6-421c-c4b8-6ce976f5fe4b"
      },
      "execution_count": 112,
      "outputs": [
        {
          "output_type": "stream",
          "name": "stdout",
          "text": [
            "bus name is red bus and route starts from hyderabad to vizag\n",
            "bus name is abhi bus and route starts from guntur to srisailam\n",
            "all route buses are available\n"
          ]
        }
      ]
    },
    {
      "cell_type": "code",
      "source": [
        "class cricket:\n",
        "  def __init__(self,team,captain,toss,score,wickets):\n",
        "    self.team = team\n",
        "    self.captain = captain\n",
        "    self.toss = toss\n",
        "    self.score = score\n",
        "    self.wickets = wickets\n",
        "\n",
        "  def __str__(self):\n",
        "    return f\"{self.team} team captian {self.captain}, {self.toss} the toss and choose to bowl first and team india scores {self.score} lost of {self.wickets} wickets \"\n",
        "    return f\"{self.team} team captian {self.captain}, {self.toss} the toss and team austraila scores {self.score} lost of {self.wickets} wickets \"\n",
        "\n",
        "  def opp(self):\n",
        "    (\"congratulations india won the match\")\n",
        "\n",
        "target1 = cricket(\"australia\",\"marsh\",\"won\",190,5)\n",
        "print(target1)\n",
        "target2 = cricket(\"india\",\"rohit sharma\",\"lost\",146,10)\n",
        "print(target2)\n",
        "target1.opp()\n",
        "\n"
      ],
      "metadata": {
        "colab": {
          "base_uri": "https://localhost:8080/"
        },
        "id": "BkcKeVOGKuoD",
        "outputId": "7adad486-69ae-4e43-e2d0-ea6d46432c49"
      },
      "execution_count": 127,
      "outputs": [
        {
          "output_type": "stream",
          "name": "stdout",
          "text": [
            "australia team captian marsh, won the toss and choose to bowl first and team india scores 190 lost of 5 wickets \n",
            "india team captian rohit sharma, lost the toss and choose to bowl first and team india scores 146 lost of 10 wickets \n"
          ]
        }
      ]
    },
    {
      "cell_type": "code",
      "source": [
        "class college:\n",
        "  def __init__(self,collegename,totalstrength,buildingname,location):\n",
        "    self.collegename = collegename\n",
        "    self.totalstrength = totalstrength\n",
        "    self.buildingname = buildingname\n",
        "    self.location = location\n",
        "\n",
        "  def __str__(self):\n",
        "    return f\"college name is {self.collegename} total students {self.totalstrength} and building name is {self.buildingname} is located in {self.location}\"\n",
        "  def final(self):\n",
        "    print(\"all details of college\")\n",
        "\n",
        "coll = college(\"sri chaitanya\",1424,\"bhageeradha bhawan\",\"vizag\")\n",
        "print(coll)\n",
        "coll.final()"
      ],
      "metadata": {
        "colab": {
          "base_uri": "https://localhost:8080/"
        },
        "id": "QSY9RFOOX9cp",
        "outputId": "74c200c1-05cd-4968-daa5-bbdb2f313619"
      },
      "execution_count": 108,
      "outputs": [
        {
          "output_type": "stream",
          "name": "stdout",
          "text": [
            "college name is sri chaitanya total students 1424 and building name is bhageeradha bhawan is located in vizag\n",
            "all details of college\n"
          ]
        }
      ]
    },
    {
      "cell_type": "code",
      "source": [
        "class office:\n",
        "  def __init__(self,name,officename,designation,location):\n",
        "    self.name = name\n",
        "    self.officename = officename\n",
        "    self.designation = designation\n",
        "    self.location = location\n",
        "\n",
        "  def __str__(self):\n",
        "    return f\"i am {self.name} working at {self.officename} and my designation is {self.designation} at {self.location} \"\n",
        "\n",
        "  def final(self):\n",
        "    print(\"this is my details\")\n",
        "\n",
        "details = office(\"manikanta\",\"amazon\",\"data scientist\",\"hyderabad\")\n",
        "print(details)\n",
        "details.final()"
      ],
      "metadata": {
        "colab": {
          "base_uri": "https://localhost:8080/"
        },
        "id": "UJAlvxbVkm4W",
        "outputId": "7888c120-c2d7-4837-8762-a50c68c9e327"
      },
      "execution_count": 114,
      "outputs": [
        {
          "output_type": "stream",
          "name": "stdout",
          "text": [
            "i am manikanta working at amazon and my designation is data scientist at hyderabad \n",
            "this is my details\n"
          ]
        }
      ]
    },
    {
      "cell_type": "code",
      "source": [
        "from os import access\n",
        "class bank:\n",
        "  def __init__(self,name,bankname,accounttype,location):\n",
        "    self.name = name\n",
        "    self.bankname = bankname\n",
        "    self.accounttype = accounttype\n",
        "    self.location = location\n",
        "\n",
        "  def __str__(self):\n",
        "    return f\"i am {self.name} i have bank account in {self.bankname} bank and it is {self.accounttype} type located in {self.location}\"\n",
        "\n",
        "  def final(self):\n",
        "    print(\"this is my bank details\")\n",
        "\n",
        "details = bank(\"manikanta\",\"axis bank\",\"savings\",\"hyderabad\")\n",
        "print(details)\n",
        "\n",
        "details.final()"
      ],
      "metadata": {
        "colab": {
          "base_uri": "https://localhost:8080/"
        },
        "id": "oDiJZNFeX9jA",
        "outputId": "22efbba9-881f-4731-a215-18b49bf1f06d"
      },
      "execution_count": 123,
      "outputs": [
        {
          "output_type": "stream",
          "name": "stdout",
          "text": [
            "i am manikanta i have bank account in axis bank bank and it is savings type located in hyderabad\n",
            "this is my bank details\n"
          ]
        }
      ]
    },
    {
      "cell_type": "code",
      "source": [
        "class flat:\n",
        "  def __init__(self,singleflat,doubleflat,tripleflat):\n",
        "    self.singleflat = singleflat\n",
        "    self.doubleflat = doubleflat\n",
        "    self.tripleflat = tripleflat\n",
        "\n",
        "  def __str__(self):\n",
        "    return f\"single bedroom cost is {self.singleflat}, double bedroom cost is {self.doubleflat} and triple bedroom cost is {self.tripleflat}\"\n",
        "\n",
        "  def final(self):\n",
        "    print(\"all costs of flats are in gacchibowli location hyderabad\")\n",
        "\n",
        "details = flat(10000,20000,30000)\n",
        "print(details)\n",
        "\n",
        "details.final()"
      ],
      "metadata": {
        "colab": {
          "base_uri": "https://localhost:8080/"
        },
        "id": "rJKkEsH2X9qT",
        "outputId": "2b09e774-61db-422f-81ed-286505e0a875"
      },
      "execution_count": 126,
      "outputs": [
        {
          "output_type": "stream",
          "name": "stdout",
          "text": [
            "single bedroom cost is 10000, double bedroom cost is 20000 and triple bedroom cost is 30000\n",
            "all costs of flats are in gacchibowli location hyderabad\n"
          ]
        }
      ]
    },
    {
      "cell_type": "code",
      "source": [],
      "metadata": {
        "id": "LmvXReLSX9xz"
      },
      "execution_count": null,
      "outputs": []
    }
  ]
}