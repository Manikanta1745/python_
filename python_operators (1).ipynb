{
  "nbformat": 4,
  "nbformat_minor": 0,
  "metadata": {
    "colab": {
      "provenance": []
    },
    "kernelspec": {
      "name": "python3",
      "display_name": "Python 3"
    },
    "language_info": {
      "name": "python"
    }
  },
  "cells": [
    {
      "cell_type": "code",
      "source": [
        "# 1)explain about operators\n",
        "# 2)define types of operators in python and explain each and every type of operator with 10 examples\n",
        "# 3)define precedence(bodmas)rule"
      ],
      "metadata": {
        "id": "AHTWiqZNobUC"
      },
      "execution_count": null,
      "outputs": []
    },
    {
      "cell_type": "markdown",
      "source": [
        "# 1)explain about operators\n",
        "\n",
        " - the operator is a symbol that performs some operation between the two values or variables\n",
        " - it is used to perform some variety of tasks\n"
      ],
      "metadata": {
        "id": "Vmkw9786n7gH"
      }
    },
    {
      "cell_type": "markdown",
      "source": [
        "# 2)define types of operators in python and explain each and every type of operator with 10 examples\n",
        "\n",
        " - they are 7 types of operators\n",
        " - 1) arthematic operators\n",
        " - 2) comparision operators\n",
        " - 3) assignment operators\n",
        " - 4) logical operators\n",
        " - 5) identity operators\n",
        " - 6) membership operators\n",
        " - 7) bitwise operators"
      ],
      "metadata": {
        "id": "EHOMl0T8oRej"
      }
    },
    {
      "cell_type": "markdown",
      "source": [
        "  1) arthematic operators\n",
        "  - it is used between two operands for a particular operatons\n",
        "  - they are 7 operators\n",
        "    - 1) addition(+)\n",
        "       -  it is used to add two operands\n",
        "    - 2) subtraction(-)\n",
        "       -  it is used to subtract one value from another value\n",
        "    - 3) mutiplication(*)\n",
        "       -  it is used to multiply one operand with another operand\n",
        "    - 4) division(/)\n",
        "       -  it returns the quotient after dividing the first operand by the second operand\n",
        "    - 5) floor division(//)\n",
        "       -  it returns the quotient value in integer format after dividing the first operand by the second operand\n",
        "    - 6) exponential(**)\n",
        "       -  it means known as power it calculates the first operand power to the second operand\n",
        "    - 7) modulus(%)\n",
        "       -  it returns the remainder after dividing the first operand by the second operand\n",
        "    - examples of arthematic operators given below......."
      ],
      "metadata": {
        "id": "6eXOT0_7qzq5"
      }
    },
    {
      "cell_type": "code",
      "source": [
        "# examples of arthematic operators\n",
        "\n",
        "a = 10\n",
        "b = 20\n",
        "print(a+b)\n",
        "print(a-b)\n",
        "print(a*b)\n",
        "print(a/b)\n",
        "print(a**b)\n",
        "print(a//b)\n",
        "print(a%b)"
      ],
      "metadata": {
        "id": "z8l4YaTGepyQ",
        "colab": {
          "base_uri": "https://localhost:8080/"
        },
        "outputId": "0d52e756-863b-4d44-c251-b599c82d9339"
      },
      "execution_count": null,
      "outputs": [
        {
          "output_type": "stream",
          "name": "stdout",
          "text": [
            "30\n",
            "-10\n",
            "200\n",
            "0.5\n",
            "100000000000000000000\n",
            "0\n",
            "10\n"
          ]
        }
      ]
    },
    {
      "cell_type": "code",
      "source": [
        "x = 23\n",
        "y = 22\n",
        "z = x+y\n",
        "print(z)\n",
        "type(z)"
      ],
      "metadata": {
        "colab": {
          "base_uri": "https://localhost:8080/"
        },
        "id": "XR3q2CDHYqeu",
        "outputId": "48141678-a1b8-4383-f7c8-3663acc864c2"
      },
      "execution_count": null,
      "outputs": [
        {
          "output_type": "stream",
          "name": "stdout",
          "text": [
            "45\n"
          ]
        },
        {
          "output_type": "execute_result",
          "data": {
            "text/plain": [
              "int"
            ]
          },
          "metadata": {},
          "execution_count": 2
        }
      ]
    },
    {
      "cell_type": "code",
      "source": [
        "i = 432\n",
        "j = 341.5\n",
        "k = i-j\n",
        "print(k)\n",
        "type(k)"
      ],
      "metadata": {
        "colab": {
          "base_uri": "https://localhost:8080/"
        },
        "id": "zMcosNqKYqsY",
        "outputId": "d4b959cd-9a7d-4dc6-bf4f-435f9d27b2cc"
      },
      "execution_count": null,
      "outputs": [
        {
          "output_type": "stream",
          "name": "stdout",
          "text": [
            "90.5\n"
          ]
        },
        {
          "output_type": "execute_result",
          "data": {
            "text/plain": [
              "float"
            ]
          },
          "metadata": {},
          "execution_count": 3
        }
      ]
    },
    {
      "cell_type": "code",
      "source": [
        "rev = 338.44\n",
        "rev1 = 23344.22\n",
        "rev2 = rev-rev1\n",
        "print(rev2)\n",
        "type(rev2)"
      ],
      "metadata": {
        "colab": {
          "base_uri": "https://localhost:8080/"
        },
        "id": "fltRxFxYYq4A",
        "outputId": "3baec355-0dc7-4e61-b3bd-e287db47c930"
      },
      "execution_count": null,
      "outputs": [
        {
          "output_type": "stream",
          "name": "stdout",
          "text": [
            "-23005.780000000002\n"
          ]
        },
        {
          "output_type": "execute_result",
          "data": {
            "text/plain": [
              "float"
            ]
          },
          "metadata": {},
          "execution_count": 4
        }
      ]
    },
    {
      "cell_type": "code",
      "source": [
        "mul = 332\n",
        "mul1 = 84\n",
        "mul2 = mul*mul1\n",
        "print(mul2)\n",
        "type(mul2)"
      ],
      "metadata": {
        "colab": {
          "base_uri": "https://localhost:8080/"
        },
        "id": "NLKUj0QkYrCt",
        "outputId": "6acc2624-88b2-4011-8d44-8c2efa79baeb"
      },
      "execution_count": null,
      "outputs": [
        {
          "output_type": "stream",
          "name": "stdout",
          "text": [
            "27888\n"
          ]
        },
        {
          "output_type": "execute_result",
          "data": {
            "text/plain": [
              "int"
            ]
          },
          "metadata": {},
          "execution_count": 5
        }
      ]
    },
    {
      "cell_type": "code",
      "source": [
        "div = 43\n",
        "div1 = 98\n",
        "div2 = div/div1\n",
        "print(div2)\n",
        "type(div2)\n",
        "# by using / output will be quotient"
      ],
      "metadata": {
        "colab": {
          "base_uri": "https://localhost:8080/"
        },
        "id": "_3-yFrHzYrNk",
        "outputId": "7cfa2b99-ddbd-4262-e4fb-12e34cbb93d8"
      },
      "execution_count": null,
      "outputs": [
        {
          "output_type": "stream",
          "name": "stdout",
          "text": [
            "0.4387755102040816\n"
          ]
        },
        {
          "output_type": "execute_result",
          "data": {
            "text/plain": [
              "float"
            ]
          },
          "metadata": {},
          "execution_count": 6
        }
      ]
    },
    {
      "cell_type": "code",
      "source": [
        "fld = 4556\n",
        "fld1 = 364\n",
        "fld2 = fld//fld1\n",
        "print(fld)\n",
        "type(fld2)\n",
        "# by using // output is quotient and returnsin int"
      ],
      "metadata": {
        "colab": {
          "base_uri": "https://localhost:8080/"
        },
        "id": "rlq27_2qYrZy",
        "outputId": "73afe0e8-2556-470c-830b-843714d16ac6"
      },
      "execution_count": null,
      "outputs": [
        {
          "output_type": "stream",
          "name": "stdout",
          "text": [
            "4556\n"
          ]
        },
        {
          "output_type": "execute_result",
          "data": {
            "text/plain": [
              "int"
            ]
          },
          "metadata": {},
          "execution_count": 7
        }
      ]
    },
    {
      "cell_type": "code",
      "source": [
        "fd = 782334\n",
        "fd1 = 783788\n",
        "fd2 = fd//fd1\n",
        "print(fd2)\n",
        "type(fd2)"
      ],
      "metadata": {
        "colab": {
          "base_uri": "https://localhost:8080/"
        },
        "id": "WRPv8JBYYrmV",
        "outputId": "a69b5c6b-d3bc-4b46-ffc5-df4f0e2e3458"
      },
      "execution_count": null,
      "outputs": [
        {
          "output_type": "stream",
          "name": "stdout",
          "text": [
            "0\n"
          ]
        },
        {
          "output_type": "execute_result",
          "data": {
            "text/plain": [
              "int"
            ]
          },
          "metadata": {},
          "execution_count": 9
        }
      ]
    },
    {
      "cell_type": "code",
      "source": [
        "exp = 6\n",
        "exp1 = 7\n",
        "exp2 = exp**exp1\n",
        "print(exp2)\n",
        "type(exp2)"
      ],
      "metadata": {
        "colab": {
          "base_uri": "https://localhost:8080/"
        },
        "id": "RpHePuc_Yrx7",
        "outputId": "62222f7d-bde0-413c-d20f-e02fb763daa6"
      },
      "execution_count": null,
      "outputs": [
        {
          "output_type": "stream",
          "name": "stdout",
          "text": [
            "279936\n"
          ]
        },
        {
          "output_type": "execute_result",
          "data": {
            "text/plain": [
              "int"
            ]
          },
          "metadata": {},
          "execution_count": 11
        }
      ]
    },
    {
      "cell_type": "code",
      "source": [
        "mod = 233\n",
        "mod1 = 43\n",
        "mod2 = mod%mod1\n",
        "print(mod2)\n",
        "type(mod2)\n",
        "#by using % it returns output as remainder"
      ],
      "metadata": {
        "colab": {
          "base_uri": "https://localhost:8080/"
        },
        "id": "AD6W-KPiYr-V",
        "outputId": "cedea439-c940-44c4-ec62-ce586c31294e"
      },
      "execution_count": null,
      "outputs": [
        {
          "output_type": "stream",
          "name": "stdout",
          "text": [
            "18\n"
          ]
        },
        {
          "output_type": "execute_result",
          "data": {
            "text/plain": [
              "int"
            ]
          },
          "metadata": {},
          "execution_count": 12
        }
      ]
    },
    {
      "cell_type": "markdown",
      "source": [
        "2)comparision operators\n",
        "  - it is mainly used for comparision purpose\n",
        "  - the operator compare the values of two operands and return the true or false boolean values\n",
        "  - they are 6 operators\n",
        "   - 1) is equalto(==)\n",
        "     - if the two operands is equal it becomes true\n",
        "   - 2) not equalto(!=)\n",
        "     - if two operands not equal it becomes true\n",
        "   - 3) greater than or equalto(>=)\n",
        "     - the first operand is greater than or equalto the second operand it becomes true\n",
        "   - 4) less than or equalto(<=)\n",
        "     - the first operand is less than or equalto the second operator it becomes true\n",
        "   - 5) greater than(>)\n",
        "     - if the first operand is greater than second operand it beacoms true\n",
        "   - 6) less than(<)\n",
        "     - if the first operand is less than second operand it becomes true\n",
        "   - examples of comparison operator give below........"
      ],
      "metadata": {
        "id": "8L7T0BycudBM"
      }
    },
    {
      "cell_type": "code",
      "source": [
        "#examples of comparision operators\n",
        "\n",
        "a = 10\n",
        "b = 20\n",
        "print(a==b)\n",
        "print(a!=b)\n",
        "print(a<=b)\n",
        "print(a>=b)\n",
        "print(a<b)\n",
        "print(a>b)"
      ],
      "metadata": {
        "id": "-fTVeZExHZ1n",
        "colab": {
          "base_uri": "https://localhost:8080/"
        },
        "outputId": "95f8c552-6f1d-40de-9045-f3ddcfca9e0f"
      },
      "execution_count": null,
      "outputs": [
        {
          "output_type": "stream",
          "name": "stdout",
          "text": [
            "False\n",
            "True\n",
            "True\n",
            "False\n",
            "True\n",
            "False\n"
          ]
        }
      ]
    },
    {
      "cell_type": "code",
      "source": [
        "eq = 433\n",
        "eq1 = 30\n",
        "print(eq==eq1)"
      ],
      "metadata": {
        "colab": {
          "base_uri": "https://localhost:8080/"
        },
        "id": "ZpRjhJ1qfNPQ",
        "outputId": "a56d86ef-28d7-4bce-b49e-076254319201"
      },
      "execution_count": null,
      "outputs": [
        {
          "output_type": "stream",
          "name": "stdout",
          "text": [
            "False\n"
          ]
        }
      ]
    },
    {
      "cell_type": "code",
      "source": [
        "x = 444\n",
        "z = 444\n",
        "print(x==z)"
      ],
      "metadata": {
        "colab": {
          "base_uri": "https://localhost:8080/"
        },
        "id": "T30NTYiGfNaT",
        "outputId": "72f948e6-60fc-4575-bd0a-43254a2e6fbd"
      },
      "execution_count": null,
      "outputs": [
        {
          "output_type": "stream",
          "name": "stdout",
          "text": [
            "True\n"
          ]
        }
      ]
    },
    {
      "cell_type": "code",
      "source": [
        "i = 359\n",
        "j = 474\n",
        "print(i!=j)"
      ],
      "metadata": {
        "colab": {
          "base_uri": "https://localhost:8080/"
        },
        "id": "21jG9AKXfNlj",
        "outputId": "29c34f7d-f4cc-4dad-aba3-96b28943c628"
      },
      "execution_count": null,
      "outputs": [
        {
          "output_type": "stream",
          "name": "stdout",
          "text": [
            "True\n"
          ]
        }
      ]
    },
    {
      "cell_type": "code",
      "source": [
        "les = 230\n",
        "les1 = 9390\n",
        "print(les<les1)"
      ],
      "metadata": {
        "colab": {
          "base_uri": "https://localhost:8080/"
        },
        "id": "cGyPLEHcfNwo",
        "outputId": "ff2aa612-4098-4578-9e3f-d8ccc27515e1"
      },
      "execution_count": null,
      "outputs": [
        {
          "output_type": "stream",
          "name": "stdout",
          "text": [
            "True\n"
          ]
        }
      ]
    },
    {
      "cell_type": "code",
      "source": [
        "_les = 9939\n",
        "_les1 = 920\n",
        "print(_les>_les1)"
      ],
      "metadata": {
        "colab": {
          "base_uri": "https://localhost:8080/"
        },
        "id": "_eOjs8xmfN72",
        "outputId": "f7237e5e-c69d-44dc-f0f5-9f062979d76c"
      },
      "execution_count": null,
      "outputs": [
        {
          "output_type": "stream",
          "name": "stdout",
          "text": [
            "True\n"
          ]
        }
      ]
    },
    {
      "cell_type": "code",
      "source": [
        "leseq = 3390\n",
        "leseq1 = 403\n",
        "print(leseq<=leseq1)"
      ],
      "metadata": {
        "colab": {
          "base_uri": "https://localhost:8080/"
        },
        "id": "bSsUCxSifOHT",
        "outputId": "1f0d2f19-3f3b-4d4f-952c-db7580e0302e"
      },
      "execution_count": null,
      "outputs": [
        {
          "output_type": "stream",
          "name": "stdout",
          "text": [
            "False\n"
          ]
        }
      ]
    },
    {
      "cell_type": "code",
      "source": [
        "geteq = 380\n",
        "geteq1 = 819\n",
        "print(geteq>=geteq1)"
      ],
      "metadata": {
        "colab": {
          "base_uri": "https://localhost:8080/"
        },
        "id": "JnUDqy3PfOSj",
        "outputId": "1a4303ae-54bf-4713-b50b-692b8f441b03"
      },
      "execution_count": null,
      "outputs": [
        {
          "output_type": "stream",
          "name": "stdout",
          "text": [
            "False\n"
          ]
        }
      ]
    },
    {
      "cell_type": "markdown",
      "source": [
        "3) assignment operator\n",
        "\n",
        "   - it is used to assign the values to operators\n",
        "   - it can be reduce the memory usage (or) code optimization\n",
        "   - they are 8 operators\n",
        "      - 1)assignment operator(=)\n",
        "      - 2)addition operator(+=)\n",
        "      - 3)subtraction operator(-=)\n",
        "      - 4)multiplication operator(*=)\n",
        "      - 5)division operator(/=)\n",
        "      - 6)floor division operator(//)\n",
        "      - 7)exponential operator(**)\n",
        "      - 8)modulus operator(%)\n",
        "   - examples are given below....."
      ],
      "metadata": {
        "id": "wLZa_DA61b0_"
      }
    },
    {
      "cell_type": "code",
      "source": [
        "a = 4\n",
        "b = 3\n",
        "print('a=b:', a==b)\n",
        "print('a+=b:', a+b)\n",
        "print('a-=b:', a-b)\n",
        "print('a*=b:', a*b)\n",
        "print('a/=b:', a/b)\n",
        "print('a%=b:', a%b)\n",
        "print('a**=b:', a**b)\n",
        "print('a//=b:', a//b)\n"
      ],
      "metadata": {
        "colab": {
          "base_uri": "https://localhost:8080/"
        },
        "id": "EkuVtp4hWMx4",
        "outputId": "d3ee73b9-9741-499c-9dc6-c4d002107fba"
      },
      "execution_count": null,
      "outputs": [
        {
          "output_type": "stream",
          "name": "stdout",
          "text": [
            "a=b: False\n",
            "a+=b: 7\n",
            "a-=b: 1\n",
            "a*=b: 12\n",
            "a/=b: 1\n",
            "a%=b: 1\n",
            "a**=b: 64\n",
            "a//=b: 1\n"
          ]
        }
      ]
    },
    {
      "cell_type": "code",
      "source": [
        "sez = 13\n",
        "sez1 = 22\n",
        "sez+=sez1\n",
        "print(sez)"
      ],
      "metadata": {
        "colab": {
          "base_uri": "https://localhost:8080/"
        },
        "id": "XC92n9gWh1bH",
        "outputId": "2e0cfef0-b769-4d5b-cb85-9e5b32dec46c"
      },
      "execution_count": null,
      "outputs": [
        {
          "output_type": "stream",
          "name": "stdout",
          "text": [
            "35\n"
          ]
        }
      ]
    },
    {
      "cell_type": "code",
      "source": [
        "x = 7\n",
        "y = 10\n",
        "x-=y\n",
        "print(x)"
      ],
      "metadata": {
        "id": "h701duD8h1m9",
        "colab": {
          "base_uri": "https://localhost:8080/"
        },
        "outputId": "4cfcf79a-bdcf-40dc-e2de-dc403c6502cd"
      },
      "execution_count": null,
      "outputs": [
        {
          "output_type": "stream",
          "name": "stdout",
          "text": [
            "-3\n"
          ]
        }
      ]
    },
    {
      "cell_type": "code",
      "source": [
        "i = 3\n",
        "j =6\n",
        "i*=j\n",
        "print(i)"
      ],
      "metadata": {
        "id": "q7Zhb_m_h2VZ",
        "colab": {
          "base_uri": "https://localhost:8080/"
        },
        "outputId": "ae54dc85-0a0d-4f3f-9f66-e1f87cafc36c"
      },
      "execution_count": null,
      "outputs": [
        {
          "output_type": "stream",
          "name": "stdout",
          "text": [
            "18\n"
          ]
        }
      ]
    },
    {
      "cell_type": "code",
      "source": [
        "fn = 9\n",
        "fn1 = 8\n",
        "fn/=fn1\n",
        "print(fn)"
      ],
      "metadata": {
        "id": "RPfERc6Rh6Nb",
        "colab": {
          "base_uri": "https://localhost:8080/"
        },
        "outputId": "b23fef44-f7b6-4e97-809f-039f0feb24b7"
      },
      "execution_count": null,
      "outputs": [
        {
          "output_type": "stream",
          "name": "stdout",
          "text": [
            "1.125\n"
          ]
        }
      ]
    },
    {
      "cell_type": "code",
      "source": [
        "jk = 8\n",
        "jk1 = 4\n",
        "jk**=jk1\n",
        "print(jk)"
      ],
      "metadata": {
        "id": "2wsgHHe7h6Zl",
        "colab": {
          "base_uri": "https://localhost:8080/"
        },
        "outputId": "efc1fd9b-cce8-4204-9a95-d8f7a824c976"
      },
      "execution_count": null,
      "outputs": [
        {
          "output_type": "stream",
          "name": "stdout",
          "text": [
            "4096\n"
          ]
        }
      ]
    },
    {
      "cell_type": "code",
      "source": [
        "ks = 274\n",
        "ks1 = 87\n",
        "ks//=ks1\n",
        "print(ks)"
      ],
      "metadata": {
        "id": "mjo_ycWBh6pK",
        "colab": {
          "base_uri": "https://localhost:8080/"
        },
        "outputId": "0fe18e74-bf19-427f-b912-5a8be4a62f24"
      },
      "execution_count": null,
      "outputs": [
        {
          "output_type": "stream",
          "name": "stdout",
          "text": [
            "3\n"
          ]
        }
      ]
    },
    {
      "cell_type": "code",
      "source": [
        "ln = 433\n",
        "ln1 = 424\n",
        "ln%=ln1\n",
        "print(ln)"
      ],
      "metadata": {
        "id": "FplMfAxmh60v",
        "colab": {
          "base_uri": "https://localhost:8080/"
        },
        "outputId": "0c036d37-1815-4f1b-ccf0-cd1e71a09d0a"
      },
      "execution_count": null,
      "outputs": [
        {
          "output_type": "stream",
          "name": "stdout",
          "text": [
            "9\n"
          ]
        }
      ]
    },
    {
      "cell_type": "markdown",
      "source": [
        "4) logical operator\n",
        "\n",
        "   - to make decisions typically uses logical operators\n",
        "   - they are 3 types\n",
        "     - 1) and\n",
        "       - if two expressions are satisfies it returns true,or if one expresssion is unsatisfies then it returns as false   \n",
        "     - 2) or\n",
        "       - in two expressions either one expression is satisfies it returns true\n",
        "     - 3) not\n",
        "       - it convert reverse that means true to false (or) false to true\n",
        "   - examples are given below....."
      ],
      "metadata": {
        "id": "8OpoKP_sWNH8"
      }
    },
    {
      "cell_type": "code",
      "source": [
        "a = 29\n",
        "b = 68\n",
        "c = 687\n",
        "print(a<b and a<c)\n",
        "print(a<b or a<c)\n",
        "print(not(a<b and a<c))"
      ],
      "metadata": {
        "id": "h70KrECjYjpI",
        "colab": {
          "base_uri": "https://localhost:8080/"
        },
        "outputId": "c6c8f369-02ae-498c-c29e-8513954a178e"
      },
      "execution_count": null,
      "outputs": [
        {
          "output_type": "stream",
          "name": "stdout",
          "text": [
            "True\n",
            "True\n",
            "False\n"
          ]
        }
      ]
    },
    {
      "cell_type": "code",
      "source": [
        "ln = 23\n",
        "ln1 = 33\n",
        "ln2 = 33\n",
        "print(ln==ln1 and ln1==ln2)\n",
        "print(ln==ln1 or ln1==ln2)\n",
        "print(not(ln==ln1 or ln1==ln2))"
      ],
      "metadata": {
        "colab": {
          "base_uri": "https://localhost:8080/"
        },
        "id": "P-sQRYJV09O4",
        "outputId": "9e76ec88-80e3-4b52-87cb-40661e954e64"
      },
      "execution_count": null,
      "outputs": [
        {
          "output_type": "stream",
          "name": "stdout",
          "text": [
            "False\n",
            "True\n",
            "False\n"
          ]
        }
      ]
    },
    {
      "cell_type": "code",
      "source": [
        "i = 89\n",
        "j = 78\n",
        "k = 78\n",
        "print(i!=j and j!=k)\n",
        "print(i!=j or j!=k)\n",
        "print(not(i!=j and j!=k))"
      ],
      "metadata": {
        "colab": {
          "base_uri": "https://localhost:8080/"
        },
        "id": "HGqw3HoG09aR",
        "outputId": "2ffe5fa4-eb0b-4969-ba3c-19d9a80ae2d1"
      },
      "execution_count": null,
      "outputs": [
        {
          "output_type": "stream",
          "name": "stdout",
          "text": [
            "False\n",
            "True\n",
            "True\n"
          ]
        }
      ]
    },
    {
      "cell_type": "code",
      "source": [
        "fk = 76\n",
        "fk1 = 67\n",
        "fk2 = 60\n",
        "print(fk>fk1 and fk1>fk2)\n",
        "print(fk>fk1 or fk1>fk2)\n",
        "print(not(fk>fk1 and fk1>fk2))"
      ],
      "metadata": {
        "colab": {
          "base_uri": "https://localhost:8080/"
        },
        "id": "NUcM6BJa09k9",
        "outputId": "939ae5c1-ed9c-4521-8311-8ec1f8bcd537"
      },
      "execution_count": null,
      "outputs": [
        {
          "output_type": "stream",
          "name": "stdout",
          "text": [
            "True\n",
            "True\n",
            "False\n"
          ]
        }
      ]
    },
    {
      "cell_type": "code",
      "source": [
        "ls = 78\n",
        "ls1 = 68\n",
        "ls2 = 897\n",
        "print(ls<=ls1 and ls1<=ls2)\n",
        "print(ls<=ls1 or ls1<=ls2)\n",
        "print(not(ls<=ls1 or ls1<=ls2))"
      ],
      "metadata": {
        "colab": {
          "base_uri": "https://localhost:8080/"
        },
        "id": "-mOPk3yw09tY",
        "outputId": "df56cd72-63f2-43ab-b984-b241ceffd899"
      },
      "execution_count": null,
      "outputs": [
        {
          "output_type": "stream",
          "name": "stdout",
          "text": [
            "False\n",
            "True\n",
            "False\n"
          ]
        }
      ]
    },
    {
      "cell_type": "code",
      "source": [
        "kn = 87\n",
        "kn1 = 64\n",
        "kn2 = 67\n",
        "kn3 = 5789\n",
        "print((kn*kn1)>kn3 and (kn1*kn2)>kn3)\n",
        "print((kn*kn1)>kn3 or (kn1*kn2)>kn3)\n",
        "print(not((kn*kn1)>kn3 and (kn1*kn2)>kn3))"
      ],
      "metadata": {
        "colab": {
          "base_uri": "https://localhost:8080/"
        },
        "id": "IccOT_mH097F",
        "outputId": "b8850308-8deb-4a19-ee76-519d68515f52"
      },
      "execution_count": null,
      "outputs": [
        {
          "output_type": "stream",
          "name": "stdout",
          "text": [
            "False\n",
            "False\n",
            "True\n"
          ]
        }
      ]
    },
    {
      "cell_type": "code",
      "source": [
        "lm = 72\n",
        "lm1 = 680\n",
        "lm2 = 579\n",
        "print(lm>=lm1 and lm1>=lm2)\n",
        "print(lm>=lm1 or lm1>=lm2)\n",
        "print(not(lm>=lm1 or lm1>=lm2))"
      ],
      "metadata": {
        "colab": {
          "base_uri": "https://localhost:8080/"
        },
        "id": "1jXDi3br0-GJ",
        "outputId": "cd7d29ec-0ab0-4b12-c9ad-27dd5e7d3e90"
      },
      "execution_count": null,
      "outputs": [
        {
          "output_type": "stream",
          "name": "stdout",
          "text": [
            "False\n",
            "True\n",
            "False\n"
          ]
        }
      ]
    },
    {
      "cell_type": "code",
      "source": [
        "xn = 577\n",
        "xn1 = 637\n",
        "xn2 = 738\n",
        "xn3 = 1288\n",
        "print((xn+xn1)<=xn3 and (xn1+xn2)<=xn3)\n",
        "print((xn+xn1)<=xn3 or (xn1+xn2)<=xn3)\n",
        "print(not((xn+xn1)<=xn3 and (xn1+xn2)<=xn3))"
      ],
      "metadata": {
        "colab": {
          "base_uri": "https://localhost:8080/"
        },
        "id": "RsjVVgoN0-Qf",
        "outputId": "e7f0b808-caf6-4411-af11-0c7ed9f94e5f"
      },
      "execution_count": null,
      "outputs": [
        {
          "output_type": "stream",
          "name": "stdout",
          "text": [
            "False\n",
            "True\n",
            "True\n"
          ]
        }
      ]
    },
    {
      "cell_type": "markdown",
      "source": [
        "5) identity operator\n",
        "\n",
        "  - it is used to identify the values is present (or) not in operands\n",
        "  - they are 2 types\n",
        "    - 1) is\n",
        "      - if the operands are same it returns true\n",
        "    - 2) isnot\n",
        "      - if operands are not same it returns true\n",
        "  - examples are given below\n",
        "     "
      ],
      "metadata": {
        "id": "_8EMjqaNTH7W"
      }
    },
    {
      "cell_type": "code",
      "source": [
        "#examples of identity operator\n",
        "\n",
        "x = 10\n",
        "y = 20\n",
        "print(x is y)"
      ],
      "metadata": {
        "colab": {
          "base_uri": "https://localhost:8080/"
        },
        "id": "Efk7-C6DUUs3",
        "outputId": "13f42a22-931d-4eee-b0d7-1ac5b050cdd3"
      },
      "execution_count": null,
      "outputs": [
        {
          "output_type": "stream",
          "name": "stdout",
          "text": [
            "False\n"
          ]
        }
      ]
    },
    {
      "cell_type": "code",
      "source": [
        "a = 9349\n",
        "b = 9349\n",
        "c = a\n",
        "print(a is b)\n",
        "print(c is a)"
      ],
      "metadata": {
        "colab": {
          "base_uri": "https://localhost:8080/"
        },
        "id": "Qweqd3jAUoUE",
        "outputId": "427d37ff-5aa7-4c93-a04a-0842733a1ecd"
      },
      "execution_count": null,
      "outputs": [
        {
          "output_type": "stream",
          "name": "stdout",
          "text": [
            "True\n",
            "True\n"
          ]
        }
      ]
    },
    {
      "cell_type": "code",
      "source": [
        "sr = \" Lane\"\n",
        "sr1 = \" Lane\"\n",
        "print(sr is sr1)\n",
        "print(sr is not sr1)"
      ],
      "metadata": {
        "colab": {
          "base_uri": "https://localhost:8080/"
        },
        "id": "he4LidEgWAld",
        "outputId": "5717a4f2-b274-435f-c494-8863fc6b88b9"
      },
      "execution_count": null,
      "outputs": [
        {
          "output_type": "stream",
          "name": "stdout",
          "text": [
            "False\n",
            "True\n"
          ]
        }
      ]
    },
    {
      "cell_type": "code",
      "source": [
        "nm = \"python\"\n",
        "nm1 = \"python\"\n",
        "print(nm is nm1)\n",
        "print(nm is not nm1)"
      ],
      "metadata": {
        "colab": {
          "base_uri": "https://localhost:8080/"
        },
        "id": "BfU95-t3UwKN",
        "outputId": "18a6ba4e-6595-4405-f5da-15038151e1e2"
      },
      "execution_count": null,
      "outputs": [
        {
          "output_type": "stream",
          "name": "stdout",
          "text": [
            "True\n",
            "False\n"
          ]
        }
      ]
    },
    {
      "cell_type": "code",
      "source": [
        "i = \"space \"\n",
        "j = \"space\"\n",
        "print(i is j)\n",
        "print(i is not j)"
      ],
      "metadata": {
        "colab": {
          "base_uri": "https://localhost:8080/"
        },
        "id": "Mg77cN4iV_r9",
        "outputId": "4d9d8dac-ae76-4cd3-dab7-b3b8449ea61f"
      },
      "execution_count": null,
      "outputs": [
        {
          "output_type": "stream",
          "name": "stdout",
          "text": [
            "False\n",
            "True\n"
          ]
        }
      ]
    },
    {
      "cell_type": "code",
      "source": [
        "k = 88239\n",
        "l = \"jain\"\n",
        "print(k is l)\n",
        "print(k is not l)"
      ],
      "metadata": {
        "colab": {
          "base_uri": "https://localhost:8080/"
        },
        "id": "9Uopi7pEV_3W",
        "outputId": "13f7686b-28e5-44f4-8e59-03ed485f4366"
      },
      "execution_count": null,
      "outputs": [
        {
          "output_type": "stream",
          "name": "stdout",
          "text": [
            "False\n",
            "True\n"
          ]
        }
      ]
    },
    {
      "cell_type": "code",
      "source": [
        "u = 950\n",
        "t = 840.6\n",
        "print(u is t)\n",
        "print(u is not t)"
      ],
      "metadata": {
        "colab": {
          "base_uri": "https://localhost:8080/"
        },
        "id": "g2LkHB6_WADk",
        "outputId": "5e22c217-b25d-44ec-b85c-8fde3b6eaaf8"
      },
      "execution_count": null,
      "outputs": [
        {
          "output_type": "stream",
          "name": "stdout",
          "text": [
            "False\n",
            "True\n"
          ]
        }
      ]
    },
    {
      "cell_type": "code",
      "source": [
        "ln = \" hello\"\n",
        "ln1 = \" Hello\"\n",
        "print(ln is ln1)\n",
        "print(ln is not ln1)"
      ],
      "metadata": {
        "colab": {
          "base_uri": "https://localhost:8080/"
        },
        "id": "Hr4DHgXeWAOm",
        "outputId": "8bf04658-1cd8-478a-962d-55a5d1f36c5d"
      },
      "execution_count": null,
      "outputs": [
        {
          "output_type": "stream",
          "name": "stdout",
          "text": [
            "False\n",
            "True\n"
          ]
        }
      ]
    },
    {
      "cell_type": "code",
      "source": [
        "br = \"rare\"\n",
        "br1 = \"rabbit\"\n",
        "print(br is br1)\n",
        "print(br is not br1)"
      ],
      "metadata": {
        "colab": {
          "base_uri": "https://localhost:8080/"
        },
        "id": "8mTOasOAWAZ2",
        "outputId": "9f1288ed-d400-4292-81b4-13f6c7e21be3"
      },
      "execution_count": null,
      "outputs": [
        {
          "output_type": "stream",
          "name": "stdout",
          "text": [
            "False\n",
            "True\n"
          ]
        }
      ]
    },
    {
      "cell_type": "markdown",
      "source": [
        "6) membership operator\n",
        "\n",
        " - it is used to test weather the operand is in sequence or not\n",
        " - they are 2 types\n",
        "  - 1) in\n",
        "    - if the operand found in squence it returns true\n",
        "  - 2) not in\n",
        "    - if the operand not found in sequence it returns true\n",
        " - examples are given below"
      ],
      "metadata": {
        "id": "pVMHGmx5cJsn"
      }
    },
    {
      "cell_type": "code",
      "source": [
        "name = \"acadaemy\"\n",
        "print(\"a\" in name)\n",
        "print(\"A\" not in name)"
      ],
      "metadata": {
        "colab": {
          "base_uri": "https://localhost:8080/"
        },
        "id": "Uy2zQ2Vwcz47",
        "outputId": "9ed701ef-c191-4abc-d094-8ed9b9de07e8"
      },
      "execution_count": null,
      "outputs": [
        {
          "output_type": "stream",
          "name": "stdout",
          "text": [
            "True\n",
            "True\n"
          ]
        }
      ]
    },
    {
      "cell_type": "code",
      "source": [
        "a = [1,3,2,5]\n",
        "b = [10,75,98]\n",
        "print(1 in a)\n",
        "print(11 in b)\n",
        "print(3 not in a)\n",
        "print(85 not in b)"
      ],
      "metadata": {
        "colab": {
          "base_uri": "https://localhost:8080/"
        },
        "id": "q4RVRMD-c0a-",
        "outputId": "74015ff8-5e75-416e-98ef-7271e8719768"
      },
      "execution_count": null,
      "outputs": [
        {
          "output_type": "stream",
          "name": "stdout",
          "text": [
            "True\n",
            "False\n",
            "False\n",
            "True\n"
          ]
        }
      ]
    },
    {
      "cell_type": "code",
      "source": [
        "11"
      ],
      "metadata": {
        "id": "XDpytdotc0iq"
      },
      "execution_count": null,
      "outputs": []
    },
    {
      "cell_type": "code",
      "source": [
        "name = [\"ganesh\",32,43,\"python\"]\n",
        "print(\"ganesh\" in name)\n",
        "print(\"ganesh\" not in name)"
      ],
      "metadata": {
        "id": "fC4kTciLc0uz",
        "colab": {
          "base_uri": "https://localhost:8080/"
        },
        "outputId": "ca916202-2d02-40d8-be8f-f247afeeb7dc"
      },
      "execution_count": 6,
      "outputs": [
        {
          "output_type": "stream",
          "name": "stdout",
          "text": [
            "False\n",
            "False\n"
          ]
        }
      ]
    },
    {
      "cell_type": "code",
      "source": [
        "num = [3.24,444.42,23.231]\n",
        "print(3.24 in num)\n",
        "print(4 not in num)"
      ],
      "metadata": {
        "id": "ehsuj9CBc04Y",
        "colab": {
          "base_uri": "https://localhost:8080/"
        },
        "outputId": "fc78077c-7bde-471c-d307-d8da82148731"
      },
      "execution_count": 5,
      "outputs": [
        {
          "output_type": "stream",
          "name": "stdout",
          "text": [
            "True\n",
            "True\n"
          ]
        }
      ]
    },
    {
      "cell_type": "markdown",
      "source": [
        "7) bitwise operator\n",
        "\n",
        " - it is used to perform bitwise calculations on integers\n",
        " - the integers are converted into binary and perform on each bit by bit\n",
        " - they are 6 types of bitwise operator\n",
        "   - 1) &(AND)\n",
        "     -  if two values are satisfies it returns true,or if one expresssion is unsatisfies then it returns as false\n",
        "   - 2) |(OR)\n",
        "     -  either one value is satisfies then it returns as true\n",
        "   - 3) ^(XOR)\n",
        "     -  if both conditions are satisfy or both condition unsatifies it returns false\n",
        "     -  only one condition is to be satify then it returns true\n",
        "   - 4) ~(NOT)\n",
        "     -  it is reverse the binary numbers for example, 0 turns into 1 and 1 turns into 0\n",
        "     -  formulae is -(n+1)\n",
        "   - 5) <<(zero fill left shift)\n",
        "     -  we can specify the number of zeros can add in the left side\n",
        "   - 6) >>(signed right shift)\n",
        "     -  it can remove the number of places we can mention\n",
        " - examples are give below"
      ],
      "metadata": {
        "id": "ij7MCEI1NuEJ"
      }
    },
    {
      "cell_type": "code",
      "source": [
        "a = 100\n",
        "b = 30\n",
        "print(a&b)"
      ],
      "metadata": {
        "colab": {
          "base_uri": "https://localhost:8080/"
        },
        "id": "BPuxB9X7U42W",
        "outputId": "a592f325-6794-4a5d-96a1-6e47354fb5e3"
      },
      "execution_count": 8,
      "outputs": [
        {
          "output_type": "stream",
          "name": "stdout",
          "text": [
            "4\n"
          ]
        }
      ]
    },
    {
      "cell_type": "code",
      "source": [
        "i = 18\n",
        "j = 22\n",
        "print(i|j)"
      ],
      "metadata": {
        "colab": {
          "base_uri": "https://localhost:8080/"
        },
        "id": "Z2HHQT80VJhh",
        "outputId": "7e38d34b-602f-40f5-a7de-3d16dbd23b62"
      },
      "execution_count": 9,
      "outputs": [
        {
          "output_type": "stream",
          "name": "stdout",
          "text": [
            "22\n"
          ]
        }
      ]
    },
    {
      "cell_type": "code",
      "source": [
        "lm = 123\n",
        "lm1 = 999\n",
        "print(lm&lm1)"
      ],
      "metadata": {
        "colab": {
          "base_uri": "https://localhost:8080/"
        },
        "id": "yL1907I1VJqt",
        "outputId": "5a20c4f3-eab1-44bf-a333-cb780f93457d"
      },
      "execution_count": 10,
      "outputs": [
        {
          "output_type": "stream",
          "name": "stdout",
          "text": [
            "99\n"
          ]
        }
      ]
    },
    {
      "cell_type": "code",
      "source": [
        "x = 24\n",
        "y = 123\n",
        "z = 1000\n",
        "n = 710\n",
        "print(x|y)\n",
        "print(z|n)"
      ],
      "metadata": {
        "colab": {
          "base_uri": "https://localhost:8080/"
        },
        "id": "0eVjW3xDVJ1C",
        "outputId": "a06fc569-39c2-4a18-e9d4-80ded5754297"
      },
      "execution_count": 12,
      "outputs": [
        {
          "output_type": "stream",
          "name": "stdout",
          "text": [
            "123\n",
            "1006\n"
          ]
        }
      ]
    },
    {
      "cell_type": "code",
      "source": [
        "print(78&12)\n",
        "print(1024&1)\n",
        "print(2024&2023)\n",
        "print(2026&0)"
      ],
      "metadata": {
        "colab": {
          "base_uri": "https://localhost:8080/"
        },
        "id": "HKF_MHoJVJ_u",
        "outputId": "0dc84a8d-a8ce-4c61-9b7c-e2b468b471e8"
      },
      "execution_count": 13,
      "outputs": [
        {
          "output_type": "stream",
          "name": "stdout",
          "text": [
            "12\n",
            "0\n",
            "2016\n",
            "0\n"
          ]
        }
      ]
    },
    {
      "cell_type": "code",
      "source": [
        "print(78|12)\n",
        "print(1024|1)\n",
        "print(2024|2023)\n",
        "print(2026|0)"
      ],
      "metadata": {
        "colab": {
          "base_uri": "https://localhost:8080/"
        },
        "id": "cyWGEDXiVKKk",
        "outputId": "7ece26ad-9efd-499a-e2cf-b2b6700bdbd4"
      },
      "execution_count": 14,
      "outputs": [
        {
          "output_type": "stream",
          "name": "stdout",
          "text": [
            "78\n",
            "1025\n",
            "2031\n",
            "2026\n"
          ]
        }
      ]
    },
    {
      "cell_type": "code",
      "source": [
        "print(6^7)\n",
        "print(7^11)\n",
        "print(7^11)\n",
        "print(9^23)"
      ],
      "metadata": {
        "colab": {
          "base_uri": "https://localhost:8080/"
        },
        "id": "7u8YB5pfVKUV",
        "outputId": "ae7292fc-de3f-42de-c300-4eb6926638cd"
      },
      "execution_count": 16,
      "outputs": [
        {
          "output_type": "stream",
          "name": "stdout",
          "text": [
            "1\n",
            "12\n",
            "12\n",
            "30\n"
          ]
        }
      ]
    },
    {
      "cell_type": "code",
      "source": [
        "print(~3)\n",
        "print(~90)\n",
        "print(~2356)"
      ],
      "metadata": {
        "colab": {
          "base_uri": "https://localhost:8080/"
        },
        "id": "xbSII6s3VKeI",
        "outputId": "89114e55-df55-4980-fb08-c74e0e3a7ae5"
      },
      "execution_count": 17,
      "outputs": [
        {
          "output_type": "stream",
          "name": "stdout",
          "text": [
            "-4\n",
            "-91\n",
            "-2357\n"
          ]
        }
      ]
    },
    {
      "cell_type": "code",
      "source": [
        "print(9<<2)\n",
        "print(7<<3)\n",
        "print(27<<2)\n",
        "print(108<<1)\n"
      ],
      "metadata": {
        "colab": {
          "base_uri": "https://localhost:8080/"
        },
        "id": "NcS2Lb18VKph",
        "outputId": "8bb3bc5c-b8f7-4d09-f757-9224730887c3"
      },
      "execution_count": 19,
      "outputs": [
        {
          "output_type": "stream",
          "name": "stdout",
          "text": [
            "36\n",
            "56\n",
            "108\n",
            "216\n"
          ]
        }
      ]
    },
    {
      "cell_type": "code",
      "source": [
        "print(13>>2)\n",
        "print(578>>2)\n",
        "print(2024>>3)"
      ],
      "metadata": {
        "colab": {
          "base_uri": "https://localhost:8080/"
        },
        "id": "rWNjqQBNVK15",
        "outputId": "1c111379-42f1-4a5c-f905-701ee0cd2f4a"
      },
      "execution_count": 20,
      "outputs": [
        {
          "output_type": "stream",
          "name": "stdout",
          "text": [
            "3\n",
            "144\n",
            "253\n"
          ]
        }
      ]
    },
    {
      "cell_type": "markdown",
      "source": [
        "# 3)define precedence(bodmas)rule\n",
        "\n",
        "  - we can give the priority for the operators\n",
        "  - it can completely works on numerics\n",
        "   - 1) ()                        - paranthesis\n",
        "   - 2) **                        - exponential\n",
        "   - 3) +x,-x,~x                  - unary plus,unary minus and bitwise NOT\n",
        "   - 4) *,/,//,%                  - multiplication,division,floor division,modulus\n",
        "   - 5) +,-                       - addition and subtraction\n",
        "   - 6) <<,>>                     - left shift, right shift\n",
        "   - 7) &                         - bitwise AND\n",
        "   - 8) ^                         - bitwise XOR\n",
        "   - 9) |                         - bitwise OR\n",
        "   - 10) ==,!=,<,>,<=,>=,is,is not,in,not in - comparision,identity,membership operators\n",
        "   - 11) not                      - logical NOT\n",
        "   - 12) or                       - logical OR\n",
        "  - examples are given below"
      ],
      "metadata": {
        "id": "QiVqLVtaXj7v"
      }
    },
    {
      "cell_type": "code",
      "source": [
        "print(7+3*3)\n",
        "print(7+3**3+(7+3))\n",
        "print(8+3+6+33*7+(3**2))"
      ],
      "metadata": {
        "colab": {
          "base_uri": "https://localhost:8080/"
        },
        "id": "rg0Gja-XaVWY",
        "outputId": "574fb28f-34b9-43d2-fe4c-6e53028cd3b6"
      },
      "execution_count": 22,
      "outputs": [
        {
          "output_type": "stream",
          "name": "stdout",
          "text": [
            "16\n",
            "44\n",
            "257\n"
          ]
        }
      ]
    },
    {
      "cell_type": "code",
      "source": [
        "print(8+7%7**2)\n",
        "print(7%49)\n",
        "print(78+(35*2)+9)"
      ],
      "metadata": {
        "colab": {
          "base_uri": "https://localhost:8080/"
        },
        "id": "bmi_Q7j_aWEp",
        "outputId": "a481593f-f165-4e3c-eb74-f9c9022c74af"
      },
      "execution_count": 23,
      "outputs": [
        {
          "output_type": "stream",
          "name": "stdout",
          "text": [
            "15\n",
            "7\n",
            "157\n"
          ]
        }
      ]
    },
    {
      "cell_type": "code",
      "source": [
        "print(9**4&64<=7288)"
      ],
      "metadata": {
        "colab": {
          "base_uri": "https://localhost:8080/"
        },
        "id": "0C9niR9TaWLP",
        "outputId": "d85724c3-bdab-4741-8cda-63a1dbc1001c"
      },
      "execution_count": 24,
      "outputs": [
        {
          "output_type": "stream",
          "name": "stdout",
          "text": [
            "True\n"
          ]
        }
      ]
    },
    {
      "cell_type": "code",
      "source": [
        "print(5**5|169>4596)"
      ],
      "metadata": {
        "colab": {
          "base_uri": "https://localhost:8080/"
        },
        "id": "zhqYqEQ2aWTY",
        "outputId": "6f1b206b-254c-42c7-c415-946cc6838780"
      },
      "execution_count": 25,
      "outputs": [
        {
          "output_type": "stream",
          "name": "stdout",
          "text": [
            "False\n"
          ]
        }
      ]
    },
    {
      "cell_type": "code",
      "source": [
        "print(19**3<<3>=5124)"
      ],
      "metadata": {
        "colab": {
          "base_uri": "https://localhost:8080/"
        },
        "id": "_Y5ffUWOaWaC",
        "outputId": "abd800a5-e516-4e33-c260-1caca868ac86"
      },
      "execution_count": 26,
      "outputs": [
        {
          "output_type": "stream",
          "name": "stdout",
          "text": [
            "True\n"
          ]
        }
      ]
    },
    {
      "cell_type": "code",
      "source": [
        "a = 6\n",
        "b = 71\n",
        "print(a%b)\n",
        "print(a-(b*float(a/b)))"
      ],
      "metadata": {
        "colab": {
          "base_uri": "https://localhost:8080/"
        },
        "id": "e2qFp67qaWg2",
        "outputId": "084fb261-b4b1-4d43-e58c-ed62740efe02"
      },
      "execution_count": 32,
      "outputs": [
        {
          "output_type": "stream",
          "name": "stdout",
          "text": [
            "6\n",
            "0.0\n"
          ]
        }
      ]
    },
    {
      "cell_type": "code",
      "source": [
        "33-44/7<=2"
      ],
      "metadata": {
        "colab": {
          "base_uri": "https://localhost:8080/"
        },
        "id": "pOhrFnTmaWuE",
        "outputId": "7b5d9970-90a7-4544-8786-25e15173c969"
      },
      "execution_count": 34,
      "outputs": [
        {
          "output_type": "execute_result",
          "data": {
            "text/plain": [
              "False"
            ]
          },
          "metadata": {},
          "execution_count": 34
        }
      ]
    }
  ]
}