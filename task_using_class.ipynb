{
  "nbformat": 4,
  "nbformat_minor": 0,
  "metadata": {
    "colab": {
      "provenance": [],
      "gpuType": "T4"
    },
    "kernelspec": {
      "name": "python3",
      "display_name": "Python 3"
    },
    "language_info": {
      "name": "python"
    },
    "accelerator": "GPU"
  },
  "cells": [
    {
      "cell_type": "code",
      "execution_count": null,
      "metadata": {
        "colab": {
          "base_uri": "https://localhost:8080/"
        },
        "id": "5NksO2FSgAaB",
        "outputId": "3e839679-42a5-4c17-8f69-b4b2af8821e8"
      },
      "outputs": [
        {
          "output_type": "stream",
          "name": "stdout",
          "text": [
            "enter number2\n",
            "2 is prime number\n"
          ]
        }
      ],
      "source": [
        "#prime or not using function with class\n",
        "\n",
        "a = int(input(\"enter number\"))\n",
        "\n",
        "class numbers:\n",
        "  def __init__(self,a):\n",
        "    self.a = a\n",
        "  def prime(self):\n",
        "    if a%2==0:\n",
        "      print( f\"{self.a} is prime number\")\n",
        "    else:\n",
        "      print( f\"{self.a} is not a prime number\")\n",
        "\n",
        "object = numbers(a)\n",
        "object.prime()\n"
      ]
    },
    {
      "cell_type": "code",
      "source": [
        "# print stars by using class\n",
        "\n",
        "a = int(input(\"enter number \"))\n",
        "class stars:\n",
        "  def __init__(self,a):\n",
        "    self.a = a\n",
        "#for rows and columns we can create nested loops\n",
        "  def star(self):\n",
        "   for i in range(a):\n",
        "    for j in range(a-i):\n",
        "      print(\"*\" ,end = \" \")\n",
        "    print(\"\") #for next line\n",
        "\n",
        "object = stars(a)\n",
        "object.star()"
      ],
      "metadata": {
        "colab": {
          "base_uri": "https://localhost:8080/"
        },
        "id": "wJhQm31njf5F",
        "outputId": "c657e878-486c-4eb4-9980-9215b5112e2e"
      },
      "execution_count": null,
      "outputs": [
        {
          "output_type": "stream",
          "name": "stdout",
          "text": [
            "enter number 5\n",
            "* * * * * \n",
            "* * * * \n",
            "* * * \n",
            "* * \n",
            "* \n"
          ]
        }
      ]
    },
    {
      "cell_type": "code",
      "source": [
        "#covert celcius into fahrenheit by using class\n",
        "\n",
        "cel = float(input(\"enter celcius tempetarure\"))\n",
        "fah =  cel*9/5+32 #formulae\n",
        "\n",
        "class temp:\n",
        " def __init__(self,cel,fah):\n",
        "   self.cel = cel\n",
        "   self.fah = fah\n",
        " def __str__(self):\n",
        "  return f\"{self.cel} celcius temperatue is equal to {self.fah} fahrenheit temperature\"\n",
        "\n",
        "object = temp(cel,fah)\n",
        "print(object)"
      ],
      "metadata": {
        "colab": {
          "base_uri": "https://localhost:8080/"
        },
        "id": "QsuvCYZulZ3V",
        "outputId": "bda5394a-2dfa-4bea-81b3-f88015446e01"
      },
      "execution_count": null,
      "outputs": [
        {
          "output_type": "stream",
          "name": "stdout",
          "text": [
            "enter celcius tempetarure34\n",
            "34.0 celcius temperatue is equal to 93.2 fahrenheit temperature\n"
          ]
        }
      ]
    },
    {
      "cell_type": "code",
      "source": [
        "#calculate simple intrest by using class\n",
        "\n",
        "p = int(input(\"enter principle amount \"))\n",
        "n = int(input(\"enter no of months \"))\n",
        "r = int(input(\"enter rate of intrest\"))\n",
        "simple_intrest = (p*n*r)/100\n",
        "compound_intrest = (1+r/100)**n-1\n",
        "class simple:\n",
        "  def __init__(self,p,n,r,simple_intrest,compund_intrest):\n",
        "    self.p = p\n",
        "    self.n = n\n",
        "    self.r = r\n",
        "    self.simple_intrest = simple_intrest\n",
        "    self.compound_intrest = compound_intrest\n",
        "  def intrest(self):\n",
        "    print(f\"principle amount is {self.p} for {self.n} months and rate of intrest is {self.r} ,simple intrest is {self.simple_intrest} and compound intrest is {self.compound_intrest}\")\n",
        "\n",
        "object = simple(p,n,r,simple_intrest,compound_intrest)\n",
        "object.intrest()"
      ],
      "metadata": {
        "colab": {
          "base_uri": "https://localhost:8080/"
        },
        "id": "zjEBxKEXn-nN",
        "outputId": "d531cc4d-f66e-4cdd-ae40-bf69e039d872"
      },
      "execution_count": null,
      "outputs": [
        {
          "output_type": "stream",
          "name": "stdout",
          "text": [
            "enter principle amount 1200000\n",
            "enter no of months 12\n",
            "enter rate of intrest10\n",
            "principle amount is 1200000for 12 months and rate of intrest is 10 ,simple intrest is 1440000.0 and compound intrest is 2.138428376721003\n"
          ]
        }
      ]
    },
    {
      "cell_type": "code",
      "source": [
        "#convert integer into decimals by using function in class\n",
        "\n",
        "a = int(input(\"enter a number \"))\n",
        "\n",
        "class number:\n",
        "  def __init__(self,a):\n",
        "    self.a = a\n",
        "  def __str__(self):\n",
        "    return f\"{self.a} integer converted into {float(self.a)} decimal\"\n",
        "\n",
        "object = number(a)\n",
        "print(object)"
      ],
      "metadata": {
        "colab": {
          "base_uri": "https://localhost:8080/"
        },
        "id": "-ukdZGqir986",
        "outputId": "c56e0528-3b0d-4545-ef3c-d3973c9c15e4"
      },
      "execution_count": null,
      "outputs": [
        {
          "output_type": "stream",
          "name": "stdout",
          "text": [
            "enter a number 2344\n",
            "2344 integer converted into 2344.0 decimal\n"
          ]
        }
      ]
    },
    {
      "cell_type": "code",
      "source": [
        "#given string is armstrong or not by using class\n",
        "\n",
        "num = int(input(\"Enter a number \"))\n",
        "\n",
        "class armstrong:\n",
        "  def __init__(self,num,sum,temp):\n",
        "    self.num = num\n",
        "    self.sum = sum\n",
        "    self.temp = temp\n",
        "  def __str__(self):\n",
        "    #initialize the sum\n",
        "    sum = 0\n",
        "    temp = num\n",
        "    while temp > 0:\n",
        "     digit = temp % 10\n",
        "     sum = sum+digit ** 3\n",
        "     temp //= 10\n",
        "     if num == sum:\n",
        "      return f\"{num} is an armstrong number\"\n",
        "     else:\n",
        "      return f\"{num} is not an armstrong number\"\n",
        "\n",
        "object = armstrong(num,sum,temp)\n",
        "print(object)"
      ],
      "metadata": {
        "id": "2cFfehiGtb6y",
        "colab": {
          "base_uri": "https://localhost:8080/"
        },
        "outputId": "4cfd140f-f468-4770-ba3e-d2412b0d97da"
      },
      "execution_count": 23,
      "outputs": [
        {
          "output_type": "stream",
          "name": "stdout",
          "text": [
            "Enter a number 1234\n",
            "1234 is not an armstrong number\n"
          ]
        }
      ]
    },
    {
      "cell_type": "code",
      "source": [
        "#find non_repeting first occurance character in a string by using class\n",
        "\n",
        "str=input(\"enter character \")\n",
        "\n",
        "class string:\n",
        "  def __init__(self,str):\n",
        "    self.str = str\n",
        "  def __str__(self):\n",
        "     for i in str:\n",
        "      if str.count(i)==1:\n",
        "       return f'{i} is the first non-repeating of the string'\n",
        "       break;\n",
        "      else:\n",
        "       return f'There are no first non-repeating string'\n",
        "\n",
        "object = string(str)\n",
        "print(object)"
      ],
      "metadata": {
        "id": "bnaM6VdYytIP",
        "colab": {
          "base_uri": "https://localhost:8080/"
        },
        "outputId": "f8d23a64-61c0-4fe2-879b-430d9a7e42ea"
      },
      "execution_count": null,
      "outputs": [
        {
          "output_type": "stream",
          "name": "stdout",
          "text": [
            "enter character mmmm\n",
            "There are no first non-repeating string\n"
          ]
        }
      ]
    },
    {
      "cell_type": "code",
      "source": [
        "#python code of greatest common divisor by using class\n",
        "\n",
        "num1 = int(input(\"enter number \"))\n",
        "num2 = int(input(\"enter number \"))\n",
        "\n",
        "rem = num1\n",
        "\n",
        "class gcd:\n",
        "  def __init__(self,num1,num2,rem):\n",
        "    self.num1 = num1\n",
        "    self.num2 = num2\n",
        "    self.rem = rem\n",
        "  def __str__(self):\n",
        "    while self.rem!= 0:\n",
        "     self.rem = self.num1%self.num2\n",
        "     self.num1 = self.num2\n",
        "     self.num2 = self.rem\n",
        "    return f\"hcf of {num1} and {num2} is {self.num1}\"\n",
        "\n",
        "object = gcd(num1,num2,rem)\n",
        "print(object)"
      ],
      "metadata": {
        "id": "2QpeaHqZy6cs",
        "colab": {
          "base_uri": "https://localhost:8080/"
        },
        "outputId": "f91431fd-6815-4cf1-ec4e-d6049868361b"
      },
      "execution_count": null,
      "outputs": [
        {
          "output_type": "stream",
          "name": "stdout",
          "text": [
            "enter number 12\n",
            "enter number 8\n",
            "hcf of 12 and 8 is 4\n"
          ]
        }
      ]
    },
    {
      "cell_type": "code",
      "source": [
        "#remove duplicate from the list by using class\n",
        "\n",
        "a = int(input(\"enter number \"))\n",
        "list = []\n",
        "\n",
        "class duplicate:\n",
        " def __init__(self,a):\n",
        "  self.a = a\n",
        " def value(self):\n",
        "  for i in range(a):\n",
        "   x = int(input())\n",
        "   list.append(x)\n",
        "  print(list)\n",
        "  non_duplicate_value = set(list)\n",
        "  print(non_duplicate_value)\n",
        "\n",
        "object = duplicate(a)\n",
        "object.value()"
      ],
      "metadata": {
        "colab": {
          "base_uri": "https://localhost:8080/"
        },
        "id": "0VR7IViVzO-5",
        "outputId": "003f6bcd-87ab-4286-815d-df35640e82cc"
      },
      "execution_count": null,
      "outputs": [
        {
          "output_type": "stream",
          "name": "stdout",
          "text": [
            "enter number 5\n",
            "45\n",
            "45\n",
            "18\n",
            "10\n",
            "10\n",
            "[45, 45, 18, 10, 10]\n",
            "{18, 10, 45}\n"
          ]
        }
      ]
    },
    {
      "cell_type": "code",
      "source": [
        "#replace the string space with a given character\n",
        "\n",
        "str = input(\"enter character \")\n",
        "char = input(\"enter character \")\n",
        "\n",
        "class string:\n",
        "  def __init__(self,str,char):\n",
        "    self.str = str\n",
        "    self.char = char\n",
        "  def __str__(self):\n",
        "    self.replace = str.replace(\" \",self.char)\n",
        "    return f\"string spaces replaced with {self.char}\"\n",
        "  def final(self):\n",
        "    print(self.replace)\n",
        "\n",
        "object = string(str,char)\n",
        "print(object)\n",
        "object.final()"
      ],
      "metadata": {
        "id": "WPPgOCBHzTby",
        "colab": {
          "base_uri": "https://localhost:8080/"
        },
        "outputId": "4b8a2f51-e983-4c59-c32a-7b9278ea87f9"
      },
      "execution_count": null,
      "outputs": [
        {
          "output_type": "stream",
          "name": "stdout",
          "text": [
            "enter character i am manikanta and i am from vzm\n",
            "enter character @@\n",
            "string spaces replaced with @@\n",
            "i@@am@@manikanta@@and@@i@@am@@from@@vzm\n"
          ]
        }
      ]
    },
    {
      "cell_type": "code",
      "source": [
        "#swap two numbers with =out using any 3rd variable in class\n",
        "\n",
        "a = input(\"enter a number \")\n",
        "b = input(\"enter a number \")\n",
        "\n",
        "class swap:\n",
        "  def __init__(self,a,b):\n",
        "    self.a = a\n",
        "    self.b = b\n",
        "    a,b = b,a\n",
        "  def __str__(self):\n",
        "    return f\"values before swapping a = {self.a} and b = {self.b}\"\n",
        "  def swapp(self):\n",
        "    print(f\"values after swapping a = {self.b} and b = {self.a}\")\n",
        "\n",
        "details = swap(a,b)\n",
        "print(details)\n",
        "details.swapp()"
      ],
      "metadata": {
        "id": "bCN967B3haBr",
        "colab": {
          "base_uri": "https://localhost:8080/"
        },
        "outputId": "9d4bc70d-fb28-44fd-bc83-271811885f6c"
      },
      "execution_count": null,
      "outputs": [
        {
          "output_type": "stream",
          "name": "stdout",
          "text": [
            "enter a number 45\n",
            "enter a number 18\n",
            "values before swapping a = 45 and b = 18\n",
            "values after swapping a = 18 and b = 45\n"
          ]
        }
      ]
    },
    {
      "cell_type": "code",
      "source": [
        "#add two integers without using any arthematic operators\n",
        "\n",
        "num1 = int(input(\"enter number \"))\n",
        "num2 = int(input(\"enter number \"))\n",
        "list = []\n",
        "\n",
        "class oper:\n",
        "  def __init__(self,num1,num2):\n",
        "    self.num1 = num1\n",
        "    self.num2 = num2\n",
        "  def __str__(self):\n",
        "    for i in range(self.num1):\n",
        "     list.append(1)\n",
        "    for i in range(self.num2):\n",
        "     list.append(1)\n",
        "    return f\"sum = {len(list)}\"\n",
        "\n",
        "object = oper(num1,num2)\n",
        "print(object)"
      ],
      "metadata": {
        "id": "T2Eko7S7zZ6m",
        "colab": {
          "base_uri": "https://localhost:8080/"
        },
        "outputId": "09d4ac1b-61d7-4ff3-8c81-31477941d9d3"
      },
      "execution_count": null,
      "outputs": [
        {
          "output_type": "stream",
          "name": "stdout",
          "text": [
            "enter number 1\n",
            "enter number 1\n",
            "sum = 2\n"
          ]
        }
      ]
    }
  ]
}