{
  "nbformat": 4,
  "nbformat_minor": 0,
  "metadata": {
    "colab": {
      "provenance": []
    },
    "kernelspec": {
      "name": "python3",
      "display_name": "Python 3"
    },
    "language_info": {
      "name": "python"
    }
  },
  "cells": [
    {
      "cell_type": "code",
      "source": [
        "#task\n",
        "#1) explain about dictionary with examples\n",
        "#2) accessing the elements with dictionary\n",
        "#3) modify the elements with dictionary\n",
        "#4) explain methods"
      ],
      "metadata": {
        "id": "66yGh9SYs0Kj"
      },
      "execution_count": null,
      "outputs": []
    },
    {
      "cell_type": "markdown",
      "source": [
        "#1) explain about dictionary with examples\n",
        "\n",
        "- dictionary in a data structure and the values can be stored in key and value pairs\n",
        "- it is also known as associative arrays or hash map\n",
        "- it is defined by using {} and key and values are seperated by \" : \"\n",
        "- syntax-> {key:value,key:value,.........}"
      ],
      "metadata": {
        "id": "hTc4QoKbNGdv"
      }
    },
    {
      "cell_type": "code",
      "execution_count": null,
      "metadata": {
        "id": "c2iwBeWXMsDs"
      },
      "outputs": [],
      "source": [
        "#empty dictionary\n",
        "\n",
        "empty_dict = {}\n",
        "#dictionary with key value pairs\n",
        "dict = {\"name\":\"mani\",\"age\":24}\n",
        "print(dict)"
      ]
    },
    {
      "cell_type": "code",
      "source": [
        "#dictionary with mixed datatypes\n",
        "\n",
        "mixed_data = {\"name\":\"mani\",\n",
        "              \"age\":24,\n",
        "              \"marks\":[86,83,65]\n",
        "              }\n",
        "print(mixed_data)"
      ],
      "metadata": {
        "colab": {
          "base_uri": "https://localhost:8080/"
        },
        "id": "ZAWgQ99NOEIR",
        "outputId": "1e1442d7-42f6-42db-edac-29b4426f4e01"
      },
      "execution_count": 2,
      "outputs": [
        {
          "output_type": "stream",
          "name": "stdout",
          "text": [
            "{'name': 'mani', 'age': 24, 'marks': [86, 83, 65]}\n"
          ]
        }
      ]
    },
    {
      "cell_type": "code",
      "source": [
        "data = {\"kiran_age\": 30,\"hari_age\": 25,\"ganesh_age\": 35}\n",
        "print(data)\n",
        "print(type(data))"
      ],
      "metadata": {
        "colab": {
          "base_uri": "https://localhost:8080/"
        },
        "id": "29CDHmCApZGf",
        "outputId": "47597505-41f6-4219-d1f4-4f0c09d89202"
      },
      "execution_count": 29,
      "outputs": [
        {
          "output_type": "stream",
          "name": "stdout",
          "text": [
            "{'kiran_age': 30, 'hari_age': 25, 'ganesh_age': 35}\n",
            "<class 'dict'>\n"
          ]
        }
      ]
    },
    {
      "cell_type": "code",
      "source": [
        "student_details = {\"name\": \"mani\" , \"age\": 24, \"course\": \"data science\",\"acadamey\":\"teks academy\"}\n",
        "print(student_details)\n",
        "print(type(student_details))"
      ],
      "metadata": {
        "colab": {
          "base_uri": "https://localhost:8080/"
        },
        "id": "lXqIiTLppdAN",
        "outputId": "5a200174-c078-4090-cf12-9e3524e31b50"
      },
      "execution_count": 31,
      "outputs": [
        {
          "output_type": "stream",
          "name": "stdout",
          "text": [
            "{'name': 'mani', 'age': 24, 'course': 'data science', 'acadamey': 'teks academy'}\n",
            "<class 'dict'>\n"
          ]
        }
      ]
    },
    {
      "cell_type": "code",
      "source": [
        "movie = {\"title\": \"pushpa\",\"hero\": \"allu arjun\",\"role\":\"smuggling\"}\n",
        "print(movie)\n",
        "print(type(movie))"
      ],
      "metadata": {
        "colab": {
          "base_uri": "https://localhost:8080/"
        },
        "id": "vNuQRPyqph6_",
        "outputId": "ffe38e51-3628-426f-be7e-88e04a0832b8"
      },
      "execution_count": 30,
      "outputs": [
        {
          "output_type": "stream",
          "name": "stdout",
          "text": [
            "{'title': 'pushpa', 'hero': 'allu arjun', 'role': 'smuggling'}\n",
            "<class 'dict'>\n"
          ]
        }
      ]
    },
    {
      "cell_type": "code",
      "source": [
        "student_details = { 'ganesh': '10th class', 'anusha': '9th class','kiran': '4th class'}\n",
        "print(student_details)\n",
        "print(type(student_details))"
      ],
      "metadata": {
        "colab": {
          "base_uri": "https://localhost:8080/"
        },
        "id": "I4H1xbS6pl7h",
        "outputId": "9f5d99a9-5cba-4f12-a812-4a906a3a3e85"
      },
      "execution_count": 32,
      "outputs": [
        {
          "output_type": "stream",
          "name": "stdout",
          "text": [
            "{'ganesh': '10th class', 'anusha': '9th class', 'kiran': '4th class'}\n",
            "<class 'dict'>\n"
          ]
        }
      ]
    },
    {
      "cell_type": "markdown",
      "source": [
        "#2) accessing the elements with dictionary\n"
      ],
      "metadata": {
        "id": "l-8Or-BvOo-0"
      }
    },
    {
      "cell_type": "code",
      "source": [
        "mixed_data = {\"name\":\"mani\",\n",
        "              \"age\":24,\n",
        "              \"marks\":[86,83,65]\n",
        "              }\n",
        "print(mixed_data[\"name\"])\n",
        "print(mixed_data[\"age\"])\n",
        "print(mixed_data[\"marks\"])"
      ],
      "metadata": {
        "colab": {
          "base_uri": "https://localhost:8080/"
        },
        "id": "gqVyyn4cOnMH",
        "outputId": "a2f02c2f-192f-4b55-a3a7-5832292e8612"
      },
      "execution_count": 3,
      "outputs": [
        {
          "output_type": "stream",
          "name": "stdout",
          "text": [
            "mani\n",
            "24\n",
            "[86, 83, 65]\n"
          ]
        }
      ]
    },
    {
      "cell_type": "code",
      "source": [
        "dict = {\"name\":\"manikanta\",\"age\":24,\"location\":\"hyd\"}\n",
        "print(dict[\"age\"])"
      ],
      "metadata": {
        "colab": {
          "base_uri": "https://localhost:8080/"
        },
        "id": "xaNSOSkZp1vE",
        "outputId": "298307f3-ec95-42f7-dc66-2a044212e2e0"
      },
      "execution_count": 37,
      "outputs": [
        {
          "output_type": "stream",
          "name": "stdout",
          "text": [
            "24\n"
          ]
        }
      ]
    },
    {
      "cell_type": "code",
      "source": [
        "mixed_data = {\"name\":\"manikanta\",\n",
        "              \"age\":24,\n",
        "              \"marks\":[85,95,93]}\n",
        "print(mixed_data[\"marks\"])"
      ],
      "metadata": {
        "colab": {
          "base_uri": "https://localhost:8080/"
        },
        "id": "bo4MCdLBp4H3",
        "outputId": "78963d87-1d43-4131-ab28-68fef3063471"
      },
      "execution_count": 36,
      "outputs": [
        {
          "output_type": "stream",
          "name": "stdout",
          "text": [
            "[85, 95, 93]\n"
          ]
        }
      ]
    },
    {
      "cell_type": "code",
      "source": [
        "data = {\"kiran_age\": 30,\"hari_age\": 25,\"ganesh_age\": 35}\n",
        "print(data[\"kiran_age\"])"
      ],
      "metadata": {
        "colab": {
          "base_uri": "https://localhost:8080/"
        },
        "id": "GDPDjas3p47Z",
        "outputId": "7504d07a-7ee9-44e2-c628-7260e6d9479e"
      },
      "execution_count": 35,
      "outputs": [
        {
          "output_type": "stream",
          "name": "stdout",
          "text": [
            "30\n"
          ]
        }
      ]
    },
    {
      "cell_type": "code",
      "source": [
        "student_details = {\"name\": \"mani\" , \"age\": 24, \"course\": \"data science\",\"acadamey\":\"teks academy\"}\n",
        "print(student_details[\"course\"])"
      ],
      "metadata": {
        "colab": {
          "base_uri": "https://localhost:8080/"
        },
        "id": "hQ_ckXL3p-Bw",
        "outputId": "202e12d9-282e-4749-ce45-00feac63e646"
      },
      "execution_count": 34,
      "outputs": [
        {
          "output_type": "stream",
          "name": "stdout",
          "text": [
            "data science\n"
          ]
        }
      ]
    },
    {
      "cell_type": "code",
      "source": [
        "movie = {\"title\": \"pushpa\",\"hero\": \"allu arjun\",\"role\":\"smuggling\"}\n",
        "print(movie[\"hero\"])"
      ],
      "metadata": {
        "colab": {
          "base_uri": "https://localhost:8080/"
        },
        "id": "hZuEpmB5p_nf",
        "outputId": "26de9fde-11e4-4557-9b68-2aa8a7178d1a"
      },
      "execution_count": 33,
      "outputs": [
        {
          "output_type": "stream",
          "name": "stdout",
          "text": [
            "allu arjun\n"
          ]
        }
      ]
    },
    {
      "cell_type": "markdown",
      "source": [
        "#3)modify the elements with dictionary"
      ],
      "metadata": {
        "id": "WLOTxfEgqF2l"
      }
    },
    {
      "cell_type": "code",
      "source": [
        "movie = {\"title\": \"pushpa\",\"hero\": \"allu arjun\",\"role\":\"smuggling\"}\n",
        "movie[\"role\"] = \"bussiness man\"\n",
        "print(movie)"
      ],
      "metadata": {
        "colab": {
          "base_uri": "https://localhost:8080/"
        },
        "id": "hH-bh4p9qJXb",
        "outputId": "77ff3599-2297-4a47-bb29-ccc91ceb9f2e"
      },
      "execution_count": 39,
      "outputs": [
        {
          "output_type": "stream",
          "name": "stdout",
          "text": [
            "{'title': 'pushpa', 'hero': 'allu arjun', 'role': 'bussiness man'}\n"
          ]
        }
      ]
    },
    {
      "cell_type": "code",
      "source": [
        "student_details = {\"name\": \"mani\" , \"age\": 24, \"course\": \"data science\",\"acadamey\":\"teks academy\"}\n",
        "student_details[\"course\"] = \"data analyst\"\n",
        "print(student_details)"
      ],
      "metadata": {
        "colab": {
          "base_uri": "https://localhost:8080/"
        },
        "id": "GEkGpct0qRCt",
        "outputId": "5789fd70-d01a-4824-d9ea-afefd7ba722b"
      },
      "execution_count": 40,
      "outputs": [
        {
          "output_type": "stream",
          "name": "stdout",
          "text": [
            "{'name': 'mani', 'age': 24, 'course': 'data analyst', 'acadamey': 'teks academy'}\n"
          ]
        }
      ]
    },
    {
      "cell_type": "code",
      "source": [
        "data = {\"kiran_age\": 30,\"hari_age\": 25,\"ganesh_age\": 35}\n",
        "data[\"kiran_age\"] = 24\n",
        "print(data)"
      ],
      "metadata": {
        "colab": {
          "base_uri": "https://localhost:8080/"
        },
        "id": "5rpcdc2ZrIxJ",
        "outputId": "b349064b-dfb7-4b8c-b8dc-c883fc5b3452"
      },
      "execution_count": 41,
      "outputs": [
        {
          "output_type": "stream",
          "name": "stdout",
          "text": [
            "{'kiran_age': 24, 'hari_age': 25, 'ganesh_age': 35}\n"
          ]
        }
      ]
    },
    {
      "cell_type": "code",
      "source": [
        "mixed_data = {\"name\":\"mani\",\n",
        "              \"age\":24,\n",
        "              \"marks\":[86,83,65]\n",
        "              }\n",
        "mixed_data[\"marks\"] = [95,90,45,65,97,87]\n",
        "print(mixed_data)"
      ],
      "metadata": {
        "colab": {
          "base_uri": "https://localhost:8080/"
        },
        "id": "KAHEsFJrrT7C",
        "outputId": "0f7cba67-4c82-4a49-8109-354cb71b4cb3"
      },
      "execution_count": 42,
      "outputs": [
        {
          "output_type": "stream",
          "name": "stdout",
          "text": [
            "{'name': 'mani', 'age': 24, 'marks': [95, 90, 45, 65, 97, 87]}\n"
          ]
        }
      ]
    },
    {
      "cell_type": "code",
      "source": [
        "student_details = { 'ganesh': '10th class', 'anusha': '9th class','kiran': '4th class'}\n",
        "student_details[\"ganesh\"] = \"9th class\"\n",
        "print(student_details)"
      ],
      "metadata": {
        "colab": {
          "base_uri": "https://localhost:8080/"
        },
        "id": "7fIC7B-Trr0f",
        "outputId": "9a22a926-3d22-4915-f88c-be051133eb67"
      },
      "execution_count": 43,
      "outputs": [
        {
          "output_type": "stream",
          "name": "stdout",
          "text": [
            "{'ganesh': '9th class', 'anusha': '9th class', 'kiran': '4th class'}\n"
          ]
        }
      ]
    },
    {
      "cell_type": "markdown",
      "source": [
        "#4)explain methods():\n",
        "\n"
      ],
      "metadata": {
        "id": "KEPuB0JwSyap"
      }
    },
    {
      "cell_type": "markdown",
      "source": [
        "1)get():\n",
        "\n",
        "- if key is presented in mentioned variable it returns specified value , if not it returns default key else there is no default key it returns none value"
      ],
      "metadata": {
        "id": "XTBdtOZ3tPe3"
      }
    },
    {
      "cell_type": "code",
      "source": [
        "student = {\"name\":\"manikanta\",\"grade\":\"A\"}\n",
        "g = student.get(\"grade\",\"nograde\")\n",
        "gender = student.get(\"gender\",\"not specified\")\n",
        "h = student.get(\"location\")\n",
        "print(g)\n",
        "print(gender)\n",
        "print(h)"
      ],
      "metadata": {
        "colab": {
          "base_uri": "https://localhost:8080/"
        },
        "id": "CBMKejD3Suc3",
        "outputId": "0bd8aaa4-adf4-45cb-ea72-700da35f2a1a"
      },
      "execution_count": 4,
      "outputs": [
        {
          "output_type": "stream",
          "name": "stdout",
          "text": [
            "A\n",
            "not specified\n",
            "None\n"
          ]
        }
      ]
    },
    {
      "cell_type": "markdown",
      "source": [
        "2)keys():\n",
        "\n",
        "- it returns all keys in the dictionary"
      ],
      "metadata": {
        "id": "slBBco_EZjet"
      }
    },
    {
      "cell_type": "markdown",
      "source": [
        "modify the data:"
      ],
      "metadata": {
        "id": "CfiQKmh0PCPr"
      }
    },
    {
      "cell_type": "code",
      "source": [
        "student = {\"name\":\"manikanta\",\"age\":24}\n",
        "print(student.keys())"
      ],
      "metadata": {
        "colab": {
          "base_uri": "https://localhost:8080/"
        },
        "id": "oLGGW_3PPH5C",
        "outputId": "378a2179-e913-4a28-8241-c27dd981cd81"
      },
      "execution_count": 9,
      "outputs": [
        {
          "output_type": "stream",
          "name": "stdout",
          "text": [
            "dict_keys(['name', 'age'])\n"
          ]
        }
      ]
    },
    {
      "cell_type": "markdown",
      "source": [
        "3)values():\n",
        "\n",
        "- it returns values of the dictionary"
      ],
      "metadata": {
        "id": "REusZS0WaLeH"
      }
    },
    {
      "cell_type": "code",
      "source": [
        "student = {\"name\":\"manikanta\",\"age\":24}\n",
        "print(student.values())"
      ],
      "metadata": {
        "colab": {
          "base_uri": "https://localhost:8080/"
        },
        "id": "Zljzi5G9aR3q",
        "outputId": "30c7cd53-6bec-4857-fb85-650148e3ee65"
      },
      "execution_count": 10,
      "outputs": [
        {
          "output_type": "stream",
          "name": "stdout",
          "text": [
            "dict_values(['manikanta', 24])\n"
          ]
        }
      ]
    },
    {
      "cell_type": "markdown",
      "source": [
        "4)items():\n",
        "\n",
        "- it returns key and value pairs in tuple"
      ],
      "metadata": {
        "id": "6SD39MUcaYEt"
      }
    },
    {
      "cell_type": "code",
      "source": [
        "student = {\"name\":\"manikanta\",\"age\":24}\n",
        "print(student.items())"
      ],
      "metadata": {
        "colab": {
          "base_uri": "https://localhost:8080/"
        },
        "id": "HdTU5XDkaiqx",
        "outputId": "37c6faea-5c26-4f55-9ea0-9797f1e51388"
      },
      "execution_count": 11,
      "outputs": [
        {
          "output_type": "stream",
          "name": "stdout",
          "text": [
            "dict_items([('name', 'manikanta'), ('age', 24)])\n"
          ]
        }
      ]
    },
    {
      "cell_type": "markdown",
      "source": [
        "5)pop():\n",
        "\n",
        "- it removes the value of specified key and returns remaining key and values"
      ],
      "metadata": {
        "id": "n83wA20MaoZS"
      }
    },
    {
      "cell_type": "code",
      "source": [
        "student = {\"name\":\"manikanta\",\"age\":24}\n",
        "print(student.pop(\"name\"))\n",
        "print(student)"
      ],
      "metadata": {
        "colab": {
          "base_uri": "https://localhost:8080/"
        },
        "id": "c1vGO8P-a2b7",
        "outputId": "8c554ad9-49f1-4a11-f810-477a53c02094"
      },
      "execution_count": 13,
      "outputs": [
        {
          "output_type": "stream",
          "name": "stdout",
          "text": [
            "manikanta\n",
            "{'age': 24}\n"
          ]
        }
      ]
    },
    {
      "cell_type": "markdown",
      "source": [
        "6)popitem():\n",
        "\n",
        "- it returns last key value pair as tuple"
      ],
      "metadata": {
        "id": "b4zASDUdboaL"
      }
    },
    {
      "cell_type": "code",
      "source": [
        "student = {\"name\":\"manikanta\",\"age\":24,\"name\":\"manikanta\",\"age\":24}\n",
        "print(student.popitem())"
      ],
      "metadata": {
        "colab": {
          "base_uri": "https://localhost:8080/"
        },
        "id": "AKyg2tiJb2FP",
        "outputId": "20752c20-8e45-4faf-9649-03dc27e4b397"
      },
      "execution_count": 18,
      "outputs": [
        {
          "output_type": "stream",
          "name": "stdout",
          "text": [
            "('age', 24)\n"
          ]
        }
      ]
    },
    {
      "cell_type": "markdown",
      "source": [
        "7)update():\n",
        "\n",
        "- it updates the new key value pair to the existing dictionary it means add the new values into the dictionary\n",
        "- we can update the new values to the specified key in existing dictionary"
      ],
      "metadata": {
        "id": "JapfvtFHcQX6"
      }
    },
    {
      "cell_type": "code",
      "source": [
        "student = {\"name\":\"manikanta\",\"age\":24,\"location\":\"chennai\"}\n",
        "student1 = {\"location\":\"hyd\",\"area\":\"madhapur\"}\n",
        "student.update(student1)\n",
        "print(student)"
      ],
      "metadata": {
        "colab": {
          "base_uri": "https://localhost:8080/"
        },
        "id": "aTuBTgk_kfrC",
        "outputId": "26d2ab37-f943-4b96-929f-d2c431ddca17"
      },
      "execution_count": 28,
      "outputs": [
        {
          "output_type": "stream",
          "name": "stdout",
          "text": [
            "{'name': 'manikanta', 'age': 24, 'location': 'hyd', 'area': 'madhapur'}\n"
          ]
        }
      ]
    },
    {
      "cell_type": "markdown",
      "source": [
        "8)clear():\n",
        "\n",
        "- it can remove the all elements from the dictionary"
      ],
      "metadata": {
        "id": "BIqdfOuRuS67"
      }
    },
    {
      "cell_type": "code",
      "source": [
        "student = {\"name\":\"manikanta\",\"age\":24,\"location\":\"chennai\"}\n",
        "print(student.clear())"
      ],
      "metadata": {
        "colab": {
          "base_uri": "https://localhost:8080/"
        },
        "id": "zqfCPyQvucfY",
        "outputId": "ee0636c9-be06-4de2-e6d8-0e6f5c041644"
      },
      "execution_count": 44,
      "outputs": [
        {
          "output_type": "stream",
          "name": "stdout",
          "text": [
            "None\n"
          ]
        }
      ]
    },
    {
      "cell_type": "markdown",
      "source": [
        "9)copy():\n",
        "\n",
        "- it returns copy of dictionary"
      ],
      "metadata": {
        "id": "pE4dRvpIuiKB"
      }
    },
    {
      "cell_type": "code",
      "source": [
        "student = {\"name\":\"manikanta\",\"age\":24,\"location\":\"chennai\"}\n",
        "print(student.copy())"
      ],
      "metadata": {
        "colab": {
          "base_uri": "https://localhost:8080/"
        },
        "id": "VXpy-tXiuo_0",
        "outputId": "fbc54f8d-75e6-4431-d407-cdafdf3c2d16"
      },
      "execution_count": 45,
      "outputs": [
        {
          "output_type": "stream",
          "name": "stdout",
          "text": [
            "{'name': 'manikanta', 'age': 24, 'location': 'chennai'}\n"
          ]
        }
      ]
    },
    {
      "cell_type": "markdown",
      "source": [
        "10)setdefault():\n",
        "\n",
        "- we can add the key value pairs into existing dictionary"
      ],
      "metadata": {
        "id": "zmFOVRoKuyR5"
      }
    },
    {
      "cell_type": "code",
      "source": [
        "student = {\"name\":\"manikanta\",\"age\":24,\"location\":\"chennai\"}\n",
        "student.setdefault(\"area\",\"madhapur\")\n",
        "print(student)"
      ],
      "metadata": {
        "colab": {
          "base_uri": "https://localhost:8080/"
        },
        "id": "6eVDFvxWu9_w",
        "outputId": "31c52b26-66ef-4fd4-c0be-47585ddb2bdd"
      },
      "execution_count": 54,
      "outputs": [
        {
          "output_type": "stream",
          "name": "stdout",
          "text": [
            "{'name': 'manikanta', 'age': 24, 'location': 'chennai', 'area': 'madhapur'}\n"
          ]
        }
      ]
    },
    {
      "cell_type": "markdown",
      "source": [
        "11)fromkeys():\n",
        "\n",
        "- returns a dictionary with specified length of key with repeated values"
      ],
      "metadata": {
        "id": "VOFRIHxvwRrd"
      }
    },
    {
      "cell_type": "code",
      "source": [
        "student = {\"name\":\"manikanta\",\"age\":24,\"location\":\"chennai\"}\n",
        "print(student.fromkeys(\"name\",\"manikanta\"))"
      ],
      "metadata": {
        "colab": {
          "base_uri": "https://localhost:8080/"
        },
        "id": "P1iW8112wZIv",
        "outputId": "da99d1f4-8d30-46f8-e5a0-1010cecf9fdf"
      },
      "execution_count": 57,
      "outputs": [
        {
          "output_type": "stream",
          "name": "stdout",
          "text": [
            "{'n': 'manikanta', 'a': 'manikanta', 'm': 'manikanta', 'e': 'manikanta'}\n"
          ]
        }
      ]
    }
  ]
}