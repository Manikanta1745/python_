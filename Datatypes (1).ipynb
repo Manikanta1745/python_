{
  "nbformat": 4,
  "nbformat_minor": 0,
  "metadata": {
    "colab": {
      "provenance": []
    },
    "kernelspec": {
      "name": "python3",
      "display_name": "Python 3"
    },
    "language_info": {
      "name": "python"
    }
  },
  "cells": [
    {
      "cell_type": "code",
      "execution_count": null,
      "metadata": {
        "id": "1mFH0lPUAnBV"
      },
      "outputs": [],
      "source": [
        "# 1)explain about datatypes\n",
        "# 2)expain about integers with 10 examples and type of data type\n",
        "# 3)expain about float with 10 examples and type of data type\n",
        "# 4)expain about complex with 10 examples and type of data type\n",
        "# 5)explain boolean with 10 exapmles\n",
        "# 6)explain boolean function with 10 examples\n",
        "# 7)explain type conversion (or) type casting for each type 5 examples"
      ]
    },
    {
      "cell_type": "markdown",
      "source": [
        "# 1)explain about datatypes\n",
        "\n",
        "  - every value has a data type and that data type can hold the values\n",
        "  - \"type()\" it is used identify the type of value stored in variable       \n",
        "  - the are two types of datatypes\n",
        "   - 1)primitive(basic)\n",
        "     - they have 4 types of data types\n",
        "     - 1)int\n",
        "     - 2)float\n",
        "     - 3)complex\n",
        "     - 4)boolean ->\n",
        "   - 2)non-primitive(advance)\n",
        "     - they have 5 types\n",
        "     - 1)string\n",
        "     - 2)list\n",
        "     - 3)set\n",
        "     - 4)tuple\n",
        "     - 5)dictionary\n",
        "\n",
        "   "
      ],
      "metadata": {
        "id": "1drEjh4mCNT9"
      }
    },
    {
      "cell_type": "markdown",
      "source": [
        "#2)expain about integers with 10 examples and type of data type\n",
        "\n",
        "  - values can be in whole numbers with any length(0,23,33,....)\n",
        "  - int is a datatype of integer"
      ],
      "metadata": {
        "id": "7QYIgTDzKRV9"
      }
    },
    {
      "cell_type": "code",
      "source": [
        "#examples of interger\n",
        "\n",
        "jersey_num = 45\n",
        "print(jersey_num)\n",
        "print(type(jersey_num))"
      ],
      "metadata": {
        "colab": {
          "base_uri": "https://localhost:8080/"
        },
        "id": "ZArc3otqLK16",
        "outputId": "bc9511bb-2efb-4911-869c-4c9eebbcaa7b"
      },
      "execution_count": null,
      "outputs": [
        {
          "output_type": "stream",
          "name": "stdout",
          "text": [
            "45\n",
            "<class 'int'>\n"
          ]
        }
      ]
    },
    {
      "cell_type": "code",
      "source": [
        "annualExam_marks = 578\n",
        "print(annualExam_marks)\n",
        "print(type(annualExam_marks))"
      ],
      "metadata": {
        "colab": {
          "base_uri": "https://localhost:8080/"
        },
        "id": "F8Vd_lZILd1J",
        "outputId": "62635910-4e6c-440e-fd55-2cd76c3f837f"
      },
      "execution_count": null,
      "outputs": [
        {
          "output_type": "stream",
          "name": "stdout",
          "text": [
            "578\n",
            "<class 'int'>\n"
          ]
        }
      ]
    },
    {
      "cell_type": "code",
      "source": [
        "_total_runs = 436\n",
        "print(_total_runs)\n",
        "print(type(_total_runs))"
      ],
      "metadata": {
        "colab": {
          "base_uri": "https://localhost:8080/"
        },
        "id": "PM79mGAULeAM",
        "outputId": "489b8d4f-7888-4910-f728-01b429235885"
      },
      "execution_count": null,
      "outputs": [
        {
          "output_type": "stream",
          "name": "stdout",
          "text": [
            "436\n",
            "<class 'int'>\n"
          ]
        }
      ]
    },
    {
      "cell_type": "code",
      "source": [
        "exam_fee = 1000\n",
        "print(exam_fee)\n",
        "print(type(exam_fee))"
      ],
      "metadata": {
        "colab": {
          "base_uri": "https://localhost:8080/"
        },
        "id": "WkaLh189LeKJ",
        "outputId": "1d5d844b-4b00-45fd-80ac-fc42d9270f0b"
      },
      "execution_count": null,
      "outputs": [
        {
          "output_type": "stream",
          "name": "stdout",
          "text": [
            "1000\n",
            "<class 'int'>\n"
          ]
        }
      ]
    },
    {
      "cell_type": "code",
      "source": [
        "college_fee = 90000\n",
        "print(college_fee)\n",
        "print(type(college_fee))"
      ],
      "metadata": {
        "colab": {
          "base_uri": "https://localhost:8080/"
        },
        "id": "U_cx63H4LeT3",
        "outputId": "198421a7-4971-4a41-f99f-0c6cc03d61d3"
      },
      "execution_count": null,
      "outputs": [
        {
          "output_type": "stream",
          "name": "stdout",
          "text": [
            "90000\n",
            "<class 'int'>\n"
          ]
        }
      ]
    },
    {
      "cell_type": "code",
      "source": [
        "bus_fee = 36000\n",
        "print(bus_fee)\n",
        "print(type(bus_fee))"
      ],
      "metadata": {
        "colab": {
          "base_uri": "https://localhost:8080/"
        },
        "id": "qq4p7cOLLedE",
        "outputId": "ed2e6626-0fb9-4f13-8a80-9e561e5c59fa"
      },
      "execution_count": null,
      "outputs": [
        {
          "output_type": "stream",
          "name": "stdout",
          "text": [
            "36000\n",
            "<class 'int'>\n"
          ]
        }
      ]
    },
    {
      "cell_type": "code",
      "source": [
        "car_price = 1200000\n",
        "print(car_price)\n",
        "print(type(car_price))"
      ],
      "metadata": {
        "colab": {
          "base_uri": "https://localhost:8080/"
        },
        "id": "9tqpjVlALenX",
        "outputId": "c076f85a-2841-4fb1-f785-5dc6a24260af"
      },
      "execution_count": null,
      "outputs": [
        {
          "output_type": "stream",
          "name": "stdout",
          "text": [
            "1200000\n",
            "<class 'int'>\n"
          ]
        }
      ]
    },
    {
      "cell_type": "code",
      "source": [
        "flat_cost = 9000000\n",
        "print(flat_cost)\n",
        "print(type(flat_cost))"
      ],
      "metadata": {
        "colab": {
          "base_uri": "https://localhost:8080/"
        },
        "id": "HndHJ85VLeyP",
        "outputId": "22374120-73d4-4aae-bc97-f5b37da5faee"
      },
      "execution_count": null,
      "outputs": [
        {
          "output_type": "stream",
          "name": "stdout",
          "text": [
            "9000000\n",
            "<class 'int'>\n"
          ]
        }
      ]
    },
    {
      "cell_type": "code",
      "source": [
        "laptop_price = 56499\n",
        "print(laptop_price)\n",
        "print(type(laptop_price))\n"
      ],
      "metadata": {
        "colab": {
          "base_uri": "https://localhost:8080/"
        },
        "id": "fwJBExyrLe8v",
        "outputId": "7818057e-6b14-4cbc-bbf0-8dce372ff0ff"
      },
      "execution_count": null,
      "outputs": [
        {
          "output_type": "stream",
          "name": "stdout",
          "text": [
            "56499\n",
            "<class 'int'>\n"
          ]
        }
      ]
    },
    {
      "cell_type": "code",
      "source": [
        "groceries_bill = 594\n",
        "print(groceries_bill)\n",
        "print(type(groceries_bill))"
      ],
      "metadata": {
        "colab": {
          "base_uri": "https://localhost:8080/"
        },
        "id": "JCJjcdBnLfIA",
        "outputId": "2ed940e7-deb6-4f8f-b6da-425cad6611cf"
      },
      "execution_count": null,
      "outputs": [
        {
          "output_type": "stream",
          "name": "stdout",
          "text": [
            "594\n",
            "<class 'int'>\n"
          ]
        }
      ]
    },
    {
      "cell_type": "markdown",
      "source": [
        "# 3)expain about float with 10 examples and type of data type\n",
        "\n",
        "  - float values can be in decimals\n",
        "  - it is like -1.33,0.56,34234.55"
      ],
      "metadata": {
        "id": "ZyDyf8e6Nknv"
      }
    },
    {
      "cell_type": "code",
      "source": [
        "#examples of float\n",
        "\n",
        "petrol_1ltr = 109.78\n",
        "print(petrol_1ltr)\n",
        "print(type(petrol_1ltr))"
      ],
      "metadata": {
        "colab": {
          "base_uri": "https://localhost:8080/"
        },
        "id": "KKVeXgLzOA1K",
        "outputId": "3054c38b-feed-4b6a-dc13-a9acee43ea52"
      },
      "execution_count": null,
      "outputs": [
        {
          "output_type": "stream",
          "name": "stdout",
          "text": [
            "109.78\n",
            "<class 'float'>\n"
          ]
        }
      ]
    },
    {
      "cell_type": "code",
      "source": [
        "shirt_cost = 499.5\n",
        "print(shirt_cost)\n",
        "print(type(shirt_cost))"
      ],
      "metadata": {
        "colab": {
          "base_uri": "https://localhost:8080/"
        },
        "id": "eLb9JhwEOcf5",
        "outputId": "05891706-ae80-4d0c-e353-1d53a8c9b2af"
      },
      "execution_count": null,
      "outputs": [
        {
          "output_type": "stream",
          "name": "stdout",
          "text": [
            "499.5\n",
            "<class 'float'>\n"
          ]
        }
      ]
    },
    {
      "cell_type": "code",
      "source": [
        "egg_cost = 6.5\n",
        "print(egg_cost)\n",
        "print(type(egg_cost))"
      ],
      "metadata": {
        "colab": {
          "base_uri": "https://localhost:8080/"
        },
        "id": "fzTikCtgOcpd",
        "outputId": "36de8b68-ae7e-478d-e1a6-f612cad71d2d"
      },
      "execution_count": null,
      "outputs": [
        {
          "output_type": "stream",
          "name": "stdout",
          "text": [
            "6.5\n",
            "<class 'float'>\n"
          ]
        }
      ]
    },
    {
      "cell_type": "code",
      "source": [
        "mobile_cost = 19500.5\n",
        "print(mobile_cost)\n",
        "print(type(mobile_cost))"
      ],
      "metadata": {
        "colab": {
          "base_uri": "https://localhost:8080/"
        },
        "id": "5vWmz1UdOczO",
        "outputId": "87dd8b97-e166-44e0-d087-01b86e877ad8"
      },
      "execution_count": null,
      "outputs": [
        {
          "output_type": "stream",
          "name": "stdout",
          "text": [
            "19500.5\n",
            "<class 'float'>\n"
          ]
        }
      ]
    },
    {
      "cell_type": "code",
      "source": [
        "medical_bill = 4989.67\n",
        "print(medical_bill)\n",
        "print(type(medical_bill))"
      ],
      "metadata": {
        "colab": {
          "base_uri": "https://localhost:8080/"
        },
        "id": "2xbyNX1QOdgD",
        "outputId": "ca4060b3-5403-4890-acc5-8eedf44b2a44"
      },
      "execution_count": null,
      "outputs": [
        {
          "output_type": "stream",
          "name": "stdout",
          "text": [
            "4989.67\n",
            "<class 'float'>\n"
          ]
        }
      ]
    },
    {
      "cell_type": "code",
      "source": [
        "month_income = 89394.59\n",
        "print(month_income)\n",
        "print(type(month_income))"
      ],
      "metadata": {
        "colab": {
          "base_uri": "https://localhost:8080/"
        },
        "id": "6p_6FaO_Odn5",
        "outputId": "b30c8704-1955-42b2-ce25-4ec7d8eaf6de"
      },
      "execution_count": null,
      "outputs": [
        {
          "output_type": "stream",
          "name": "stdout",
          "text": [
            "89394.59\n",
            "<class 'float'>\n"
          ]
        }
      ]
    },
    {
      "cell_type": "code",
      "source": [
        "uberride_price = 109.74\n",
        "print(uberride_price)\n",
        "print(type(uberride_price))"
      ],
      "metadata": {
        "colab": {
          "base_uri": "https://localhost:8080/"
        },
        "id": "2FOZ4L5cOd31",
        "outputId": "dab48df0-7a5d-40cf-8db4-7ba920a62d39"
      },
      "execution_count": null,
      "outputs": [
        {
          "output_type": "stream",
          "name": "stdout",
          "text": [
            "109.74\n",
            "<class 'float'>\n"
          ]
        }
      ]
    },
    {
      "cell_type": "code",
      "source": [
        "rarerabbit_cost = 37000.99\n",
        "print(rarerabbit_cost)\n",
        "print(type(rarerabbit_cost))"
      ],
      "metadata": {
        "colab": {
          "base_uri": "https://localhost:8080/"
        },
        "id": "inDRZQz2OenT",
        "outputId": "44ec3b8b-8a71-4ec1-a08a-05026728aa04"
      },
      "execution_count": null,
      "outputs": [
        {
          "output_type": "stream",
          "name": "stdout",
          "text": [
            "37000.99\n",
            "<class 'float'>\n"
          ]
        }
      ]
    },
    {
      "cell_type": "code",
      "source": [
        "celvinklien_cost = 7500.99\n",
        "print(celvinklien_cost)\n",
        "print(type(celvinklien_cost))"
      ],
      "metadata": {
        "colab": {
          "base_uri": "https://localhost:8080/"
        },
        "id": "P4ZzKi2HOe0B",
        "outputId": "72af24db-cbef-4c12-9066-5f95f14ea913"
      },
      "execution_count": null,
      "outputs": [
        {
          "output_type": "stream",
          "name": "stdout",
          "text": [
            "7500.99\n",
            "<class 'float'>\n"
          ]
        }
      ]
    },
    {
      "cell_type": "code",
      "source": [
        "tshirt_cost = 999.99\n",
        "print(tshirt_cost)\n",
        "print(type(tshirt_cost))"
      ],
      "metadata": {
        "colab": {
          "base_uri": "https://localhost:8080/"
        },
        "id": "y8gpYK9IOe_H",
        "outputId": "7b9fe86b-76cd-420c-810a-df96bf0b5dae"
      },
      "execution_count": null,
      "outputs": [
        {
          "output_type": "stream",
          "name": "stdout",
          "text": [
            "999.99\n",
            "<class 'float'>\n"
          ]
        }
      ]
    },
    {
      "cell_type": "markdown",
      "source": [
        "# 4)expain about complex with 10 examples and type of data type\n",
        "\n",
        "- it is a both combination of real and imaginary.... for ex 4+6j"
      ],
      "metadata": {
        "id": "cNiE58AZX6nU"
      }
    },
    {
      "cell_type": "code",
      "source": [
        "#examples of complex\n",
        "a = 5\n",
        "b = 5\n",
        "complex = complex(a,b)\n",
        "print(complex)\n",
        "print(type(complex))"
      ],
      "metadata": {
        "colab": {
          "base_uri": "https://localhost:8080/"
        },
        "id": "BZm2HT4LiAvd",
        "outputId": "1979f372-0a8b-48ee-fbe3-4563a454ecd7"
      },
      "execution_count": null,
      "outputs": [
        {
          "output_type": "stream",
          "name": "stdout",
          "text": [
            "(5+5j)\n",
            "<class 'complex'>\n"
          ]
        }
      ]
    },
    {
      "cell_type": "code",
      "source": [
        "a= 2+3j\n",
        "print(a)\n",
        "print(type(a))"
      ],
      "metadata": {
        "colab": {
          "base_uri": "https://localhost:8080/"
        },
        "id": "HhbLuVlikhHf",
        "outputId": "4ec0ce30-d46b-4f70-ff21-3819bb2bd5d5"
      },
      "execution_count": null,
      "outputs": [
        {
          "output_type": "stream",
          "name": "stdout",
          "text": [
            "(2+3j)\n",
            "<class 'complex'>\n"
          ]
        }
      ]
    },
    {
      "cell_type": "code",
      "source": [
        "sub = 0B11+53j\n",
        "print(sub)\n",
        "print(type(sub))"
      ],
      "metadata": {
        "colab": {
          "base_uri": "https://localhost:8080/"
        },
        "id": "snJ0CTzRPFmB",
        "outputId": "e759ed78-2e9c-4c3d-ac0c-d454f502c81d"
      },
      "execution_count": null,
      "outputs": [
        {
          "output_type": "stream",
          "name": "stdout",
          "text": [
            "(3+53j)\n",
            "<class 'complex'>\n"
          ]
        }
      ]
    },
    {
      "cell_type": "code",
      "source": [
        "hail = 0B00+233j\n",
        "print(hail)\n",
        "print(type(hail))"
      ],
      "metadata": {
        "colab": {
          "base_uri": "https://localhost:8080/"
        },
        "id": "MlR7cqtSPUVG",
        "outputId": "0c106302-5306-40ef-9051-8c8ce4725e4a"
      },
      "execution_count": null,
      "outputs": [
        {
          "output_type": "stream",
          "name": "stdout",
          "text": [
            "233j\n",
            "<class 'complex'>\n"
          ]
        }
      ]
    },
    {
      "cell_type": "code",
      "source": [
        "gravity = 34.67+0j\n",
        "print(gravity)\n",
        "print(type(gravity))"
      ],
      "metadata": {
        "colab": {
          "base_uri": "https://localhost:8080/"
        },
        "id": "3mJirjfPPUeG",
        "outputId": "35c7a2ad-f2b8-4843-b858-05bc14f0870c"
      },
      "execution_count": null,
      "outputs": [
        {
          "output_type": "stream",
          "name": "stdout",
          "text": [
            "(34.67+0j)\n",
            "<class 'complex'>\n"
          ]
        }
      ]
    },
    {
      "cell_type": "code",
      "source": [
        "gap = 0+23.56j\n",
        "print(gap)\n",
        "print(type(gap))"
      ],
      "metadata": {
        "colab": {
          "base_uri": "https://localhost:8080/"
        },
        "id": "j-_AzrXpPUnG",
        "outputId": "4420c47b-9190-494b-d5ba-fcaa004c44e0"
      },
      "execution_count": null,
      "outputs": [
        {
          "output_type": "stream",
          "name": "stdout",
          "text": [
            "23.56j\n",
            "<class 'complex'>\n"
          ]
        }
      ]
    },
    {
      "cell_type": "code",
      "source": [
        "cupid = 3872.4+24.89j\n",
        "print(cupid)\n",
        "print(type(cupid))"
      ],
      "metadata": {
        "colab": {
          "base_uri": "https://localhost:8080/"
        },
        "id": "l71f7zsVPUxZ",
        "outputId": "50a0bf79-f8d8-41ca-8dbc-c338fee96906"
      },
      "execution_count": null,
      "outputs": [
        {
          "output_type": "stream",
          "name": "stdout",
          "text": [
            "(3872.4+24.89j)\n",
            "<class 'complex'>\n"
          ]
        }
      ]
    },
    {
      "cell_type": "code",
      "source": [
        "valid = 66.87+3j\n",
        "print(valid)\n",
        "print(type(valid))"
      ],
      "metadata": {
        "colab": {
          "base_uri": "https://localhost:8080/"
        },
        "id": "Bd3SbJMpPVT3",
        "outputId": "b2d3affa-05ed-4f50-f130-922e7582dcbd"
      },
      "execution_count": null,
      "outputs": [
        {
          "output_type": "stream",
          "name": "stdout",
          "text": [
            "(66.87+3j)\n",
            "<class 'complex'>\n"
          ]
        }
      ]
    },
    {
      "cell_type": "code",
      "source": [
        "rabbit = 337+678.4j\n",
        "print(rabbit)\n",
        "print(type(rabbit))"
      ],
      "metadata": {
        "colab": {
          "base_uri": "https://localhost:8080/"
        },
        "id": "TGnKPxQjR1yT",
        "outputId": "ef586a5d-8b16-431c-fd83-6eee6bd55c83"
      },
      "execution_count": null,
      "outputs": [
        {
          "output_type": "stream",
          "name": "stdout",
          "text": [
            "(337+678.4j)\n",
            "<class 'complex'>\n"
          ]
        }
      ]
    },
    {
      "cell_type": "code",
      "source": [
        "lamda = 2378+67.33j\n",
        "print(lamda)\n",
        "print(type(lamda))"
      ],
      "metadata": {
        "colab": {
          "base_uri": "https://localhost:8080/"
        },
        "id": "KzEb4XcaR15Y",
        "outputId": "28f329b2-a7af-4867-c6ba-63b04597e1c2"
      },
      "execution_count": null,
      "outputs": [
        {
          "output_type": "stream",
          "name": "stdout",
          "text": [
            "(2378+67.33j)\n",
            "<class 'complex'>\n"
          ]
        }
      ]
    },
    {
      "cell_type": "markdown",
      "source": [
        "# 5)explain boolean with 10 exapmles\n",
        "\n",
        " - boolean is another type of data type which is similar to integers and string\n",
        " - boolean have 2 values true or false\n",
        " - if condition satisfy it represents true\n",
        " - if condition unsatisfy it represents false\n",
        " - in boolean we can not compare complex variable directly in python we can specify the parts real number or imaginary number"
      ],
      "metadata": {
        "id": "uwASVgb7imU0"
      }
    },
    {
      "cell_type": "code",
      "source": [
        "# examples of boolean\n",
        "\n",
        "a = 10\n",
        "b = 39\n",
        "print(a>b)\n",
        "type(a>b)\n"
      ],
      "metadata": {
        "colab": {
          "base_uri": "https://localhost:8080/"
        },
        "id": "ZdvoauDTja4a",
        "outputId": "cf08c7f1-36d2-43d2-f1a5-f1794a8838e9"
      },
      "execution_count": 5,
      "outputs": [
        {
          "output_type": "stream",
          "name": "stdout",
          "text": [
            "False\n"
          ]
        },
        {
          "output_type": "execute_result",
          "data": {
            "text/plain": [
              "bool"
            ]
          },
          "metadata": {},
          "execution_count": 5
        }
      ]
    },
    {
      "cell_type": "code",
      "source": [
        "dev = 10.33\n",
        "dev1 = 333\n",
        "print(dev==dev1)\n",
        "type((dev==dev1))"
      ],
      "metadata": {
        "colab": {
          "base_uri": "https://localhost:8080/"
        },
        "id": "m5iaTEnnjzh1",
        "outputId": "494ca49d-5fdc-45d2-9022-f3a0103df8a9"
      },
      "execution_count": 8,
      "outputs": [
        {
          "output_type": "stream",
          "name": "stdout",
          "text": [
            "False\n"
          ]
        },
        {
          "output_type": "execute_result",
          "data": {
            "text/plain": [
              "bool"
            ]
          },
          "metadata": {},
          "execution_count": 8
        }
      ]
    },
    {
      "cell_type": "code",
      "source": [
        "x = 33\n",
        "y = 33\n",
        "print(x>y)\n",
        "type(x>y)"
      ],
      "metadata": {
        "colab": {
          "base_uri": "https://localhost:8080/"
        },
        "id": "K7CORMoJjzuM",
        "outputId": "2ba96457-c9e3-4d79-cb1f-32ec51d3cd4b"
      },
      "execution_count": 10,
      "outputs": [
        {
          "output_type": "stream",
          "name": "stdout",
          "text": [
            "False\n"
          ]
        },
        {
          "output_type": "execute_result",
          "data": {
            "text/plain": [
              "bool"
            ]
          },
          "metadata": {},
          "execution_count": 10
        }
      ]
    },
    {
      "cell_type": "code",
      "source": [
        "i = 99\n",
        "j = 99\n",
        "print(i==j)\n",
        "type(i==j)"
      ],
      "metadata": {
        "colab": {
          "base_uri": "https://localhost:8080/"
        },
        "id": "pqpXeF7Vjz9Z",
        "outputId": "9b541eb8-fa47-4208-ba68-f52e9f94d9c5"
      },
      "execution_count": 11,
      "outputs": [
        {
          "output_type": "stream",
          "name": "stdout",
          "text": [
            "True\n"
          ]
        },
        {
          "output_type": "execute_result",
          "data": {
            "text/plain": [
              "bool"
            ]
          },
          "metadata": {},
          "execution_count": 11
        }
      ]
    },
    {
      "cell_type": "code",
      "source": [
        "gap = 84.36\n",
        "hurry = 84.36\n",
        "print(gap<hurry)\n",
        "type(gap<hurry)"
      ],
      "metadata": {
        "colab": {
          "base_uri": "https://localhost:8080/"
        },
        "id": "m8aSri3Wj0O1",
        "outputId": "b648be9c-83fc-4188-efef-ecedb46015c9"
      },
      "execution_count": 12,
      "outputs": [
        {
          "output_type": "stream",
          "name": "stdout",
          "text": [
            "False\n"
          ]
        },
        {
          "output_type": "execute_result",
          "data": {
            "text/plain": [
              "bool"
            ]
          },
          "metadata": {},
          "execution_count": 12
        }
      ]
    },
    {
      "cell_type": "code",
      "source": [
        "real = 3+78.5j\n",
        "img = 3+78.5j\n",
        "print(real==img)\n",
        "type(real==img)"
      ],
      "metadata": {
        "colab": {
          "base_uri": "https://localhost:8080/"
        },
        "id": "46uzlr1Hj0bx",
        "outputId": "1550e572-b048-44b7-82ad-1fbdcc20d470"
      },
      "execution_count": 14,
      "outputs": [
        {
          "output_type": "stream",
          "name": "stdout",
          "text": [
            "True\n"
          ]
        },
        {
          "output_type": "execute_result",
          "data": {
            "text/plain": [
              "bool"
            ]
          },
          "metadata": {},
          "execution_count": 14
        }
      ]
    },
    {
      "cell_type": "code",
      "source": [
        "real = 3341+23487.5j\n",
        "img = 19113.44+4442.554j\n",
        "print(real>img)\n",
        "type(real>img)\n",
        "\n",
        "# we can not compare them directly we can specify the parts like real or imaginary so they can give output"
      ],
      "metadata": {
        "colab": {
          "base_uri": "https://localhost:8080/",
          "height": 193
        },
        "id": "bULQRKRej0nZ",
        "outputId": "ebeac867-34d5-4421-ddf9-c2878ca1c226"
      },
      "execution_count": 15,
      "outputs": [
        {
          "output_type": "error",
          "ename": "TypeError",
          "evalue": "'>' not supported between instances of 'complex' and 'complex'",
          "traceback": [
            "\u001b[0;31m---------------------------------------------------------------------------\u001b[0m",
            "\u001b[0;31mTypeError\u001b[0m                                 Traceback (most recent call last)",
            "\u001b[0;32m<ipython-input-15-8639cd7de68b>\u001b[0m in \u001b[0;36m<cell line: 3>\u001b[0;34m()\u001b[0m\n\u001b[1;32m      1\u001b[0m \u001b[0mreal\u001b[0m \u001b[0;34m=\u001b[0m \u001b[0;36m3341\u001b[0m\u001b[0;34m+\u001b[0m\u001b[0;36m23487.5j\u001b[0m\u001b[0;34m\u001b[0m\u001b[0;34m\u001b[0m\u001b[0m\n\u001b[1;32m      2\u001b[0m \u001b[0mimg\u001b[0m \u001b[0;34m=\u001b[0m \u001b[0;36m19113.44\u001b[0m\u001b[0;34m+\u001b[0m\u001b[0;36m4442.554j\u001b[0m\u001b[0;34m\u001b[0m\u001b[0;34m\u001b[0m\u001b[0m\n\u001b[0;32m----> 3\u001b[0;31m \u001b[0mprint\u001b[0m\u001b[0;34m(\u001b[0m\u001b[0mreal\u001b[0m\u001b[0;34m>\u001b[0m\u001b[0mimg\u001b[0m\u001b[0;34m)\u001b[0m\u001b[0;34m\u001b[0m\u001b[0;34m\u001b[0m\u001b[0m\n\u001b[0m\u001b[1;32m      4\u001b[0m \u001b[0mtype\u001b[0m\u001b[0;34m(\u001b[0m\u001b[0mreal\u001b[0m\u001b[0;34m>\u001b[0m\u001b[0mimg\u001b[0m\u001b[0;34m)\u001b[0m\u001b[0;34m\u001b[0m\u001b[0;34m\u001b[0m\u001b[0m\n",
            "\u001b[0;31mTypeError\u001b[0m: '>' not supported between instances of 'complex' and 'complex'"
          ]
        }
      ]
    },
    {
      "cell_type": "code",
      "source": [
        "real1 = 3341+23487.5j\n",
        "img1 = 19113.44+4442.554j\n",
        "print(real1.real>img1.real)\n",
        "type(real1.real>img1.real)"
      ],
      "metadata": {
        "colab": {
          "base_uri": "https://localhost:8080/"
        },
        "id": "6ApbM-AIj0zM",
        "outputId": "a1c46db7-1b35-436b-9b81-6370e963eaab"
      },
      "execution_count": 20,
      "outputs": [
        {
          "output_type": "stream",
          "name": "stdout",
          "text": [
            "False\n"
          ]
        },
        {
          "output_type": "execute_result",
          "data": {
            "text/plain": [
              "bool"
            ]
          },
          "metadata": {},
          "execution_count": 20
        }
      ]
    },
    {
      "cell_type": "code",
      "source": [
        "a = 3341+23487.5j\n",
        "b = 19113.44+4442.554j\n",
        "print(a.imag>b.imag)\n",
        "type(a.imag>b.imag)"
      ],
      "metadata": {
        "colab": {
          "base_uri": "https://localhost:8080/"
        },
        "id": "wrb6b5mYj0_m",
        "outputId": "61ed54d8-dc84-4b2b-fb80-c0d2daaba069"
      },
      "execution_count": 22,
      "outputs": [
        {
          "output_type": "stream",
          "name": "stdout",
          "text": [
            "True\n"
          ]
        },
        {
          "output_type": "execute_result",
          "data": {
            "text/plain": [
              "bool"
            ]
          },
          "metadata": {},
          "execution_count": 22
        }
      ]
    },
    {
      "cell_type": "code",
      "source": [
        "x = 33+782.33j\n",
        "b = 19113.44+4442.554j\n",
        "print(x==b)\n",
        "type(x==b)"
      ],
      "metadata": {
        "colab": {
          "base_uri": "https://localhost:8080/"
        },
        "id": "q4dvz6rNj1K1",
        "outputId": "dac84294-2798-4314-c28e-bbf439109196"
      },
      "execution_count": 23,
      "outputs": [
        {
          "output_type": "stream",
          "name": "stdout",
          "text": [
            "False\n"
          ]
        },
        {
          "output_type": "execute_result",
          "data": {
            "text/plain": [
              "bool"
            ]
          },
          "metadata": {},
          "execution_count": 23
        }
      ]
    },
    {
      "cell_type": "markdown",
      "source": [
        "# 6)explain boolean function with 10 examples\n",
        "\n",
        " - boolean function convert the value in boolean value either the value is true or false\n",
        " - bool () this function takes parameters if no parameter passed or zero \"0\" value passes it converts into false"
      ],
      "metadata": {
        "id": "WLEJtIBtpj42"
      }
    },
    {
      "cell_type": "code",
      "source": [
        "# examples of boolean function\n",
        "\n",
        "bool(10)"
      ],
      "metadata": {
        "colab": {
          "base_uri": "https://localhost:8080/"
        },
        "id": "zLB8lSlEo9i9",
        "outputId": "7684136c-6278-4fe7-9469-f904d96261a8"
      },
      "execution_count": 38,
      "outputs": [
        {
          "output_type": "execute_result",
          "data": {
            "text/plain": [
              "True"
            ]
          },
          "metadata": {},
          "execution_count": 38
        }
      ]
    },
    {
      "cell_type": "code",
      "source": [
        "bool(122.44)"
      ],
      "metadata": {
        "colab": {
          "base_uri": "https://localhost:8080/"
        },
        "id": "Bx5LwhhArawH",
        "outputId": "24e7789a-5b9d-455e-e659-92424bd244f8"
      },
      "execution_count": 39,
      "outputs": [
        {
          "output_type": "execute_result",
          "data": {
            "text/plain": [
              "True"
            ]
          },
          "metadata": {},
          "execution_count": 39
        }
      ]
    },
    {
      "cell_type": "code",
      "source": [
        "bool()"
      ],
      "metadata": {
        "colab": {
          "base_uri": "https://localhost:8080/"
        },
        "id": "L5jubiaEt58q",
        "outputId": "1614bae6-74b7-46dd-c111-71d8b171beb3"
      },
      "execution_count": 50,
      "outputs": [
        {
          "output_type": "execute_result",
          "data": {
            "text/plain": [
              "False"
            ]
          },
          "metadata": {},
          "execution_count": 50
        }
      ]
    },
    {
      "cell_type": "code",
      "source": [
        "bool(0)"
      ],
      "metadata": {
        "colab": {
          "base_uri": "https://localhost:8080/"
        },
        "id": "yS32sbfst6Ir",
        "outputId": "48fd8085-f0da-4459-9ee6-1edc2f46b419"
      },
      "execution_count": 51,
      "outputs": [
        {
          "output_type": "execute_result",
          "data": {
            "text/plain": [
              "False"
            ]
          },
          "metadata": {},
          "execution_count": 51
        }
      ]
    },
    {
      "cell_type": "code",
      "source": [
        "bool(0.0)"
      ],
      "metadata": {
        "colab": {
          "base_uri": "https://localhost:8080/"
        },
        "id": "Y292v57Kt-xh",
        "outputId": "94cd4c07-88b2-411d-f100-f8c2624296b4"
      },
      "execution_count": 52,
      "outputs": [
        {
          "output_type": "execute_result",
          "data": {
            "text/plain": [
              "False"
            ]
          },
          "metadata": {},
          "execution_count": 52
        }
      ]
    },
    {
      "cell_type": "code",
      "source": [
        "bool(0+0.0j)"
      ],
      "metadata": {
        "colab": {
          "base_uri": "https://localhost:8080/"
        },
        "id": "y19yjmCat6Sc",
        "outputId": "da025a09-b89b-4849-a02d-aa5d7d41e567"
      },
      "execution_count": 53,
      "outputs": [
        {
          "output_type": "execute_result",
          "data": {
            "text/plain": [
              "False"
            ]
          },
          "metadata": {},
          "execution_count": 53
        }
      ]
    },
    {
      "cell_type": "code",
      "source": [
        "a = 293\n",
        "b = 21238\n",
        "bool(a<b)"
      ],
      "metadata": {
        "colab": {
          "base_uri": "https://localhost:8080/"
        },
        "id": "uUe5uNxhr-NH",
        "outputId": "ed9f8e09-45c4-4c9a-aad2-82d82a9a90ba"
      },
      "execution_count": 40,
      "outputs": [
        {
          "output_type": "execute_result",
          "data": {
            "text/plain": [
              "True"
            ]
          },
          "metadata": {},
          "execution_count": 40
        }
      ]
    },
    {
      "cell_type": "code",
      "source": [
        "a = 38900\n",
        "b = 934489.34\n",
        "bool(a>b)"
      ],
      "metadata": {
        "colab": {
          "base_uri": "https://localhost:8080/"
        },
        "id": "PeXd6jdHsGGh",
        "outputId": "58f0f521-437b-4d43-84a4-b14fed8d7db4"
      },
      "execution_count": 41,
      "outputs": [
        {
          "output_type": "execute_result",
          "data": {
            "text/plain": [
              "False"
            ]
          },
          "metadata": {},
          "execution_count": 41
        }
      ]
    },
    {
      "cell_type": "code",
      "source": [
        "x = 3929.43\n",
        "y = 3929.43\n",
        "bool(x!=y)"
      ],
      "metadata": {
        "colab": {
          "base_uri": "https://localhost:8080/"
        },
        "id": "qXe8NjvfsOul",
        "outputId": "aff3f60e-97f6-4176-fb91-88d7d283915e"
      },
      "execution_count": 42,
      "outputs": [
        {
          "output_type": "execute_result",
          "data": {
            "text/plain": [
              "False"
            ]
          },
          "metadata": {},
          "execution_count": 42
        }
      ]
    },
    {
      "cell_type": "code",
      "source": [
        "gen = 33729.43\n",
        "gen1 = 67379.43\n",
        "bool(gen==gen1)"
      ],
      "metadata": {
        "colab": {
          "base_uri": "https://localhost:8080/"
        },
        "id": "RUI9FLa-sO6M",
        "outputId": "dc8eb770-3532-4fc2-c08d-11ba8d9b610f"
      },
      "execution_count": 43,
      "outputs": [
        {
          "output_type": "execute_result",
          "data": {
            "text/plain": [
              "False"
            ]
          },
          "metadata": {},
          "execution_count": 43
        }
      ]
    },
    {
      "cell_type": "code",
      "source": [
        "acc = 433+238.474j\n",
        "acc1 = 238+23300.44j\n",
        "bool(acc.real<acc1.real)"
      ],
      "metadata": {
        "colab": {
          "base_uri": "https://localhost:8080/"
        },
        "id": "3KYRuRZ5sPFH",
        "outputId": "47ac6845-45ba-4697-8b61-cfaaf5f9af62"
      },
      "execution_count": 44,
      "outputs": [
        {
          "output_type": "execute_result",
          "data": {
            "text/plain": [
              "False"
            ]
          },
          "metadata": {},
          "execution_count": 44
        }
      ]
    },
    {
      "cell_type": "code",
      "source": [
        "acc = 578+238.474j\n",
        "acc1 = 2638+23300.44j\n",
        "bool(acc.imag>acc1.imag)"
      ],
      "metadata": {
        "colab": {
          "base_uri": "https://localhost:8080/"
        },
        "id": "PlHZDG3msPQU",
        "outputId": "26c6712e-233e-4e56-f339-f3b2e4c3d3bb"
      },
      "execution_count": 47,
      "outputs": [
        {
          "output_type": "execute_result",
          "data": {
            "text/plain": [
              "False"
            ]
          },
          "metadata": {},
          "execution_count": 47
        }
      ]
    },
    {
      "cell_type": "code",
      "source": [
        "acc = 433+238.474j\n",
        "acc1 = 238+23300.44j\n",
        "bool(acc.real==acc1.real)"
      ],
      "metadata": {
        "colab": {
          "base_uri": "https://localhost:8080/"
        },
        "id": "R-AyMvwDsPbZ",
        "outputId": "25946315-62cd-4698-942a-86e4afdd82dd"
      },
      "execution_count": 46,
      "outputs": [
        {
          "output_type": "execute_result",
          "data": {
            "text/plain": [
              "False"
            ]
          },
          "metadata": {},
          "execution_count": 46
        }
      ]
    },
    {
      "cell_type": "code",
      "source": [
        "acc = 433+238.474j\n",
        "acc1 = 238+23300.44j\n",
        "bool(acc.imag==acc1.imag)"
      ],
      "metadata": {
        "colab": {
          "base_uri": "https://localhost:8080/"
        },
        "id": "XF3x2NSesPmF",
        "outputId": "b7055d69-9c88-4db0-aa7e-8c50ed628053"
      },
      "execution_count": 48,
      "outputs": [
        {
          "output_type": "execute_result",
          "data": {
            "text/plain": [
              "False"
            ]
          },
          "metadata": {},
          "execution_count": 48
        }
      ]
    },
    {
      "cell_type": "markdown",
      "source": [
        "# 7)explain type conversion (or) type casting for each type 5 examples\n",
        "\n",
        " - it is used to convert the one type of date into another data type\n",
        " - they are two types of type conversions\n",
        "  - 1)implicit typeconversion\n",
        "     - it converts data type into nother data type automatically\n",
        "  - 2)explicit type conversion\n",
        "     - in this method user needs involve to convert the data type into required data type\n",
        "     - we can not convert complex into int and float because complex have real and imaginary parts\n",
        "     - we can able to convert complex into int and float"
      ],
      "metadata": {
        "id": "QnOVp0aktiOB"
      }
    },
    {
      "cell_type": "code",
      "source": [
        "#examples of implicit type conversion\n",
        "\n",
        "a = 10\n",
        "type(a)"
      ],
      "metadata": {
        "colab": {
          "base_uri": "https://localhost:8080/"
        },
        "id": "VR0aVA5bx5TG",
        "outputId": "6954024d-fc28-4a5b-c0c8-67249b3a570d"
      },
      "execution_count": 54,
      "outputs": [
        {
          "output_type": "execute_result",
          "data": {
            "text/plain": [
              "int"
            ]
          },
          "metadata": {},
          "execution_count": 54
        }
      ]
    },
    {
      "cell_type": "code",
      "source": [
        "x = 334.5\n",
        "type(x)"
      ],
      "metadata": {
        "colab": {
          "base_uri": "https://localhost:8080/"
        },
        "id": "CMosWPPPyRaq",
        "outputId": "229c187c-ac87-4a46-fcd2-d5bbe90d747d"
      },
      "execution_count": 55,
      "outputs": [
        {
          "output_type": "execute_result",
          "data": {
            "text/plain": [
              "float"
            ]
          },
          "metadata": {},
          "execution_count": 55
        }
      ]
    },
    {
      "cell_type": "code",
      "source": [
        "a = 23\n",
        "b = 13.55\n",
        "type(a+b)"
      ],
      "metadata": {
        "colab": {
          "base_uri": "https://localhost:8080/"
        },
        "id": "Y0-6rCScyRiJ",
        "outputId": "185f1a63-5d96-4137-de28-214f77ac354c"
      },
      "execution_count": 56,
      "outputs": [
        {
          "output_type": "execute_result",
          "data": {
            "text/plain": [
              "float"
            ]
          },
          "metadata": {},
          "execution_count": 56
        }
      ]
    },
    {
      "cell_type": "code",
      "source": [
        "a = 23\n",
        "b = 13.55\n",
        "type(a>b)"
      ],
      "metadata": {
        "colab": {
          "base_uri": "https://localhost:8080/"
        },
        "id": "z2DLK-XEyRqz",
        "outputId": "f3d01492-16e0-4836-c0e6-27ecc339bb97"
      },
      "execution_count": 57,
      "outputs": [
        {
          "output_type": "execute_result",
          "data": {
            "text/plain": [
              "bool"
            ]
          },
          "metadata": {},
          "execution_count": 57
        }
      ]
    },
    {
      "cell_type": "code",
      "source": [
        "a = 23\n",
        "b = 13.55\n",
        "type(a<b)"
      ],
      "metadata": {
        "colab": {
          "base_uri": "https://localhost:8080/"
        },
        "id": "9XpT8v1_yR1e",
        "outputId": "8b5a207c-0b1a-46f4-d77e-ac154eeba6cb"
      },
      "execution_count": 58,
      "outputs": [
        {
          "output_type": "execute_result",
          "data": {
            "text/plain": [
              "bool"
            ]
          },
          "metadata": {},
          "execution_count": 58
        }
      ]
    },
    {
      "cell_type": "code",
      "source": [
        "a = 23\n",
        "b = 13.55\n",
        "type(a==b)"
      ],
      "metadata": {
        "colab": {
          "base_uri": "https://localhost:8080/"
        },
        "id": "2P1MRCb7yp0v",
        "outputId": "5ca5d342-7e7a-4b17-ec53-c6989bde2349"
      },
      "execution_count": 59,
      "outputs": [
        {
          "output_type": "execute_result",
          "data": {
            "text/plain": [
              "bool"
            ]
          },
          "metadata": {},
          "execution_count": 59
        }
      ]
    },
    {
      "cell_type": "code",
      "source": [
        "a = 23\n",
        "b = 13.55\n",
        "type(a-b)"
      ],
      "metadata": {
        "colab": {
          "base_uri": "https://localhost:8080/"
        },
        "id": "YzA3Yk6Typ6M",
        "outputId": "5f330e95-b113-46ad-d399-41239d11bf3d"
      },
      "execution_count": 60,
      "outputs": [
        {
          "output_type": "execute_result",
          "data": {
            "text/plain": [
              "float"
            ]
          },
          "metadata": {},
          "execution_count": 60
        }
      ]
    },
    {
      "cell_type": "code",
      "source": [
        "a = 23\n",
        "b = 13.55\n",
        "type(a*b)"
      ],
      "metadata": {
        "colab": {
          "base_uri": "https://localhost:8080/"
        },
        "id": "EXcGGQ51yp_q",
        "outputId": "a1bd8c23-5d72-4ace-c384-3439eb002996"
      },
      "execution_count": 61,
      "outputs": [
        {
          "output_type": "execute_result",
          "data": {
            "text/plain": [
              "float"
            ]
          },
          "metadata": {},
          "execution_count": 61
        }
      ]
    },
    {
      "cell_type": "code",
      "source": [
        "# examples of explicit type conversions\n",
        "\n",
        "# convert int into float\n",
        "\n",
        "x = 10\n",
        "y = float(x)\n",
        "print(y)\n",
        "type(y)"
      ],
      "metadata": {
        "colab": {
          "base_uri": "https://localhost:8080/"
        },
        "id": "teVTh0glyqGl",
        "outputId": "11366ee0-b2df-4836-f9a9-f9204db1b707"
      },
      "execution_count": 62,
      "outputs": [
        {
          "output_type": "stream",
          "name": "stdout",
          "text": [
            "10.0\n"
          ]
        },
        {
          "output_type": "execute_result",
          "data": {
            "text/plain": [
              "float"
            ]
          },
          "metadata": {},
          "execution_count": 62
        }
      ]
    },
    {
      "cell_type": "code",
      "source": [
        "a = 134\n",
        "b = 340\n",
        "c = float(a+b)\n",
        "print(c)\n",
        "type(c)"
      ],
      "metadata": {
        "colab": {
          "base_uri": "https://localhost:8080/"
        },
        "id": "SdvkUUJ7zKYb",
        "outputId": "fe532696-c1d9-49f4-de99-b273417601c3"
      },
      "execution_count": 63,
      "outputs": [
        {
          "output_type": "stream",
          "name": "stdout",
          "text": [
            "474.0\n"
          ]
        },
        {
          "output_type": "execute_result",
          "data": {
            "text/plain": [
              "float"
            ]
          },
          "metadata": {},
          "execution_count": 63
        }
      ]
    },
    {
      "cell_type": "code",
      "source": [
        "alexa = 32423\n",
        "alexa1 = 2423\n",
        "alexa2 = float(alexa-alexa1)\n",
        "print(alexa2)\n",
        "type(alexa2)"
      ],
      "metadata": {
        "colab": {
          "base_uri": "https://localhost:8080/"
        },
        "id": "O5GIlGlQzKfh",
        "outputId": "258f7561-2bd0-41a7-b6b2-60149780b381"
      },
      "execution_count": 64,
      "outputs": [
        {
          "output_type": "stream",
          "name": "stdout",
          "text": [
            "30000.0\n"
          ]
        },
        {
          "output_type": "execute_result",
          "data": {
            "text/plain": [
              "float"
            ]
          },
          "metadata": {},
          "execution_count": 64
        }
      ]
    },
    {
      "cell_type": "code",
      "source": [
        "sub = 2508\n",
        "sub1 = 9876\n",
        "sub2 = float(sub*sub1)\n",
        "print(sub2)\n",
        "type(sub2)"
      ],
      "metadata": {
        "colab": {
          "base_uri": "https://localhost:8080/"
        },
        "id": "49aiSw8GzKsR",
        "outputId": "7488de03-607a-4e70-bafe-41a622ec3c89"
      },
      "execution_count": 65,
      "outputs": [
        {
          "output_type": "stream",
          "name": "stdout",
          "text": [
            "24769008.0\n"
          ]
        },
        {
          "output_type": "execute_result",
          "data": {
            "text/plain": [
              "float"
            ]
          },
          "metadata": {},
          "execution_count": 65
        }
      ]
    },
    {
      "cell_type": "code",
      "source": [
        "gen = 9977894\n",
        "gen1 = 9977894\n",
        "gen2 = float(gen/gen1)\n",
        "print(gen2)\n",
        "type(gen2)"
      ],
      "metadata": {
        "colab": {
          "base_uri": "https://localhost:8080/"
        },
        "id": "uox70gpCzK3M",
        "outputId": "31133d85-685c-4652-f512-74ea79d3b41f"
      },
      "execution_count": 69,
      "outputs": [
        {
          "output_type": "stream",
          "name": "stdout",
          "text": [
            "1.0\n"
          ]
        },
        {
          "output_type": "execute_result",
          "data": {
            "text/plain": [
              "float"
            ]
          },
          "metadata": {},
          "execution_count": 69
        }
      ]
    },
    {
      "cell_type": "code",
      "source": [
        "# convert float into int\n",
        "\n",
        "a = 10.44\n",
        "b = int(a)\n",
        "print(b)\n",
        "type(b)"
      ],
      "metadata": {
        "colab": {
          "base_uri": "https://localhost:8080/"
        },
        "id": "W8Y1Fg9e7lF2",
        "outputId": "9277f280-adeb-4415-b589-7ea424ac4531"
      },
      "execution_count": 76,
      "outputs": [
        {
          "output_type": "stream",
          "name": "stdout",
          "text": [
            "10\n"
          ]
        },
        {
          "output_type": "execute_result",
          "data": {
            "text/plain": [
              "int"
            ]
          },
          "metadata": {},
          "execution_count": 76
        }
      ]
    },
    {
      "cell_type": "code",
      "source": [
        "x = 10.46\n",
        "y = 6994.3\n",
        "z = int(x+y)\n",
        "print(z)\n",
        "type(z)"
      ],
      "metadata": {
        "colab": {
          "base_uri": "https://localhost:8080/"
        },
        "id": "go66yngw7lRg",
        "outputId": "332c21cc-85d3-4c4a-9ac3-d16395574b01"
      },
      "execution_count": 78,
      "outputs": [
        {
          "output_type": "stream",
          "name": "stdout",
          "text": [
            "7004\n"
          ]
        },
        {
          "output_type": "execute_result",
          "data": {
            "text/plain": [
              "int"
            ]
          },
          "metadata": {},
          "execution_count": 78
        }
      ]
    },
    {
      "cell_type": "code",
      "source": [
        "sal = 112139.343\n",
        "sal1 = 933449.80434\n",
        "sal2 = int(sal-sal1)\n",
        "print(sal2)\n",
        "type(sal2)"
      ],
      "metadata": {
        "colab": {
          "base_uri": "https://localhost:8080/"
        },
        "id": "sgC5FapI7lbn",
        "outputId": "57a288eb-ae34-4590-aa7b-6e0562e713ef"
      },
      "execution_count": 79,
      "outputs": [
        {
          "output_type": "stream",
          "name": "stdout",
          "text": [
            "-821310\n"
          ]
        },
        {
          "output_type": "execute_result",
          "data": {
            "text/plain": [
              "int"
            ]
          },
          "metadata": {},
          "execution_count": 79
        }
      ]
    },
    {
      "cell_type": "code",
      "source": [
        "i = 232904.399\n",
        "j = 83344.94\n",
        "k = int(i*j)\n",
        "print(k)\n",
        "type(k)"
      ],
      "metadata": {
        "colab": {
          "base_uri": "https://localhost:8080/"
        },
        "id": "RaYO2vEU7lmI",
        "outputId": "f90c48c0-84b8-4445-faa3-31b7e48a64cb"
      },
      "execution_count": 80,
      "outputs": [
        {
          "output_type": "stream",
          "name": "stdout",
          "text": [
            "19411403160\n"
          ]
        },
        {
          "output_type": "execute_result",
          "data": {
            "text/plain": [
              "int"
            ]
          },
          "metadata": {},
          "execution_count": 80
        }
      ]
    },
    {
      "cell_type": "code",
      "source": [
        "res = 289233.33\n",
        "res1 = 11144\n",
        "res2 = int(res1/res)\n",
        "print(res2)\n",
        "type(res2)"
      ],
      "metadata": {
        "colab": {
          "base_uri": "https://localhost:8080/"
        },
        "id": "HYTdyxra7lx7",
        "outputId": "a5ea9c1e-afa1-4bce-d61b-be5571b83b85"
      },
      "execution_count": 81,
      "outputs": [
        {
          "output_type": "stream",
          "name": "stdout",
          "text": [
            "0\n"
          ]
        },
        {
          "output_type": "execute_result",
          "data": {
            "text/plain": [
              "int"
            ]
          },
          "metadata": {},
          "execution_count": 81
        }
      ]
    },
    {
      "cell_type": "code",
      "source": [
        "# convert int and float into complex\n",
        "\n",
        "a = 12\n",
        "b = 123.4\n",
        "c = complex(a,b)\n",
        "print(c)\n",
        "type(c)"
      ],
      "metadata": {
        "colab": {
          "base_uri": "https://localhost:8080/"
        },
        "id": "kTW5Zef91Os9",
        "outputId": "7a9c0056-22e4-4b2b-aa4c-76f530b98049"
      },
      "execution_count": 70,
      "outputs": [
        {
          "output_type": "stream",
          "name": "stdout",
          "text": [
            "(12+123.4j)\n"
          ]
        },
        {
          "output_type": "execute_result",
          "data": {
            "text/plain": [
              "complex"
            ]
          },
          "metadata": {},
          "execution_count": 70
        }
      ]
    },
    {
      "cell_type": "code",
      "source": [
        "x = 0\n",
        "y = 0\n",
        "z = complex(x,y)\n",
        "print(z)\n",
        "type(z)"
      ],
      "metadata": {
        "colab": {
          "base_uri": "https://localhost:8080/"
        },
        "id": "_RHstZgy1O7K",
        "outputId": "ee59154a-e2d2-49ff-abad-03901ecc4304"
      },
      "execution_count": 71,
      "outputs": [
        {
          "output_type": "stream",
          "name": "stdout",
          "text": [
            "0j\n"
          ]
        },
        {
          "output_type": "execute_result",
          "data": {
            "text/plain": [
              "complex"
            ]
          },
          "metadata": {},
          "execution_count": 71
        }
      ]
    },
    {
      "cell_type": "code",
      "source": [
        "clr = 84\n",
        "clr1 = complex(clr)\n",
        "print(clr1)\n",
        "type(clr1)"
      ],
      "metadata": {
        "colab": {
          "base_uri": "https://localhost:8080/"
        },
        "id": "XxhBfIyk1PEL",
        "outputId": "747c6c36-4f8e-4886-d673-88166404db3e"
      },
      "execution_count": 73,
      "outputs": [
        {
          "output_type": "stream",
          "name": "stdout",
          "text": [
            "(84+0j)\n"
          ]
        },
        {
          "output_type": "execute_result",
          "data": {
            "text/plain": [
              "complex"
            ]
          },
          "metadata": {},
          "execution_count": 73
        }
      ]
    },
    {
      "cell_type": "code",
      "source": [
        "i = 233423.55\n",
        "j = 3344.4\n",
        "k = complex(i,j)\n",
        "print(k)\n",
        "type(k)"
      ],
      "metadata": {
        "colab": {
          "base_uri": "https://localhost:8080/"
        },
        "id": "OpCxSQaW1POH",
        "outputId": "9615007e-d36e-4a73-b768-2c2167c0d1fd"
      },
      "execution_count": 74,
      "outputs": [
        {
          "output_type": "stream",
          "name": "stdout",
          "text": [
            "(233423.55+3344.4j)\n"
          ]
        },
        {
          "output_type": "execute_result",
          "data": {
            "text/plain": [
              "complex"
            ]
          },
          "metadata": {},
          "execution_count": 74
        }
      ]
    },
    {
      "cell_type": "code",
      "source": [
        "_num = 339.44\n",
        "_num1 = 4342\n",
        "_num2 = complex(_num,_num1)\n",
        "print(_num2)\n",
        "type(_num2)"
      ],
      "metadata": {
        "colab": {
          "base_uri": "https://localhost:8080/"
        },
        "id": "_pLgWM741PXI",
        "outputId": "35d88b4f-d96c-4f8a-b4a5-73a6f752c0a3"
      },
      "execution_count": 75,
      "outputs": [
        {
          "output_type": "stream",
          "name": "stdout",
          "text": [
            "(339.44+4342j)\n"
          ]
        },
        {
          "output_type": "execute_result",
          "data": {
            "text/plain": [
              "complex"
            ]
          },
          "metadata": {},
          "execution_count": 75
        }
      ]
    }
  ]
}