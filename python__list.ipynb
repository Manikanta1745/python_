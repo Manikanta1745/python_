{
  "nbformat": 4,
  "nbformat_minor": 0,
  "metadata": {
    "colab": {
      "provenance": []
    },
    "kernelspec": {
      "name": "python3",
      "display_name": "Python 3"
    },
    "language_info": {
      "name": "python"
    }
  },
  "cells": [
    {
      "cell_type": "code",
      "execution_count": null,
      "metadata": {
        "id": "PJ5KarRmbFqy"
      },
      "outputs": [],
      "source": [
        "# 1)define about list\n",
        "# 2)creating 10 examples storing different data types\n",
        "# 3)\n",
        "# 4)\n",
        "# 5)\n",
        "# 6)\n",
        "# 7)"
      ]
    },
    {
      "cell_type": "markdown",
      "source": [
        "#1) define about list\n",
        "\n",
        "  - it is a collection of elements or values\n",
        "  - list values stored in \"[]\" and seperated with \",\"\n",
        "  - it is mutable that means we can change,add or remove the values\n",
        "  - list is ordered data type\n",
        "  - list can allow duplicate values\n",
        "# how to access list elemets\n",
        "\n",
        "  - in python list, the index of 1st element is 0,2nd element is 1,....\n",
        "  - it can allows -ve index number -1 is last index of number,-2 is the next value,.....\n",
        "  - examples of list given below"
      ],
      "metadata": {
        "id": "4jWX6hzobSqB"
      }
    },
    {
      "cell_type": "markdown",
      "source": [
        "#2) examples of list with different data types\n"
      ],
      "metadata": {
        "id": "ZFV2XuBzmoOW"
      }
    },
    {
      "cell_type": "code",
      "source": [
        "\n",
        "numbers = [1,2,3,4,5,6,7,8,6,4] # allow duplicate values\n",
        "print(numbers)\n",
        "type(numbers)"
      ],
      "metadata": {
        "colab": {
          "base_uri": "https://localhost:8080/"
        },
        "id": "l32Jf3VEexI7",
        "outputId": "e29a20f9-9dd9-4273-f4ba-08f30853aa92"
      },
      "execution_count": 3,
      "outputs": [
        {
          "output_type": "stream",
          "name": "stdout",
          "text": [
            "[1, 2, 3, 4, 5, 6, 7, 8, 6, 4]\n"
          ]
        },
        {
          "output_type": "execute_result",
          "data": {
            "text/plain": [
              "list"
            ]
          },
          "metadata": {},
          "execution_count": 3
        }
      ]
    },
    {
      "cell_type": "code",
      "source": [
        "names = [\"apple\",\"banana\",\"custord\",\"orange\"]\n",
        "print(names)\n",
        "type(names)"
      ],
      "metadata": {
        "colab": {
          "base_uri": "https://localhost:8080/"
        },
        "id": "ROVT-pk6g2xG",
        "outputId": "69c14720-cc08-4e66-e890-aa8b68df65e6"
      },
      "execution_count": 2,
      "outputs": [
        {
          "output_type": "stream",
          "name": "stdout",
          "text": [
            "['apple', 'banana', 'custord', 'orange']\n"
          ]
        },
        {
          "output_type": "execute_result",
          "data": {
            "text/plain": [
              "list"
            ]
          },
          "metadata": {},
          "execution_count": 2
        }
      ]
    },
    {
      "cell_type": "code",
      "source": [
        "bool = [True,True,False,True,False]\n",
        "print(bool)\n",
        "type(bool)"
      ],
      "metadata": {
        "colab": {
          "base_uri": "https://localhost:8080/"
        },
        "id": "xCzUJLYnhhAC",
        "outputId": "01f22b6c-54ce-4efb-bdb4-a4d31b82a5ac"
      },
      "execution_count": 4,
      "outputs": [
        {
          "output_type": "stream",
          "name": "stdout",
          "text": [
            "[True, True, False, True, False]\n"
          ]
        },
        {
          "output_type": "execute_result",
          "data": {
            "text/plain": [
              "list"
            ]
          },
          "metadata": {},
          "execution_count": 4
        }
      ]
    },
    {
      "cell_type": "code",
      "source": [
        "float = [1.5,3.5,2.4,7.4,76.3]\n",
        "print(float)\n",
        "type(float)"
      ],
      "metadata": {
        "colab": {
          "base_uri": "https://localhost:8080/"
        },
        "id": "rk-PwgCOhxuX",
        "outputId": "b9ff991f-07e4-45ca-a40c-91ed5a4e57ce"
      },
      "execution_count": 5,
      "outputs": [
        {
          "output_type": "stream",
          "name": "stdout",
          "text": [
            "[1.5, 3.5, 2.4, 7.4, 76.3]\n"
          ]
        },
        {
          "output_type": "execute_result",
          "data": {
            "text/plain": [
              "list"
            ]
          },
          "metadata": {},
          "execution_count": 5
        }
      ]
    },
    {
      "cell_type": "code",
      "source": [
        "div = [3/6,6/4,7/3,87/65]\n",
        "print(div)\n",
        "type(div)"
      ],
      "metadata": {
        "colab": {
          "base_uri": "https://localhost:8080/"
        },
        "id": "KZEmOApHiIix",
        "outputId": "a73aef47-b2a4-40cb-c0b1-8c29dd547cb8"
      },
      "execution_count": 8,
      "outputs": [
        {
          "output_type": "stream",
          "name": "stdout",
          "text": [
            "[0.5, 1.5, 2.3333333333333335, 1.3384615384615384]\n"
          ]
        },
        {
          "output_type": "execute_result",
          "data": {
            "text/plain": [
              "list"
            ]
          },
          "metadata": {},
          "execution_count": 8
        }
      ]
    },
    {
      "cell_type": "code",
      "source": [
        "fl_div = [44//3,23/34,566//244,6744//3554]\n",
        "print(fl_div)\n",
        "type(fl_div)"
      ],
      "metadata": {
        "colab": {
          "base_uri": "https://localhost:8080/"
        },
        "id": "zSlBZfMOiIr8",
        "outputId": "e97ae583-1656-48c8-f9b4-7a0eabd4ff05"
      },
      "execution_count": 9,
      "outputs": [
        {
          "output_type": "stream",
          "name": "stdout",
          "text": [
            "[14, 0.6764705882352942, 2, 1]\n"
          ]
        },
        {
          "output_type": "execute_result",
          "data": {
            "text/plain": [
              "list"
            ]
          },
          "metadata": {},
          "execution_count": 9
        }
      ]
    },
    {
      "cell_type": "code",
      "source": [
        "rem = [232%543,3434%244,35334%2435,3534%244]\n",
        "print(rem)\n",
        "type(rem)"
      ],
      "metadata": {
        "colab": {
          "base_uri": "https://localhost:8080/"
        },
        "id": "G-xpwLayiI1h",
        "outputId": "19130669-194b-4119-9ca0-c2d9f069bd50"
      },
      "execution_count": 10,
      "outputs": [
        {
          "output_type": "stream",
          "name": "stdout",
          "text": [
            "[232, 18, 1244, 118]\n"
          ]
        },
        {
          "output_type": "execute_result",
          "data": {
            "text/plain": [
              "list"
            ]
          },
          "metadata": {},
          "execution_count": 10
        }
      ]
    },
    {
      "cell_type": "code",
      "source": [
        "mixed_type=[122,234.66,\"apple\",True,3//2,8/7,7867%867]\n",
        "print(mixed_type)\n",
        "type(mixed_type)"
      ],
      "metadata": {
        "colab": {
          "base_uri": "https://localhost:8080/"
        },
        "id": "IMmQp7mRiIaV",
        "outputId": "c8b2fb7f-1a41-4e27-baf8-12c9e202b2d4"
      },
      "execution_count": 7,
      "outputs": [
        {
          "output_type": "stream",
          "name": "stdout",
          "text": [
            "[122, 234.66, 'apple', True, 1, 1.1428571428571428, 64, 0.5714285714285714]\n"
          ]
        },
        {
          "output_type": "execute_result",
          "data": {
            "text/plain": [
              "list"
            ]
          },
          "metadata": {},
          "execution_count": 7
        }
      ]
    },
    {
      "cell_type": "markdown",
      "source": [
        "# 3)create a list with 15 elements you need to access each and every element from positive and negative index"
      ],
      "metadata": {
        "id": "lcbj5sAJkoBS"
      }
    },
    {
      "cell_type": "code",
      "source": [
        "mixedList =[12,33.12,\"python\",True,False,\"apple\",\"set\",\"list\",233,828,\"true\",\"orange\",\"bat\",\"hitman\",\"kohli\"]\n",
        "type(mixedList)\n",
        "print(mixedList[0])\n",
        "print(mixedList[1])\n",
        "print(mixedList[2])\n",
        "print(mixedList[3])\n",
        "print(mixedList[4])\n",
        "print(mixedList[5])\n",
        "print(mixedList[6])\n",
        "print(mixedList[7])\n",
        "print(mixedList[8])\n",
        "print(mixedList[9])\n",
        "print(mixedList[10])\n",
        "print(mixedList[11])\n",
        "print(mixedList[12])\n",
        "print(mixedList[13])\n",
        "print(mixedList[14])\n",
        "print(mixedList[-1])\n",
        "print(mixedList[-2])\n",
        "print(mixedList[-3])\n",
        "print(mixedList[-4])\n",
        "print(mixedList[-5])\n",
        "print(mixedList[-6])\n",
        "print(mixedList[-7])\n",
        "print(mixedList[-8])\n",
        "print(mixedList[-9])\n",
        "print(mixedList[-10])\n",
        "print(mixedList[-11])\n",
        "print(mixedList[-12])\n",
        "print(mixedList[-13])\n",
        "print(mixedList[-14])\n",
        "print(mixedList[-15])"
      ],
      "metadata": {
        "colab": {
          "base_uri": "https://localhost:8080/"
        },
        "id": "S5lqpQ5okgQK",
        "outputId": "c96953cd-728e-45f3-9f75-c2b8c0cacc8f"
      },
      "execution_count": 15,
      "outputs": [
        {
          "output_type": "stream",
          "name": "stdout",
          "text": [
            "12\n",
            "33.12\n",
            "python\n",
            "True\n",
            "False\n",
            "apple\n",
            "set\n",
            "list\n",
            "233\n",
            "828\n",
            "true\n",
            "orange\n",
            "bat\n",
            "hitman\n",
            "kohli\n",
            "kohli\n",
            "hitman\n",
            "bat\n",
            "orange\n",
            "true\n",
            "828\n",
            "233\n",
            "list\n",
            "set\n",
            "apple\n",
            "False\n",
            "True\n",
            "python\n",
            "33.12\n",
            "12\n"
          ]
        }
      ]
    },
    {
      "cell_type": "markdown",
      "source": [
        "#4) slicing both positive and negative\n",
        "\n",
        " - it is possible to access more than one element in the list\n",
        " - we can slice the values by using +ve and -ve index\n",
        " - syntax = [start_index : end_index] n-1 is for end_index"
      ],
      "metadata": {
        "id": "fJhuNugfm-Pa"
      }
    },
    {
      "cell_type": "code",
      "source": [
        "mixedList =[12,33.12,\"python\",True,False,\"apple\",\"set\",\"list\",233,828,\"true\",\"orange\",\"bat\",\"hitman\",\"kohli\"]\n",
        "#by using +ve index\n",
        "\n",
        "print(mixedList[1:5]) #n-1= 5-1= 4 >>upto 4 index it will print\n",
        "print(mixedList[4:])\n",
        "print(mixedList[:12]) #n-1= 12-1= 11 >> upto 11 index\n",
        "print(mixedList[:]) # it print total values\n",
        "\n",
        "#by using -ve index\n",
        "\n",
        "print(mixedList[-7:-1])\n",
        "print(mixedList[-8:-3])\n",
        "print(mixedList[-10:])\n",
        "print(mixedList[:-1])\n",
        "print(mixedList[:])\n"
      ],
      "metadata": {
        "colab": {
          "base_uri": "https://localhost:8080/"
        },
        "id": "5X314uKakgRV",
        "outputId": "8bb5e91f-4c88-4f0b-b2f2-7cdf43c2c086"
      },
      "execution_count": 33,
      "outputs": [
        {
          "output_type": "stream",
          "name": "stdout",
          "text": [
            "[33.12, 'python', True, False]\n",
            "[False, 'apple', 'set', 'list', 233, 828, 'true', 'orange', 'bat', 'hitman', 'kohli']\n",
            "[12, 33.12, 'python', True, False, 'apple', 'set', 'list', 233, 828, 'true', 'orange']\n",
            "[12, 33.12, 'python', True, False, 'apple', 'set', 'list', 233, 828, 'true', 'orange', 'bat', 'hitman', 'kohli']\n",
            "[233, 828, 'true', 'orange', 'bat', 'hitman']\n",
            "['list', 233, 828, 'true', 'orange']\n",
            "['apple', 'set', 'list', 233, 828, 'true', 'orange', 'bat', 'hitman', 'kohli']\n",
            "[12, 33.12, 'python', True, False, 'apple', 'set', 'list', 233, 828, 'true', 'orange', 'bat', 'hitman']\n",
            "[12, 33.12, 'python', True, False, 'apple', 'set', 'list', 233, 828, 'true', 'orange', 'bat', 'hitman', 'kohli']\n"
          ]
        }
      ]
    },
    {
      "cell_type": "markdown",
      "source": [
        "# 5)list operations\n",
        "\n",
        " - they are two types of operations\n",
        " - 1)concatination\n",
        "    - it can combine the two lists\n",
        " - 2)repetition\n",
        "    - it can repeat the values of list how many times we required               "
      ],
      "metadata": {
        "id": "mM4oQQYcqnTq"
      }
    },
    {
      "cell_type": "code",
      "source": [
        "# examples of concatination\n",
        "\n",
        "num = [1,3,422,54]\n",
        "num1 = [ 7849,55,32,5]\n",
        "print(num+num1)"
      ],
      "metadata": {
        "colab": {
          "base_uri": "https://localhost:8080/"
        },
        "id": "2erIuF1Frv4V",
        "outputId": "d963e022-73a6-4d99-bc35-766c6ac15cc6"
      },
      "execution_count": 34,
      "outputs": [
        {
          "output_type": "stream",
          "name": "stdout",
          "text": [
            "[1, 3, 422, 54, 7849, 55, 32, 5]\n"
          ]
        }
      ]
    },
    {
      "cell_type": "code",
      "source": [
        "num = [43,34,755,353443]\n",
        "names = [\"orange\",\"apple\",\"values\",\"python\"]\n",
        "print(num+names)"
      ],
      "metadata": {
        "colab": {
          "base_uri": "https://localhost:8080/"
        },
        "id": "NmaDIdzjsB-K",
        "outputId": "ed2c70f9-c29a-4de1-c355-e1592e580586"
      },
      "execution_count": 35,
      "outputs": [
        {
          "output_type": "stream",
          "name": "stdout",
          "text": [
            "[43, 34, 755, 353443, 'orange', 'apple', 'values', 'python']\n"
          ]
        }
      ]
    },
    {
      "cell_type": "code",
      "source": [
        "fl_num = [2324.5,343.34,354.35,23.34]\n",
        "bool = [True,False,True,True]\n",
        "print(fl_num+bool)"
      ],
      "metadata": {
        "colab": {
          "base_uri": "https://localhost:8080/"
        },
        "id": "ny68bWPOsCJx",
        "outputId": "6a447a38-b87d-4d8f-c75b-808415a5de09"
      },
      "execution_count": 36,
      "outputs": [
        {
          "output_type": "stream",
          "name": "stdout",
          "text": [
            "[2324.5, 343.34, 354.35, 23.34, True, False, True, True]\n"
          ]
        }
      ]
    },
    {
      "cell_type": "code",
      "source": [
        "div = [13/43,43/4.4,232/44.2]\n",
        "rem = [113%11,2233%2994,534%243.5]\n",
        "print(div+rem)"
      ],
      "metadata": {
        "colab": {
          "base_uri": "https://localhost:8080/"
        },
        "id": "ylDNB6n1sCUp",
        "outputId": "b143e433-ebc3-4f8e-f76e-47faddbb7fc8"
      },
      "execution_count": 37,
      "outputs": [
        {
          "output_type": "stream",
          "name": "stdout",
          "text": [
            "[0.3023255813953488, 9.772727272727272, 5.248868778280543, 3, 2233, 47.0]\n"
          ]
        }
      ]
    },
    {
      "cell_type": "code",
      "source": [
        "mixed_type = [13,43.3,\"mani\",True]\n",
        "mixed_type1 = [8338,37838,8283.3783]\n",
        "print(mixed_type+mixed_type1)"
      ],
      "metadata": {
        "colab": {
          "base_uri": "https://localhost:8080/"
        },
        "id": "TVE8-QZVsCgF",
        "outputId": "92a5b23f-1525-4b9f-a058-c2fb05fdc618"
      },
      "execution_count": 38,
      "outputs": [
        {
          "output_type": "stream",
          "name": "stdout",
          "text": [
            "[13, 43.3, 'mani', True, 8338, 37838, 8283.3783]\n"
          ]
        }
      ]
    },
    {
      "cell_type": "code",
      "source": [
        "#examples of repetition\n",
        "\n",
        "a = [1,323,4332,524,23.23,\"mani\"]\n",
        "print(a*3)"
      ],
      "metadata": {
        "colab": {
          "base_uri": "https://localhost:8080/"
        },
        "id": "LmkZU0c2tEda",
        "outputId": "2c5ac9e8-ad3b-4c53-d94b-05215e438f59"
      },
      "execution_count": 39,
      "outputs": [
        {
          "output_type": "stream",
          "name": "stdout",
          "text": [
            "[1, 323, 4332, 524, 23.23, 'mani', 1, 323, 4332, 524, 23.23, 'mani', 1, 323, 4332, 524, 23.23, 'mani']\n"
          ]
        }
      ]
    },
    {
      "cell_type": "code",
      "source": [
        "mixed_type = [13,43.3,\"mani\",True]\n",
        "print(mixed_type*4)"
      ],
      "metadata": {
        "colab": {
          "base_uri": "https://localhost:8080/"
        },
        "id": "tc1vGYKctEjM",
        "outputId": "907c06c3-7f7d-4fca-db66-418070b0f2aa"
      },
      "execution_count": 40,
      "outputs": [
        {
          "output_type": "stream",
          "name": "stdout",
          "text": [
            "[13, 43.3, 'mani', True, 13, 43.3, 'mani', True, 13, 43.3, 'mani', True, 13, 43.3, 'mani', True]\n"
          ]
        }
      ]
    },
    {
      "cell_type": "code",
      "source": [
        "names = [\"orange\",\"apple\",\"values\",\"python\"]\n",
        "print(names*3)"
      ],
      "metadata": {
        "colab": {
          "base_uri": "https://localhost:8080/"
        },
        "id": "5GXnu6rctEq5",
        "outputId": "1b81abb2-1b17-4cb6-d23d-b06635f90a1c"
      },
      "execution_count": 41,
      "outputs": [
        {
          "output_type": "stream",
          "name": "stdout",
          "text": [
            "['orange', 'apple', 'values', 'python', 'orange', 'apple', 'values', 'python', 'orange', 'apple', 'values', 'python']\n"
          ]
        }
      ]
    },
    {
      "cell_type": "code",
      "source": [
        "bool = [True,False,True,True]\n",
        "print(bool*5)"
      ],
      "metadata": {
        "colab": {
          "base_uri": "https://localhost:8080/"
        },
        "id": "gqJ-RyODtEx2",
        "outputId": "eb726ac8-38f7-4e5c-d7d7-de5226bd5ba4"
      },
      "execution_count": 43,
      "outputs": [
        {
          "output_type": "stream",
          "name": "stdout",
          "text": [
            "[True, False, True, True, True, False, True, True, True, False, True, True, True, False, True, True, True, False, True, True]\n"
          ]
        }
      ]
    },
    {
      "cell_type": "code",
      "source": [
        "fl_num = [2324.5,343.34,354.35,23.34]\n",
        "print(fl_num*2)"
      ],
      "metadata": {
        "colab": {
          "base_uri": "https://localhost:8080/"
        },
        "id": "Qbtjfv9WtE7D",
        "outputId": "5d2ce974-43a4-4a76-c265-723558b78424"
      },
      "execution_count": 42,
      "outputs": [
        {
          "output_type": "stream",
          "name": "stdout",
          "text": [
            "[2324.5, 343.34, 354.35, 23.34, 2324.5, 343.34, 354.35, 23.34]\n"
          ]
        }
      ]
    },
    {
      "cell_type": "markdown",
      "source": [
        "# 6) modify 5 elements in the list of 15 elements by using indexing and slicing\n"
      ],
      "metadata": {
        "id": "4kPMxXc81c5A"
      }
    },
    {
      "cell_type": "code",
      "source": [
        "#by using indexing\n",
        "\n",
        "mixed_List =[12,33.12,\"python\",True,False,\"apple\",\"set\",\"list\",233,828,\"true\",\"orange\",\"bat\",\"hitman\",\"kohli\"]\n",
        "mixed_List[0] = \"python\"\n",
        "mixed_List[5] = 32.4\n",
        "mixed_List[2] = \"c++\"\n",
        "mixed_List[10] = \"rohit\"\n",
        "mixed_List[8] = \"mani\"\n",
        "print(mixed_List)\n"
      ],
      "metadata": {
        "colab": {
          "base_uri": "https://localhost:8080/"
        },
        "id": "dXRBTYIP1rnq",
        "outputId": "78a745d7-899a-4cc3-9e84-754d2cfda2fe"
      },
      "execution_count": 46,
      "outputs": [
        {
          "output_type": "stream",
          "name": "stdout",
          "text": [
            "['python', 33.12, 'c++', True, False, 32.4, 'set', 'list', 'mani', 828, 'rohit', 'orange', 'bat', 'hitman', 'kohli']\n"
          ]
        }
      ]
    },
    {
      "cell_type": "code",
      "source": [
        "#by using slicing +ve and - ve index\n",
        "\n",
        "mixed_List =[12,33.12,\"python\",True,False,\"apple\",\"set\",\"list\",233,828,\"true\",\"orange\",\"bat\",\"hitman\",\"kohli\"]\n",
        "mixed_List[3:8] =  \"python\",\"selenium\",\"java\",\"c\"\n",
        "mixed_List[:3] = 2233,54.5,34,32\n",
        "#mixed_List[0:] = 31231,532.434,144131\n",
        "mixed_List[-4:-1] = 123.434,543.234,1434,3344\n",
        "mixed_List[-1:] = \"mani\",223,423,23323,32232,323,2\n",
        "print(mixed_List)"
      ],
      "metadata": {
        "colab": {
          "base_uri": "https://localhost:8080/"
        },
        "id": "mf-k-oy53xlv",
        "outputId": "5f8606a4-ad14-4892-8839-20143322370e"
      },
      "execution_count": 62,
      "outputs": [
        {
          "output_type": "stream",
          "name": "stdout",
          "text": [
            "[2233, 54.5, 34, 32, 'python', 'selenium', 'java', 'c', 233, 828, 'true', 123.434, 543.234, 1434, 3344, 'mani', 223, 423, 23323, 32232, 323, 2]\n"
          ]
        }
      ]
    },
    {
      "cell_type": "markdown",
      "source": [
        "# 7) list methods\n",
        "\n",
        " - they are 12 methods in list\n",
        " - 1)append()\n",
        "   - it can add only one element in the end of the list\n",
        " - 2)extend()\n",
        "   - it can add more than one element in the end of the list\n",
        " - 3)insert()\n",
        "   - it can insert the value at a particular position of index\n",
        "   - index_num,value  \n",
        " - 4)remove()\n",
        "   - removes the first preference of the value if the duplicatesvalues is present\n",
        " - 5)pop()\n",
        "   - it removes the value at a specified index position\n",
        "   - if index position not mention it removes last value in the list  \n",
        " - 6)index()\n",
        "   - it returns the index number as a output with the specified value\n",
        " - 7)count()\n",
        "   - it can returns the how many times the specified number is in the list\n",
        " - 8)sort()\n",
        "   - it can convert the list in ascending order\n",
        " - 9)sorted() or sort.list()\n",
        "   - it can convert the list in descending oder\n",
        " - 10)reverse()\n",
        "   - it can reverse the order of elements in the list\n",
        " - 11)clear()\n",
        "   - removes all elements from the list\n",
        " - 12)copy()\n",
        "   - returns a copy of the list\n",
        " - examples are given below"
      ],
      "metadata": {
        "id": "uE7btLJx5j-u"
      }
    },
    {
      "cell_type": "code",
      "source": [
        "#append()\n",
        "num = [1,32,42.43,232,32]\n",
        "num.append(34)\n",
        "print(num)"
      ],
      "metadata": {
        "colab": {
          "base_uri": "https://localhost:8080/"
        },
        "id": "KbzrCzILB7PN",
        "outputId": "7187cfec-abc2-40ff-ea9e-8cff4149acf0"
      },
      "execution_count": 63,
      "outputs": [
        {
          "output_type": "stream",
          "name": "stdout",
          "text": [
            "[1, 32, 42.43, 232, 32, 34]\n"
          ]
        }
      ]
    },
    {
      "cell_type": "code",
      "source": [
        "#extend()\n",
        "mixedlist =[12,33.12,\"python\",True,False,\"apple\",\"set\",\"list\",233,828,\"true\",\"orange\",\"bat\",\"hitman\",\"kohli\"]\n",
        "list1 = [41,\"alexa\"]\n",
        "mixedlist.extend(list1)\n",
        "print(mixedlist)\n",
        "mixedlist.extend([44,\"alexa\"])\n",
        "print(mixedlist)"
      ],
      "metadata": {
        "colab": {
          "base_uri": "https://localhost:8080/"
        },
        "id": "qbOxfAhCCJxc",
        "outputId": "9f38ff54-e84e-4e36-f7f6-4555c055ffee"
      },
      "execution_count": 68,
      "outputs": [
        {
          "output_type": "stream",
          "name": "stdout",
          "text": [
            "[12, 33.12, 'python', True, False, 'apple', 'set', 'list', 233, 828, 'true', 'orange', 'bat', 'hitman', 'kohli', 41, 'alexa']\n",
            "[12, 33.12, 'python', True, False, 'apple', 'set', 'list', 233, 828, 'true', 'orange', 'bat', 'hitman', 'kohli', 41, 'alexa', 44, 'alexa']\n"
          ]
        }
      ]
    },
    {
      "cell_type": "code",
      "source": [
        "#insert()\n",
        "mixedlist =[12,33.12,\"python\",True,False,\"apple\",\"set\",\"list\",233,828,\"true\",\"orange\",\"bat\",\"hitman\",\"kohli\"]\n",
        "mixedlist.insert(0,\"java\")\n",
        "print(mixedlist)"
      ],
      "metadata": {
        "colab": {
          "base_uri": "https://localhost:8080/"
        },
        "id": "Rfs0Yx9YChTf",
        "outputId": "08c16cc5-5d9f-4f24-f155-2afa1f898065"
      },
      "execution_count": 69,
      "outputs": [
        {
          "output_type": "stream",
          "name": "stdout",
          "text": [
            "['java', 12, 33.12, 'python', True, False, 'apple', 'set', 'list', 233, 828, 'true', 'orange', 'bat', 'hitman', 'kohli']\n"
          ]
        }
      ]
    },
    {
      "cell_type": "code",
      "source": [
        "#remove()\n",
        "mixedlist =[12,33.12,\"python\",True,False,\"apple\",\"set\",\"list\",233,828,True,\"orange\",\"bat\",\"hitman\",\"kohli\"]\n",
        "mixedlist.remove(True)\n",
        "print(mixedlist)"
      ],
      "metadata": {
        "colab": {
          "base_uri": "https://localhost:8080/"
        },
        "id": "nGJBQtSZDmoP",
        "outputId": "83350f7b-4132-4dca-952f-e20e37731048"
      },
      "execution_count": 70,
      "outputs": [
        {
          "output_type": "stream",
          "name": "stdout",
          "text": [
            "[12, 33.12, 'python', False, 'apple', 'set', 'list', 233, 828, True, 'orange', 'bat', 'hitman', 'kohli']\n"
          ]
        }
      ]
    },
    {
      "cell_type": "code",
      "source": [
        "#pop()\n",
        "mixedlist =[12,33.12,\"python\",True,False,\"apple\",\"set\",\"list\",233,828,\"true\",\"orange\",\"bat\",\"hitman\",\"kohli\"]\n",
        "mixedlist.pop(2)\n",
        "mixedlist.pop(12)\n",
        "mixedlist.pop(7)\n",
        "print(mixedlist)"
      ],
      "metadata": {
        "colab": {
          "base_uri": "https://localhost:8080/"
        },
        "id": "gDGkwKrOD6xC",
        "outputId": "6ced1684-3848-4389-afae-f0a85a601bc1"
      },
      "execution_count": 73,
      "outputs": [
        {
          "output_type": "stream",
          "name": "stdout",
          "text": [
            "[12, 33.12, True, False, 'apple', 'set', 'list', 828, 'true', 'orange', 'bat', 'kohli']\n"
          ]
        }
      ]
    },
    {
      "cell_type": "code",
      "source": [
        "#index()\n",
        "mixedlist =[12,33.12,\"python\",True,False,\"apple\",\"set\",\"list\",233,828,\"true\",\"orange\",\"bat\",\"hitman\",\"kohli\"]\n",
        "mixedlist.index(True)"
      ],
      "metadata": {
        "colab": {
          "base_uri": "https://localhost:8080/"
        },
        "id": "35CAIGJVEpFn",
        "outputId": "98aa2214-27f0-40da-b260-f863d2776e83"
      },
      "execution_count": 79,
      "outputs": [
        {
          "output_type": "execute_result",
          "data": {
            "text/plain": [
              "3"
            ]
          },
          "metadata": {},
          "execution_count": 79
        }
      ]
    },
    {
      "cell_type": "code",
      "source": [
        "#count()\n",
        "mixedlist =[12,12,12,12,33.12,\"python\",True,False,\"apple\",\"set\",\"list\",233,828,\"true\",\"orange\",\"bat\",\"hitman\",\"kohli\"]\n",
        "mixedlist.count(12)"
      ],
      "metadata": {
        "colab": {
          "base_uri": "https://localhost:8080/"
        },
        "id": "DzNhkmLNFPTI",
        "outputId": "d0b136b1-96f1-4949-e0b2-80afed9ccc28"
      },
      "execution_count": 80,
      "outputs": [
        {
          "output_type": "execute_result",
          "data": {
            "text/plain": [
              "4"
            ]
          },
          "metadata": {},
          "execution_count": 80
        }
      ]
    },
    {
      "cell_type": "code",
      "source": [
        "#sort()\n",
        "mixedlist =[\"python\",\"apple\",\"set\",\"list\",\"true\",\"orange\",\"bat\",\"hitman\",\"kohli\"]\n",
        "mixedlist.sort()\n",
        "print(mixedlist)"
      ],
      "metadata": {
        "colab": {
          "base_uri": "https://localhost:8080/"
        },
        "id": "mtn14DBlFxzI",
        "outputId": "349d557e-2276-4fda-aa59-cedbf634f06b"
      },
      "execution_count": 85,
      "outputs": [
        {
          "output_type": "stream",
          "name": "stdout",
          "text": [
            "['apple', 'bat', 'hitman', 'kohli', 'list', 'orange', 'python', 'set', 'true']\n"
          ]
        }
      ]
    },
    {
      "cell_type": "code",
      "source": [
        "#sorted() or list.sort()\n",
        "mixedlist =[\"python\",\"True\",\"False\",\"apple\",\"set\",\"list\",\"true\",\"orange\",\"bat\",\"hitman\",\"kohli\"]\n",
        "mixedlist.sort(reverse=True)\n",
        "print(mixedlist)"
      ],
      "metadata": {
        "colab": {
          "base_uri": "https://localhost:8080/"
        },
        "id": "PSI9ydEUF6Xd",
        "outputId": "e53914fe-7733-43ae-ca34-5b9ddc6a5ca9"
      },
      "execution_count": 89,
      "outputs": [
        {
          "output_type": "stream",
          "name": "stdout",
          "text": [
            "['true', 'set', 'python', 'orange', 'list', 'kohli', 'hitman', 'bat', 'apple', 'True', 'False']\n"
          ]
        }
      ]
    },
    {
      "cell_type": "code",
      "source": [
        "#clear()\n",
        "mixedlist =[12,33.12,\"python\",True,False,\"apple\",\"set\",\"list\",233,828,\"true\",\"orange\",\"bat\",\"hitman\",\"kohli\"]\n",
        "mixedlist.clear()\n",
        "print(mixedlist)"
      ],
      "metadata": {
        "colab": {
          "base_uri": "https://localhost:8080/"
        },
        "id": "djWbBVybHx8z",
        "outputId": "ae479868-02fd-4827-da52-308724667c4a"
      },
      "execution_count": 91,
      "outputs": [
        {
          "output_type": "stream",
          "name": "stdout",
          "text": [
            "[]\n"
          ]
        }
      ]
    },
    {
      "cell_type": "code",
      "source": [
        "#copy()\n",
        "mixedlist =[12,33.12,\"python\",True,False,\"apple\",\"set\",\"list\",233,828,\"true\",\"orange\",\"bat\",\"hitman\",\"kohli\"]\n",
        "mixedlist.copy()\n",
        "print(mixedlist)"
      ],
      "metadata": {
        "colab": {
          "base_uri": "https://localhost:8080/"
        },
        "id": "6mAEH7eMH-b2",
        "outputId": "4958b9a7-0f82-4d8d-b158-913c7f1433e5"
      },
      "execution_count": 95,
      "outputs": [
        {
          "output_type": "stream",
          "name": "stdout",
          "text": [
            "[12, 33.12, 'python', True, False, 'apple', 'set', 'list', 233, 828, 'true', 'orange', 'bat', 'hitman', 'kohli']\n"
          ]
        }
      ]
    }
  ]
}