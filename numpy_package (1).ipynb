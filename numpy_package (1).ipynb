{
  "nbformat": 4,
  "nbformat_minor": 0,
  "metadata": {
    "colab": {
      "provenance": []
    },
    "kernelspec": {
      "name": "python3",
      "display_name": "Python 3"
    },
    "language_info": {
      "name": "python"
    }
  },
  "cells": [
    {
      "cell_type": "markdown",
      "source": [
        "# what is package\n",
        "\n",
        "- package is a collection of modules and modules is a collection of functions\n",
        "- they are some packages"
      ],
      "metadata": {
        "id": "tYNBwfhOuIaz"
      }
    },
    {
      "cell_type": "markdown",
      "source": [
        "#1)numpy:\n",
        "\n",
        "- it is high performance multi dimentional array\n",
        "- it can deal with n dimentional arrays\n",
        "- it is used for scientific calculation purpose\n",
        "- it can store and manipulate the huge amount of data\n",
        "- it performs mathematical and logical operation of arrays\n",
        "- it is faster than repular python list"
      ],
      "metadata": {
        "id": "xqV5BXeCueRT"
      }
    },
    {
      "cell_type": "code",
      "execution_count": null,
      "metadata": {
        "colab": {
          "base_uri": "https://localhost:8080/"
        },
        "id": "flgqSx5luFB4",
        "outputId": "f68b8917-ccad-4800-ff30-254657236748"
      },
      "outputs": [
        {
          "output_type": "stream",
          "name": "stdout",
          "text": [
            "Requirement already satisfied: numpy in /usr/local/lib/python3.10/dist-packages (1.26.4)\n"
          ]
        }
      ],
      "source": [
        "# install numpy\n",
        "\n",
        "!pip install numpy\n"
      ]
    },
    {
      "cell_type": "code",
      "source": [
        "#importing numpy\n",
        "\n",
        "import numpy as np  #np is like pet name for numpy\n",
        "#creating numpy\n",
        "\n",
        "#creating 1-D array\n",
        "a = np.array([1,2,3])\n",
        "print(a)"
      ],
      "metadata": {
        "colab": {
          "base_uri": "https://localhost:8080/"
        },
        "id": "8qViEmC5wlEW",
        "outputId": "f2e245d0-568a-4f5c-ca4e-45dadd69a946"
      },
      "execution_count": null,
      "outputs": [
        {
          "output_type": "stream",
          "name": "stdout",
          "text": [
            "[1 2 3]\n"
          ]
        }
      ]
    },
    {
      "cell_type": "code",
      "source": [
        "#creating 2-D array\n",
        "b = np.array([[1,2,3],[1,2,3],[1,2,3]])\n",
        "print(b)"
      ],
      "metadata": {
        "colab": {
          "base_uri": "https://localhost:8080/"
        },
        "id": "fVetCyEaycM1",
        "outputId": "ec0d4b32-13dd-4cd6-b917-b8701443d980"
      },
      "execution_count": null,
      "outputs": [
        {
          "output_type": "stream",
          "name": "stdout",
          "text": [
            "[[1 2 3]\n",
            " [1 2 3]\n",
            " [1 2 3]]\n"
          ]
        }
      ]
    },
    {
      "cell_type": "code",
      "source": [
        "#creating 3-D array\n",
        "c = np.array([[[1,2,3],[1,2,3],[1,2,3]]])\n",
        "print(c)"
      ],
      "metadata": {
        "colab": {
          "base_uri": "https://localhost:8080/"
        },
        "id": "IZ4F6VGDyeuN",
        "outputId": "05757061-6c1a-4e8d-f460-9429405a0149"
      },
      "execution_count": null,
      "outputs": [
        {
          "output_type": "stream",
          "name": "stdout",
          "text": [
            "[[[1 2 3]\n",
            "  [1 2 3]\n",
            "  [1 2 3]]]\n"
          ]
        }
      ]
    },
    {
      "cell_type": "code",
      "source": [
        "#creating 4-D array\n",
        "d = np.array([[[[1,2,3],[1,2,3],[1,2,3]]]])\n",
        "print(d)"
      ],
      "metadata": {
        "colab": {
          "base_uri": "https://localhost:8080/"
        },
        "id": "0tfZJn7Syghj",
        "outputId": "6581fb82-7004-40fd-f068-d029f0d75d5d"
      },
      "execution_count": null,
      "outputs": [
        {
          "output_type": "stream",
          "name": "stdout",
          "text": [
            "[[[[1 2 3]\n",
            "   [1 2 3]\n",
            "   [1 2 3]]]]\n"
          ]
        }
      ]
    },
    {
      "cell_type": "code",
      "source": [
        "#creating 5-D array\n",
        "e = np.array([[[[[1,2,3],[1,2,3],[1,2,3]]]]])\n",
        "print(e)"
      ],
      "metadata": {
        "colab": {
          "base_uri": "https://localhost:8080/"
        },
        "id": "bp5o6DM5z2_e",
        "outputId": "74f840f0-0936-454d-ae70-cb536d611885"
      },
      "execution_count": null,
      "outputs": [
        {
          "output_type": "stream",
          "name": "stdout",
          "text": [
            "[[[[[1 2 3]\n",
            "    [1 2 3]\n",
            "    [1 2 3]]]]]\n"
          ]
        }
      ]
    },
    {
      "cell_type": "markdown",
      "source": [
        "#initial placeholders\n",
        "\n",
        "1)zeros:\n",
        "\n",
        "- to create all values with zeros"
      ],
      "metadata": {
        "id": "uoWS5qQa0DIH"
      }
    },
    {
      "cell_type": "code",
      "source": [
        "#create array with zeros\n",
        "\n",
        "import numpy as np\n",
        "np.zeros([2,3,3])  #syntax->(shape,row,coloumn) and it can takes first priority from end side\n",
        "#3-D array"
      ],
      "metadata": {
        "colab": {
          "base_uri": "https://localhost:8080/"
        },
        "id": "AgNwPzvW0GgK",
        "outputId": "e84fe362-98d8-4549-c550-6f54ce2e986f"
      },
      "execution_count": null,
      "outputs": [
        {
          "output_type": "execute_result",
          "data": {
            "text/plain": [
              "array([[[0., 0., 0.],\n",
              "        [0., 0., 0.],\n",
              "        [0., 0., 0.]],\n",
              "\n",
              "       [[0., 0., 0.],\n",
              "        [0., 0., 0.],\n",
              "        [0., 0., 0.]]])"
            ]
          },
          "metadata": {},
          "execution_count": 46
        }
      ]
    },
    {
      "cell_type": "code",
      "source": [
        "import numpy as np\n",
        "np.zeros([3])  #1-D array"
      ],
      "metadata": {
        "colab": {
          "base_uri": "https://localhost:8080/"
        },
        "id": "IT1Xxe2X2J0Y",
        "outputId": "f82b1038-04c9-493d-8d71-9cb2a733df9e"
      },
      "execution_count": null,
      "outputs": [
        {
          "output_type": "execute_result",
          "data": {
            "text/plain": [
              "array([0., 0., 0.])"
            ]
          },
          "metadata": {},
          "execution_count": 42
        }
      ]
    },
    {
      "cell_type": "code",
      "source": [
        "import numpy as np\n",
        "np.zeros([3,3])  #2-D array"
      ],
      "metadata": {
        "colab": {
          "base_uri": "https://localhost:8080/"
        },
        "id": "khLPzTUa2RTg",
        "outputId": "b8d16a47-b9c6-4591-fcbd-32d6b7caab06"
      },
      "execution_count": null,
      "outputs": [
        {
          "output_type": "execute_result",
          "data": {
            "text/plain": [
              "array([[0., 0., 0.],\n",
              "       [0., 0., 0.],\n",
              "       [0., 0., 0.]])"
            ]
          },
          "metadata": {},
          "execution_count": 41
        }
      ]
    },
    {
      "cell_type": "code",
      "source": [
        "import numpy as np\n",
        "np.zeros([3,1,3,3])  #4-D array"
      ],
      "metadata": {
        "colab": {
          "base_uri": "https://localhost:8080/"
        },
        "id": "gDUrpm382xM3",
        "outputId": "a9058fd4-83b3-43e8-fb9b-22e3c00cce7b"
      },
      "execution_count": null,
      "outputs": [
        {
          "output_type": "execute_result",
          "data": {
            "text/plain": [
              "array([[[[0., 0., 0.],\n",
              "         [0., 0., 0.],\n",
              "         [0., 0., 0.]]],\n",
              "\n",
              "\n",
              "       [[[0., 0., 0.],\n",
              "         [0., 0., 0.],\n",
              "         [0., 0., 0.]]],\n",
              "\n",
              "\n",
              "       [[[0., 0., 0.],\n",
              "         [0., 0., 0.],\n",
              "         [0., 0., 0.]]]])"
            ]
          },
          "metadata": {},
          "execution_count": 44
        }
      ]
    },
    {
      "cell_type": "code",
      "source": [
        "import numpy as np\n",
        "np.zeros([1,1,3,3,3]) #5-D array"
      ],
      "metadata": {
        "colab": {
          "base_uri": "https://localhost:8080/"
        },
        "id": "YLvYf0hE3Rss",
        "outputId": "ffa6a69c-b039-499e-9ac0-478ce6d73c21"
      },
      "execution_count": null,
      "outputs": [
        {
          "output_type": "execute_result",
          "data": {
            "text/plain": [
              "array([[[[[0., 0., 0.],\n",
              "          [0., 0., 0.],\n",
              "          [0., 0., 0.]],\n",
              "\n",
              "         [[0., 0., 0.],\n",
              "          [0., 0., 0.],\n",
              "          [0., 0., 0.]],\n",
              "\n",
              "         [[0., 0., 0.],\n",
              "          [0., 0., 0.],\n",
              "          [0., 0., 0.]]]]])"
            ]
          },
          "metadata": {},
          "execution_count": 54
        }
      ]
    },
    {
      "cell_type": "markdown",
      "source": [
        "2)ones:\n",
        "\n",
        "- to create all the values in ones"
      ],
      "metadata": {
        "id": "JjGFjEB217Es"
      }
    },
    {
      "cell_type": "code",
      "source": [
        "import numpy as np\n",
        "np.ones([3])    #1-D array"
      ],
      "metadata": {
        "colab": {
          "base_uri": "https://localhost:8080/"
        },
        "id": "j8KCHY1M4I_B",
        "outputId": "cf4d9ba6-bd32-4baa-d6dd-10a15315693a"
      },
      "execution_count": null,
      "outputs": [
        {
          "output_type": "execute_result",
          "data": {
            "text/plain": [
              "array([1., 1., 1.])"
            ]
          },
          "metadata": {},
          "execution_count": 55
        }
      ]
    },
    {
      "cell_type": "code",
      "source": [
        "import numpy as np\n",
        "np.ones([3,3])   #2-D array"
      ],
      "metadata": {
        "colab": {
          "base_uri": "https://localhost:8080/"
        },
        "id": "4MknYdC14Yif",
        "outputId": "7764e915-a2eb-4706-a0a2-4baef5f60f30"
      },
      "execution_count": null,
      "outputs": [
        {
          "output_type": "execute_result",
          "data": {
            "text/plain": [
              "array([[1., 1., 1.],\n",
              "       [1., 1., 1.],\n",
              "       [1., 1., 1.]])"
            ]
          },
          "metadata": {},
          "execution_count": 56
        }
      ]
    },
    {
      "cell_type": "code",
      "source": [
        "import numpy as np\n",
        "np.ones([1,3,3])  #3-D array"
      ],
      "metadata": {
        "colab": {
          "base_uri": "https://localhost:8080/"
        },
        "id": "ZXU6gHPQ4kLD",
        "outputId": "20d13c72-d809-4dc0-e7ae-86892d2dac6b"
      },
      "execution_count": null,
      "outputs": [
        {
          "output_type": "execute_result",
          "data": {
            "text/plain": [
              "array([[[1., 1., 1.],\n",
              "        [1., 1., 1.],\n",
              "        [1., 1., 1.]]])"
            ]
          },
          "metadata": {},
          "execution_count": 57
        }
      ]
    },
    {
      "cell_type": "code",
      "source": [
        "import numpy as np\n",
        "np.ones([1,2,3,3])  #4-D array"
      ],
      "metadata": {
        "colab": {
          "base_uri": "https://localhost:8080/"
        },
        "id": "z58_j5s64s7I",
        "outputId": "d25060de-0705-4248-d8f2-a97b075d0d20"
      },
      "execution_count": null,
      "outputs": [
        {
          "output_type": "execute_result",
          "data": {
            "text/plain": [
              "array([[[[1., 1., 1.],\n",
              "         [1., 1., 1.],\n",
              "         [1., 1., 1.]],\n",
              "\n",
              "        [[1., 1., 1.],\n",
              "         [1., 1., 1.],\n",
              "         [1., 1., 1.]]]])"
            ]
          },
          "metadata": {},
          "execution_count": 60
        }
      ]
    },
    {
      "cell_type": "code",
      "source": [
        "import numpy as np\n",
        "np.ones([1,1,2,3,3])     #5-D array"
      ],
      "metadata": {
        "colab": {
          "base_uri": "https://localhost:8080/"
        },
        "id": "8s6O-D3n4_lZ",
        "outputId": "a7f86610-ccf6-4171-c1bc-48e34cd60e61"
      },
      "execution_count": null,
      "outputs": [
        {
          "output_type": "execute_result",
          "data": {
            "text/plain": [
              "array([[[[[1., 1., 1.],\n",
              "          [1., 1., 1.],\n",
              "          [1., 1., 1.]],\n",
              "\n",
              "         [[1., 1., 1.],\n",
              "          [1., 1., 1.],\n",
              "          [1., 1., 1.]]]]])"
            ]
          },
          "metadata": {},
          "execution_count": 69
        }
      ]
    },
    {
      "cell_type": "markdown",
      "source": [
        "3)evenly spaced values:\n",
        "\n",
        "- it is simply known as skip the values\n",
        "- syntax-> np.arange(start,end,step)\n",
        "- step = n-1(number-1)"
      ],
      "metadata": {
        "id": "eFaaY7I45kNX"
      }
    },
    {
      "cell_type": "code",
      "source": [
        "# creating an array of evenly spaced values\n",
        "\n",
        "import numpy as np\n",
        "a = np.arange(1,15,2)     #syntax-> np.arange(start value,end value,step value)(n-1)\n",
        "#[(n-1) = 2-1 = 1 and skips the one value and print next number]\n",
        "print(a)"
      ],
      "metadata": {
        "colab": {
          "base_uri": "https://localhost:8080/"
        },
        "id": "skGxXGCj5vdx",
        "outputId": "0d9a874c-6575-4bd8-93ce-e057842ee234"
      },
      "execution_count": null,
      "outputs": [
        {
          "output_type": "stream",
          "name": "stdout",
          "text": [
            "[ 1  3  5  7  9 11 13]\n"
          ]
        }
      ]
    },
    {
      "cell_type": "code",
      "source": [
        "import numpy as np\n",
        "b = np.arange(1,10,3)\n",
        "#[(n-1) = 3-1 = 2 and skips the 2 values and print next number]\n",
        "print(b)"
      ],
      "metadata": {
        "colab": {
          "base_uri": "https://localhost:8080/"
        },
        "id": "mUe3oIk77egP",
        "outputId": "2c57ddd7-f301-4266-8790-bfe77ce98fd0"
      },
      "execution_count": null,
      "outputs": [
        {
          "output_type": "stream",
          "name": "stdout",
          "text": [
            "[1 4 7]\n"
          ]
        }
      ]
    },
    {
      "cell_type": "code",
      "source": [
        "import numpy as np\n",
        "c = np.arange(1,100,15)\n",
        "#[(n-1) = 15-1 = 14 and skips the 14 values and print next number]\n",
        "print(c)"
      ],
      "metadata": {
        "colab": {
          "base_uri": "https://localhost:8080/"
        },
        "id": "A_Z6KDRo706c",
        "outputId": "50f77abf-e080-445a-af4f-bb3b3eb86b70"
      },
      "execution_count": null,
      "outputs": [
        {
          "output_type": "stream",
          "name": "stdout",
          "text": [
            "[ 1 16 31 46 61 76 91]\n"
          ]
        }
      ]
    },
    {
      "cell_type": "markdown",
      "source": [
        "4)evenly spaced samples\n",
        "\n",
        "- it is simply known as divide into parts by mentioned value\n",
        "- syntax -> np.linspace(starting,ending,how many parts)"
      ],
      "metadata": {
        "id": "mUuwNmdr9bRr"
      }
    },
    {
      "cell_type": "code",
      "source": [
        "import numpy as np\n",
        "a = np.linspace(0,10,5)\n",
        "print(a)"
      ],
      "metadata": {
        "colab": {
          "base_uri": "https://localhost:8080/"
        },
        "id": "A4bjRUWo9xFm",
        "outputId": "65de5b83-e448-44e9-a98d-c6293c6a823c"
      },
      "execution_count": null,
      "outputs": [
        {
          "output_type": "stream",
          "name": "stdout",
          "text": [
            "[ 0.   2.5  5.   7.5 10. ]\n"
          ]
        }
      ]
    },
    {
      "cell_type": "code",
      "source": [
        "import numpy as np\n",
        "b = np.linspace(1,20,20)\n",
        "print(b)"
      ],
      "metadata": {
        "colab": {
          "base_uri": "https://localhost:8080/"
        },
        "id": "ADd4_Vz7-Mx4",
        "outputId": "7a1174f0-0fac-43cd-b042-7de8d7e27d40"
      },
      "execution_count": null,
      "outputs": [
        {
          "output_type": "stream",
          "name": "stdout",
          "text": [
            "[ 1.  2.  3.  4.  5.  6.  7.  8.  9. 10. 11. 12. 13. 14. 15. 16. 17. 18.\n",
            " 19. 20.]\n"
          ]
        }
      ]
    },
    {
      "cell_type": "code",
      "source": [
        "import numpy as np\n",
        "c = np.linspace(1,10,20)\n",
        "print(c)"
      ],
      "metadata": {
        "colab": {
          "base_uri": "https://localhost:8080/"
        },
        "id": "lxLHzAf9-WVi",
        "outputId": "f86dd530-679c-40f0-b6e9-5a15f2a1826d"
      },
      "execution_count": null,
      "outputs": [
        {
          "output_type": "stream",
          "name": "stdout",
          "text": [
            "[ 1.          1.47368421  1.94736842  2.42105263  2.89473684  3.36842105\n",
            "  3.84210526  4.31578947  4.78947368  5.26315789  5.73684211  6.21052632\n",
            "  6.68421053  7.15789474  7.63157895  8.10526316  8.57894737  9.05263158\n",
            "  9.52631579 10.        ]\n"
          ]
        }
      ]
    },
    {
      "cell_type": "code",
      "source": [
        "import numpy as np\n",
        "d = np.linspace(10,20,40)\n",
        "print(d)"
      ],
      "metadata": {
        "colab": {
          "base_uri": "https://localhost:8080/"
        },
        "id": "7IDC9J1J-fpx",
        "outputId": "e5b403d4-00ad-4dbd-80fd-1f8df7f30ae9"
      },
      "execution_count": null,
      "outputs": [
        {
          "output_type": "stream",
          "name": "stdout",
          "text": [
            "[10.         10.25641026 10.51282051 10.76923077 11.02564103 11.28205128\n",
            " 11.53846154 11.79487179 12.05128205 12.30769231 12.56410256 12.82051282\n",
            " 13.07692308 13.33333333 13.58974359 13.84615385 14.1025641  14.35897436\n",
            " 14.61538462 14.87179487 15.12820513 15.38461538 15.64102564 15.8974359\n",
            " 16.15384615 16.41025641 16.66666667 16.92307692 17.17948718 17.43589744\n",
            " 17.69230769 17.94871795 18.20512821 18.46153846 18.71794872 18.97435897\n",
            " 19.23076923 19.48717949 19.74358974 20.        ]\n"
          ]
        }
      ]
    },
    {
      "cell_type": "code",
      "source": [
        "import numpy as np\n",
        "e = np.linspace(100,120,30)\n",
        "print(e)"
      ],
      "metadata": {
        "colab": {
          "base_uri": "https://localhost:8080/"
        },
        "id": "S7SCuzvB-po1",
        "outputId": "0e624f58-4d01-4d7b-9654-4583fac9eeb3"
      },
      "execution_count": null,
      "outputs": [
        {
          "output_type": "stream",
          "name": "stdout",
          "text": [
            "[100.         100.68965517 101.37931034 102.06896552 102.75862069\n",
            " 103.44827586 104.13793103 104.82758621 105.51724138 106.20689655\n",
            " 106.89655172 107.5862069  108.27586207 108.96551724 109.65517241\n",
            " 110.34482759 111.03448276 111.72413793 112.4137931  113.10344828\n",
            " 113.79310345 114.48275862 115.17241379 115.86206897 116.55172414\n",
            " 117.24137931 117.93103448 118.62068966 119.31034483 120.        ]\n"
          ]
        }
      ]
    },
    {
      "cell_type": "markdown",
      "source": [
        "5) create constant array (or) same number repeated\n",
        "\n",
        "- np.full()"
      ],
      "metadata": {
        "id": "IEGXZntHuhmI"
      }
    },
    {
      "cell_type": "code",
      "source": [
        "#for 1-D array\n",
        "import numpy as np\n",
        "arr = np.full((10),45)  #for 1d array np.full((coloumns),value)\n",
        "print(arr)\n",
        "print(arr.ndim) #ndim define for array dimension"
      ],
      "metadata": {
        "colab": {
          "base_uri": "https://localhost:8080/"
        },
        "id": "bxV0FbeWu1Gm",
        "outputId": "90f27f32-6452-4316-b5aa-500962f4fa9e"
      },
      "execution_count": null,
      "outputs": [
        {
          "output_type": "stream",
          "name": "stdout",
          "text": [
            "[45 45 45 45 45 45 45 45 45 45]\n",
            "1\n"
          ]
        }
      ]
    },
    {
      "cell_type": "code",
      "source": [
        "import numpy as np\n",
        "arr = np.full((12),17)\n",
        "print(arr)"
      ],
      "metadata": {
        "colab": {
          "base_uri": "https://localhost:8080/"
        },
        "id": "0meJMyegvchv",
        "outputId": "c3fadc3b-cd8a-4a3b-b404-37a9cdca7986"
      },
      "execution_count": null,
      "outputs": [
        {
          "output_type": "stream",
          "name": "stdout",
          "text": [
            "[17 17 17 17 17 17 17 17 17 17 17 17]\n"
          ]
        }
      ]
    },
    {
      "cell_type": "code",
      "source": [
        "import numpy as np\n",
        "arr = np.full((10),(18))\n",
        "print(arr)"
      ],
      "metadata": {
        "colab": {
          "base_uri": "https://localhost:8080/"
        },
        "id": "sdJLrrBBvprg",
        "outputId": "ccb8155e-0a1c-4dcf-a7a6-12235e931d3f"
      },
      "execution_count": null,
      "outputs": [
        {
          "output_type": "stream",
          "name": "stdout",
          "text": [
            "[18 18 18 18 18 18 18 18 18 18]\n"
          ]
        }
      ]
    },
    {
      "cell_type": "code",
      "source": [
        "import numpy as np\n",
        "arr = np.full((10),10)\n",
        "print(arr)"
      ],
      "metadata": {
        "colab": {
          "base_uri": "https://localhost:8080/"
        },
        "id": "q1nDouG6v13X",
        "outputId": "47e73faa-d907-4884-8ad6-310951800aa8"
      },
      "execution_count": null,
      "outputs": [
        {
          "output_type": "stream",
          "name": "stdout",
          "text": [
            "[10 10 10 10 10 10 10 10 10 10]\n"
          ]
        }
      ]
    },
    {
      "cell_type": "code",
      "source": [
        "import numpy as np\n",
        "arr = np.full((7),7)\n",
        "print(arr)"
      ],
      "metadata": {
        "colab": {
          "base_uri": "https://localhost:8080/"
        },
        "id": "c6C1v_CkwYs-",
        "outputId": "2afcc747-b717-42db-9efd-fea40b3c4e73"
      },
      "execution_count": null,
      "outputs": [
        {
          "output_type": "stream",
          "name": "stdout",
          "text": [
            "[7 7 7 7 7 7 7]\n"
          ]
        }
      ]
    },
    {
      "cell_type": "code",
      "source": [
        "#2-D array\n",
        "\n",
        "import numpy as np\n",
        "arr = np.full((2,2),45)  #np.full((rows,coloumns),value)\n",
        "print(arr)"
      ],
      "metadata": {
        "colab": {
          "base_uri": "https://localhost:8080/"
        },
        "id": "T9-S3-Ylv8AN",
        "outputId": "fb14dda0-74fb-46d7-ad18-78bfb9333cab"
      },
      "execution_count": null,
      "outputs": [
        {
          "output_type": "stream",
          "name": "stdout",
          "text": [
            "[[45 45]\n",
            " [45 45]]\n"
          ]
        }
      ]
    },
    {
      "cell_type": "code",
      "source": [
        "import numpy as np\n",
        "arr = np.full((3,3),10)\n",
        "print(arr)"
      ],
      "metadata": {
        "colab": {
          "base_uri": "https://localhost:8080/"
        },
        "id": "LAMKRFHCwPsO",
        "outputId": "61985310-4759-4bdb-a8dd-6b2cadb8f96c"
      },
      "execution_count": null,
      "outputs": [
        {
          "output_type": "stream",
          "name": "stdout",
          "text": [
            "[[10 10 10]\n",
            " [10 10 10]\n",
            " [10 10 10]]\n"
          ]
        }
      ]
    },
    {
      "cell_type": "code",
      "source": [
        "import numpy as np\n",
        "arr = np.full((4,4),17)\n",
        "print(arr)"
      ],
      "metadata": {
        "colab": {
          "base_uri": "https://localhost:8080/"
        },
        "id": "tV3_Okqwwq-N",
        "outputId": "cc1a321a-c80a-4d56-9398-b97a03ac8165"
      },
      "execution_count": null,
      "outputs": [
        {
          "output_type": "stream",
          "name": "stdout",
          "text": [
            "[[17 17 17 17]\n",
            " [17 17 17 17]\n",
            " [17 17 17 17]\n",
            " [17 17 17 17]]\n"
          ]
        }
      ]
    },
    {
      "cell_type": "code",
      "source": [
        "import numpy as np\n",
        "arr = np.full((5,5),18)\n",
        "print(arr)"
      ],
      "metadata": {
        "colab": {
          "base_uri": "https://localhost:8080/"
        },
        "id": "jb8NSqp3wyuq",
        "outputId": "5540059b-9634-4ef4-b0a9-27e718044817"
      },
      "execution_count": null,
      "outputs": [
        {
          "output_type": "stream",
          "name": "stdout",
          "text": [
            "[[18 18 18 18 18]\n",
            " [18 18 18 18 18]\n",
            " [18 18 18 18 18]\n",
            " [18 18 18 18 18]\n",
            " [18 18 18 18 18]]\n"
          ]
        }
      ]
    },
    {
      "cell_type": "code",
      "source": [
        "import numpy as np\n",
        "arr = np.full((6,6),7)\n",
        "print(arr)"
      ],
      "metadata": {
        "colab": {
          "base_uri": "https://localhost:8080/"
        },
        "id": "LV0So-Phw7xq",
        "outputId": "6196dd3b-58fb-43d6-b764-f97699175ce9"
      },
      "execution_count": null,
      "outputs": [
        {
          "output_type": "stream",
          "name": "stdout",
          "text": [
            "[[7 7 7 7 7 7]\n",
            " [7 7 7 7 7 7]\n",
            " [7 7 7 7 7 7]\n",
            " [7 7 7 7 7 7]\n",
            " [7 7 7 7 7 7]\n",
            " [7 7 7 7 7 7]]\n"
          ]
        }
      ]
    },
    {
      "cell_type": "code",
      "source": [
        "#3-D array\n",
        "\n",
        "import numpy as np\n",
        "arr = np.full((1,2,2),45)\n",
        "print(arr)"
      ],
      "metadata": {
        "colab": {
          "base_uri": "https://localhost:8080/"
        },
        "id": "k5TPj61ZxDiJ",
        "outputId": "3b585d89-dde7-4a87-f561-0efa06e279c1"
      },
      "execution_count": null,
      "outputs": [
        {
          "output_type": "stream",
          "name": "stdout",
          "text": [
            "[[[45 45]\n",
            "  [45 45]]]\n"
          ]
        }
      ]
    },
    {
      "cell_type": "code",
      "source": [
        "import numpy as np\n",
        "arr =np.full((1,3,3),18)\n",
        "print(arr)"
      ],
      "metadata": {
        "colab": {
          "base_uri": "https://localhost:8080/"
        },
        "id": "Sdvaoyt7xW2N",
        "outputId": "9712579c-2fb7-454c-b2e5-3c4e66e55836"
      },
      "execution_count": null,
      "outputs": [
        {
          "output_type": "stream",
          "name": "stdout",
          "text": [
            "[[[18 18 18]\n",
            "  [18 18 18]\n",
            "  [18 18 18]]]\n"
          ]
        }
      ]
    },
    {
      "cell_type": "code",
      "source": [
        "import numpy as np\n",
        "arr = np.full((1,4,4),17)\n",
        "print(arr)"
      ],
      "metadata": {
        "colab": {
          "base_uri": "https://localhost:8080/"
        },
        "id": "cd9SJ34vxd-A",
        "outputId": "fb3d260b-dcd2-47e5-b002-6db707f00754"
      },
      "execution_count": null,
      "outputs": [
        {
          "output_type": "stream",
          "name": "stdout",
          "text": [
            "[[[17 17 17 17]\n",
            "  [17 17 17 17]\n",
            "  [17 17 17 17]\n",
            "  [17 17 17 17]]]\n"
          ]
        }
      ]
    },
    {
      "cell_type": "code",
      "source": [
        "import numpy as np\n",
        "arr = np.full((1,5,5),10)\n",
        "print(arr)"
      ],
      "metadata": {
        "colab": {
          "base_uri": "https://localhost:8080/"
        },
        "id": "jIUIm7epxmnn",
        "outputId": "61c8dd4b-a514-4b0a-80bc-cdbe6dfd33fb"
      },
      "execution_count": null,
      "outputs": [
        {
          "output_type": "stream",
          "name": "stdout",
          "text": [
            "[[[10 10 10 10 10]\n",
            "  [10 10 10 10 10]\n",
            "  [10 10 10 10 10]\n",
            "  [10 10 10 10 10]\n",
            "  [10 10 10 10 10]]]\n"
          ]
        }
      ]
    },
    {
      "cell_type": "code",
      "source": [
        "import numpy as np\n",
        "arr = np.full((1,6,6),7)\n",
        "print(arr)"
      ],
      "metadata": {
        "colab": {
          "base_uri": "https://localhost:8080/"
        },
        "id": "7bDacDYlxuFE",
        "outputId": "9738cc5b-470b-4bcc-dc2b-411064d9acc1"
      },
      "execution_count": null,
      "outputs": [
        {
          "output_type": "stream",
          "name": "stdout",
          "text": [
            "[[[7 7 7 7 7 7]\n",
            "  [7 7 7 7 7 7]\n",
            "  [7 7 7 7 7 7]\n",
            "  [7 7 7 7 7 7]\n",
            "  [7 7 7 7 7 7]\n",
            "  [7 7 7 7 7 7]]]\n"
          ]
        }
      ]
    },
    {
      "cell_type": "code",
      "source": [
        "#4-D array\n",
        "\n",
        "import numpy as np\n",
        "arr = np.full((1,1,2,2),45)\n",
        "print(arr)"
      ],
      "metadata": {
        "colab": {
          "base_uri": "https://localhost:8080/"
        },
        "id": "VMTQGA7Tx3Bw",
        "outputId": "8d0993ad-9576-4bd7-c6dc-4339cb9ed364"
      },
      "execution_count": null,
      "outputs": [
        {
          "output_type": "stream",
          "name": "stdout",
          "text": [
            "[[[[45 45]\n",
            "   [45 45]]]]\n"
          ]
        }
      ]
    },
    {
      "cell_type": "code",
      "source": [
        "import numpy as np\n",
        "arr = np.full((2,1,3,3),18)\n",
        "print(arr)"
      ],
      "metadata": {
        "colab": {
          "base_uri": "https://localhost:8080/"
        },
        "id": "syiC0C1pyE--",
        "outputId": "a38858cd-1242-459c-c768-9f6599a1575c"
      },
      "execution_count": null,
      "outputs": [
        {
          "output_type": "stream",
          "name": "stdout",
          "text": [
            "[[[[18 18 18]\n",
            "   [18 18 18]\n",
            "   [18 18 18]]]\n",
            "\n",
            "\n",
            " [[[18 18 18]\n",
            "   [18 18 18]\n",
            "   [18 18 18]]]]\n"
          ]
        }
      ]
    },
    {
      "cell_type": "code",
      "source": [
        "import numpy as np\n",
        "arr = np.full((2,1,4,4),17)\n",
        "print(arr)"
      ],
      "metadata": {
        "colab": {
          "base_uri": "https://localhost:8080/"
        },
        "id": "rtHgb4H3yZ7A",
        "outputId": "c88ff897-6a3f-4c6e-c470-e9c70313b804"
      },
      "execution_count": null,
      "outputs": [
        {
          "output_type": "stream",
          "name": "stdout",
          "text": [
            "[[[[17 17 17 17]\n",
            "   [17 17 17 17]\n",
            "   [17 17 17 17]\n",
            "   [17 17 17 17]]]\n",
            "\n",
            "\n",
            " [[[17 17 17 17]\n",
            "   [17 17 17 17]\n",
            "   [17 17 17 17]\n",
            "   [17 17 17 17]]]]\n"
          ]
        }
      ]
    },
    {
      "cell_type": "code",
      "source": [
        "import numpy as np\n",
        "arr = np.full((2,1,5,5),10)\n",
        "print(arr)"
      ],
      "metadata": {
        "colab": {
          "base_uri": "https://localhost:8080/"
        },
        "id": "i1_F4Gb5yjdl",
        "outputId": "70868979-6931-4fda-e520-50ffe39be285"
      },
      "execution_count": null,
      "outputs": [
        {
          "output_type": "stream",
          "name": "stdout",
          "text": [
            "[[[[10 10 10 10 10]\n",
            "   [10 10 10 10 10]\n",
            "   [10 10 10 10 10]\n",
            "   [10 10 10 10 10]\n",
            "   [10 10 10 10 10]]]\n",
            "\n",
            "\n",
            " [[[10 10 10 10 10]\n",
            "   [10 10 10 10 10]\n",
            "   [10 10 10 10 10]\n",
            "   [10 10 10 10 10]\n",
            "   [10 10 10 10 10]]]]\n"
          ]
        }
      ]
    },
    {
      "cell_type": "code",
      "source": [
        "import numpy as np\n",
        "arr = np.full((1,1,6,6),7)\n",
        "print(arr)"
      ],
      "metadata": {
        "colab": {
          "base_uri": "https://localhost:8080/"
        },
        "id": "j5riUpe0yjfF",
        "outputId": "8765ed38-bbcf-4364-89b3-e64744678ed2"
      },
      "execution_count": null,
      "outputs": [
        {
          "output_type": "stream",
          "name": "stdout",
          "text": [
            "[[[[7 7 7 7 7 7]\n",
            "   [7 7 7 7 7 7]\n",
            "   [7 7 7 7 7 7]\n",
            "   [7 7 7 7 7 7]\n",
            "   [7 7 7 7 7 7]\n",
            "   [7 7 7 7 7 7]]]]\n"
          ]
        }
      ]
    },
    {
      "cell_type": "code",
      "source": [
        "#5-D array\n",
        "\n",
        "import numpy as np\n",
        "arr = np.full((1,1,1,2,2),45)\n",
        "print(arr)"
      ],
      "metadata": {
        "colab": {
          "base_uri": "https://localhost:8080/"
        },
        "id": "xvENPCZ4y2A1",
        "outputId": "628c841c-afe4-4ab3-942f-f0441c1c8d51"
      },
      "execution_count": null,
      "outputs": [
        {
          "output_type": "stream",
          "name": "stdout",
          "text": [
            "[[[[[45 45]\n",
            "    [45 45]]]]]\n"
          ]
        }
      ]
    },
    {
      "cell_type": "code",
      "source": [
        "import numpy as np\n",
        "arr = np.full((1,1,1,3,3),18)\n",
        "print(arr)"
      ],
      "metadata": {
        "colab": {
          "base_uri": "https://localhost:8080/"
        },
        "id": "KnNVEIyBy-sA",
        "outputId": "e7799a5f-e5d3-4ad0-e7d3-300b710dc37d"
      },
      "execution_count": null,
      "outputs": [
        {
          "output_type": "stream",
          "name": "stdout",
          "text": [
            "[[[[[18 18 18]\n",
            "    [18 18 18]\n",
            "    [18 18 18]]]]]\n"
          ]
        }
      ]
    },
    {
      "cell_type": "code",
      "source": [
        "import numpy as np\n",
        "arr = np.full((1,1,1,4,4),17)\n",
        "print(arr)"
      ],
      "metadata": {
        "colab": {
          "base_uri": "https://localhost:8080/"
        },
        "id": "ikbWTSwbzFMP",
        "outputId": "4c00a69f-269a-4215-955e-622b16d65e6a"
      },
      "execution_count": null,
      "outputs": [
        {
          "output_type": "stream",
          "name": "stdout",
          "text": [
            "[[[[[17 17 17 17]\n",
            "    [17 17 17 17]\n",
            "    [17 17 17 17]\n",
            "    [17 17 17 17]]]]]\n"
          ]
        }
      ]
    },
    {
      "cell_type": "code",
      "source": [
        "import numpy as np\n",
        "arr = np.full((1,1,1,5,5),10)\n",
        "print(arr)"
      ],
      "metadata": {
        "colab": {
          "base_uri": "https://localhost:8080/"
        },
        "id": "Z3z65uDUzMjq",
        "outputId": "b2bba904-dcec-4fb5-8e82-921eca66405d"
      },
      "execution_count": null,
      "outputs": [
        {
          "output_type": "stream",
          "name": "stdout",
          "text": [
            "[[[[[10 10 10 10 10]\n",
            "    [10 10 10 10 10]\n",
            "    [10 10 10 10 10]\n",
            "    [10 10 10 10 10]\n",
            "    [10 10 10 10 10]]]]]\n"
          ]
        }
      ]
    },
    {
      "cell_type": "code",
      "source": [
        "import numpy as np\n",
        "arr = np.full((1,1,1,6,6),7)\n",
        "print(arr)"
      ],
      "metadata": {
        "colab": {
          "base_uri": "https://localhost:8080/"
        },
        "id": "deN8ep4_zS81",
        "outputId": "e8061a69-d203-4e97-b514-4806b102d17b"
      },
      "execution_count": null,
      "outputs": [
        {
          "output_type": "stream",
          "name": "stdout",
          "text": [
            "[[[[[7 7 7 7 7 7]\n",
            "    [7 7 7 7 7 7]\n",
            "    [7 7 7 7 7 7]\n",
            "    [7 7 7 7 7 7]\n",
            "    [7 7 7 7 7 7]\n",
            "    [7 7 7 7 7 7]]]]]\n"
          ]
        }
      ]
    },
    {
      "cell_type": "markdown",
      "source": [
        "6)identity matrix:\n",
        "\n",
        "- np.eye(one number for same rows and columns)\n",
        "- it works for only 2-D dimesion\n",
        "- values are in float data type\n",
        "- if we want values in int, np.eye(value,dtype=int)"
      ],
      "metadata": {
        "id": "jNdbNwbDza1D"
      }
    },
    {
      "cell_type": "code",
      "source": [
        "#2-D array\n",
        "\n",
        "import numpy as np\n",
        "arr = np.eye(3)    #number represents for rows and columns\n",
        "print(arr)"
      ],
      "metadata": {
        "colab": {
          "base_uri": "https://localhost:8080/"
        },
        "id": "BwQq0OJPzsNX",
        "outputId": "22ed6e9c-f23f-4518-b012-b9b70c26a7f5"
      },
      "execution_count": null,
      "outputs": [
        {
          "output_type": "stream",
          "name": "stdout",
          "text": [
            "[[1. 0. 0.]\n",
            " [0. 1. 0.]\n",
            " [0. 0. 1.]]\n"
          ]
        }
      ]
    },
    {
      "cell_type": "code",
      "source": [
        "import numpy as np\n",
        "arr = np.eye(4,dtype = int)\n",
        "print(arr)"
      ],
      "metadata": {
        "colab": {
          "base_uri": "https://localhost:8080/"
        },
        "id": "j53p-q0h0IDh",
        "outputId": "41cf013b-bbd1-4630-fc3b-3130287d5b52"
      },
      "execution_count": null,
      "outputs": [
        {
          "output_type": "stream",
          "name": "stdout",
          "text": [
            "[[1 0 0 0]\n",
            " [0 1 0 0]\n",
            " [0 0 1 0]\n",
            " [0 0 0 1]]\n"
          ]
        }
      ]
    },
    {
      "cell_type": "code",
      "source": [
        "import numpy as np\n",
        "arr = np.eye(5,dtype=int)\n",
        "print(arr)"
      ],
      "metadata": {
        "colab": {
          "base_uri": "https://localhost:8080/"
        },
        "id": "t7Q2o71P2EFu",
        "outputId": "a2d74266-a702-4baf-8ce0-1956669a9df1"
      },
      "execution_count": null,
      "outputs": [
        {
          "output_type": "stream",
          "name": "stdout",
          "text": [
            "[[1 0 0 0 0]\n",
            " [0 1 0 0 0]\n",
            " [0 0 1 0 0]\n",
            " [0 0 0 1 0]\n",
            " [0 0 0 0 1]]\n"
          ]
        }
      ]
    },
    {
      "cell_type": "code",
      "source": [
        "import numpy as np\n",
        "arr = np.eye(6,dtype = int)\n",
        "print(arr)"
      ],
      "metadata": {
        "colab": {
          "base_uri": "https://localhost:8080/"
        },
        "id": "JrrNyuO12L7J",
        "outputId": "d8b65374-4cf3-4398-8b39-ca3bf345e824"
      },
      "execution_count": null,
      "outputs": [
        {
          "output_type": "stream",
          "name": "stdout",
          "text": [
            "[[1 0 0 0 0 0]\n",
            " [0 1 0 0 0 0]\n",
            " [0 0 1 0 0 0]\n",
            " [0 0 0 1 0 0]\n",
            " [0 0 0 0 1 0]\n",
            " [0 0 0 0 0 1]]\n"
          ]
        }
      ]
    },
    {
      "cell_type": "code",
      "source": [
        "import numpy as np\n",
        "arr = np.eye(10,dtype = int)\n",
        "print(arr)"
      ],
      "metadata": {
        "colab": {
          "base_uri": "https://localhost:8080/"
        },
        "id": "NBumFMLU2S3B",
        "outputId": "96a4fb59-0bdf-4ac7-adb9-0c3445674684"
      },
      "execution_count": null,
      "outputs": [
        {
          "output_type": "stream",
          "name": "stdout",
          "text": [
            "[[1 0 0 0 0 0 0 0 0 0]\n",
            " [0 1 0 0 0 0 0 0 0 0]\n",
            " [0 0 1 0 0 0 0 0 0 0]\n",
            " [0 0 0 1 0 0 0 0 0 0]\n",
            " [0 0 0 0 1 0 0 0 0 0]\n",
            " [0 0 0 0 0 1 0 0 0 0]\n",
            " [0 0 0 0 0 0 1 0 0 0]\n",
            " [0 0 0 0 0 0 0 1 0 0]\n",
            " [0 0 0 0 0 0 0 0 1 0]\n",
            " [0 0 0 0 0 0 0 0 0 1]]\n"
          ]
        }
      ]
    },
    {
      "cell_type": "code",
      "source": [
        "#3-D array\n",
        "\n",
        "import numpy as np\n",
        "arr = np.eye(3,5,5,dtype = int) # it takes only first two values as rows and colomns and ignore the last value\n",
        "print(arr)"
      ],
      "metadata": {
        "colab": {
          "base_uri": "https://localhost:8080/"
        },
        "id": "4PcKE8sA1CED",
        "outputId": "a43a5898-1540-4091-b85d-a8beb4fc1b66"
      },
      "execution_count": null,
      "outputs": [
        {
          "output_type": "stream",
          "name": "stdout",
          "text": [
            "[[0 0 0 0 0]\n",
            " [0 0 0 0 0]\n",
            " [0 0 0 0 0]]\n"
          ]
        }
      ]
    },
    {
      "cell_type": "code",
      "source": [
        "import numpy as np\n",
        "arr = np.eye(1,1,2,4) #if we take 4 values it shows error so the identity matrix works on 2-D array only\n",
        "print(arr)"
      ],
      "metadata": {
        "id": "yt-N3NfA2k5y"
      },
      "execution_count": null,
      "outputs": []
    },
    {
      "cell_type": "markdown",
      "source": [
        "7)array with random values\n",
        "\n",
        "- if we run the code multiple times by using random method simultaneously value will change\n",
        "- the values will occcurs between 0 to 1\n",
        "- syntax-> np.random.random([shape,rows,col])"
      ],
      "metadata": {
        "id": "RL6TDGTk40Cl"
      }
    },
    {
      "cell_type": "code",
      "source": [
        "#1-D array\n",
        "\n",
        "import numpy as np\n",
        "arr = np.random.random(4)  #(columns)\n",
        "print(arr)"
      ],
      "metadata": {
        "colab": {
          "base_uri": "https://localhost:8080/"
        },
        "id": "2mZ0RJAd6Vx3",
        "outputId": "7940a153-48d9-4190-d251-314e85f0902a"
      },
      "execution_count": null,
      "outputs": [
        {
          "output_type": "stream",
          "name": "stdout",
          "text": [
            "[0.84948035 0.51885996 0.03940428 0.05695985]\n"
          ]
        }
      ]
    },
    {
      "cell_type": "code",
      "source": [
        "#2-D array\n",
        "import numpy as np\n",
        "arr = np.random.random([2,2])  #(rows,colomns)\n",
        "print(arr)"
      ],
      "metadata": {
        "colab": {
          "base_uri": "https://localhost:8080/"
        },
        "id": "BDTLCVri5TMq",
        "outputId": "cc9ac019-29e3-4204-cd77-e88f094e5a56"
      },
      "execution_count": null,
      "outputs": [
        {
          "output_type": "stream",
          "name": "stdout",
          "text": [
            "[[0.87538916 0.40723875]\n",
            " [0.67047647 0.21928933]]\n"
          ]
        }
      ]
    },
    {
      "cell_type": "code",
      "source": [
        "#3-d ARRAY\n",
        "import numpy as np\n",
        "arr = np.random.random([1,3,3])    #(shape,row,col)\n",
        "print(arr)"
      ],
      "metadata": {
        "colab": {
          "base_uri": "https://localhost:8080/"
        },
        "id": "OeEvqJ_5576R",
        "outputId": "af6399be-1588-496d-819e-17a05deef759"
      },
      "execution_count": null,
      "outputs": [
        {
          "output_type": "stream",
          "name": "stdout",
          "text": [
            "[[[0.11779895 0.68418469 0.22453606]\n",
            "  [0.90146349 0.27876519 0.70236347]\n",
            "  [0.70042976 0.52385578 0.10709087]]]\n"
          ]
        }
      ]
    },
    {
      "cell_type": "code",
      "source": [
        "#4-D array\n",
        "import numpy as np\n",
        "arr = np.random.random([1,1,4,4])\n",
        "print(arr)"
      ],
      "metadata": {
        "colab": {
          "base_uri": "https://localhost:8080/"
        },
        "id": "Ki3fxhOD6xUl",
        "outputId": "2016111d-6a22-4168-b3ef-147e4dae44f1"
      },
      "execution_count": null,
      "outputs": [
        {
          "output_type": "stream",
          "name": "stdout",
          "text": [
            "[[[[0.49399102 0.40840217 0.98588157 0.97706165]\n",
            "   [0.97395825 0.96790695 0.0535049  0.0367957 ]\n",
            "   [0.62347258 0.61022155 0.85732645 0.92785142]\n",
            "   [0.70709074 0.90623705 0.01012557 0.6491252 ]]]]\n"
          ]
        }
      ]
    },
    {
      "cell_type": "code",
      "source": [
        "#5-D array\n",
        "import numpy as np\n",
        "arr = np.random.random([1,1,1,5,5])\n",
        "print(arr)"
      ],
      "metadata": {
        "colab": {
          "base_uri": "https://localhost:8080/"
        },
        "id": "6UZneeLQ7Fh9",
        "outputId": "25e6c05b-1cb7-4072-d99a-6df8633fbe1c"
      },
      "execution_count": null,
      "outputs": [
        {
          "output_type": "stream",
          "name": "stdout",
          "text": [
            "[[[[[0.3086232  0.2034635  0.8361983  0.19572192 0.97314219]\n",
            "    [0.54991207 0.5060358  0.19257611 0.5934896  0.82285101]\n",
            "    [0.99547683 0.49049167 0.77077249 0.2397668  0.42652173]\n",
            "    [0.02307284 0.89778586 0.87430432 0.17673346 0.93928918]\n",
            "    [0.01302493 0.85117198 0.75713032 0.44828029 0.92588501]]]]]\n"
          ]
        }
      ]
    },
    {
      "cell_type": "markdown",
      "source": [
        "for a particular range in integer value\n",
        "- np.random.randint(start,ending values)"
      ],
      "metadata": {
        "id": "9cOrUz1q7TTC"
      }
    },
    {
      "cell_type": "code",
      "source": [
        "import numpy as np\n",
        "arr = np.random.randint(1,50)  #(start,ending value)\n",
        "print(arr)"
      ],
      "metadata": {
        "colab": {
          "base_uri": "https://localhost:8080/"
        },
        "id": "47SQ4PeD7O7S",
        "outputId": "f8b3d839-b8d7-4e58-9eba-166ca9917b3d"
      },
      "execution_count": null,
      "outputs": [
        {
          "output_type": "stream",
          "name": "stdout",
          "text": [
            "24\n"
          ]
        }
      ]
    },
    {
      "cell_type": "code",
      "source": [
        "import numpy as np\n",
        "arr = np.random.randint(45,78)\n",
        "print(arr)"
      ],
      "metadata": {
        "colab": {
          "base_uri": "https://localhost:8080/"
        },
        "id": "MnYeVwGX8j_H",
        "outputId": "a371dbfa-7852-42f9-895b-c446354b8bfe"
      },
      "execution_count": null,
      "outputs": [
        {
          "output_type": "stream",
          "name": "stdout",
          "text": [
            "59\n"
          ]
        }
      ]
    },
    {
      "cell_type": "code",
      "source": [
        "import numpy as np\n",
        "arr = np.random.randint(73,101)\n",
        "print(arr)"
      ],
      "metadata": {
        "colab": {
          "base_uri": "https://localhost:8080/"
        },
        "id": "csmUrPMc8r5B",
        "outputId": "038df514-97c7-43c6-8e0f-fa17f43a5d5b"
      },
      "execution_count": null,
      "outputs": [
        {
          "output_type": "stream",
          "name": "stdout",
          "text": [
            "98\n"
          ]
        }
      ]
    },
    {
      "cell_type": "code",
      "source": [
        "import numpy as np\n",
        "arr = np.random.randint(6273,8122380)\n",
        "print(arr)"
      ],
      "metadata": {
        "colab": {
          "base_uri": "https://localhost:8080/"
        },
        "id": "LHcVjP3H8zDf",
        "outputId": "e8ba5c9c-c635-42d2-cf86-17238c72e8b6"
      },
      "execution_count": null,
      "outputs": [
        {
          "output_type": "stream",
          "name": "stdout",
          "text": [
            "2848635\n"
          ]
        }
      ]
    },
    {
      "cell_type": "code",
      "source": [
        "import numpy as np\n",
        "arr = np.random.randint(883348,8712328)\n",
        "print(arr)"
      ],
      "metadata": {
        "colab": {
          "base_uri": "https://localhost:8080/"
        },
        "id": "MiWijPxv8769",
        "outputId": "18316923-26f5-43a5-f2e6-6abfc3173301"
      },
      "execution_count": null,
      "outputs": [
        {
          "output_type": "stream",
          "name": "stdout",
          "text": [
            "1070015\n"
          ]
        }
      ]
    },
    {
      "cell_type": "markdown",
      "source": [
        "9)shape of array:\n",
        "\n",
        "- weather it is in 1-D,2-D,3-D,,any thing we use \"shape\" method"
      ],
      "metadata": {
        "id": "vY_E3hgt9KXl"
      }
    },
    {
      "cell_type": "code",
      "source": [
        "#1-D array\n",
        "\n",
        "import numpy as np\n",
        "arr = np.array([1,2,3])\n",
        "print(arr.shape)"
      ],
      "metadata": {
        "colab": {
          "base_uri": "https://localhost:8080/"
        },
        "id": "MDd8h6G29ZaT",
        "outputId": "0e1b29a4-b49b-4ad2-88a5-c2d6afa6e9ac"
      },
      "execution_count": null,
      "outputs": [
        {
          "output_type": "stream",
          "name": "stdout",
          "text": [
            "(3,)\n"
          ]
        }
      ]
    },
    {
      "cell_type": "code",
      "source": [
        "#2-D array\n",
        "import numpy as np\n",
        "arr = np.array([[1,2,3],\n",
        "                [4,5,6],\n",
        "                [6,7,8]])\n",
        "print(arr.shape)"
      ],
      "metadata": {
        "colab": {
          "base_uri": "https://localhost:8080/"
        },
        "id": "8qe34d-A94zK",
        "outputId": "02b1e559-321e-4549-ef86-b9abbc845815"
      },
      "execution_count": null,
      "outputs": [
        {
          "output_type": "stream",
          "name": "stdout",
          "text": [
            "(3, 3)\n"
          ]
        }
      ]
    },
    {
      "cell_type": "code",
      "source": [
        "#3-D array\n",
        "import numpy as np\n",
        "arr = np.array([[[1,2,3],\n",
        "                 [4,5,6],\n",
        "                  [7,8,9]]])\n",
        "print(arr.shape)"
      ],
      "metadata": {
        "colab": {
          "base_uri": "https://localhost:8080/"
        },
        "id": "UbCOn_v6-LjA",
        "outputId": "168e051a-382e-4a49-da2c-6de3145d7def"
      },
      "execution_count": null,
      "outputs": [
        {
          "output_type": "stream",
          "name": "stdout",
          "text": [
            "(1, 3, 3)\n"
          ]
        }
      ]
    },
    {
      "cell_type": "code",
      "source": [
        "#4-D array\n",
        "import numpy as np\n",
        "arr = np.array([[[[1,2,3],\n",
        "                  [4,5,6],\n",
        "                  [7,8,9]]]])\n",
        "print(arr.shape)"
      ],
      "metadata": {
        "colab": {
          "base_uri": "https://localhost:8080/"
        },
        "id": "ZEV00zaF-nN_",
        "outputId": "0571fe1e-0fad-4647-a707-52404dda637b"
      },
      "execution_count": null,
      "outputs": [
        {
          "output_type": "stream",
          "name": "stdout",
          "text": [
            "(1, 1, 3, 3)\n"
          ]
        }
      ]
    },
    {
      "cell_type": "code",
      "source": [
        "#5-D array\n",
        "import numpy as np\n",
        "arr = np.array([[[[[1,2,3],\n",
        "                   [4,5,6],\n",
        "                    [7,8,9]]]]])\n",
        "print(arr.shape)"
      ],
      "metadata": {
        "colab": {
          "base_uri": "https://localhost:8080/"
        },
        "id": "OyJROXln-0h3",
        "outputId": "0051e519-12a6-4d4c-ffcb-1679c5c2e40a"
      },
      "execution_count": null,
      "outputs": [
        {
          "output_type": "stream",
          "name": "stdout",
          "text": [
            "(1, 1, 1, 3, 3)\n"
          ]
        }
      ]
    },
    {
      "cell_type": "markdown",
      "source": [
        "10) find no of elements in array\n",
        "\n",
        "- to find no of elements in array we can use size method"
      ],
      "metadata": {
        "id": "oDToYWXv_B3s"
      }
    },
    {
      "cell_type": "code",
      "source": [
        "#1-D array\n",
        "import numpy as np\n",
        "arr = np.array([1,2,3])\n",
        "print(arr.size)"
      ],
      "metadata": {
        "colab": {
          "base_uri": "https://localhost:8080/"
        },
        "id": "1ky8a_jW_Qqg",
        "outputId": "05924c43-c9d3-479e-a5c7-a4c11ab77439"
      },
      "execution_count": null,
      "outputs": [
        {
          "output_type": "stream",
          "name": "stdout",
          "text": [
            "3\n"
          ]
        }
      ]
    },
    {
      "cell_type": "code",
      "source": [
        "#2-D array\n",
        "import numpy as np\n",
        "arr = np.array([[1,2,3],\n",
        "                [4,5,6]])\n",
        "print(arr.size)"
      ],
      "metadata": {
        "colab": {
          "base_uri": "https://localhost:8080/"
        },
        "id": "Id32ZrtQ_ccK",
        "outputId": "fc921f76-8dad-483e-9927-1b618a6bece4"
      },
      "execution_count": null,
      "outputs": [
        {
          "output_type": "stream",
          "name": "stdout",
          "text": [
            "6\n"
          ]
        }
      ]
    },
    {
      "cell_type": "code",
      "source": [
        "#3-D array\n",
        "import numpy as np\n",
        "arr = np.array([[[1,2,3],\n",
        "                 [4,5,6],\n",
        "                 [7,8,9]]])\n",
        "print(arr.size)"
      ],
      "metadata": {
        "colab": {
          "base_uri": "https://localhost:8080/"
        },
        "id": "0QLIfQ11_ng6",
        "outputId": "f40edb50-1b67-45db-c01b-df855b77ddda"
      },
      "execution_count": null,
      "outputs": [
        {
          "output_type": "stream",
          "name": "stdout",
          "text": [
            "9\n"
          ]
        }
      ]
    },
    {
      "cell_type": "code",
      "source": [
        "#4-D array\n",
        "import numpy as np\n",
        "arr = np.array([[[[1,2,3],\n",
        "                  [4,5,6],\n",
        "                  [7,8,9],\n",
        "                  [10,11,12]]]])\n",
        "print(arr.size)"
      ],
      "metadata": {
        "colab": {
          "base_uri": "https://localhost:8080/"
        },
        "id": "1f6O-NTj_-Hz",
        "outputId": "351607a4-fae6-48a2-f8ea-ab43d62a42c6"
      },
      "execution_count": null,
      "outputs": [
        {
          "output_type": "stream",
          "name": "stdout",
          "text": [
            "12\n"
          ]
        }
      ]
    },
    {
      "cell_type": "code",
      "source": [
        "#5-D array\n",
        "import numpy as np\n",
        "arr = np.array([[[[[1,2,3],\n",
        "                   [4,5,6],\n",
        "                   [7,8,9],\n",
        "                   [10,11,12],\n",
        "                   [13,14,15]]]]])\n",
        "print(arr.size)"
      ],
      "metadata": {
        "colab": {
          "base_uri": "https://localhost:8080/"
        },
        "id": "OzwCSe5bANNx",
        "outputId": "59b4c583-eec0-421b-f9b3-64fe8a2eeb3a"
      },
      "execution_count": null,
      "outputs": [
        {
          "output_type": "stream",
          "name": "stdout",
          "text": [
            "15\n"
          ]
        }
      ]
    },
    {
      "cell_type": "markdown",
      "source": [
        "11)find length of array\n",
        "\n",
        "- it will only identify the rows\n",
        "- using \"len\" keyword"
      ],
      "metadata": {
        "id": "FOX2GjujAc9n"
      }
    },
    {
      "cell_type": "code",
      "source": [
        "#1-D array\n",
        "\n",
        "import numpy as np\n",
        "arr = np.array([1,2,3,2,4,3,2,23])\n",
        "len(arr)\n",
        "\n",
        "# len is not applicable for 1-D array"
      ],
      "metadata": {
        "colab": {
          "base_uri": "https://localhost:8080/"
        },
        "id": "CFyQnpU0A6bj",
        "outputId": "e7ad42ae-e516-48e9-ac52-aeec021909f7"
      },
      "execution_count": null,
      "outputs": [
        {
          "output_type": "execute_result",
          "data": {
            "text/plain": [
              "8"
            ]
          },
          "metadata": {},
          "execution_count": 118
        }
      ]
    },
    {
      "cell_type": "code",
      "source": [
        "#2-D array\n",
        "import numpy as np\n",
        "arr = np.array([[1,2,3],\n",
        "                [3,4,5]])\n",
        "print(len(arr))"
      ],
      "metadata": {
        "colab": {
          "base_uri": "https://localhost:8080/"
        },
        "id": "QqJYeXW2BqEz",
        "outputId": "ae1d3785-b0c3-434a-da99-96742fec44cd"
      },
      "execution_count": null,
      "outputs": [
        {
          "output_type": "stream",
          "name": "stdout",
          "text": [
            "2\n"
          ]
        }
      ]
    },
    {
      "cell_type": "code",
      "source": [
        "import numpy as np\n",
        "arr = np.array([[12,24,13123],\n",
        "                [32,324,3344],\n",
        "                [12233,43,23],\n",
        "                [12,24,24]])\n",
        "print(len(arr))"
      ],
      "metadata": {
        "colab": {
          "base_uri": "https://localhost:8080/"
        },
        "id": "AphW5bVNCjXk",
        "outputId": "d94a7ec9-a042-4635-cffc-2fba36d502b9"
      },
      "execution_count": null,
      "outputs": [
        {
          "output_type": "stream",
          "name": "stdout",
          "text": [
            "4\n"
          ]
        }
      ]
    },
    {
      "cell_type": "code",
      "source": [
        "#3-D array\n",
        "import numpy as np\n",
        "arr = np.array([[[1,2,3],[4,5,6]],\n",
        "                [[2,4,1],[343,23,23]],\n",
        "                [[2,4,1],[343,23,23]],\n",
        "                [[4,13,42],[3,54,23]]])\n",
        "print(len(arr))"
      ],
      "metadata": {
        "colab": {
          "base_uri": "https://localhost:8080/"
        },
        "id": "5viUhNQnB65g",
        "outputId": "27d1026b-ddb3-4c41-f81d-02ecb34c8bca"
      },
      "execution_count": null,
      "outputs": [
        {
          "output_type": "stream",
          "name": "stdout",
          "text": [
            "4\n"
          ]
        }
      ]
    },
    {
      "cell_type": "code",
      "source": [
        "#4-D array\n",
        "import numpy as np\n",
        "arr = np.array([[[[1,2,3],[42,44,23],[123,233,3]]],\n",
        "                [[[223,43,33],[123,44,23],[13,54,223]]],\n",
        "                [[[33,3,23],[234,343,23],[233,344,34]]]])\n",
        "print(len(arr))"
      ],
      "metadata": {
        "colab": {
          "base_uri": "https://localhost:8080/"
        },
        "id": "usXIuSHEDhtp",
        "outputId": "e52d2d29-1839-41ff-ac10-c7dabb096a52"
      },
      "execution_count": null,
      "outputs": [
        {
          "output_type": "stream",
          "name": "stdout",
          "text": [
            "3\n"
          ]
        }
      ]
    },
    {
      "cell_type": "code",
      "source": [
        "#5-D array\n",
        "import numpy as np\n",
        "arr = np.array([[[[[23,32,12],[133,343,22],[1323,3434,2223],[134,54,43]]]],\n",
        "                   [[[[123,233,123],[133,53,53],[44,54,23],[24,65,34]]]],\n",
        "                   [[[[1344,244,223],[244,24,6],[653,24,66],[34,5,24]]]],\n",
        "                   [[[[24343,244,23],[144,45,23],[44,544,34],[455,213,334]]]]])\n",
        "print(len(arr))"
      ],
      "metadata": {
        "colab": {
          "base_uri": "https://localhost:8080/"
        },
        "id": "ahYa0ZToEmm2",
        "outputId": "491f1c74-8b80-4c81-dc93-344323da4974"
      },
      "execution_count": null,
      "outputs": [
        {
          "output_type": "stream",
          "name": "stdout",
          "text": [
            "4\n"
          ]
        }
      ]
    },
    {
      "cell_type": "markdown",
      "source": [
        "#accessing elements from array\n",
        "\n",
        "- we can access an array element by using it index number\n",
        "- the index number in numpy arrays starts with zero\n",
        "- it means first element index position is zero\n",
        "- by using index value we can apply arthematic operations"
      ],
      "metadata": {
        "id": "rQDJKt7pFvhS"
      }
    },
    {
      "cell_type": "code",
      "source": [
        "# find value in array by using index\n",
        "#1-D array\n",
        "\n",
        "import numpy as np\n",
        "arr = np.array([1,2,3,4])\n",
        "print(arr[3])"
      ],
      "metadata": {
        "colab": {
          "base_uri": "https://localhost:8080/"
        },
        "id": "ui5YmABXGjQu",
        "outputId": "f8f7e441-729d-45cd-bad3-dc28147ea3f2"
      },
      "execution_count": null,
      "outputs": [
        {
          "output_type": "stream",
          "name": "stdout",
          "text": [
            "4\n"
          ]
        }
      ]
    },
    {
      "cell_type": "code",
      "source": [
        "#applying arthematic operators\n",
        "import numpy as np\n",
        "arr = np.array([3,12,524,53,45,2244,45,5,2344])\n",
        "print(arr[4]+arr[3]-arr[5]/arr[2]*arr[7]//arr[8])"
      ],
      "metadata": {
        "colab": {
          "base_uri": "https://localhost:8080/"
        },
        "id": "zPpUHWdJG-3W",
        "outputId": "ec9538ce-bd70-406f-ab28-40d975eb1257"
      },
      "execution_count": null,
      "outputs": [
        {
          "output_type": "stream",
          "name": "stdout",
          "text": [
            "98.0\n"
          ]
        }
      ]
    },
    {
      "cell_type": "code",
      "source": [
        "# find value in array by using index\n",
        "#2-D array\n",
        "\n",
        "import numpy as np\n",
        "arr = np.array([[1,2,3],     #0 - index position\n",
        "               [4,5,6],     #1\n",
        "               [7,8,9]])    #2\n",
        "\n",
        "print(arr[0,1])  #([1-D index,value index])"
      ],
      "metadata": {
        "colab": {
          "base_uri": "https://localhost:8080/"
        },
        "id": "x_Sgg02DHhKC",
        "outputId": "874733e7-675d-4909-bb7a-5aa460c7309d"
      },
      "execution_count": null,
      "outputs": [
        {
          "output_type": "stream",
          "name": "stdout",
          "text": [
            "2\n"
          ]
        }
      ]
    },
    {
      "cell_type": "code",
      "source": [
        "#3-D array\n",
        "import numpy as np\n",
        "                   #0      #1  ->1-D index\n",
        "arr = np.array([[[1,2,3],[4,5,6]],         #0  ->2-D index\n",
        "                 [[7,8,9],[10,11,12]],      #1\n",
        "                 [[13,14,15],[16,17,18]]]) #2\n",
        "print(arr[1,0,2])    #(2D,1D,value index)"
      ],
      "metadata": {
        "colab": {
          "base_uri": "https://localhost:8080/"
        },
        "id": "fiO0grSKIdXF",
        "outputId": "ebd59cff-e318-461e-fe17-affd88a79c46"
      },
      "execution_count": null,
      "outputs": [
        {
          "output_type": "stream",
          "name": "stdout",
          "text": [
            "9\n"
          ]
        }
      ]
    },
    {
      "cell_type": "code",
      "source": [
        "#4-D array\n",
        "import numpy as np\n",
        "                                  #0                                 #1                            #2         ->2-D index\n",
        "                       #0        #1        #2            #0         #1       #2            #0           #1         #2      ->1-D index\n",
        "arr = np.array([[[[121,311,31],[1,2,3],[213,123,32]],[[12,323,12],[4,5,6],[23,41,23]],[[1231,1223,42],[7,8,9],[23,4213,23]]],                    #0 ->3-D index\n",
        "                [[[122,23,32],[112,334,545],[23,323,434]],[[133,23,43],[34,34,12],[343,134,44]],[[13,43,123],[22,44,12],[44,12,43]]],            #1\n",
        "                [[[123,213,332],[12,45,54],[1344,341,1234]],[[123,22,33],[23,34,23],[124,4324,13]],[[1223,42,23],[23,54,23],[14,4134,123]]]])    #2\n",
        "print(arr[1,2,2,2])    #(3D,2D,1D,value)"
      ],
      "metadata": {
        "colab": {
          "base_uri": "https://localhost:8080/"
        },
        "id": "AD0TGNHVJvgc",
        "outputId": "b7eaae82-a6de-419f-d279-da4b90174e77"
      },
      "execution_count": 18,
      "outputs": [
        {
          "output_type": "stream",
          "name": "stdout",
          "text": [
            "43\n"
          ]
        }
      ]
    },
    {
      "cell_type": "code",
      "source": [
        "#5-D array\n",
        "import numpy as np\n",
        "#[[[[[134,213,22],[12,42,12]],[[123,23,112],[23,12,4]]],[[[23,23,12],[13,42,1]],[[123,42,232],[23,2,13]]]]]\n",
        "                                              #0                                                    #1                                               #2    ->3-D index\n",
        "                                #0                         #1                              #0                         #1                          #0                              #1           -> 2-D index\n",
        "                          #0            #1            #0          #1               #0            #1           #0           #1              #0               #1              #0           #1   ->1_D index\n",
        "arr = np.array([[[[[1231,3341,123],[123,41,13]],[[123,431,123],[123,41,13]]],[[[123,4133,33],[123,41,23]],[[123,41,123],[144,24,1]]],[[[123,413,33],[1223,423,133]],[[123,41333,13],[134,22,243]]]],      #0 ->4-D index\n",
        "                [[[[1223,13321,333],[1234,123,42]],[[1233,131,1231],[1234,131,223]]],[[[342,4,23],[124,341,13]],[[123,123,214],[14,11,13]]],[[[14,14,13],[234,432,3324]],[[123,123,13],[13,4131,123]]]],  #1\n",
        "                [[[[123,411,23],[123,3123,23]],[[123,41,23],[123,41,123]]],[[[123,34,1223],[123,121,123]],[[123,412,43],[123,123,11]]],[[[123,4133,123],[34,32,234]],[[123,41,123],[234,52,114]]]]])      #2\n",
        "print(arr[2,2,1,1,1])    #(4D,3D,2D,1D,value)\n"
      ],
      "metadata": {
        "id": "qRJze6l-PGhw",
        "colab": {
          "base_uri": "https://localhost:8080/"
        },
        "outputId": "ba9e1372-5c87-42fa-99cc-300bd3083e85"
      },
      "execution_count": 33,
      "outputs": [
        {
          "output_type": "stream",
          "name": "stdout",
          "text": [
            "52\n"
          ]
        }
      ]
    },
    {
      "cell_type": "markdown",
      "source": [
        "#data types in numpy:\n",
        "\n",
        "- numpy has some extra datatypes and refers the datatypes with one character\n",
        "- types of data types metioned below\n",
        "- 1)\"i\" - integer\n",
        "- 2)\"f\" - float\n",
        "- 3)np.complex128 - complex\n",
        "- 4)\"bool\" - boolean\n",
        "- 5)\"M\" - datetime\n",
        "- 6)\"O\" - object\n",
        "- 7)\"S\" - string"
      ],
      "metadata": {
        "id": "IyL7Tepfrtmr"
      }
    },
    {
      "cell_type": "code",
      "source": [
        "from os.path import normpath\n",
        "#examples for data types\n",
        "#1)integer\n",
        "import numpy as np\n",
        "arr = np.array([1.432,2.12,4.42,122.43,244.2,223.3],dtype = \"i\")\n",
        "print(arr)\n",
        "print(arr.dtype)"
      ],
      "metadata": {
        "colab": {
          "base_uri": "https://localhost:8080/"
        },
        "id": "V9zh1e8OsT5K",
        "outputId": "fbafdbb5-d3c1-42bd-c7b3-aa61084f7ef0"
      },
      "execution_count": 52,
      "outputs": [
        {
          "output_type": "stream",
          "name": "stdout",
          "text": [
            "[  1   2   4 122 244 223]\n",
            "int32\n"
          ]
        }
      ]
    },
    {
      "cell_type": "code",
      "source": [
        "#2)float\n",
        "import numpy as np\n",
        "arr = np.array([21,231,21,23,12,23,1,23,133],dtype = \"f\")\n",
        "print(arr)\n",
        "print(arr.dtype)"
      ],
      "metadata": {
        "colab": {
          "base_uri": "https://localhost:8080/"
        },
        "id": "wGngaasjssQ_",
        "outputId": "61ba4953-7518-4909-91ac-51f79700da61"
      },
      "execution_count": 53,
      "outputs": [
        {
          "output_type": "stream",
          "name": "stdout",
          "text": [
            "[ 21. 231.  21.  23.  12.  23.   1.  23. 133.]\n",
            "float32\n"
          ]
        }
      ]
    },
    {
      "cell_type": "code",
      "source": [
        "#complex\n",
        "import numpy as np\n",
        "arr = np.array([12,23,12,42],dtype = np.complex128)\n",
        "print(arr)\n",
        "print(arr.dtype)"
      ],
      "metadata": {
        "colab": {
          "base_uri": "https://localhost:8080/"
        },
        "id": "DRCiyG8ds3D6",
        "outputId": "96452f3b-ee40-4fc7-eee4-285bd2a4df9b"
      },
      "execution_count": 68,
      "outputs": [
        {
          "output_type": "stream",
          "name": "stdout",
          "text": [
            "[12.+0.j 23.+0.j 12.+0.j 42.+0.j]\n",
            "complex128\n"
          ]
        }
      ]
    },
    {
      "cell_type": "code",
      "source": [
        "#boolen\n",
        "import numpy as np\n",
        "arr = np.array([123,123,1,232214,0,-45,344,41,414,4,134,14636],dtype = \"bool\")\n",
        "print(arr)\n",
        "print(arr.dtype)"
      ],
      "metadata": {
        "colab": {
          "base_uri": "https://localhost:8080/"
        },
        "id": "GRBji0Fzuc9q",
        "outputId": "53f3070b-3fc3-49fc-a608-a883f006710b"
      },
      "execution_count": 57,
      "outputs": [
        {
          "output_type": "stream",
          "name": "stdout",
          "text": [
            "[ True  True  True  True False  True  True  True  True  True  True  True]\n",
            "bool\n"
          ]
        }
      ]
    },
    {
      "cell_type": "code",
      "source": [
        "#5)datetime\n",
        "import numpy as np\n",
        "from datetime import datetime\n",
        "arr = np.datetime64(\"now\")\n",
        "print(arr)"
      ],
      "metadata": {
        "colab": {
          "base_uri": "https://localhost:8080/"
        },
        "id": "qc5IVFOs035B",
        "outputId": "4dfbe5ea-5dd5-40f1-ac0e-51d3df031915"
      },
      "execution_count": 108,
      "outputs": [
        {
          "output_type": "stream",
          "name": "stdout",
          "text": [
            "2024-11-14T08:40:20\n"
          ]
        }
      ]
    },
    {
      "cell_type": "code",
      "source": [
        "#6)object\n",
        "#convert datetime64 to datetime object\n",
        "import numpy as np\n",
        "from datetime import datetime\n",
        "arr = np.datetime64(\"now\")\n",
        "newarr = arr.astype(datetime)\n",
        "print(newarr)\n"
      ],
      "metadata": {
        "colab": {
          "base_uri": "https://localhost:8080/"
        },
        "id": "ST-mzrXBu8mA",
        "outputId": "361b3952-7a9b-428b-c47c-0b9f4c27bfdf"
      },
      "execution_count": 104,
      "outputs": [
        {
          "output_type": "stream",
          "name": "stdout",
          "text": [
            "2024-11-14 08:36:11\n"
          ]
        }
      ]
    },
    {
      "cell_type": "code",
      "source": [
        "#convert datetime to datetime64 object\n",
        "import numpy as np\n",
        "from datetime import datetime\n",
        "arr = datetime(2024,1,12,11,33,23)\n",
        "newarr = np.datetime64(arr)\n",
        "print(newarr)"
      ],
      "metadata": {
        "colab": {
          "base_uri": "https://localhost:8080/"
        },
        "id": "Url8zEKVzh1n",
        "outputId": "bb2d6f24-03d3-4c04-df8c-aa9896ff0087"
      },
      "execution_count": 107,
      "outputs": [
        {
          "output_type": "stream",
          "name": "stdout",
          "text": [
            "2024-01-12T11:33:23.000000\n"
          ]
        }
      ]
    },
    {
      "cell_type": "code",
      "source": [
        "#7)string\n",
        "\n",
        "import numpy as np\n",
        "arr = np.array([123,41,12,143,13123,133,1231],dtype = \"S\")\n",
        "print(arr)\n",
        "print((arr.dtype))"
      ],
      "metadata": {
        "colab": {
          "base_uri": "https://localhost:8080/"
        },
        "id": "UMjf2qdy0y8F",
        "outputId": "7835d28c-863f-4e96-a085-aca97ee04eb6"
      },
      "execution_count": 111,
      "outputs": [
        {
          "output_type": "stream",
          "name": "stdout",
          "text": [
            "[b'123' b'41' b'12' b'143' b'13123' b'133' b'1231']\n",
            "|S5\n"
          ]
        }
      ]
    },
    {
      "cell_type": "markdown",
      "source": [
        "change datatype into another data type"
      ],
      "metadata": {
        "id": "8vK99f9o4qZw"
      }
    },
    {
      "cell_type": "code",
      "source": [
        "#int to float\n",
        "import numpy as np\n",
        "arr = np.array([12,23,42,32,23,133])\n",
        "newarr = arr.astype(\"f\")\n",
        "print(newarr)"
      ],
      "metadata": {
        "colab": {
          "base_uri": "https://localhost:8080/"
        },
        "id": "Ofiu0o8y4xHW",
        "outputId": "7d72c456-8dff-43cb-9f53-57831b612704"
      },
      "execution_count": 112,
      "outputs": [
        {
          "output_type": "stream",
          "name": "stdout",
          "text": [
            "[ 12.  23.  42.  32.  23. 133.]\n"
          ]
        }
      ]
    },
    {
      "cell_type": "code",
      "source": [
        "#float to int\n",
        "import numpy as np\n",
        "arr = np.array([12.42,42.42,24.24,42.23])\n",
        "print(arr.astype(\"i\"))"
      ],
      "metadata": {
        "colab": {
          "base_uri": "https://localhost:8080/"
        },
        "id": "NWRvLXwA5Fxz",
        "outputId": "b3c547b5-2011-427e-b77e-2f9eb61c4153"
      },
      "execution_count": 113,
      "outputs": [
        {
          "output_type": "stream",
          "name": "stdout",
          "text": [
            "[12 42 24 42]\n"
          ]
        }
      ]
    },
    {
      "cell_type": "code",
      "source": [
        "#int to boolean\n",
        "import numpy as np\n",
        "arr = np.array([123,42,1,0,0,1,134,2,-3,-54,-33])\n",
        "print(arr.astype(\"bool\"))"
      ],
      "metadata": {
        "colab": {
          "base_uri": "https://localhost:8080/"
        },
        "id": "eAMYT8O25UPA",
        "outputId": "ca04b31b-13df-4ac8-b0bc-0ab0af143303"
      },
      "execution_count": 116,
      "outputs": [
        {
          "output_type": "stream",
          "name": "stdout",
          "text": [
            "[ True  True  True False False  True  True  True  True  True  True]\n"
          ]
        }
      ]
    },
    {
      "cell_type": "markdown",
      "source": [
        "#methods\n"
      ],
      "metadata": {
        "id": "WlNieVnr5sI0"
      }
    },
    {
      "cell_type": "markdown",
      "source": [
        "1)copy():\n",
        "\n",
        "- it is simply known as backup"
      ],
      "metadata": {
        "id": "-Lv6544z5vy6"
      }
    },
    {
      "cell_type": "code",
      "source": [
        "import numpy as np\n",
        "arr = np.array([123,42,24,12,244,1,34,34,344,4,233,4,4])\n",
        "newarr = arr.copy()\n",
        "arr[5] = 2323\n",
        "print(newarr)\n",
        "print(arr)"
      ],
      "metadata": {
        "colab": {
          "base_uri": "https://localhost:8080/"
        },
        "id": "S0tzTlZW54fw",
        "outputId": "bffbdd39-7ee4-4e94-90e8-f22667aa1687"
      },
      "execution_count": 117,
      "outputs": [
        {
          "output_type": "stream",
          "name": "stdout",
          "text": [
            "[123  42  24  12 244   1  34  34 344   4 233   4   4]\n",
            "[ 123   42   24   12  244 2323   34   34  344    4  233    4    4]\n"
          ]
        }
      ]
    },
    {
      "cell_type": "markdown",
      "source": [
        "2)view():\n",
        "\n",
        "- it is just for view purpose only"
      ],
      "metadata": {
        "id": "bsIVoE4J6fph"
      }
    },
    {
      "cell_type": "code",
      "source": [
        "import numpy as np\n",
        "arr = np.array([23,533,223,344,23,334])\n",
        "newarr = arr.view()\n",
        "arr[4] = 45\n",
        "print(arr)\n",
        "print(newarr)"
      ],
      "metadata": {
        "colab": {
          "base_uri": "https://localhost:8080/"
        },
        "id": "jSrxk8Xu6n8v",
        "outputId": "b36f05e2-4e16-4399-ba40-20cb572784b6"
      },
      "execution_count": 119,
      "outputs": [
        {
          "output_type": "stream",
          "name": "stdout",
          "text": [
            "[ 23 533 223 344  45 334]\n",
            "[ 23 533 223 344  45 334]\n"
          ]
        }
      ]
    },
    {
      "cell_type": "markdown",
      "source": [
        "#reshaping arrays:\n",
        "\n",
        "- reshaping means change the shape of an array\n",
        "- the shape of an element means no of rows and columns\n",
        "- in reshaping we can add (or) remove dimensions (or) change the no of elements in each dimension\n",
        "- we can simply use multiplication because it is matrix"
      ],
      "metadata": {
        "id": "mELo7SU_68aF"
      }
    },
    {
      "cell_type": "code",
      "source": [
        "#1-D arrays to 2-D arrays\n",
        "import numpy as np\n",
        "arr = np.array([123,43,2,43,2,33,4,2,423,34,22,2,23,14,223,2])  #16 elements\n",
        "print(arr.reshape(4,4))   #(1*16,2*8,4*4,8*2,16*1)\n",
        "print(arr.reshape(1,16))"
      ],
      "metadata": {
        "colab": {
          "base_uri": "https://localhost:8080/"
        },
        "id": "9XtC_CW_7bpd",
        "outputId": "3dd6e340-eb89-4b21-a38a-8046d7ce4593"
      },
      "execution_count": 124,
      "outputs": [
        {
          "output_type": "stream",
          "name": "stdout",
          "text": [
            "[[123  43   2  43]\n",
            " [  2  33   4   2]\n",
            " [423  34  22   2]\n",
            " [ 23  14 223   2]]\n",
            "[[123  43   2  43   2  33   4   2 423  34  22   2  23  14 223   2]]\n"
          ]
        }
      ]
    },
    {
      "cell_type": "code",
      "source": [
        "#1-D to 3-D\n",
        "import numpy as np\n",
        "arr = np.array([123,43,2,43,2,33,4,2,423,34,22,2,23,14,223,2])  #16 elements\n",
        "print(arr.reshape(1,4,4))"
      ],
      "metadata": {
        "colab": {
          "base_uri": "https://localhost:8080/"
        },
        "id": "wkc4kxbt8Tug",
        "outputId": "d378c9ae-8d8c-439c-85e6-a9ac3f7bcc1c"
      },
      "execution_count": 126,
      "outputs": [
        {
          "output_type": "stream",
          "name": "stdout",
          "text": [
            "[[[123  43   2  43]\n",
            "  [  2  33   4   2]\n",
            "  [423  34  22   2]\n",
            "  [ 23  14 223   2]]]\n"
          ]
        }
      ]
    },
    {
      "cell_type": "code",
      "source": [
        "#1-D to 4-D\n",
        "import numpy as np\n",
        "arr =np.array([123,43,2,43,2,33,4,2,423,34,22,2,23,14,223,2])  #16 elements\n",
        "print(arr.reshape(1,1,4,4))"
      ],
      "metadata": {
        "colab": {
          "base_uri": "https://localhost:8080/"
        },
        "id": "P9uTYO6m8mkL",
        "outputId": "533cacb4-5d9b-4319-cdf1-768d7be93e29"
      },
      "execution_count": 127,
      "outputs": [
        {
          "output_type": "stream",
          "name": "stdout",
          "text": [
            "[[[[123  43   2  43]\n",
            "   [  2  33   4   2]\n",
            "   [423  34  22   2]\n",
            "   [ 23  14 223   2]]]]\n"
          ]
        }
      ]
    },
    {
      "cell_type": "code",
      "source": [
        "#1-D to 5-D\n",
        "import numpy as np\n",
        "arr = np.array([123,43,2,43,2,33,4,2,423,34,22,2,23,14,223,2])  #16 elements\n",
        "print(arr.reshape(1,1,1,4,4))"
      ],
      "metadata": {
        "colab": {
          "base_uri": "https://localhost:8080/"
        },
        "id": "IApUdLEU83FR",
        "outputId": "5701707c-daf1-4fd6-875c-b2fd09850697"
      },
      "execution_count": 128,
      "outputs": [
        {
          "output_type": "stream",
          "name": "stdout",
          "text": [
            "[[[[[123  43   2  43]\n",
            "    [  2  33   4   2]\n",
            "    [423  34  22   2]\n",
            "    [ 23  14 223   2]]]]]\n"
          ]
        }
      ]
    },
    {
      "cell_type": "code",
      "source": [
        "#2-D to 1-D\n",
        "import numpy as np\n",
        "arr = np.array([[123,43,2,43,2,33,4,2,423,34,22,2,23,14,223,2]])  #16 elements\n",
        "print(arr.reshape(16))"
      ],
      "metadata": {
        "colab": {
          "base_uri": "https://localhost:8080/"
        },
        "id": "ZiY9FgEf9Bmc",
        "outputId": "ab8466d0-ebd1-478f-c672-743b5a44c4c2"
      },
      "execution_count": 129,
      "outputs": [
        {
          "output_type": "stream",
          "name": "stdout",
          "text": [
            "[123  43   2  43   2  33   4   2 423  34  22   2  23  14 223   2]\n"
          ]
        }
      ]
    },
    {
      "cell_type": "code",
      "source": [
        "#2-D to 3-D\n",
        "import numpy as np\n",
        "arr = np.array([[123,43,2,43,2,33,4,2,423,34,22,2,23,14,223,2]])  #16 elements\n",
        "print(arr.reshape(1,4,4))"
      ],
      "metadata": {
        "colab": {
          "base_uri": "https://localhost:8080/"
        },
        "id": "KRMwwlj29R4P",
        "outputId": "123e1803-72c4-434a-8337-a76b08b24a60"
      },
      "execution_count": 130,
      "outputs": [
        {
          "output_type": "stream",
          "name": "stdout",
          "text": [
            "[[[123  43   2  43]\n",
            "  [  2  33   4   2]\n",
            "  [423  34  22   2]\n",
            "  [ 23  14 223   2]]]\n"
          ]
        }
      ]
    },
    {
      "cell_type": "code",
      "source": [
        "#2-D to 4-D\n",
        "import numpy as np\n",
        "arr = np.array([[123,43,2,43,2,33,4,2,423,34,22,2,23,14,223,2]])  #16 elements\n",
        "print(arr.reshape(2,2,2,2))"
      ],
      "metadata": {
        "colab": {
          "base_uri": "https://localhost:8080/"
        },
        "id": "OKpktb9v9W_O",
        "outputId": "076fc9ed-ba0a-4b35-97fc-d240049307d2"
      },
      "execution_count": 132,
      "outputs": [
        {
          "output_type": "stream",
          "name": "stdout",
          "text": [
            "[[[[123  43]\n",
            "   [  2  43]]\n",
            "\n",
            "  [[  2  33]\n",
            "   [  4   2]]]\n",
            "\n",
            "\n",
            " [[[423  34]\n",
            "   [ 22   2]]\n",
            "\n",
            "  [[ 23  14]\n",
            "   [223   2]]]]\n"
          ]
        }
      ]
    },
    {
      "cell_type": "code",
      "source": [
        "#2-D to 5-D\n",
        "import numpy as np\n",
        "arr = np.array([[123,43,2,43,2,33,4,2,423,34,22,2,23,14,223,2]])  #16 elements\n",
        "print(arr.reshape(1,2,2,2,2))"
      ],
      "metadata": {
        "colab": {
          "base_uri": "https://localhost:8080/"
        },
        "id": "yx6iH65I92qp",
        "outputId": "017314ad-2583-4be6-df75-1c58b46dc534"
      },
      "execution_count": 133,
      "outputs": [
        {
          "output_type": "stream",
          "name": "stdout",
          "text": [
            "[[[[[123  43]\n",
            "    [  2  43]]\n",
            "\n",
            "   [[  2  33]\n",
            "    [  4   2]]]\n",
            "\n",
            "\n",
            "  [[[423  34]\n",
            "    [ 22   2]]\n",
            "\n",
            "   [[ 23  14]\n",
            "    [223   2]]]]]\n"
          ]
        }
      ]
    },
    {
      "cell_type": "code",
      "source": [
        "#3-D to 1-D\n",
        "import numpy as np\n",
        "arr = np.array([[[123,43,2,43,2,33,4,2,423,34,22,2,23,14,223,2]]])  #16 elements\n",
        "print(arr.reshape(16))"
      ],
      "metadata": {
        "colab": {
          "base_uri": "https://localhost:8080/"
        },
        "id": "aW8vEgZp-Av_",
        "outputId": "748ecde4-6f7d-482b-8cf5-71a67465048f"
      },
      "execution_count": 134,
      "outputs": [
        {
          "output_type": "stream",
          "name": "stdout",
          "text": [
            "[123  43   2  43   2  33   4   2 423  34  22   2  23  14 223   2]\n"
          ]
        }
      ]
    },
    {
      "cell_type": "code",
      "source": [
        "#3-D to 2-D\n",
        "import numpy as np\n",
        "arr = np.array([[[123,43,2,43,2,33,4,2,423,34,22,2,23,14,223,2]]])  #16 elements\n",
        "print(arr.reshape(4,4))"
      ],
      "metadata": {
        "colab": {
          "base_uri": "https://localhost:8080/"
        },
        "id": "8ktktDFc-PfT",
        "outputId": "3612aa0b-97f8-49a2-f4a9-5009f8681410"
      },
      "execution_count": 135,
      "outputs": [
        {
          "output_type": "stream",
          "name": "stdout",
          "text": [
            "[[123  43   2  43]\n",
            " [  2  33   4   2]\n",
            " [423  34  22   2]\n",
            " [ 23  14 223   2]]\n"
          ]
        }
      ]
    },
    {
      "cell_type": "code",
      "source": [
        "#3-D to 4-D\n",
        "import numpy as npp\n",
        "arr =  np.array([[[123,43,2,43,2,33,4,2,423,34,22,2,23,14,223,2]]])  #16 elements\n",
        "print(arr.reshape(1,2,4,2))"
      ],
      "metadata": {
        "colab": {
          "base_uri": "https://localhost:8080/"
        },
        "id": "TrusGQhV-as5",
        "outputId": "a084a801-a757-4ad8-a435-0964c5971f3e"
      },
      "execution_count": 138,
      "outputs": [
        {
          "output_type": "stream",
          "name": "stdout",
          "text": [
            "[[[[123  43]\n",
            "   [  2  43]\n",
            "   [  2  33]\n",
            "   [  4   2]]\n",
            "\n",
            "  [[423  34]\n",
            "   [ 22   2]\n",
            "   [ 23  14]\n",
            "   [223   2]]]]\n"
          ]
        }
      ]
    },
    {
      "cell_type": "code",
      "source": [
        "#3-D to 5-D\n",
        "import numpy as np\n",
        "arr = np.array([[[123,43,2,43,2,33,4,2,423,34,22,2,23,14,223,2]]])  #16 elements\n",
        "print(arr.reshape(1,2,2,2,2))"
      ],
      "metadata": {
        "colab": {
          "base_uri": "https://localhost:8080/"
        },
        "id": "iFJr2yeK-qq4",
        "outputId": "5fad703c-b75d-4cea-989f-2cfce7f0aad0"
      },
      "execution_count": 139,
      "outputs": [
        {
          "output_type": "stream",
          "name": "stdout",
          "text": [
            "[[[[[123  43]\n",
            "    [  2  43]]\n",
            "\n",
            "   [[  2  33]\n",
            "    [  4   2]]]\n",
            "\n",
            "\n",
            "  [[[423  34]\n",
            "    [ 22   2]]\n",
            "\n",
            "   [[ 23  14]\n",
            "    [223   2]]]]]\n"
          ]
        }
      ]
    },
    {
      "cell_type": "code",
      "source": [
        "#4-D to 1-D\n",
        "import numpy as np\n",
        "arr = np.array([[[[[123,43],[2,43]],[[33,4],[2,423]],[[34,22],[2,23]],[[14,223],[2,65]]]]])  #16 elements\n",
        "print(arr.reshape(16))"
      ],
      "metadata": {
        "colab": {
          "base_uri": "https://localhost:8080/"
        },
        "id": "zvP4Mzxg-11q",
        "outputId": "d12df951-a453-4bdb-b620-98be13a27701"
      },
      "execution_count": 142,
      "outputs": [
        {
          "output_type": "stream",
          "name": "stdout",
          "text": [
            "[123  43   2  43  33   4   2 423  34  22   2  23  14 223   2  65]\n"
          ]
        }
      ]
    },
    {
      "cell_type": "code",
      "source": [
        "#4-D to 2-D\n",
        "import numpy as np\n",
        "arr = np.array([[[[[123,43],[2,43]],[[33,4],[2,423]],[[34,22],[2,23]],[[14,223],[2,65]]]]])\n",
        "print(arr.reshape(4,4))"
      ],
      "metadata": {
        "colab": {
          "base_uri": "https://localhost:8080/"
        },
        "id": "tfzgdxDf_g2A",
        "outputId": "b3daa682-4cdc-4f4b-a5a5-4e4d21cd31d5"
      },
      "execution_count": 143,
      "outputs": [
        {
          "output_type": "stream",
          "name": "stdout",
          "text": [
            "[[123  43   2  43]\n",
            " [ 33   4   2 423]\n",
            " [ 34  22   2  23]\n",
            " [ 14 223   2  65]]\n"
          ]
        }
      ]
    },
    {
      "cell_type": "code",
      "source": [
        "#4-D to 3-D\n",
        "import numpy as np\n",
        "arr = np.array([[[[[123,43],[2,43]],[[33,4],[2,423]],[[34,22],[2,23]],[[14,223],[2,65]]]]])\n",
        "print(arr.reshape(2,4,2))"
      ],
      "metadata": {
        "colab": {
          "base_uri": "https://localhost:8080/"
        },
        "id": "izG_6Hrq_pi1",
        "outputId": "8b7bd532-1f1b-4665-a538-674e1239b2bb"
      },
      "execution_count": 144,
      "outputs": [
        {
          "output_type": "stream",
          "name": "stdout",
          "text": [
            "[[[123  43]\n",
            "  [  2  43]\n",
            "  [ 33   4]\n",
            "  [  2 423]]\n",
            "\n",
            " [[ 34  22]\n",
            "  [  2  23]\n",
            "  [ 14 223]\n",
            "  [  2  65]]]\n"
          ]
        }
      ]
    },
    {
      "cell_type": "code",
      "source": [
        "#4-D to 5-D\n",
        "import numpy as np\n",
        "arr = np.array([[[[[123,43],[2,43]],[[33,4],[2,423]],[[34,22],[2,23]],[[14,223],[2,65]]]]])\n",
        "print(arr.reshape(1,2,2,2,2))"
      ],
      "metadata": {
        "colab": {
          "base_uri": "https://localhost:8080/"
        },
        "id": "gk31Wqol_4Gy",
        "outputId": "884fc5e9-9f62-4c9d-f8e6-7beb28bad218"
      },
      "execution_count": 145,
      "outputs": [
        {
          "output_type": "stream",
          "name": "stdout",
          "text": [
            "[[[[[123  43]\n",
            "    [  2  43]]\n",
            "\n",
            "   [[ 33   4]\n",
            "    [  2 423]]]\n",
            "\n",
            "\n",
            "  [[[ 34  22]\n",
            "    [  2  23]]\n",
            "\n",
            "   [[ 14 223]\n",
            "    [  2  65]]]]]\n"
          ]
        }
      ]
    },
    {
      "cell_type": "code",
      "source": [
        "#5-D to 1-D\n",
        "import numpy as np\n",
        "arr = np.array([[[[[123,411,23],[123,3123,23]]],[[[123,34,1223],[123,121,123]]],[[[123,4133,123],[34,32,234]]]]])  #18 elements\n",
        "print(arr.reshape(18))"
      ],
      "metadata": {
        "colab": {
          "base_uri": "https://localhost:8080/"
        },
        "id": "IjKeq6XGACS4",
        "outputId": "59ce0f1d-ad83-4240-bbf2-7d41b0945cfb"
      },
      "execution_count": 156,
      "outputs": [
        {
          "output_type": "stream",
          "name": "stdout",
          "text": [
            "[ 123  411   23  123 3123   23  123   34 1223  123  121  123  123 4133\n",
            "  123   34   32  234]\n"
          ]
        }
      ]
    },
    {
      "cell_type": "code",
      "source": [
        "#5-D to 2-D\n",
        "import numpy as np\n",
        "arr= np.array([[[[[123,411,23],[123,3123,23]]],[[[123,34,1223],[123,121,123]]],[[[123,4133,123],[34,32,234]]]]])  #18 elements\n",
        "print(arr.reshape(2,9))"
      ],
      "metadata": {
        "colab": {
          "base_uri": "https://localhost:8080/"
        },
        "id": "DjLPgjvoBsQe",
        "outputId": "6d9d8166-b156-430e-d9b7-bdab02a7ea1c"
      },
      "execution_count": 158,
      "outputs": [
        {
          "output_type": "stream",
          "name": "stdout",
          "text": [
            "[[ 123  411   23  123 3123   23  123   34 1223]\n",
            " [ 123  121  123  123 4133  123   34   32  234]]\n"
          ]
        }
      ]
    },
    {
      "cell_type": "code",
      "source": [
        "#5-D to 3-D\n",
        "import numpy as np\n",
        "arr = np.array([[[[[123,411,23],[123,3123,23]]],[[[123,34,1223],[123,121,123]]],[[[123,4133,123],[34,32,234]]]]])  #18 elements\n",
        "print(arr.reshape(2,3,3))"
      ],
      "metadata": {
        "colab": {
          "base_uri": "https://localhost:8080/"
        },
        "id": "s80V2V6SCAcI",
        "outputId": "bc9ce9e0-1a3f-4c57-b083-debdc3f55117"
      },
      "execution_count": 159,
      "outputs": [
        {
          "output_type": "stream",
          "name": "stdout",
          "text": [
            "[[[ 123  411   23]\n",
            "  [ 123 3123   23]\n",
            "  [ 123   34 1223]]\n",
            "\n",
            " [[ 123  121  123]\n",
            "  [ 123 4133  123]\n",
            "  [  34   32  234]]]\n"
          ]
        }
      ]
    },
    {
      "cell_type": "code",
      "source": [
        "#5-D to 4-D\n",
        "import numpy as np\n",
        "arr =np.array([[[[[123,411,23],[123,3123,23]]],[[[123,34,1223],[123,121,123]]],[[[123,4133,123],[34,32,234]]]]])  #18 elements\n",
        "print(arr.reshape(1,3,3,2))"
      ],
      "metadata": {
        "colab": {
          "base_uri": "https://localhost:8080/"
        },
        "id": "OWrkzqvVB3Bf",
        "outputId": "38a4e16b-fc02-4cde-fe15-819baa523df3"
      },
      "execution_count": 161,
      "outputs": [
        {
          "output_type": "stream",
          "name": "stdout",
          "text": [
            "[[[[ 123  411]\n",
            "   [  23  123]\n",
            "   [3123   23]]\n",
            "\n",
            "  [[ 123   34]\n",
            "   [1223  123]\n",
            "   [ 121  123]]\n",
            "\n",
            "  [[ 123 4133]\n",
            "   [ 123   34]\n",
            "   [  32  234]]]]\n"
          ]
        }
      ]
    },
    {
      "cell_type": "markdown",
      "source": [
        "#mathematical operations using arrays in numpy"
      ],
      "metadata": {
        "id": "HJPOnmPfCg3T"
      }
    },
    {
      "cell_type": "code",
      "source": [
        "#adition\n",
        "import numpy as np\n",
        "x = np.array([12,32,1,3,3])\n",
        "y = np.array([234,54,3,5,3])\n",
        "print(np.add(x,y))"
      ],
      "metadata": {
        "colab": {
          "base_uri": "https://localhost:8080/"
        },
        "id": "AMCBm3jxCoNW",
        "outputId": "609b5356-fd65-46e6-b17d-bb512aa928cc"
      },
      "execution_count": 162,
      "outputs": [
        {
          "output_type": "stream",
          "name": "stdout",
          "text": [
            "[246  86   4   8   6]\n"
          ]
        }
      ]
    },
    {
      "cell_type": "code",
      "source": [
        "#subtraction\n",
        "import numpy as np\n",
        "x = np.array([12,32,1,3,3])\n",
        "y = np.array([234,54,3,5,3])\n",
        "print(np.subtract(x,y))"
      ],
      "metadata": {
        "colab": {
          "base_uri": "https://localhost:8080/"
        },
        "id": "0obTgtImEJs4",
        "outputId": "bd7a1294-d252-4910-ca13-4c456ece37a9"
      },
      "execution_count": 163,
      "outputs": [
        {
          "output_type": "stream",
          "name": "stdout",
          "text": [
            "[-222  -22   -2   -2    0]\n"
          ]
        }
      ]
    },
    {
      "cell_type": "code",
      "source": [
        "#multiplication\n",
        "import numpy as np\n",
        "x = np.array([12,32,1,3,3])\n",
        "y = np.array([234,54,3,5,3])\n",
        "print(np.multiply(x,y))"
      ],
      "metadata": {
        "colab": {
          "base_uri": "https://localhost:8080/"
        },
        "id": "CdNivY2RETs7",
        "outputId": "90763dcc-b7cc-424b-8c2a-42fae15a726a"
      },
      "execution_count": 165,
      "outputs": [
        {
          "output_type": "stream",
          "name": "stdout",
          "text": [
            "[2808 1728    3   15    9]\n"
          ]
        }
      ]
    },
    {
      "cell_type": "code",
      "source": [
        "#division\n",
        "import numpy as np\n",
        "x = np.array([12,32,1,3,3])\n",
        "y = np.array([234,54,3,5,3])\n",
        "print(np.divide(x,y))"
      ],
      "metadata": {
        "colab": {
          "base_uri": "https://localhost:8080/"
        },
        "id": "QybIVB0KFAi5",
        "outputId": "3d667b1f-2a54-443f-f4fd-f25bfa889438"
      },
      "execution_count": 167,
      "outputs": [
        {
          "output_type": "stream",
          "name": "stdout",
          "text": [
            "[0.05128205 0.59259259 0.33333333 0.6        1.        ]\n"
          ]
        }
      ]
    },
    {
      "cell_type": "code",
      "source": [
        "#squareroot\n",
        "import numpy as np\n",
        "x = np.array([12,32,1,3,3])\n",
        "y = np.array([234,54,3,5,3])\n",
        "print(np.sqrt(x))\n",
        "print(np.sqrt(y))"
      ],
      "metadata": {
        "colab": {
          "base_uri": "https://localhost:8080/"
        },
        "id": "teoQrt22FJNG",
        "outputId": "e9348f7b-5e68-4835-bd5e-4c3cc4a85b1d"
      },
      "execution_count": 173,
      "outputs": [
        {
          "output_type": "stream",
          "name": "stdout",
          "text": [
            "[3.46410162 5.65685425 1.         1.73205081 1.73205081]\n",
            "[15.29705854  7.34846923  1.73205081  2.23606798  1.73205081]\n"
          ]
        }
      ]
    },
    {
      "cell_type": "code",
      "source": [
        "#square (power)\n",
        "import numpy as np\n",
        "x = np.array([12,32,1,3,3])\n",
        "y = np.array([234,54,3,5,3])\n",
        "print(np.square(x))\n",
        "print(np.square(y))"
      ],
      "metadata": {
        "colab": {
          "base_uri": "https://localhost:8080/"
        },
        "id": "eEIyN-EnFhSr",
        "outputId": "58d21874-4f2a-4bd6-8cc7-5e78708ded74"
      },
      "execution_count": 174,
      "outputs": [
        {
          "output_type": "stream",
          "name": "stdout",
          "text": [
            "[ 144 1024    1    9    9]\n",
            "[54756  2916     9    25     9]\n"
          ]
        }
      ]
    },
    {
      "cell_type": "markdown",
      "source": [
        "#sorting arrays:\n",
        "\n",
        "- sorting the arrays means like ascending order it can arrange the order in sequence\n",
        "- the numpy object has function called sort()"
      ],
      "metadata": {
        "id": "i4j-Y3GoFzVA"
      }
    },
    {
      "cell_type": "code",
      "source": [
        "import numpy as np\n",
        "arr = np.array([123,43,43,23,434,33,23,224,32,23,1,3,2,32,3,23])\n",
        "print(np.sort(arr))"
      ],
      "metadata": {
        "colab": {
          "base_uri": "https://localhost:8080/"
        },
        "id": "_2Mue7r1GJwn",
        "outputId": "6f78bb28-1e14-4790-fa20-a779caf4e354"
      },
      "execution_count": 177,
      "outputs": [
        {
          "output_type": "stream",
          "name": "stdout",
          "text": [
            "[  1   2   3   3  23  23  23  23  32  32  33  43  43 123 224 434]\n"
          ]
        }
      ]
    },
    {
      "cell_type": "markdown",
      "source": [
        "#slicing arrays:\n",
        "\n",
        "- slicing in python means taking elements from one given index to another index\n",
        "- we can mention slicing by [start:stop] or [start:stop:step] index position\n",
        "- if we dont pass anything on starting it considered as \"0\"\n",
        "- if wee dont pass anything on end it can takes upto last value\n",
        "- if we dont pass step it considered as \"1\" ,it is like n-1"
      ],
      "metadata": {
        "id": "T2Da5FfnGb7V"
      }
    },
    {
      "cell_type": "code",
      "source": [
        "#slicing in 1-D\n",
        "import numpy as np\n",
        "arr = np.array([12,344,13,34,23,2,24,4,5,3,4,4])\n",
        "print(arr[0:6])\n",
        "print(arr[4:])\n",
        "print(arr[:5])\n",
        "print(arr[:])\n",
        "print(arr[::3])\n"
      ],
      "metadata": {
        "colab": {
          "base_uri": "https://localhost:8080/"
        },
        "id": "ZFX8gYpqHOM4",
        "outputId": "c251ada0-52f9-4a10-b468-0e0e70869048"
      },
      "execution_count": 178,
      "outputs": [
        {
          "output_type": "stream",
          "name": "stdout",
          "text": [
            "[ 12 344  13  34  23   2]\n",
            "[23  2 24  4  5  3  4  4]\n",
            "[ 12 344  13  34  23]\n",
            "[ 12 344  13  34  23   2  24   4   5   3   4   4]\n",
            "[12 34 24  3]\n"
          ]
        }
      ]
    },
    {
      "cell_type": "code",
      "source": [
        "#slicing in 2-D\n",
        "import numpy as np\n",
        "                      #0                  #1               #2           ->1-D index\n",
        "arr = np.array([[12,344,13,34,23,2],[24,4,5,3,4,4],[123,5344,24,23,44,3]])  #0  2-D index\n",
        "print(arr[0:3,1:5])  #(1-D index,values)"
      ],
      "metadata": {
        "colab": {
          "base_uri": "https://localhost:8080/"
        },
        "id": "5pRoVlJUHz1c",
        "outputId": "9f565bc5-9ef8-477e-cd1d-dd17529e9e80"
      },
      "execution_count": 186,
      "outputs": [
        {
          "output_type": "stream",
          "name": "stdout",
          "text": [
            "[[ 344   13   34   23]\n",
            " [   4    5    3    4]\n",
            " [5344   24   23   44]]\n"
          ]
        }
      ]
    },
    {
      "cell_type": "code",
      "source": [
        "#slicing in 3-D\n",
        "import numpy as np\n",
        "                       #0                #1         ->1-D index\n",
        "arr = np.array([[[211,45,26,44,83],[18,92,734,73,63]],       #0   ->2-D index\n",
        "                [[211,4,2,43,23],[13,42,134,23,53]],         #1\n",
        "                [[123,4334,23,222,23],[13,423,13,42,13]]])   #2\n",
        "print(arr[0:3,0:2,1:4])   #(2-D,1-D slicing,values)"
      ],
      "metadata": {
        "colab": {
          "base_uri": "https://localhost:8080/"
        },
        "id": "lkYM-yEAI6N0",
        "outputId": "9df139ac-ae47-4f49-de3b-ae45cac2c809"
      },
      "execution_count": 209,
      "outputs": [
        {
          "output_type": "stream",
          "name": "stdout",
          "text": [
            "[[[  45   26   44]\n",
            "  [  92  734   73]]\n",
            "\n",
            " [[   4    2   43]\n",
            "  [  42  134   23]]\n",
            "\n",
            " [[4334   23  222]\n",
            "  [ 423   13   42]]]\n"
          ]
        }
      ]
    },
    {
      "cell_type": "code",
      "source": [
        "#slicing in 4-D\n",
        "import numpy as np\n",
        "                            #0                        #1          ->2-D index\n",
        "                      #0           #1            #0         #1    ->1-D index\n",
        "arr = np.array([[[[1,2,3,4,5],[6,7,8,9,10]],[[11,12,13,14,15],[16,17,18,19,20]]],             #0  ->3-D index\n",
        "                [[[21,22,23,24,25],[26,27,28,29,30]],[[31,32,33,34,35],[36,37,38,39,40]]],    #1\n",
        "                [[[41,42,43,44,45],[46,47,48,49,50]],[[51,52,53,54,55],[56,57,58,59,60]]]])   #2\n",
        "print(arr[0:3,0:2,0:2,2:5])   #(3-D,2-D,1-D,values)"
      ],
      "metadata": {
        "colab": {
          "base_uri": "https://localhost:8080/"
        },
        "id": "AawkcgOBKVNR",
        "outputId": "804c0ae8-f705-4a22-bab6-d092797b2c69"
      },
      "execution_count": 212,
      "outputs": [
        {
          "output_type": "stream",
          "name": "stdout",
          "text": [
            "[[[[ 3  4  5]\n",
            "   [ 8  9 10]]\n",
            "\n",
            "  [[13 14 15]\n",
            "   [18 19 20]]]\n",
            "\n",
            "\n",
            " [[[23 24 25]\n",
            "   [28 29 30]]\n",
            "\n",
            "  [[33 34 35]\n",
            "   [38 39 40]]]\n",
            "\n",
            "\n",
            " [[[43 44 45]\n",
            "   [48 49 50]]\n",
            "\n",
            "  [[53 54 55]\n",
            "   [58 59 60]]]]\n"
          ]
        }
      ]
    },
    {
      "cell_type": "code",
      "source": [
        "#slicing in 5-D\n",
        "import numpy as np\n",
        "                                              #0                                                    #1                                               #2    ->3-D index\n",
        "                                #0                         #1                              #0                         #1                          #0                              #1           -> 2-D index\n",
        "                          #0            #1            #0          #1               #0            #1           #0           #1              #0               #1              #0           #1   ->1_D index\n",
        "arr = np.array([[[[[1231,3341,123],[123,41,13]],[[123,431,123],[123,41,13]]],[[[123,4133,33],[123,41,23]],[[123,41,123],[144,24,1]]],[[[123,413,33],[1223,423,133]],[[123,41333,13],[134,22,243]]]],      #0 ->4-D index\n",
        "                [[[[1223,13321,333],[1234,123,42]],[[1233,131,1231],[1234,131,223]]],[[[342,4,23],[124,341,13]],[[123,123,214],[14,11,13]]],[[[14,14,13],[234,432,3324]],[[123,123,13],[13,4131,123]]]],  #1\n",
        "                [[[[123,411,23],[123,3123,23]],[[123,41,23],[123,41,123]]],[[[123,34,1223],[123,121,123]],[[123,412,43],[123,123,11]]],[[[123,4133,123],[34,32,234]],[[123,41,123],[234,52,114]]]]])      #2\n",
        "print(arr[0:3,1:2,0:2,0:2,1:4])    #(4D,3D,2D,1D,value)\n"
      ],
      "metadata": {
        "colab": {
          "base_uri": "https://localhost:8080/"
        },
        "id": "dkK5Puc1O_UE",
        "outputId": "43ee1e13-8781-4827-df75-670718dd486c"
      },
      "execution_count": 223,
      "outputs": [
        {
          "output_type": "stream",
          "name": "stdout",
          "text": [
            "[[[[[4133   33]\n",
            "    [  41   23]]\n",
            "\n",
            "   [[  41  123]\n",
            "    [  24    1]]]]\n",
            "\n",
            "\n",
            "\n",
            " [[[[   4   23]\n",
            "    [ 341   13]]\n",
            "\n",
            "   [[ 123  214]\n",
            "    [  11   13]]]]\n",
            "\n",
            "\n",
            "\n",
            " [[[[  34 1223]\n",
            "    [ 121  123]]\n",
            "\n",
            "   [[ 412   43]\n",
            "    [ 123   11]]]]]\n"
          ]
        }
      ]
    }
  ]
}