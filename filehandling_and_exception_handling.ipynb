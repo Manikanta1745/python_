{
  "nbformat": 4,
  "nbformat_minor": 0,
  "metadata": {
    "colab": {
      "provenance": []
    },
    "kernelspec": {
      "name": "python3",
      "display_name": "Python 3"
    },
    "language_info": {
      "name": "python"
    }
  },
  "cells": [
    {
      "cell_type": "markdown",
      "source": [
        "\n",
        "1) file handling\n",
        "\n",
        " - file handling in python involving perforiming operations like read and write in files\n",
        " - here the brief explanation\n",
        "\n",
        "opening a file\n",
        "                  \n",
        " - to open a file use the open() function\n",
        " - this function need atleast one argument : the name of the file to be opened\n",
        " - we can also specify the mode in which the file should be opened\n",
        " - common modes include:\n",
        " - 1)'r' - read(default)\n",
        " - 2)'w' - write(create new content and earase the existing content\n",
        " - 3)\"a\" - append(add content to end of the file continue with an existing content\n",
        " - 4)'b' - binary(eg: 'rb' or 'wb' for reading\\writing binary files)\n",
        " - 5)'t' - text mode(default eg:'rt' or'wt' for reading \\writing the text files"
      ],
      "metadata": {
        "id": "B-uCT-iA0lUG"
      }
    },
    {
      "cell_type": "code",
      "source": [
        "#opening a file for reading (default mode)\n",
        "\n",
        "file = open(\"C:\\Users\\dell\\Downloads\",\"r\")"
      ],
      "metadata": {
        "id": "ylndCa8IqFNh"
      },
      "execution_count": null,
      "outputs": []
    },
    {
      "cell_type": "markdown",
      "source": [
        "1)reading from aline\n",
        "\n",
        "they are several methods to read from a file\n",
        "- 1)read() - reads entire file\n",
        "- 2)readline() - reads one line at a time\n",
        "- 3)readlines() - reads all the lines and returns them as a list"
      ],
      "metadata": {
        "id": "vPioNTuP8TQ7"
      }
    },
    {
      "cell_type": "code",
      "source": [
        "#read the entire file\n",
        "\n",
        "file = open(\"/example1.txt.txt\",\"r\")\n",
        "content = file.read()\n",
        "print(content)"
      ],
      "metadata": {
        "colab": {
          "base_uri": "https://localhost:8080/"
        },
        "id": "TWmghPpNsWSN",
        "outputId": "0cbd6ba3-8bd9-4e59-d232-a55ddc8c977f"
      },
      "execution_count": 26,
      "outputs": [
        {
          "output_type": "stream",
          "name": "stdout",
          "text": [
            "The language must be simple and comprehensible.\n",
            "Teach words and sentences that your child understands and will be able to write when not assisted. \n",
            "Focus on the very basics, as this is for a lower primary class; children aren’t expected to write in detail.  \n",
            "A good place to start would be what the Earth means to us as humans. What the Earth provides us with.  \n",
            "Take care of the format of the essay. If in paragraph form, ensure that each paragraph is neither too short nor too long. \n",
            "Be clear about the direction of the essay in the beginning to ensure consistency. \n",
            "Keeping track of the word limit is key.\n"
          ]
        }
      ]
    },
    {
      "cell_type": "code",
      "source": [
        "#read one line\n",
        "\n",
        "file = open(\"/example1.txt.txt\",\"r\")\n",
        "content = file.readline()\n",
        "print(content)"
      ],
      "metadata": {
        "colab": {
          "base_uri": "https://localhost:8080/"
        },
        "id": "dM9LsQMUzwCv",
        "outputId": "9976af8a-837a-431e-8cbf-936116034f54"
      },
      "execution_count": 27,
      "outputs": [
        {
          "output_type": "stream",
          "name": "stdout",
          "text": [
            "The language must be simple and comprehensible.\n",
            "\n"
          ]
        }
      ]
    },
    {
      "cell_type": "code",
      "source": [
        "#read all lines and return into list\n",
        "\n",
        "file = open(\"/example1.txt.txt\",\"r\")\n",
        "content = file.readlines()\n",
        "print(content)"
      ],
      "metadata": {
        "colab": {
          "base_uri": "https://localhost:8080/"
        },
        "id": "Ylti5R7U0HAn",
        "outputId": "4d64a420-a060-4042-ba9b-3057f1fc26b5"
      },
      "execution_count": 32,
      "outputs": [
        {
          "output_type": "stream",
          "name": "stdout",
          "text": [
            "['The language must be simple and comprehensible.\\n', 'Teach words and sentences that your child understands and will be able to write when not assisted. \\n', 'Focus on the very basics, as this is for a lower primary class; children aren’t expected to write in detail.  \\n', 'A good place to start would be what the Earth means to us as humans. What the Earth provides us with.  \\n', 'Take care of the format of the essay. If in paragraph form, ensure that each paragraph is neither too short nor too long. \\n', 'Be clear about the direction of the essay in the beginning to ensure consistency. \\n', 'Keeping track of the word limit is key.']\n"
          ]
        }
      ]
    },
    {
      "cell_type": "code",
      "source": [
        "#writing a file\n",
        "\n",
        "#opening a file\n",
        "file = open(\"/example1.txt.txt\",\"a\")\n",
        "#write a single line\n",
        "file.write(\"i am data science student \\n\")\n",
        "#write mulptiple lines\n",
        "file.writelines([\"firstline \\n\",\"second line \\n\",\"third line \\n\"])"
      ],
      "metadata": {
        "id": "KdgiL8X54VD9"
      },
      "execution_count": 41,
      "outputs": []
    },
    {
      "cell_type": "code",
      "source": [
        "#closing a file\n",
        "file.close()"
      ],
      "metadata": {
        "id": "Gtw2_ryk5aU1"
      },
      "execution_count": 36,
      "outputs": []
    },
    {
      "cell_type": "markdown",
      "source": [
        "2)exception handling\n",
        "\n",
        "- in an exception occurs when we are performing some operations with the file,the code exits without closing the file\n",
        "- a safer way is to use only try and finally block\n",
        "- we can asume simply known as we are try something and they can expect something but wee got finally something based on the code"
      ],
      "metadata": {
        "id": "t1XuOkIh6MPU"
      }
    },
    {
      "cell_type": "code",
      "source": [
        "try:\n",
        "  file = open(\"/example1.txt.txt\")\n",
        "  content = file.read()\n",
        "  print(content)\n",
        "finally:\n",
        "  file.close"
      ],
      "metadata": {
        "colab": {
          "base_uri": "https://localhost:8080/"
        },
        "id": "FJkXxVeQ7Dcb",
        "outputId": "9d02a4d6-70d8-4fa5-d107-4c4a8829a177"
      },
      "execution_count": 43,
      "outputs": [
        {
          "output_type": "stream",
          "name": "stdout",
          "text": [
            "The language must be simple and comprehensible.\n",
            "Teach words and sentences that your child understands and will be able to write when not assisted. \n",
            "Focus on the very basics, as this is for a lower primary class; children aren’t expected to write in detail.  \n",
            "A good place to start would be what the Earth means to us as humans. What the Earth provides us with.  \n",
            "Take care of the format of the essay. If in paragraph form, ensure that each paragraph is neither too short nor too long. \n",
            "Be clear about the direction of the essay in the beginning to ensure consistency. \n",
            "Keeping track of the word limit is key.i am data science student \n",
            "i am data science student \n",
            "firstline \n",
            "second line \n",
            "third line \n",
            "\n"
          ]
        }
      ]
    },
    {
      "cell_type": "code",
      "source": [
        "num = int(input(\"enter number \"))\n",
        "den = int(input(\"enter number \"))\n",
        "\n",
        "try:\n",
        "  print(num/den)\n",
        "except:\n",
        "  print(\"diven den is zero\")"
      ],
      "metadata": {
        "colab": {
          "base_uri": "https://localhost:8080/"
        },
        "id": "Kq-2MRu074Xk",
        "outputId": "b3a6168b-8a41-494b-bf49-e51b7f24671c"
      },
      "execution_count": 45,
      "outputs": [
        {
          "output_type": "stream",
          "name": "stdout",
          "text": [
            "enter number 4\n",
            "enter number 0\n",
            "diven den is zero\n"
          ]
        }
      ]
    }
  ]
}