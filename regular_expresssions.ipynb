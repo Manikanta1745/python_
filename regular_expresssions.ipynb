{
  "nbformat": 4,
  "nbformat_minor": 0,
  "metadata": {
    "colab": {
      "provenance": [],
      "gpuType": "T4"
    },
    "kernelspec": {
      "name": "python3",
      "display_name": "Python 3"
    },
    "language_info": {
      "name": "python"
    },
    "accelerator": "GPU"
  },
  "cells": [
    {
      "cell_type": "markdown",
      "source": [
        "regular expressions:\n",
        "\n",
        "- regular expressions(regex or regexp) are powerful tools for pattern matching and test manipulation in python\n",
        "- it is mainly used for natural language purpose\n",
        "- by using regular expression we can easily clean the data\n",
        "- it works on the text realted only\n",
        "- they provide consise and flexible way to search,match and manipulate strings based on specific patterns"
      ],
      "metadata": {
        "id": "b62maPrg9eBo"
      }
    },
    {
      "cell_type": "markdown",
      "source": [
        "regex functions:\n",
        "\n",
        "- the re modules offers a set of functions that allow us to search a string for a match\n",
        "- they havce four functions\n",
        "- 1)findall() - returns a list containing all matches\n",
        "- 2)search() - returns a match object if there is a match anywhere in the string\n",
        "- 3)split() - returns a string where the string has been split at each match\n",
        "- 4)sub() - replace one or more matches with a string"
      ],
      "metadata": {
        "id": "ej4EHLTP_UhS"
      }
    },
    {
      "cell_type": "markdown",
      "source": [
        "1) findall() function"
      ],
      "metadata": {
        "id": "R8QiQms3AQY-"
      }
    },
    {
      "cell_type": "code",
      "execution_count": null,
      "metadata": {
        "id": "4tgKhUw3zGXG",
        "colab": {
          "base_uri": "https://localhost:8080/"
        },
        "outputId": "656f6323-ad00-4b56-f5aa-9fea28a696d4"
      },
      "outputs": [
        {
          "output_type": "stream",
          "name": "stdout",
          "text": [
            "enter your character e\n",
            "matched ['e']\n"
          ]
        }
      ],
      "source": [
        "#match pattern\n",
        "\n",
        "import re\n",
        "user = input(\"enter your character \")\n",
        "text = \"the rain in spain\"\n",
        "\n",
        "x = re.findall(user,text)\n",
        "if x :\n",
        "  print(\"matched\",x)\n",
        "else:\n",
        "  print(\"not matched\",x)"
      ]
    },
    {
      "cell_type": "code",
      "source": [
        "#word match\n",
        "\n",
        "import re\n",
        "user = input(\"enter character \")\n",
        "text = \"the rain in spain\"\n",
        "\n",
        "x = re.findall(user,text)\n",
        "if x:\n",
        "  print(\"matched \",x)\n",
        "else:\n",
        "  print(\"not matched \",x)"
      ],
      "metadata": {
        "colab": {
          "base_uri": "https://localhost:8080/"
        },
        "id": "rOqw-UboDguA",
        "outputId": "67efae8c-018b-42b7-9ae2-3a65f05e01a8"
      },
      "execution_count": null,
      "outputs": [
        {
          "output_type": "stream",
          "name": "stdout",
          "text": [
            "enter character en\n",
            "not matched  []\n"
          ]
        }
      ]
    },
    {
      "cell_type": "markdown",
      "source": [
        "2)search() function:\n",
        "\n",
        "- the search function is search the string for a match and returns match object if there is a match\n",
        "- if there is  more than one match only the first occurance of the match will be returns and print the position"
      ],
      "metadata": {
        "id": "5fGrDf0wK84J"
      }
    },
    {
      "cell_type": "code",
      "source": [
        "#single character\n",
        "\n",
        "import re\n",
        "text = \"the rain in spain\"\n",
        "x = re.search(\" \",text)\n",
        "print(\"the character is located at\",x.start() ,\"position\")"
      ],
      "metadata": {
        "id": "OlXy8X11Lm-A",
        "colab": {
          "base_uri": "https://localhost:8080/"
        },
        "outputId": "f99bc73e-4b3c-4430-e9bd-417b4ca1575d"
      },
      "execution_count": 5,
      "outputs": [
        {
          "output_type": "stream",
          "name": "stdout",
          "text": [
            "the character is located at 3 position\n"
          ]
        }
      ]
    },
    {
      "cell_type": "code",
      "source": [
        "#match word\n",
        "\n",
        "import re\n",
        "text = \"the rain in spain\"\n",
        "x = re.search(\"in\",text)\n",
        "print(\"the word is located at\",x.start(),\"position\")"
      ],
      "metadata": {
        "id": "BAvejFpCK_4j",
        "colab": {
          "base_uri": "https://localhost:8080/"
        },
        "outputId": "9b9281e1-8b7f-4f17-c53c-c1728dfda663"
      },
      "execution_count": 6,
      "outputs": [
        {
          "output_type": "stream",
          "name": "stdout",
          "text": [
            "the word is located at 6 position\n"
          ]
        }
      ]
    },
    {
      "cell_type": "markdown",
      "source": [
        "3)split() function:\n",
        "\n",
        "- it will split the entire data into list format"
      ],
      "metadata": {
        "id": "DjMn7709oBoL"
      }
    },
    {
      "cell_type": "code",
      "source": [
        "#single character\n",
        "\n",
        "import re\n",
        "text = \"the rain in spain\"\n",
        "x = re.split(\"i\",text)\n",
        "print(x)"
      ],
      "metadata": {
        "colab": {
          "base_uri": "https://localhost:8080/"
        },
        "id": "zUo8-IOToKE1",
        "outputId": "cb0722c9-50c4-4f99-d7d5-9fe02cb61f86"
      },
      "execution_count": 7,
      "outputs": [
        {
          "output_type": "stream",
          "name": "stdout",
          "text": [
            "['the ra', 'n ', 'n spa', 'n']\n"
          ]
        }
      ]
    },
    {
      "cell_type": "code",
      "source": [
        "import re\n",
        "text = \"the rain in spain\"\n",
        "x = re.split(\" \",text)\n",
        "print(x)"
      ],
      "metadata": {
        "colab": {
          "base_uri": "https://localhost:8080/"
        },
        "id": "NHdQx193obsT",
        "outputId": "50ffa0a7-ab4b-4bd8-9780-d5fd887d1e92"
      },
      "execution_count": 8,
      "outputs": [
        {
          "output_type": "stream",
          "name": "stdout",
          "text": [
            "['the', 'rain', 'in', 'spain']\n"
          ]
        }
      ]
    },
    {
      "cell_type": "code",
      "source": [
        "#set a limit\n",
        "\n",
        "import re\n",
        "text = \"the rain in spain and the people are enjoying it\"\n",
        "x = re.split(\" \",text,5)\n",
        "print(x)"
      ],
      "metadata": {
        "colab": {
          "base_uri": "https://localhost:8080/"
        },
        "id": "BNhwtYwKokF0",
        "outputId": "aa2a731c-5a0d-4216-e850-df76b7f6380b"
      },
      "execution_count": 9,
      "outputs": [
        {
          "output_type": "stream",
          "name": "stdout",
          "text": [
            "['the', 'rain', 'in', 'spain', 'and', 'the people are enjoying it']\n"
          ]
        }
      ]
    },
    {
      "cell_type": "markdown",
      "source": [],
      "metadata": {
        "id": "asKCEHQzpHfE"
      }
    },
    {
      "cell_type": "markdown",
      "source": [
        "4)sub() function:\n",
        "\n",
        "- it replace the matches with the text of your choice"
      ],
      "metadata": {
        "id": "65XOEorkpHnH"
      }
    },
    {
      "cell_type": "code",
      "source": [
        "#replace values\n",
        "\n",
        "import re\n",
        "text = \"the rain in spain and the people are enjoying it\"\n",
        "x = re.sub(\"i\",\"@\",text)\n",
        "print(x)"
      ],
      "metadata": {
        "colab": {
          "base_uri": "https://localhost:8080/"
        },
        "id": "RjoXhOZwpdmy",
        "outputId": "9b11fcca-a040-43af-f1a0-126feecd4fe6"
      },
      "execution_count": 13,
      "outputs": [
        {
          "output_type": "stream",
          "name": "stdout",
          "text": [
            "the ra@n @n spa@n and the people are enjoy@ng @t\n"
          ]
        }
      ]
    },
    {
      "cell_type": "code",
      "source": [
        "#set a limit for replacing values\n",
        "\n",
        "import re\n",
        "text = \"the rain in spain and the people are enjoying it\"\n",
        "x = re.sub(\" \",\"@@\",text,4)\n",
        "print(x)"
      ],
      "metadata": {
        "colab": {
          "base_uri": "https://localhost:8080/"
        },
        "id": "6SQVJ5r6qCCl",
        "outputId": "664cfc24-217e-4134-e242-052a6df7b3a3"
      },
      "execution_count": 14,
      "outputs": [
        {
          "output_type": "stream",
          "name": "stdout",
          "text": [
            "the@@rain@@in@@spain@@and the people are enjoying it\n"
          ]
        }
      ]
    },
    {
      "cell_type": "markdown",
      "source": [
        "5)literal characters:\n",
        "\n",
        "- it will match the word in a pattern"
      ],
      "metadata": {
        "id": "E4Y11Y02uYgs"
      }
    },
    {
      "cell_type": "code",
      "source": [
        "import re\n",
        "pattern = re.compile(r\"lance\")\n",
        "match = pattern.search(\"once upon a time\")\n",
        "if match:\n",
        "  print(\"match founded:\",match.group())\n",
        "else:\n",
        "  print(\"not founded\")"
      ],
      "metadata": {
        "colab": {
          "base_uri": "https://localhost:8080/"
        },
        "id": "RVm9uoksui2g",
        "outputId": "bedb749c-3219-4230-d339-9ed8a561bc9a"
      },
      "execution_count": 16,
      "outputs": [
        {
          "output_type": "stream",
          "name": "stdout",
          "text": [
            "not founded\n"
          ]
        }
      ]
    },
    {
      "cell_type": "markdown",
      "source": [
        "6)dot(.) wildcard:\n",
        "\n",
        "- it is simply like missing letters\n",
        "- one dot(.) represents for one missing letter"
      ],
      "metadata": {
        "id": "iWSRlisRvR14"
      }
    },
    {
      "cell_type": "code",
      "source": [
        "import re\n",
        "pattern = re.compile(r\"b.k.\")\n",
        "match = pattern.search(\"dog,book,bike,joke,cat\")\n",
        "if match:\n",
        "  print(\"match founded:\",match.group())\n",
        "else:\n",
        "  print(\"match not founded\")"
      ],
      "metadata": {
        "colab": {
          "base_uri": "https://localhost:8080/"
        },
        "id": "3ByusDRcvgq1",
        "outputId": "4112595a-0ad3-4560-cd99-32a2857fbb0d"
      },
      "execution_count": 19,
      "outputs": [
        {
          "output_type": "stream",
          "name": "stdout",
          "text": [
            "match founded: bike\n"
          ]
        }
      ]
    },
    {
      "cell_type": "markdown",
      "source": [
        "7)square brackets[]:\n",
        "\n",
        "- if any single character will match in square brackets it will return output"
      ],
      "metadata": {
        "id": "H0rYUxaGwwYN"
      }
    },
    {
      "cell_type": "code",
      "source": [
        "text = input(\"enter your character \")\n",
        "import re\n",
        "pattern = re.compile(r\"[hello]\")\n",
        "match = pattern.search(text)\n",
        "if match:\n",
        "  print(\"match founded:\",match.group())\n",
        "else:\n",
        "  print(\"match not founded\")"
      ],
      "metadata": {
        "colab": {
          "base_uri": "https://localhost:8080/"
        },
        "id": "VmlMpHJSw9wa",
        "outputId": "3e24af69-f2e0-49ab-9d08-517635b32309"
      },
      "execution_count": 24,
      "outputs": [
        {
          "output_type": "stream",
          "name": "stdout",
          "text": [
            "enter your character HELLo\n",
            "match founded: o\n"
          ]
        }
      ]
    }
  ]
}